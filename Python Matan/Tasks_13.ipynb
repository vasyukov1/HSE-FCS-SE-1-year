{
  "cells": [
    {
      "cell_type": "code",
      "execution_count": 25,
      "metadata": {
        "id": "FagZYkRwuBeg"
      },
      "outputs": [],
      "source": [
        "import numpy as np\n",
        "import sympy\n",
        "from sympy import S, Symbol, symbols, simplify, solve, solveset, diff, plot, plot_parametric, plot_implicit, latex, Integral\n",
        "from sympy import sin as Sin\n",
        "from sympy import cos as Cos\n",
        "from sympy import exp as Exp\n",
        "from sympy import log as Log\n",
        "from sympy import pi as Pi\n",
        "import matplotlib.pyplot as plt\n",
        "%matplotlib inline"
      ]
    },
    {
      "cell_type": "markdown",
      "metadata": {
        "id": "uz86eYV5uBeh"
      },
      "source": [
        "## Занятие 13\n",
        "## Математический анализ\n",
        "## Применение интегралов для вычисления площади поверхности тела вращения\n",
        "### Задание 1.\n",
        "Вычислить площадь поверхности, которая образуется в результате вращения $y = \\sqrt{x}$ вокруг оси OX при $x$ от 0 до 1."
      ]
    },
    {
      "cell_type": "code",
      "execution_count": 12,
      "metadata": {
        "colab": {
          "base_uri": "https://localhost:8080/",
          "height": 57
        },
        "id": "JLJAiLNyuBej",
        "outputId": "cb7bfca5-9881-487b-de2f-4f83384f72e4"
      },
      "outputs": [
        {
          "output_type": "display_data",
          "data": {
            "text/plain": [
              "pi*(-1 + 5*sqrt(5))/6"
            ],
            "text/latex": "$\\displaystyle \\frac{\\pi \\left(-1 + 5 \\sqrt{5}\\right)}{6}$"
          },
          "metadata": {}
        }
      ],
      "source": [
        "x = Symbol('x', positive=True)\n",
        "y = Symbol('y')\n",
        "\n",
        "eq = sympy.Eq(y, x**(1/2))\n",
        "y1 = solve(eq, y)[0]\n",
        "\n",
        "S_OX = 2 * Pi * Integral(y1 * (1 + y1.diff(x)**2)**S.Half, (x, 0, 1))\n",
        "display(simplify(S_OX.doit()))"
      ]
    },
    {
      "cell_type": "markdown",
      "metadata": {
        "id": "RSCvfh7euBej"
      },
      "source": [
        "###  Задание 2.\n",
        "Вычислить площадь поверхности веретена, которое образуется в результате вращения одной полуволны синусоиды $y = \\sin x$ вокруг оси OX.\n",
        "#### Указание.\n",
        "\n",
        "Для вычисления интеграла воспользоваться заменой переменных $t = \\cos(x)$, для проведения замены пользоваться методом transform класса Integral. Также воспользоваться simplify при необходимости."
      ]
    },
    {
      "cell_type": "code",
      "execution_count": 16,
      "metadata": {
        "colab": {
          "base_uri": "https://localhost:8080/",
          "height": 47
        },
        "id": "Rtz8mCUkuBej",
        "outputId": "40088961-d8a9-4fae-eaa9-57a7e0e9d176"
      },
      "outputs": [
        {
          "output_type": "display_data",
          "data": {
            "text/plain": [
              "pi*(log(1 + sqrt(2)) + sqrt(2))"
            ],
            "text/latex": "$\\displaystyle \\pi \\left(\\log{\\left(1 + \\sqrt{2} \\right)} + \\sqrt{2}\\right)$"
          },
          "metadata": {}
        }
      ],
      "source": [
        "t = Symbol('t')\n",
        "\n",
        "eq = sympy.Eq(y, Sin(x))\n",
        "y1 = solve(eq, y)[0]\n",
        "S_OX = 2 * Pi * Integral((y1 * (1 + y1.diff(x)**2)**S.Half).simplify(), (x, 0, Pi/2)).transform(Cos(x), t)\n",
        "\n",
        "display(S_OX.doit().simplify())"
      ]
    },
    {
      "cell_type": "markdown",
      "metadata": {
        "id": "xUwFq-j5uBej"
      },
      "source": [
        "###  Задание 3.\n",
        "Вычислить площадь поверхности образованной вращением вокруг ОХ кардиоиды\n",
        "$$\n",
        "\\left\\{\n",
        "\\begin{matrix}\n",
        "x=a(2\\cos t-\\cos 2t)\\\\\n",
        "y=a(2\\sin t-\\sin 2t)\n",
        "\\end{matrix}\n",
        "\\right.\n",
        "$$\n",
        "Для облегчения расчетов упростить подынтегральную функцию с помощью simplify."
      ]
    },
    {
      "cell_type": "code",
      "execution_count": 26,
      "metadata": {
        "colab": {
          "base_uri": "https://localhost:8080/",
          "height": 54
        },
        "id": "fkXx2cAguBej",
        "outputId": "dc8d3dd6-a5e1-48a5-ff10-ed9633682494"
      },
      "outputs": [
        {
          "output_type": "display_data",
          "data": {
            "text/plain": [
              "128*pi*a**2/5"
            ],
            "text/latex": "$\\displaystyle \\frac{128 \\pi a^{2}}{5}$"
          },
          "metadata": {}
        }
      ],
      "source": [
        "a = Symbol('a', positive=True)\n",
        "\n",
        "x2 = a * (2 * Cos(t) - Cos(2*t))\n",
        "y2 = a * (2 * Sin(t) - Sin(2*t))\n",
        "\n",
        "S_OX = Integral(2 * Pi * (y2 * (x2.diff(t)**2 + y2.diff(t)**2)**S.Half).simplify(), (t, 0, Pi))\n",
        "\n",
        "res = S_OX.function.replace(1 - Cos(t), 2*Sin(t/2)**2)\n",
        "display(res.integrate((t, 0, Pi)))"
      ]
    },
    {
      "cell_type": "markdown",
      "metadata": {
        "id": "jE7ioKkCuBej"
      },
      "source": [
        "### Задание 4.\n",
        "Вычислить площадь поверхности образованной вращением лемнискаты $r^2=a^2\\cos2\\phi$ вокруг полярной оси.\n",
        "\n",
        "#### Указание.\n",
        "Построить график, определить пределы интегрирования.\n",
        "Упростить подынтегральную функцию с помощью simplify, затем с помощью display вывести полученный интерал. Замечая, что подынтегральное выражение можно упростить, если сократить, не обращать внимание, что $\\cos(2\\phi) = 0$ в $\\pi/4$, вручную составить интеграл для окончательного расчета."
      ]
    },
    {
      "cell_type": "code",
      "execution_count": 42,
      "metadata": {
        "colab": {
          "base_uri": "https://localhost:8080/",
          "height": 83
        },
        "id": "QqCUq-2ZuBek",
        "outputId": "6c11b182-6e1d-4c69-8c8f-64a68d4d1f66"
      },
      "outputs": [
        {
          "output_type": "display_data",
          "data": {
            "text/plain": [
              "Eq(Integral(2*pi*a**2*sqrt(1/cos(2*phi))*sin(phi)*sqrt(cos(2*phi)), (phi, 0, pi/4)), sqrt(2)*pi*a**2 + 2*pi*a**2)"
            ],
            "text/latex": "$\\displaystyle \\int\\limits_{0}^{\\frac{\\pi}{4}} 2 \\pi a^{2} \\sqrt{\\frac{1}{\\cos{\\left(2 \\phi \\right)}}} \\sin{\\left(\\phi \\right)} \\sqrt{\\cos{\\left(2 \\phi \\right)}}\\, d\\phi = \\sqrt{2} \\pi a^{2} + 2 \\pi a^{2}$"
          },
          "metadata": {}
        }
      ],
      "source": [
        "phi = Symbol('phi')\n",
        "a = Symbol('a', positive=True)\n",
        "r = (a**2*Cos(2*phi))**S.Half\n",
        "S_p = Integral(simplify(2 * Pi * r * Sin(phi) * (r**2 + r.diff(phi)**2)**S.Half), (phi, 0, Pi/4))\n",
        "display(sympy.Eq(S_p, S_p.doit()))"
      ]
    },
    {
      "cell_type": "markdown",
      "metadata": {
        "id": "lB47nYqSuBek"
      },
      "source": [
        "### Индивидуальное задание\n",
        "Найти площадь поверхности, образованной вращением $y = f(x)$ около оси OX."
      ]
    },
    {
      "cell_type": "markdown",
      "source": [
        "![image.png](data:image/png;base64,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)"
      ],
      "metadata": {
        "id": "dC1GusOxeMq_"
      }
    },
    {
      "cell_type": "code",
      "execution_count": 38,
      "metadata": {
        "colab": {
          "base_uri": "https://localhost:8080/",
          "height": 37
        },
        "id": "YGxs3WZJuBek",
        "outputId": "85eeaac9-a0de-4d76-de32-4e1b6872d47d"
      },
      "outputs": [
        {
          "output_type": "display_data",
          "data": {
            "text/plain": [
              "6.20528360008594"
            ],
            "text/latex": "$\\displaystyle 6.20528360008594$"
          },
          "metadata": {}
        }
      ],
      "source": [
        "x = Symbol('x', real=True, positive = True)\n",
        "y1 = sin(3*x)\n",
        "S1 = integrate(2 * pi * y1 * (1 + y1.diff(x)**2)**S.Half, (x, 0, pi/4))\n",
        "display(S1.evalf())"
      ]
    }
  ],
  "metadata": {
    "kernelspec": {
      "display_name": "Python 3",
      "language": "python",
      "name": "python3"
    },
    "language_info": {
      "codemirror_mode": {
        "name": "ipython",
        "version": 3
      },
      "file_extension": ".py",
      "mimetype": "text/x-python",
      "name": "python",
      "nbconvert_exporter": "python",
      "pygments_lexer": "ipython3",
      "version": "3.7.3"
    },
    "colab": {
      "provenance": []
    }
  },
  "nbformat": 4,
  "nbformat_minor": 0
}