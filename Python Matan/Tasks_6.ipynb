{
  "cells": [
    {
      "cell_type": "markdown",
      "metadata": {
        "id": "96JYBsOu4fvN"
      },
      "source": [
        "## Занятие 6\n",
        "## Математический анализ\n",
        "## Дифференцирование"
      ]
    },
    {
      "cell_type": "code",
      "execution_count": 2,
      "metadata": {
        "id": "AxXOgRA74fvP"
      },
      "outputs": [],
      "source": [
        "import numpy as np\n",
        "import matplotlib.pyplot as plt\n",
        "import sympy\n",
        "from sympy import diff, solve, nsolve, solveset, latex, S, simplify, fraction\n",
        "from sympy import sin as Sin\n",
        "from sympy.calculus.util import continuous_domain\n",
        "from IPython.display import display, Latex\n",
        "%matplotlib inline"
      ]
    },
    {
      "cell_type": "markdown",
      "metadata": {
        "id": "-yPXKxJ54fvQ"
      },
      "source": [
        "## Лабораторная работа 6\n",
        "## Математический анализ\n",
        "## Задание 1\n",
        "Исследовать функцию с помощью производной, найти необходимые пределы и решить уравнения.\n",
        "\n",
        "Построить график функции и асимптот, отметить и подписать точки экстремума и точки перегиба,\n",
        "включить функцию и асимптоты в легенду.\n",
        "$$\n",
        "y = x^2e^{-x}\n",
        "$$"
      ]
    },
    {
      "cell_type": "code",
      "execution_count": 91,
      "metadata": {
        "colab": {
          "base_uri": "https://localhost:8080/",
          "height": 557
        },
        "id": "sLQxqvb14fvQ",
        "outputId": "5d1d3788-f8e5-4f9f-e5e6-8e768cc635de"
      },
      "outputs": [
        {
          "output_type": "display_data",
          "data": {
            "text/plain": [
              "<IPython.core.display.Latex object>"
            ],
            "text/latex": "\\text{Первая производная: }- x^{2} e^{- x} + 2 x e^{- x}"
          },
          "metadata": {}
        },
        {
          "output_type": "display_data",
          "data": {
            "text/plain": [
              "<IPython.core.display.Latex object>"
            ],
            "text/latex": "\\text{Нули производной: }\\left[ 0, \\  2\\right]"
          },
          "metadata": {}
        },
        {
          "output_type": "display_data",
          "data": {
            "text/plain": [
              "<IPython.core.display.Latex object>"
            ],
            "text/latex": "\\text{Точка максимума: }2\\text{, значение в точке максимума: }\\frac{4}{e^{2}}"
          },
          "metadata": {}
        },
        {
          "output_type": "display_data",
          "data": {
            "text/plain": [
              "<IPython.core.display.Latex object>"
            ],
            "text/latex": "\\text{Точка минимума: }0\\text{, значение в точке минимума: }0"
          },
          "metadata": {}
        },
        {
          "output_type": "display_data",
          "data": {
            "text/plain": [
              "<IPython.core.display.Latex object>"
            ],
            "text/latex": "\\text{Вторая производная: }\\left(x^{2} - 4 x + 2\\right) e^{- x}"
          },
          "metadata": {}
        },
        {
          "output_type": "display_data",
          "data": {
            "text/plain": [
              "<IPython.core.display.Latex object>"
            ],
            "text/latex": "\\text{Точки перегиба: }\\left[ 2 - \\sqrt{2}, \\  \\sqrt{2} + 2\\right]"
          },
          "metadata": {}
        },
        {
          "output_type": "execute_result",
          "data": {
            "text/plain": [
              "[<matplotlib.lines.Line2D at 0x7a22dc067040>]"
            ]
          },
          "metadata": {},
          "execution_count": 91
        },
        {
          "output_type": "display_data",
          "data": {
            "text/plain": [
              "<Figure size 640x480 with 1 Axes>"
            ],
            "image/png": "[encoded data removed]"
          },
          "metadata": {}
        }
      ],
      "source": [
        "def f(x, lib):\n",
        "  if lib == 'sympy':\n",
        "    return x**2 * sympy.exp(-x)\n",
        "  if lib == 'numpy':\n",
        "    return x**2 * np.exp(-x)\n",
        "  return 'Клоун, пиши нормально!'\n",
        "\n",
        "x = sympy.Symbol('x')\n",
        "derative = f(x, 'sympy').diff(x)\n",
        "zeros = solve(derative, x)\n",
        "point_of_max = f(max(zeros), 'sympy')\n",
        "point_of_min = f(min(zeros), 'sympy')\n",
        "derative2 = f(x, 'sympy').diff(x, 2)\n",
        "inflection = solve(derative2, x)\n",
        "\n",
        "display(Latex(f'\\\\text{{Первая производная: }}{latex(derative)}'))\n",
        "display(Latex(f'\\\\text{{Нули производной: }}{latex(zeros)}'))\n",
        "display(Latex(f'\\\\text{{Точка максимума: }}{latex(max(zeros))}\\\\text{{, значение в точке максимума: }}{latex(point_of_max)}'))\n",
        "display(Latex(f'\\\\text{{Точка минимума: }}{latex(min(zeros))}\\\\text{{, значение в точке минимума: }}{latex(point_of_min)}'))\n",
        "display(Latex(f'\\\\text{{Вторая производная: }}{latex(derative2)}'))\n",
        "display(Latex(f'\\\\text{{Точки перегиба: }}{latex(inflection)}'))\n",
        "\n",
        "# x --> +oo\n",
        "k = sympy.limit(f(x, 'sympy')/x, x, +sympy.oo)\n",
        "b = sympy.limit(f(x, 'sympy') - k * x, x, +sympy.oo)\n",
        "def inclined_assimptote(x):\n",
        "  return k * x + b\n",
        "\n",
        "ax = plt.gca()\n",
        "X = np.linspace(-2, 5)\n",
        "minY = -5\n",
        "maxY = 10\n",
        "ax.set(ylim=(minY, maxY))\n",
        "\n",
        "# График.\n",
        "ax.plot(X, f(X, lib='numpy'), color='blue', label=r'$f(x)=' + sympy.latex(f(x, 'sympy')) + r'$')\n",
        "# Асимптота.\n",
        "ax.plot(X, inclined_assimptote(X), '--', color='red', label=r'$y=' + sympy.latex(inclined_assimptote(x)) + r'$')\n",
        "\n",
        "# Точки.\n",
        "points = zeros + inflection\n",
        "y_coord = [f(float(point), lib='numpy') for point in points]\n",
        "ax.scatter(points, y_coord)\n",
        "for i, x_coord in enumerate(points):\n",
        "  ax.annotate('X' + str(i + 1), xy = (x_coord, y_coord[i]), xycoords= ' data',\n",
        "              xytext = (x_coord + 0.1, y_coord[i] + 0.5),  textcoords='data')\n",
        "\n",
        "ax.legend(loc='best')\n",
        "ax.spines['right'].set_color('none')\n",
        "ax.spines['top'].set_color('none')\n",
        "ax.spines['bottom'].set_position(('data', 0))\n",
        "ax.spines['left'].set_position(('data', 0))\n",
        "ax.plot(1, 0, '>k', transform=ax.get_yaxis_transform(), clip_on=False)\n",
        "ax.plot(0, 1, '^k', transform=ax.get_xaxis_transform(), clip_on=False)"
      ]
    },
    {
      "cell_type": "markdown",
      "metadata": {
        "id": "Keu3NfJC4fvQ"
      },
      "source": [
        "## Задание 2\n",
        "Исследовать функцию с помощью производной, найти необходимые пределы и решить уравнения.\n",
        "\n",
        "Построить график функции и асимптот, отметить и подписать точки экстремума и точки перегиба,\n",
        "включить функцию и асимптоты в легенду.\n",
        "$$\n",
        "y=xe^{2/x} + 1\n",
        "$$"
      ]
    },
    {
      "cell_type": "code",
      "execution_count": 92,
      "metadata": {
        "colab": {
          "base_uri": "https://localhost:8080/",
          "height": 638
        },
        "id": "Gb9AW42e4fvR",
        "outputId": "395c529f-d08c-43cf-d36b-dba0d62492c5"
      },
      "outputs": [
        {
          "output_type": "display_data",
          "data": {
            "text/plain": [
              "<IPython.core.display.Latex object>"
            ],
            "text/latex": "\\text{Первая производная: }e^{\\frac{2}{x}} - \\frac{2 e^{\\frac{2}{x}}}{x}"
          },
          "metadata": {}
        },
        {
          "output_type": "display_data",
          "data": {
            "text/plain": [
              "<IPython.core.display.Latex object>"
            ],
            "text/latex": "\\text{Нули производной: }\\left[ 2\\right]"
          },
          "metadata": {}
        },
        {
          "output_type": "display_data",
          "data": {
            "text/plain": [
              "<IPython.core.display.Latex object>"
            ],
            "text/latex": "\\text{Точка экстремума: }2\\text{, значение в точке экстремума: }1 + 2 e"
          },
          "metadata": {}
        },
        {
          "output_type": "display_data",
          "data": {
            "text/plain": [
              "<IPython.core.display.Latex object>"
            ],
            "text/latex": "\\text{Вторая производная: }\\frac{4 e^{\\frac{2}{x}}}{x^{3}}"
          },
          "metadata": {}
        },
        {
          "output_type": "display_data",
          "data": {
            "text/plain": [
              "<IPython.core.display.Latex object>"
            ],
            "text/latex": "\\text{Точки перегиба: }\\left[ \\right]"
          },
          "metadata": {}
        },
        {
          "output_type": "stream",
          "name": "stderr",
          "text": [
            "<ipython-input-92-a677d8939206>:31: UserWarning: color is redundantly defined by the 'color' keyword argument and the fmt string \"k-\" (-> color='k'). The keyword argument will take precedence.\n",
            "  ax.plot(X1, f(X1, 'numpy'), 'k-', color='blue', label=r'$f(x)=' + sympy.latex(f(x, 'sympy')) + r'$')\n",
            "<ipython-input-92-a677d8939206>:32: UserWarning: color is redundantly defined by the 'color' keyword argument and the fmt string \"k-\" (-> color='k'). The keyword argument will take precedence.\n",
            "  ax.plot(X2, f(X2, 'numpy'), 'k-', color='blue')\n"
          ]
        },
        {
          "output_type": "execute_result",
          "data": {
            "text/plain": [
              "[<matplotlib.lines.Line2D at 0x7a22dbeecbb0>]"
            ]
          },
          "metadata": {},
          "execution_count": 92
        },
        {
          "output_type": "display_data",
          "data": {
            "text/plain": [
              "<Figure size 640x480 with 1 Axes>"
            ],
            "image/png": "[encoded data removed]"
          },
          "metadata": {}
        }
      ],
      "source": [
        "def f(x, lib):\n",
        "  if lib == 'sympy':\n",
        "    return x * sympy.exp(2/x) + 1\n",
        "  if lib == 'numpy':\n",
        "    return x * np.exp(2/x) + 1\n",
        "  return 'Клоун, пиши нормально!'\n",
        "\n",
        "x = sympy.Symbol('x')\n",
        "derative = f(x, 'sympy').diff(x)\n",
        "zeros = solve(derative, x)\n",
        "point_of_max = f(max(zeros), 'sympy')\n",
        "point_of_min = f(min(zeros), 'sympy')\n",
        "derative2 = f(x, 'sympy').diff(x, 2)\n",
        "inflection = solve(derative2, x)\n",
        "\n",
        "display(Latex(f'\\\\text{{Первая производная: }}{latex(derative)}'))\n",
        "display(Latex(f'\\\\text{{Нули производной: }}{latex(zeros)}'))\n",
        "display(Latex(f'\\\\text{{Точка экстремума: }}{latex(max(zeros))}\\\\text{{, значение в точке экстремума: }}{latex(point_of_max)}'))\n",
        "display(Latex(f'\\\\text{{Вторая производная: }}{latex(derative2)}'))\n",
        "display(Latex(f'\\\\text{{Точки перегиба: }}{latex(inflection)}'))\n",
        "\n",
        "ax = plt.gca()\n",
        "X = np.linspace(-10, 10)\n",
        "minY = -5\n",
        "maxY = 10\n",
        "ax.set(ylim=(minY, maxY))\n",
        "\n",
        "# График.\n",
        "X1 = np.linspace(-15, -0.01, 100)\n",
        "X2 = np.linspace(0.01, 15, 100)\n",
        "ax.plot(X1, f(X1, 'numpy'), 'k-', color='blue', label=r'$f(x)=' + sympy.latex(f(x, 'sympy')) + r'$')\n",
        "ax.plot(X2, f(X2, 'numpy'), 'k-', color='blue')\n",
        "\n",
        "# Vertical asymptote.\n",
        "vertical_as = sympy.limit(f(x, 'sympy'), x, 0)\n",
        "if (vertical_as == sympy.oo):\n",
        "  ax.axvline(x=0, color='red', linestyle='--', label=r'$x=0$')\n",
        "\n",
        "# x --> oo\n",
        "k = sympy.limit(f(x, 'sympy')/x, x, sympy.oo)\n",
        "b = sympy.limit(f(x, 'sympy') - k * x, x, sympy.oo)\n",
        "def inclined_assimptote(x):\n",
        "  return k * x + b\n",
        "\n",
        "# Точки.\n",
        "points = zeros + inflection\n",
        "ax.plot(X, inclined_assimptote(X), '--', color='green', label=r'$y=' + sympy.latex(inclined_assimptote(x)) + r'$')\n",
        "y_coord = [f(float(point), lib='numpy') for point in points]\n",
        "ax.scatter(points, y_coord)\n",
        "for i, x_coord in enumerate(points):\n",
        "  ax.annotate('X' + str(i + 1), xy = (x_coord, y_coord[i]), xycoords= ' data',\n",
        "              xytext = (x_coord + 0.1, y_coord[i] + 0.5),  textcoords='data')\n",
        "\n",
        "ax.legend(loc='best')\n",
        "ax.spines['right'].set_color('none')\n",
        "ax.spines['top'].set_color('none')\n",
        "ax.spines['bottom'].set_position(('data', 0))\n",
        "ax.spines['left'].set_position(('data', 0))\n",
        "ax.plot(1, 0, '>k', transform=ax.get_yaxis_transform(), clip_on=False)\n",
        "ax.plot(0, 1, '^k', transform=ax.get_xaxis_transform(), clip_on=False)"
      ]
    },
    {
      "cell_type": "markdown",
      "metadata": {
        "id": "hBnMuojR4fvR"
      },
      "source": [
        "## Индивидуальное задание\n",
        "Исследовать функцию с помощью производной, найти необходимые пределы и решить уравнения.\n",
        "\n",
        "Построить график функции и асимптот (если есть), отметить и подписать точки экстремума и точки перегиба (если есть),\n",
        "включить функцию и асимптоты (если есть) в легенду."
      ]
    },
    {
      "cell_type": "markdown",
      "source": [],
      "metadata": {
        "id": "fOmwG1Ck6Bwv"
      }
    },
    {
      "cell_type": "code",
      "execution_count": 93,
      "metadata": {
        "colab": {
          "base_uri": "https://localhost:8080/",
          "height": 704
        },
        "id": "aLxRhYRJ4fvR",
        "outputId": "0a820f9e-556c-4629-ef8e-c0c87a0f43f1"
      },
      "outputs": [
        {
          "output_type": "display_data",
          "data": {
            "text/plain": [
              "<IPython.core.display.Latex object>"
            ],
            "text/latex": "\\text{Первая производная: }\\frac{5 \\cdot \\left(4 x - 7\\right)}{x - 4} + \\frac{4 \\cdot \\left(5 x - 1\\right)}{x - 4} - \\frac{\\left(4 x - 7\\right) \\left(5 x - 1\\right)}{\\left(x - 4\\right)^{2}}"
          },
          "metadata": {}
        },
        {
          "output_type": "display_data",
          "data": {
            "text/plain": [
              "<IPython.core.display.Latex object>"
            ],
            "text/latex": "\\text{Нули производной: }\\left[ 4 - \\frac{3 \\sqrt{95}}{10}, \\  \\frac{3 \\sqrt{95}}{10} + 4\\right]"
          },
          "metadata": {}
        },
        {
          "output_type": "display_data",
          "data": {
            "text/plain": [
              "<IPython.core.display.Latex object>"
            ],
            "text/latex": "\\text{Точка максимума: }\\frac{3 \\sqrt{95}}{10} + 4\\text{, значение в точке максимума: }\\frac{2 \\sqrt{95} \\cdot \\left(9 + \\frac{6 \\sqrt{95}}{5}\\right) \\left(\\frac{3 \\sqrt{95}}{2} + 19\\right)}{57}"
          },
          "metadata": {}
        },
        {
          "output_type": "display_data",
          "data": {
            "text/plain": [
              "<IPython.core.display.Latex object>"
            ],
            "text/latex": "\\text{Точка минимума: }4 - \\frac{3 \\sqrt{95}}{10}\\text{, значение в точке минимума: }- \\frac{2 \\sqrt{95} \\cdot \\left(9 - \\frac{6 \\sqrt{95}}{5}\\right) \\left(19 - \\frac{3 \\sqrt{95}}{2}\\right)}{57}"
          },
          "metadata": {}
        },
        {
          "output_type": "display_data",
          "data": {
            "text/plain": [
              "<IPython.core.display.Latex object>"
            ],
            "text/latex": "\\text{Вторая производная: }\\frac{2 \\cdot \\left(20 - \\frac{5 \\cdot \\left(4 x - 7\\right)}{x - 4} - \\frac{4 \\cdot \\left(5 x - 1\\right)}{x - 4} + \\frac{\\left(4 x - 7\\right) \\left(5 x - 1\\right)}{\\left(x - 4\\right)^{2}}\\right)}{x - 4}"
          },
          "metadata": {}
        },
        {
          "output_type": "display_data",
          "data": {
            "text/plain": [
              "<IPython.core.display.Latex object>"
            ],
            "text/latex": "\\text{Точки перегиба: }\\left[ \\right]"
          },
          "metadata": {}
        },
        {
          "output_type": "stream",
          "name": "stderr",
          "text": [
            "<ipython-input-93-3980fae51d12>:27: UserWarning: color is redundantly defined by the 'color' keyword argument and the fmt string \"k-\" (-> color='k'). The keyword argument will take precedence.\n",
            "  ax.plot(X1, f(X1), 'k-', color='blue', label=r'$f(x)=' + sympy.latex(f(x)) + r'$')\n",
            "<ipython-input-93-3980fae51d12>:28: UserWarning: color is redundantly defined by the 'color' keyword argument and the fmt string \"k-\" (-> color='k'). The keyword argument will take precedence.\n",
            "  ax.plot(X2, f(X2), 'k-', color='blue')\n"
          ]
        },
        {
          "output_type": "execute_result",
          "data": {
            "text/plain": [
              "[<matplotlib.lines.Line2D at 0x7a22dbd80190>]"
            ]
          },
          "metadata": {},
          "execution_count": 93
        },
        {
          "output_type": "display_data",
          "data": {
            "text/plain": [
              "<Figure size 640x480 with 1 Axes>"
            ],
            "image/png": "[encoded data removed]"
          },
          "metadata": {}
        }
      ],
      "source": [
        "x = sympy.Symbol('x')\n",
        "def f(x):\n",
        "  return (4 * x - 7) * (5 * x - 1) / (x - 4)\n",
        "\n",
        "fnum, fdenom = sympy.fraction(f(x))\n",
        "func_nonexist = sympy.solve(fdenom, x) # x = 4\n",
        "vertical_as = sympy.limit(f(x), x, func_nonexist[0])\n",
        "\n",
        "derative = f(x).diff(x)\n",
        "zeros = solve(derative, x)\n",
        "point_of_max = f(max(zeros))\n",
        "point_of_min = f(min(zeros))\n",
        "derative2 = f(x).diff(x, 2)\n",
        "inflection = solve(derative2, x)\n",
        "\n",
        "display(Latex(f'\\\\text{{Первая производная: }}{latex(derative)}'))\n",
        "display(Latex(f'\\\\text{{Нули производной: }}{latex(zeros)}'))\n",
        "display(Latex(f'\\\\text{{Точка максимума: }}{latex(max(zeros))}\\\\text{{, значение в точке максимума: }}{latex(point_of_max)}'))\n",
        "display(Latex(f'\\\\text{{Точка минимума: }}{latex(min(zeros))}\\\\text{{, значение в точке минимума: }}{latex(point_of_min)}'))\n",
        "display(Latex(f'\\\\text{{Вторая производная: }}{latex(derative2)}'))\n",
        "display(Latex(f'\\\\text{{Точки перегиба: }}{latex(inflection)}'))\n",
        "\n",
        "ax = plt.gca()\n",
        "X = np.linspace(-20, 20)\n",
        "X1 = np.linspace(-20, 4-0.01, 100)\n",
        "X2 = np.linspace(4+0.01, 20, 100)\n",
        "ax.plot(X1, f(X1), 'k-', color='blue', label=r'$f(x)=' + sympy.latex(f(x)) + r'$')\n",
        "ax.plot(X2, f(X2), 'k-', color='blue')\n",
        "minY = -100\n",
        "maxY = 300\n",
        "ax.set(ylim=(minY, maxY))\n",
        "\n",
        "# Vertical asymptote.\n",
        "if (vertical_as == sympy.oo):\n",
        "  ax.axvline(x=func_nonexist[0], color='red', linestyle='--', label=r'$x=0$')\n",
        "\n",
        "# x --> +oo\n",
        "k1 = sympy.limit(f(x) / x, x, +sympy.oo)\n",
        "b1 = sympy.limit(f(x) - k1 * x, x, +sympy.oo)\n",
        "\n",
        "# x --> -oo\n",
        "k2 = sympy.limit(f(x) / x, x, -sympy.oo)\n",
        "b2 = sympy.limit(f(x) - k2 * x, x, -sympy.oo)\n",
        "\n",
        "def inclined_assimptote(x, k, b):\n",
        "  return k * x + b\n",
        "points = zeros + inflection\n",
        "\n",
        "if k1 == k2 and b1 == b2:\n",
        "  ax.plot(X, inclined_assimptote(X, k1, b1), '--', color='green', label=r'$y=' + sympy.latex(inclined_assimptote(x, k1, b1)) + r'$')\n",
        "else:\n",
        "  ax.plot(X, inclined_assimptote(X, k1, b1), '--', color='pink', label=r'$y=' + sympy.latex(inclined_assimptote(x, k1, b1)) + r'$')\n",
        "  ax.plot(X, inclined_assimptote(X, k2, b2), '--', color='green', label=r'$y=' + sympy.latex(inclined_assimptote(x, k2, b2)) + r'$')\n",
        "\n",
        "y_coord = [f(float(point)) for point in points]\n",
        "ax.scatter(points, y_coord)\n",
        "for i, x_coord in enumerate(points):\n",
        "  ax.annotate('X' + str(i + 1), xy = (x_coord, y_coord[i]), xycoords= ' data',\n",
        "              xytext = (x_coord + 0.1, y_coord[i] + 0.5),  textcoords='data')\n",
        "\n",
        "ax.legend(loc='best')\n",
        "ax.spines['right'].set_color('none')\n",
        "ax.spines['top'].set_color('none')\n",
        "ax.spines['bottom'].set_position(('data', 0))\n",
        "ax.spines['left'].set_position(('data', 0))\n",
        "ax.plot(1, 0, '>k', transform=ax.get_yaxis_transform(), clip_on=False)\n",
        "ax.plot(0, 1, '^k', transform=ax.get_xaxis_transform(), clip_on=False)"
      ]
    }
  ],
  "metadata": {
    "kernelspec": {
      "display_name": "Python 3",
      "language": "python",
      "name": "python3"
    },
    "language_info": {
      "codemirror_mode": {
        "name": "ipython",
        "version": 3
      },
      "file_extension": ".py",
      "mimetype": "text/x-python",
      "name": "python",
      "nbconvert_exporter": "python",
      "pygments_lexer": "ipython3",
      "version": "3.7.3"
    },
    "colab": {
      "provenance": []
    }
  },
  "nbformat": 4,
  "nbformat_minor": 0
}