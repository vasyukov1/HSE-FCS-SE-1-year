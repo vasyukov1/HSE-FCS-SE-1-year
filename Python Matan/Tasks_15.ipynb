{
  "cells": [
    {
      "cell_type": "code",
      "execution_count": 3,
      "metadata": {
        "id": "Dc-gwcBRsJCi"
      },
      "outputs": [],
      "source": [
        "import sympy\n",
        "from sympy import S, Symbol, symbols, simplify, nonlinsolve, Matrix, diff, factor, solve"
      ]
    },
    {
      "cell_type": "markdown",
      "metadata": {
        "id": "a8LOrqUysJCj"
      },
      "source": [
        "## Занятие 15\n",
        "## Математический анализ\n",
        "## Экстремум функции нескольких переменных\n",
        "### Задание 1\n",
        "Найти точки экстремума:\n",
        "\n",
        "1) $z = x^2 + xy + y^2 - 2x - y$\n",
        "\n",
        "2) $z = x^3y^2(6 - x - y)$, $(x, y > 0)$\n",
        "\n",
        "3) $z = \\frac{8}{x} + \\frac{x}{y} + y$\n",
        "\n",
        "4) $z = \\frac{1 + x - y}{\\sqrt{1 + x^2 + y^2}}$\n",
        "###### Указание.\n",
        "Вначале найти стационарные точки. Составить определитель из вторых производных в произвольной точке. Подставляя найденные (вещественные) стационарные точки, решить вопрос о наличии экстремума."
      ]
    },
    {
      "cell_type": "code",
      "execution_count": 4,
      "metadata": {
        "colab": {
          "base_uri": "https://localhost:8080/",
          "height": 387
        },
        "id": "www1UOumsJCk",
        "outputId": "d5a9ff54-0112-4fe8-90d1-dd6c06c17ac4"
      },
      "outputs": [
        {
          "output_type": "display_data",
          "data": {
            "text/plain": [
              "{(1, 0)}"
            ],
            "text/latex": "$\\displaystyle \\left\\{\\left( 1, \\  0\\right)\\right\\}$"
          },
          "metadata": {}
        },
        {
          "output_type": "display_data",
          "data": {
            "text/plain": [
              "3"
            ],
            "text/latex": "$\\displaystyle 3$"
          },
          "metadata": {}
        },
        {
          "output_type": "stream",
          "name": "stdout",
          "text": [
            "\n"
          ]
        },
        {
          "output_type": "display_data",
          "data": {
            "text/plain": [
              "(0, y)"
            ],
            "text/latex": "$\\displaystyle \\left( 0, \\  y\\right)$"
          },
          "metadata": {}
        },
        {
          "output_type": "display_data",
          "data": {
            "text/plain": [
              "(x, 0)"
            ],
            "text/latex": "$\\displaystyle \\left( x, \\  0\\right)$"
          },
          "metadata": {}
        },
        {
          "output_type": "stream",
          "name": "stdout",
          "text": [
            "\n"
          ]
        },
        {
          "output_type": "display_data",
          "data": {
            "text/plain": [
              "(0, 0)"
            ],
            "text/latex": "$\\displaystyle \\left( 0, \\  0\\right)$"
          },
          "metadata": {}
        },
        {
          "output_type": "display_data",
          "data": {
            "text/plain": [
              "(4, 2)"
            ],
            "text/latex": "$\\displaystyle \\left( 4, \\  2\\right)$"
          },
          "metadata": {}
        },
        {
          "output_type": "display_data",
          "data": {
            "text/plain": [
              "(-2 - 2*sqrt(3)*I, -1 + sqrt(3)*I)"
            ],
            "text/latex": "$\\displaystyle \\left( -2 - 2 \\sqrt{3} i, \\  -1 + \\sqrt{3} i\\right)$"
          },
          "metadata": {}
        },
        {
          "output_type": "display_data",
          "data": {
            "text/plain": [
              "(-2 + 2*sqrt(3)*I, -1 - sqrt(3)*I)"
            ],
            "text/latex": "$\\displaystyle \\left( -2 + 2 \\sqrt{3} i, \\  -1 - \\sqrt{3} i\\right)$"
          },
          "metadata": {}
        },
        {
          "output_type": "display_data",
          "data": {
            "text/plain": [
              "zoo"
            ],
            "text/latex": "$\\displaystyle \\tilde{\\infty}$"
          },
          "metadata": {}
        },
        {
          "output_type": "display_data",
          "data": {
            "text/plain": [
              "0"
            ],
            "text/latex": "$\\displaystyle 0$"
          },
          "metadata": {}
        },
        {
          "output_type": "display_data",
          "data": {
            "text/plain": [
              "1/4"
            ],
            "text/latex": "$\\displaystyle \\frac{1}{4}$"
          },
          "metadata": {}
        },
        {
          "output_type": "display_data",
          "data": {
            "text/plain": [
              "1"
            ],
            "text/latex": "$\\displaystyle 1$"
          },
          "metadata": {}
        },
        {
          "output_type": "stream",
          "name": "stdout",
          "text": [
            "\n"
          ]
        },
        {
          "output_type": "display_data",
          "data": {
            "text/plain": [
              "[]"
            ]
          },
          "metadata": {}
        },
        {
          "output_type": "stream",
          "name": "stdout",
          "text": [
            "\n"
          ]
        }
      ],
      "source": [
        "from sympy.abc import x, y\n",
        "\n",
        "#1\n",
        "f = x**2 + x*y + y**2 - 2*x - y\n",
        "stat_points = nonlinsolve([f.diff(x), f.diff(y)], [x, y])\n",
        "\n",
        "Delta = Matrix([[f.diff(x, 2), f.diff(x, y)], [f.diff(x, y), f.diff(y, 2)]]).det()\n",
        "x0, y0 = tuple(*stat_points)\n",
        "\n",
        "display(stat_points)\n",
        "display(Delta.subs({x: x0, y: y0}))\n",
        "print()\n",
        "\n",
        "#2\n",
        "x1, y1 = symbols('x y', positive=True)\n",
        "u = x1**3*y1**2*(6 - x1 - y1)\n",
        "\n",
        "stat_points = nonlinsolve([u.diff(x1), u.diff(y1)], [x1, y1])\n",
        "display(*stat_points)\n",
        "\n",
        "def Delta(u, x1, y1):\n",
        "    return Matrix([[u.diff(x1, 2), u.diff(x1, y1)],\n",
        "                [u.diff(y1, x1), u.diff(y1, 2)]]).det()\n",
        "\n",
        "for point in stat_points:\n",
        "        x0, y0 = point\n",
        "        if x0.is_real and y0.is_real:\n",
        "            if Delta(u, x1, y1).subs({x1: x0, y1: y0}) > 0:\n",
        "                A = u.diff(x1, 2).subs({x1: x0, y1: y0})\n",
        "                B = u.diff(y1, 2).subs({x1: x0, y1: y0})\n",
        "                if A > 0 or B > 0:\n",
        "                    display('minimum', point)\n",
        "                elif A < 0 or B < 0:\n",
        "                     display('maximum', point)\n",
        "print()\n",
        "\n",
        "#3\n",
        "x3, y3 = symbols('x y', positive=True)\n",
        "u1 = 8/x3 + x3/y3 + y3\n",
        "\n",
        "stat_points = nonlinsolve([u1.diff(x3), u1.diff(y3)], [x3, y3])\n",
        "display(*stat_points)\n",
        "\n",
        "def Delta(u1, x3, y3):\n",
        "    return Matrix([[u1.diff(x3, 2), u1.diff(x3, y3)],\n",
        "                   [u1.diff(y3, x3), u1.diff(y3, 2)]]).det()\n",
        "\n",
        "for point in stat_points:\n",
        "        x0, y0 = point\n",
        "        if x0.is_real and y0.is_real:\n",
        "              A1 = u1.diff(x3, 2).subs({x3: x0, y3: y0})\n",
        "              B1 = u1.diff(y3, 2).subs({x3: x0, y3: y0})\n",
        "              display(A1, B1)\n",
        "print()\n",
        "\n",
        "#4\n",
        "x2, y2 = symbols('x y', positive=True)\n",
        "u =(1 + x2 - y2)/((1 + x2**2 + y2**2)**0.5)\n",
        "\n",
        "stat_points = solve([u.diff(x2), u.diff(y2)], [x2, y2])\n",
        "display(stat_points)\n",
        "\n",
        "def Delta(u, x2, y2):\n",
        "    return Matrix([[u.diff(x2, 2), u.diff(x2, y2)],\n",
        "                   [u.diff(y2, x2), u.diff(y2, 2)]]).det()\n",
        "\n",
        "for point in stat_points:\n",
        "        x0, y0 = point\n",
        "        if x0.is_real and y0.is_real:\n",
        "            if Delta(u, x2, y2).subs({x2: x0, y2: y0}) > 0:\n",
        "                A = u.diff(x2, 2).subs({x2: x0, y2: y0})\n",
        "                B = u.diff(y2, 2).subs({x2: x0, y2: y0})\n",
        "                if A > 0 or B > 0:\n",
        "                    display('minimum', point)\n",
        "                elif A < 0 or B < 0:\n",
        "                     display('maximum', point)\n",
        "print()"
      ]
    },
    {
      "cell_type": "markdown",
      "metadata": {
        "id": "VOPj3oxdsJCk"
      },
      "source": [
        "### Задание 2.\n",
        "С помощью метода Лагранжа найти условный экстремум функции\n",
        "$z = x + 2y$ при условии $x^2 + y^2 = 5$."
      ]
    },
    {
      "cell_type": "code",
      "execution_count": 7,
      "metadata": {
        "colab": {
          "base_uri": "https://localhost:8080/",
          "height": 101
        },
        "id": "EJtV9H7UsJCk",
        "outputId": "27aedc1b-3286-439f-ce6a-bac0cd71d99c"
      },
      "outputs": [
        {
          "output_type": "display_data",
          "data": {
            "text/plain": [
              "(-1, -2)"
            ],
            "text/latex": "$\\displaystyle \\left( -1, \\  -2\\right)$"
          },
          "metadata": {}
        },
        {
          "output_type": "display_data",
          "data": {
            "text/plain": [
              "Eq(f, -5)"
            ],
            "text/latex": "$\\displaystyle f = -5$"
          },
          "metadata": {}
        },
        {
          "output_type": "display_data",
          "data": {
            "text/plain": [
              "(1, 2)"
            ],
            "text/latex": "$\\displaystyle \\left( 1, \\  2\\right)$"
          },
          "metadata": {}
        },
        {
          "output_type": "display_data",
          "data": {
            "text/plain": [
              "Eq(f, 5)"
            ],
            "text/latex": "$\\displaystyle f = 5$"
          },
          "metadata": {}
        }
      ],
      "source": [
        "x, y, lam = symbols('x y lamda')\n",
        "\n",
        "varrs = [x, y, lam]\n",
        "f = x + 2 * y\n",
        "restriction = x**2 + y**2 - 5\n",
        "L = f + lam * restriction\n",
        "stat_points = nonlinsolve([L.diff(var)for var in varrs], varrs)\n",
        "\n",
        "dx, dy, dx2, dy2 = symbols('dx dy dx^2 dy^2')\n",
        "d2L = L.diff(x,2) * dx2 + 2 * L.diff(x,y) * dx * dy + L.diff(y,2) * dy2\n",
        "factor(d2L)\n",
        "\n",
        "ff = Symbol('f')\n",
        "for point in stat_points:\n",
        "    display(point[:-1], sympy.Eq(ff, f.subs({var: point[j] for j, var in enumerate(varrs)})))"
      ]
    },
    {
      "cell_type": "markdown",
      "metadata": {
        "id": "qICFIdLYsJCl"
      },
      "source": [
        "### Задание 3.\n",
        "С помощью метода Лагранжа найти условный экстремум функции\n",
        "$z=x^2+y^2$ при условии $\\frac{x}{2}+\\frac{y}{3}=1$."
      ]
    },
    {
      "cell_type": "code",
      "execution_count": 8,
      "metadata": {
        "colab": {
          "base_uri": "https://localhost:8080/",
          "height": 92
        },
        "id": "fTAPhNRBsJCl",
        "outputId": "de12be1a-17c1-40b5-a938-392175c94e80"
      },
      "outputs": [
        {
          "output_type": "display_data",
          "data": {
            "text/plain": [
              "(18/13, 12/13)"
            ],
            "text/latex": "$\\displaystyle \\left( \\frac{18}{13}, \\  \\frac{12}{13}\\right)$"
          },
          "metadata": {}
        },
        {
          "output_type": "display_data",
          "data": {
            "text/plain": [
              "Eq(f, 36/13)"
            ],
            "text/latex": "$\\displaystyle f = \\frac{36}{13}$"
          },
          "metadata": {}
        }
      ],
      "source": [
        "varrs = [x, y, lam]\n",
        "f = x**2 + y**2\n",
        "restriction = x/2 + y/3 - 1\n",
        "L = f + lam * restriction\n",
        "stat_points = nonlinsolve([L.diff(var)for var in varrs], varrs)\n",
        "\n",
        "dx, dy, dx2, dy2 = symbols('dx dy dx^2 dy^2')\n",
        "d2L = L.diff(x,2) * dx2 + 2 * L.diff(x,y) * dx * dy + L.diff(y,2) * dy2\n",
        "factor(d2L)\n",
        "\n",
        "for point in stat_points:\n",
        "    display(point[:-1], sympy.Eq(ff, f.subs({var: point[j] for j, var in enumerate(varrs)})))"
      ]
    },
    {
      "cell_type": "markdown",
      "metadata": {
        "id": "x7iFZuR6sJCl"
      },
      "source": [
        "### Задание 4.\n",
        "С помощью метода Лагранжа найти экстремум функции $u = x - 2y + 2z$ при условии $x^2 + y^2 + z^2 = 9$."
      ]
    },
    {
      "cell_type": "code",
      "execution_count": 9,
      "metadata": {
        "colab": {
          "base_uri": "https://localhost:8080/",
          "height": 123
        },
        "id": "pDY1EvA0sJCl",
        "outputId": "0fc018e4-bf31-4e52-d8b4-841dea389478"
      },
      "outputs": [
        {
          "output_type": "display_data",
          "data": {
            "text/plain": [
              "2*dx^2*lamda + 2*dy^2*lamda + 2*dz^2*lamda"
            ],
            "text/latex": "$\\displaystyle 2 dx^{2} \\lambda + 2 dy^{2} \\lambda + 2 dz^{2} \\lambda$"
          },
          "metadata": {}
        },
        {
          "output_type": "display_data",
          "data": {
            "text/plain": [
              "-1.0*dx^2 - 1.0*dy^2 - 1.0*dz^2"
            ],
            "text/latex": "$\\displaystyle - 1.0 dx^{2} - 1.0 dy^{2} - 1.0 dz^{2}$"
          },
          "metadata": {}
        },
        {
          "output_type": "display_data",
          "data": {
            "text/plain": [
              "1.0*dx^2 + 1.0*dy^2 + 1.0*dz^2"
            ],
            "text/latex": "$\\displaystyle 1.0 dx^{2} + 1.0 dy^{2} + 1.0 dz^{2}$"
          },
          "metadata": {}
        },
        {
          "output_type": "display_data",
          "data": {
            "text/plain": [
              "(-1, 2, -2)"
            ],
            "text/latex": "$\\displaystyle \\left( -1, \\  2, \\  -2\\right)$"
          },
          "metadata": {}
        },
        {
          "output_type": "display_data",
          "data": {
            "text/plain": [
              "(1, -2, 2)"
            ],
            "text/latex": "$\\displaystyle \\left( 1, \\  -2, \\  2\\right)$"
          },
          "metadata": {}
        }
      ],
      "source": [
        "z = symbols('z')\n",
        "\n",
        "varrs = [x, y, z, lam]\n",
        "u = x - 2 * y + 2 * z\n",
        "restriction = x**2 + y**2 + z**2 - 9\n",
        "L = u + lam * restriction\n",
        "stat_points = nonlinsolve([L.diff(var)for var in varrs], varrs)\n",
        "\n",
        "dx, dy, dz, dx2, dy2, dz2 = symbols('dx dy dz dx^2 dy^2 dz^2')\n",
        "d2L = 0\n",
        "\n",
        "diffs = {x: (dx, dx2), y: (dy, dy2), z: (dz, dz2)}\n",
        "for i, var in enumerate(varrs[:-1]):\n",
        "    d2L += L.diff(var, 2) * diffs[var][1]\n",
        "    for j in range(i + 1, 3):\n",
        "        d2L += 2*L.diff(var, varrs[j]) * diffs[var][0]*diffs[varrs[j]][0]\n",
        "\n",
        "display(d2L)\n",
        "L2_points = [d2L.subs(lam, lval) for lval in (-1/2, 1/2)]\n",
        "display(*L2_points)\n",
        "\n",
        "uu = Symbol('u')\n",
        "for point in stat_points:\n",
        "        display(point[:-1])"
      ]
    },
    {
      "cell_type": "markdown",
      "metadata": {
        "id": "nfXNFeX8sJCl"
      },
      "source": [
        "### Индивидуальное задание\n",
        "Найти точки экстремума $u = x^2 + y^2 + z^2 - xy + x - 2z$."
      ]
    },
    {
      "cell_type": "markdown",
      "source": [
        "![image.png](data:image/png;base64,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)"
      ],
      "metadata": {
        "id": "Aajy4ih3wKQb"
      }
    },
    {
      "cell_type": "code",
      "execution_count": 10,
      "metadata": {
        "colab": {
          "base_uri": "https://localhost:8080/",
          "height": 76
        },
        "id": "YRNE4eousJCl",
        "outputId": "a83fc0ef-12dd-499d-be67-3167bf5a592b"
      },
      "outputs": [
        {
          "output_type": "display_data",
          "data": {
            "text/plain": [
              "'minimum'"
            ],
            "application/vnd.google.colaboratory.intrinsic+json": {
              "type": "string"
            }
          },
          "metadata": {}
        },
        {
          "output_type": "display_data",
          "data": {
            "text/plain": [
              "(-596/1247, 2065/1247, 881/1247)"
            ],
            "text/latex": "$\\displaystyle \\left( - \\frac{596}{1247}, \\  \\frac{2065}{1247}, \\  \\frac{881}{1247}\\right)$"
          },
          "metadata": {}
        }
      ],
      "source": [
        "x, y, z = symbols('x y z', positive=True)\n",
        "\n",
        "u = -2 * x**2 - 11 * x * y + 16 * x * z + 5 * x - y**2 - 7 * y * z + 3 * y + 3*z**2 + 15 * z\n",
        "\n",
        "stat_points = nonlinsolve([u.diff(x), u.diff(y), u.diff(z)], [x, y, z])\n",
        "\n",
        "def Delta(u, x, y, z):\n",
        "    return Matrix([[u.diff(x, 2), u.diff(x, y), u.diff(x, z)],\n",
        "                   [u.diff(y, x), u.diff(y, 2), u.diff(y, z)],\n",
        "                   [u.diff(z, x), u.diff(z, y), u.diff(z,2)],]).det()\n",
        "\n",
        "for point in stat_points:\n",
        "        x0, y0, z0 = point\n",
        "        if x0.is_real and y0.is_real and z0.is_real:\n",
        "            if Delta(u, x, y, z).subs({x: x0, y: y0, z: z0}) > 0:\n",
        "                A = u.diff(x, 2).subs({x: x0, y: y0, z: z0})\n",
        "                B = u.diff(y, 2).subs({x: x0, y: y0, z: z0})\n",
        "                C = u.diff(z, 2).subs({x: x0, y: y0, z: z0})\n",
        "\n",
        "                if A > 0 or B > 0 or C > 0:\n",
        "                    display('minimum', point)\n",
        "                elif A < 0 or B < 0 or C < 0:\n",
        "                    display('maximum', point)"
      ]
    }
  ],
  "metadata": {
    "kernelspec": {
      "display_name": "Python 3",
      "language": "python",
      "name": "python3"
    },
    "language_info": {
      "codemirror_mode": {
        "name": "ipython",
        "version": 3
      },
      "file_extension": ".py",
      "mimetype": "text/x-python",
      "name": "python",
      "nbconvert_exporter": "python",
      "pygments_lexer": "ipython3",
      "version": "3.7.3"
    },
    "colab": {
      "provenance": []
    }
  },
  "nbformat": 4,
  "nbformat_minor": 0
}