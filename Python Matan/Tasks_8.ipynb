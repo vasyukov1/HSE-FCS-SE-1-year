{
  "cells": [
    {
      "cell_type": "code",
      "execution_count": 1,
      "metadata": {
        "id": "rd-vav9JXapZ"
      },
      "outputs": [],
      "source": [
        "import numpy as np\n",
        "import matplotlib.pyplot as plt\n",
        "import sympy\n",
        "from sympy import Symbol, diff, solve, nsolve, solveset, latex, S, simplify, fraction, Union, Interval, intersection, limit\n",
        "from sympy.calculus.util import continuous_domain\n",
        "from sympy import sin as Sin\n",
        "from sympy import cos as Cos\n",
        "from sympy import pi as Pi\n",
        "%matplotlib inline"
      ]
    },
    {
      "cell_type": "markdown",
      "metadata": {
        "id": "2UuheE71Xapa"
      },
      "source": [
        "## Занятие 8\n",
        "## Математический анализ\n",
        "## Дифференцирование функции, заданной параметрически\n",
        "Пусть зависимость $y$ от $x$ задана параметрически:\n",
        "$$\n",
        "\\left\\{\n",
        "\\begin{matrix}\n",
        "x = \\varphi(t)\\\\\n",
        "y = \\psi(t)\n",
        "\\end{matrix}\n",
        "\\right.\n",
        "$$\n",
        "тогда производная $y$ по $x$  находится по формуле\n",
        "$$\n",
        "y'_x = \\frac{y'_t}{x'_t} = \\frac{\\psi'_t}{\\varphi'_t}\n",
        "$$\n",
        "Вторая производная:\n",
        "$$\n",
        "y''_{xx} = \\frac{x'_t y''_{tt}-x''_{tt}y'_t}{(x'_t)^3}  = \\frac{\\varphi'_t \\psi''_{tt}-\\varphi''_{tt}\\psi'_t}{(\\varphi'_t)^3}\n",
        "$$\n",
        "### Задание 1\n",
        "Найти производные 1 и 2 порядка функции\n",
        "$$\n",
        "\\left\\{\n",
        "\\begin{matrix}\n",
        "x = \\sin(t) - t\\cos(t)\\\\\n",
        "y = \\cos(t) + t\\sin(t)\n",
        "\\end{matrix}\n",
        "\\right.\n",
        "$$"
      ]
    },
    {
      "cell_type": "code",
      "execution_count": null,
      "metadata": {
        "id": "pMA5xmGiXapc",
        "colab": {
          "base_uri": "https://localhost:8080/",
          "height": 95
        },
        "outputId": "2e990f27-4135-4a73-c4f4-008af2732343"
      },
      "outputs": [
        {
          "output_type": "display_data",
          "data": {
            "text/plain": [
              "1/tan(t)"
            ],
            "text/latex": "$\\displaystyle \\frac{1}{\\tan{\\left(t \\right)}}$"
          },
          "metadata": {}
        },
        {
          "output_type": "display_data",
          "data": {
            "text/plain": [
              "-1/(t*sin(t)**3)"
            ],
            "text/latex": "$\\displaystyle - \\frac{1}{t \\sin^{3}{\\left(t \\right)}}$"
          },
          "metadata": {}
        }
      ],
      "source": [
        "t = Symbol('t')\n",
        "x = Sin(t) - t * Cos(t)\n",
        "y = Cos(t) + t * Sin(t)\n",
        "dx = diff(x, t)\n",
        "dy = diff(y, t)\n",
        "dy_x = sympy.simplify(dy/dx)\n",
        "dy2_xx = sympy.simplify((dx*diff(y, t, 2) - diff(x, t, 2)*dy)/dx**3)\n",
        "display(dy_x, dy2_xx)"
      ]
    },
    {
      "cell_type": "markdown",
      "metadata": {
        "id": "VboveEgLXapc"
      },
      "source": [
        "### Задание 2.\n",
        "Найти нули производных первого и второго порядка, а также точки, в которых эти производные не существуют, для функции\n",
        "$$\n",
        "\\left\\{\n",
        "\\begin{matrix}\n",
        "x = t^2 - 2t\\\\\n",
        "y = t^2 + 2t\n",
        "\\end{matrix}\n",
        "\\right.\n",
        "$$"
      ]
    },
    {
      "cell_type": "code",
      "execution_count": null,
      "metadata": {
        "id": "Pa1t3Bc0Xapc",
        "colab": {
          "base_uri": "https://localhost:8080/",
          "height": 172
        },
        "outputId": "6ab9dc03-aec4-432f-fce5-7f6eaf6f9a34"
      },
      "outputs": [
        {
          "output_type": "display_data",
          "data": {
            "text/plain": [
              "'Первая производная, нули числителя:'"
            ],
            "application/vnd.google.colaboratory.intrinsic+json": {
              "type": "string"
            }
          },
          "metadata": {}
        },
        {
          "output_type": "display_data",
          "data": {
            "text/plain": [
              "{-1}"
            ],
            "text/latex": "$\\displaystyle \\left\\{-1\\right\\}$"
          },
          "metadata": {}
        },
        {
          "output_type": "display_data",
          "data": {
            "text/plain": [
              "'нули знаменателя:'"
            ],
            "application/vnd.google.colaboratory.intrinsic+json": {
              "type": "string"
            }
          },
          "metadata": {}
        },
        {
          "output_type": "display_data",
          "data": {
            "text/plain": [
              "{1}"
            ],
            "text/latex": "$\\displaystyle \\left\\{1\\right\\}$"
          },
          "metadata": {}
        },
        {
          "output_type": "display_data",
          "data": {
            "text/plain": [
              "'Вторая производная, нули числителя:'"
            ],
            "application/vnd.google.colaboratory.intrinsic+json": {
              "type": "string"
            }
          },
          "metadata": {}
        },
        {
          "output_type": "display_data",
          "data": {
            "text/plain": [
              "EmptySet"
            ],
            "text/latex": "$\\displaystyle \\emptyset$"
          },
          "metadata": {}
        },
        {
          "output_type": "display_data",
          "data": {
            "text/plain": [
              "'нули знаменателя:'"
            ],
            "application/vnd.google.colaboratory.intrinsic+json": {
              "type": "string"
            }
          },
          "metadata": {}
        },
        {
          "output_type": "display_data",
          "data": {
            "text/plain": [
              "{1}"
            ],
            "text/latex": "$\\displaystyle \\left\\{1\\right\\}$"
          },
          "metadata": {}
        }
      ],
      "source": [
        "t = Symbol('t')\n",
        "x = t**2 - 2*t\n",
        "y = t**2 + 2*t\n",
        "dx = diff(x, t)\n",
        "dy = diff(y, t)\n",
        "dy_x = sympy.simplify(dy/dx)\n",
        "dy2_xx = sympy.simplify((dx*diff(y, t, 2) - diff(x, t, 2)*dy)/dx**3)\n",
        "\n",
        "dy_x_num, dy_x_den = fraction(dy_x)\n",
        "dy_x_num_nul = solveset(dy_x_num)\n",
        "dy_x_den_nul = solveset(dy_x_den)\n",
        "display('Первая производная, нули числителя:', dy_x_num_nul, 'нули знаменателя:', dy_x_den_nul)\n",
        "dy2_xx_num,dy2_xx_den = fraction(dy2_xx)\n",
        "dy2_xx_num_nul = solveset(dy2_xx_num)\n",
        "dy2_xx_den_nul = solveset(dy2_xx_den)\n",
        "display('Вторая производная, нули числителя:', dy2_xx_num_nul, 'нули знаменателя:', dy2_xx_den_nul)"
      ]
    },
    {
      "cell_type": "markdown",
      "metadata": {
        "id": "C2T9ZJZOXapc"
      },
      "source": [
        "### Задание 3.\n",
        "Найти точки экстремума и точки перегиба функции Задания 2."
      ]
    },
    {
      "cell_type": "code",
      "execution_count": 40,
      "metadata": {
        "id": "9N6XxhbeXapc",
        "colab": {
          "base_uri": "https://localhost:8080/",
          "height": 92
        },
        "outputId": "5efc9906-c239-43d0-a627-cbb22db45679"
      },
      "outputs": [
        {
          "output_type": "display_data",
          "data": {
            "text/plain": [
              "'Точки экстремума: '"
            ],
            "application/vnd.google.colaboratory.intrinsic+json": {
              "type": "string"
            }
          },
          "metadata": {}
        },
        {
          "output_type": "display_data",
          "data": {
            "text/plain": [
              "{-1, 1}"
            ],
            "text/latex": "$\\displaystyle \\left\\{-1, 1\\right\\}$"
          },
          "metadata": {}
        },
        {
          "output_type": "display_data",
          "data": {
            "text/plain": [
              "'Точки перегиба: '"
            ],
            "application/vnd.google.colaboratory.intrinsic+json": {
              "type": "string"
            }
          },
          "metadata": {}
        },
        {
          "output_type": "display_data",
          "data": {
            "text/plain": [
              "[]"
            ]
          },
          "metadata": {}
        }
      ],
      "source": [
        "t = Symbol('t')\n",
        "x = t**2 - 2*t\n",
        "y = t**2 + 2*t\n",
        "dx = diff(x, t)\n",
        "dy = diff(y, t)\n",
        "# Первая проивзодная.\n",
        "dy_x = sympy.simplify(dy/dx)\n",
        "# Вторая проивзодная.\n",
        "dy2_xx = sympy.simplify((dx*diff(y, t, 2) - diff(x, t, 2)*dy)/dx**3)\n",
        "\n",
        "dy_x_num, dy_x_den = fraction(dy_x)\n",
        "dy_x_num_nul = solveset(dy_x_num)\n",
        "dy_x_den_nul = solveset(dy_x_den)\n",
        "crit_points = Union(dy_x_num_nul, dy_x_den_nul)\n",
        "display('Точки экстремума: ', crit_points)\n",
        "\n",
        "dy2_xx_num, dy2_xx_den = fraction(dy2_xx)\n",
        "dy2_xx_num_nul = solveset(dy2_xx_num)\n",
        "dy2_xx_den_nul = solveset(dy2_xx_den)\n",
        "dy2_xx_points = list((dy2_xx_num_nul.union(dy2_xx_den_nul)).intersect(Interval.Ropen(0, 2*Pi)))\n",
        "dy2_xx_points.sort()\n",
        "points = [-Pi/6] + [(item + crit_points_interval[i + 1])/2 for i, item in enumerate(dy2_xx_points[:-1])] + [2*Pi]\n",
        "\n",
        "inflection=[]\n",
        "for i, item in enumerate(dy2_xx_points):\n",
        "  if item in dy2_xx_num_nul:\n",
        "    df_left = dy2_xx.subs(t, points[i])\n",
        "    df_right = dy2_xx.subs(t, points[i + 1])\n",
        "    if df_left*df_right < 0:\n",
        "      inflection.append(item)\n",
        "display('Точки перегиба: ', inflection)"
      ]
    },
    {
      "cell_type": "markdown",
      "metadata": {
        "id": "_ZKnLzKFXapc"
      },
      "source": [
        "### Задание 4. Точки перегиба\n",
        "Найти точки перегиба функции, график строить не нужно.\n",
        "$$\n",
        "\\left\\{\n",
        "\\begin{matrix}\n",
        "x = e^t\\\\\n",
        "y = te^{2t}\n",
        "\\end{matrix}\n",
        "\\right.\n",
        "$$"
      ]
    },
    {
      "cell_type": "code",
      "execution_count": 43,
      "metadata": {
        "id": "6PwfR_V7Xapc",
        "colab": {
          "base_uri": "https://localhost:8080/",
          "height": 53
        },
        "outputId": "17845756-55ac-4ec8-c236-45207752af03"
      },
      "outputs": [
        {
          "output_type": "display_data",
          "data": {
            "text/plain": [
              "'Точки перегиба: '"
            ],
            "application/vnd.google.colaboratory.intrinsic+json": {
              "type": "string"
            }
          },
          "metadata": {}
        },
        {
          "output_type": "display_data",
          "data": {
            "text/plain": [
              "[-3/2]"
            ]
          },
          "metadata": {}
        }
      ],
      "source": [
        "t = Symbol('t')\n",
        "x = sympy.exp(t)\n",
        "y = t * sympy.exp(2 * t)\n",
        "\n",
        "dx = diff(x, t)\n",
        "dy =  diff(y, t)\n",
        "dy2_xx = (dx * diff(y, t, 2) - diff(x, t, 2) * dy) / dx**3\n",
        "\n",
        "dy2_xx_num, dy2_xx_den = fraction(dy2_xx)\n",
        "dy2_xx_num_nul = solveset(dy2_xx_num)\n",
        "dy2_xx_den_nul = solveset(dy2_xx_den)\n",
        "\n",
        "dy2_xx_points = list((dy2_xx_num_nul.union(dy2_xx_den_nul)).intersect(Interval.Ropen(-2, 2)))\n",
        "dy2_xx_points.sort()\n",
        "points = [-2] + [(item + crit_points_interval[i + 1]) / 2 for i, item in enumerate(dy2_xx_points[:-1])] + [1]\n",
        "inflection=[]\n",
        "for i, item in enumerate(dy2_xx_points):\n",
        "    if item in dy2_xx_num_nul:\n",
        "        df_left = dy2_xx.subs(t, points[i])\n",
        "        df_right = dy2_xx.subs(t, points[i + 1])\n",
        "        if df_left*df_right < 0:\n",
        "            inflection.append(item)\n",
        "display('Точки перегиба: ', inflection)"
      ]
    },
    {
      "cell_type": "markdown",
      "metadata": {
        "id": "ZdgJA2k7Xapc"
      },
      "source": [
        "## Асимптоты параметрически заданной функции\n",
        "Пусть зависимость $y$ от $x$ задана параметрически:\n",
        "$$\n",
        "\\left\\{\n",
        "\\begin{matrix}\n",
        "x = \\varphi(t)\\\\\n",
        "y = \\psi(t)\n",
        "\\end{matrix}\n",
        "\\right.\n",
        "$$\n",
        "Сначала нужно определить, нет ли таких значений параметра $t$, при которых одна из функций $\\varphi(t)$ или $\\psi(t)$ обращается в бесконечность, а другая остается конечной. При $\\varphi(t_0) = \\infty$, а $\\psi(t_0) = c$ кривая имеет горизонтальную асимптоту  $y = c$. При  $\\psi(t_0) = \\infty$, а $\\varphi(t_0) = c$ кривая имеет вертикальную асимптоту $x = c$.\n",
        "\n",
        "Если $\\varphi(t_0) = \\psi(t_0) = \\infty$ и\n",
        "$$\n",
        "\\lim_{t\\to t_0} \\frac{\\psi(t)}{\\varphi(t)} = k;\\qquad \\lim_{t\\to t_0} [\\psi(t) - k\\varphi(t)] = b,\n",
        "$$\n",
        "то   кривая имеет наклонную асимптоту  $y = kx + b$.\n",
        "\n",
        "### Индивидуальное задание.\n",
        "Найти асимптоты параметрически заданной функции и изобразить на графике функцию и ее асимптоты."
      ]
    },
    {
      "cell_type": "markdown",
      "source": [
        "![image.png](data:image/png;base64,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)"
      ],
      "metadata": {
        "id": "5mDfJ5kAYCHm"
      }
    },
    {
      "cell_type": "code",
      "execution_count": 47,
      "metadata": {
        "id": "OJDxzJd_Xapd",
        "colab": {
          "base_uri": "https://localhost:8080/",
          "height": 604
        },
        "outputId": "d7c7a9b2-f5c4-4274-bac6-c45b6ad65df5"
      },
      "outputs": [
        {
          "output_type": "display_data",
          "data": {
            "text/plain": [
              "'t -> 0'"
            ],
            "application/vnd.google.colaboratory.intrinsic+json": {
              "type": "string"
            }
          },
          "metadata": {}
        },
        {
          "output_type": "display_data",
          "data": {
            "text/plain": [
              "1"
            ],
            "text/latex": "$\\displaystyle 1$"
          },
          "metadata": {}
        },
        {
          "output_type": "display_data",
          "data": {
            "text/plain": [
              "(6 + 3/t, t, 0)"
            ]
          },
          "metadata": {}
        },
        {
          "output_type": "display_data",
          "data": {
            "text/plain": [
              "'t -> +oo'"
            ],
            "application/vnd.google.colaboratory.intrinsic+json": {
              "type": "string"
            }
          },
          "metadata": {}
        },
        {
          "output_type": "display_data",
          "data": {
            "text/plain": [
              "oo"
            ],
            "text/latex": "$\\displaystyle \\infty$"
          },
          "metadata": {}
        },
        {
          "output_type": "display_data",
          "data": {
            "text/plain": [
              "6"
            ],
            "text/latex": "$\\displaystyle 6$"
          },
          "metadata": {}
        },
        {
          "output_type": "stream",
          "name": "stderr",
          "text": [
            "<ipython-input-47-cfd3234523b7>:9: RuntimeWarning: divide by zero encountered in divide\n",
            "  plt.plot((6*T)/(T**3 + 8), (4*T**2)/(T**3 + 8), color='green')\n"
          ]
        },
        {
          "output_type": "execute_result",
          "data": {
            "text/plain": [
              "(-0.5, 5.0)"
            ]
          },
          "metadata": {},
          "execution_count": 47
        },
        {
          "output_type": "display_data",
          "data": {
            "text/plain": [
              "<Figure size 640x480 with 1 Axes>"
            ],
            "image/png": "[encoded data removed]"
          },
          "metadata": {}
        }
      ],
      "source": [
        "t = Symbol('t')\n",
        "x = (2 * t + 1)**(1/2)\n",
        "y = 6 + 3 / t\n",
        "display('t -> 0', limit(x, t, 0), (y, t, 0))\n",
        "display('t -> +oo', limit(x, t, +sympy.oo), limit(y, t, +sympy.oo))\n",
        "T1 = np.linspace(-10, -0.1, 100)\n",
        "T2 = np.linspace(0.1, 10, 100)\n",
        "for T in [T1, T2]:\n",
        "    plt.plot((6*T)/(T**3 + 8), (4*T**2)/(T**3 + 8), color='green')\n",
        "plt.axhline(y=1, color='red', linestyle='--')\n",
        "plt.axvline(x=0, color='pink', linestyle='--')\n",
        "plt.axhline(y=0, color='blue', linestyle='--')\n",
        "plt.ylim(-0.5, 5)"
      ]
    }
  ],
  "metadata": {
    "kernelspec": {
      "display_name": "Python 3",
      "language": "python",
      "name": "python3"
    },
    "language_info": {
      "codemirror_mode": {
        "name": "ipython",
        "version": 3
      },
      "file_extension": ".py",
      "mimetype": "text/x-python",
      "name": "python",
      "nbconvert_exporter": "python",
      "pygments_lexer": "ipython3",
      "version": "3.7.3"
    },
    "colab": {
      "provenance": []
    }
  },
  "nbformat": 4,
  "nbformat_minor": 0
}