{
  "cells": [
    {
      "cell_type": "code",
      "source": [
        "import numpy as np\n",
        "import numpy.linalg\n",
        "import pandas as pd\n",
        "from dataclasses import dataclass, field\n",
        "from google.colab import files"
      ],
      "metadata": {
        "id": "35fSDoLC_UQ8"
      },
      "id": "35fSDoLC_UQ8",
      "execution_count": 1,
      "outputs": []
    },
    {
      "cell_type": "markdown",
      "source": [
        "# Задание\n",
        "\n",
        "Описать **класс SLAE**\n",
        "\n",
        "**docstring** \"\"\"My SLAE Class\"\"\"\n",
        "\n",
        "класс произвольных СЛАУ\n",
        "\n",
        "**переменные** класса:\n",
        "\n",
        "обязательные name типа str - имя СЛАУ, a - матрица левой части, тип np.array,  b - вектор правой части, тип np.array\n",
        "\n",
        "необязательные  var_num по умолчанию 0,  eq_num по умолчанию 0 - оба целые числа\n",
        "\n",
        "**атрибуты**\n",
        "\n",
        "get_a\n",
        "\n",
        "get_b\n",
        "\n",
        "get_var_num\n",
        "\n",
        "get_eq_num\n",
        "\n",
        "get_dim\n",
        "\n",
        "**методы**\n",
        "\n",
        "set_b\n",
        "\n",
        "set_b_zero\n",
        "\n",
        "x\n",
        "\n",
        "\n",
        "**Дочерний класс SLAEhomogeneous**\n",
        "\n",
        "**переменные** класса:\n",
        "\n",
        "b - вектор правой части, тип np.array со значением по умолчанию None, не должен выводиться на экран при выведении на экран экземпляра класса\n",
        "\n",
        "\n",
        "**Дочерний класс SLAEsquare**\n",
        "\n",
        "**переменные** класса:\n",
        "\n",
        "singular: bool = None\n",
        "\n",
        "square: bool = None\n",
        "\n",
        "a_inv\n",
        "\n",
        "**атрибуты**\n",
        "\n",
        "is_square\n",
        "\n",
        "is_singular - возвращает True, если матрица вырождена\n",
        "\n",
        "get_inv - - возвращает обратную матрицу, если она существует\n",
        "\n",
        "**метод**\n",
        "\n",
        "\n",
        "x"
      ],
      "metadata": {
        "id": "jIDJIfUaxyEC"
      },
      "id": "jIDJIfUaxyEC"
    },
    {
      "cell_type": "code",
      "source": [
        "@dataclass\n",
        "class SLAE:\n",
        "  \"\"\"My SLAE Class\"\"\"\n",
        "  name: str\n",
        "  coefficents_matrix : np.array\n",
        "  free_value_column : np.array\n",
        "  count_of_variables : int = field(default = 0)\n",
        "  count_of_equations : int = field(default = 0)\n",
        "\n",
        "  @property\n",
        "  def get_coefficents(self) -> np.array:\n",
        "    if self.coefficents_matrix is None:\n",
        "      raise AttributeError(\"Матрица коэффицентов СЛАУ не задана.\")\n",
        "\n",
        "    return self.coefficents_matrix\n",
        "\n",
        "  @property\n",
        "  def get_free_value_column(self) -> np.array:\n",
        "    if self.free_value_column is None:\n",
        "      raise AttributeError(\"Столбец сводобных значений СЛАУ не определен.\")\n",
        "\n",
        "    return self.free_value_column\n",
        "\n",
        "  @property\n",
        "  def get_var_count(self) -> int:\n",
        "    if not self.count_of_variables:\n",
        "      self.count_of_variables = self.coefficents_matrix.shape[1]\n",
        "\n",
        "    return self.count_of_variables\n",
        "\n",
        "  @property\n",
        "  def get_equation_count(self) -> int:\n",
        "    if not self.count_of_equations:\n",
        "      self.count_of_equations = self.coefficents_matrix.shape[0]\n",
        "    return self.count_of_equations\n",
        "\n",
        "  @property\n",
        "  def get_dimensions_info(self) -> tuple[int, int]:\n",
        "    return (self.get_equation_count, self.get_var_count)\n",
        "\n",
        "  def set_free_value_column(self, new_vector):\n",
        "    if len(new_vector.shape) != 2:\n",
        "        raise AttributeError(f\"Переданный вектор правой части СЛАУ не является \\\n",
        "вектор столбцом.\")\n",
        "\n",
        "    for el in new_vector:\n",
        "      if len(el.shape) != 1 or len(el) != 1:\n",
        "        raise AttributeError(f\"Переданный вектор правой части СЛАУ не является \\\n",
        "вектор столбцом.\")\n",
        "\n",
        "    if self.get_equation_count == new_vector.shape[0]:\n",
        "      self.free_value_column = new_vector\n",
        "    else:\n",
        "      raise AttributeError(f\"Переданный вектор правой части СЛАУ, содержит \\\n",
        "{new_vector.shape[0]} значений, вместо {self.get_equation_count}\")\n",
        "\n",
        "  def nullify_free_value_column(self):\n",
        "    dim_of_matrix = self.get_equation_count\n",
        "    self.set_free_value_column(np.array([[0]] * dim_of_matrix))\n",
        "\n",
        "  def solve(self) -> tuple[bool, np.array]:\n",
        "    n, m = self.get_dimensions_info\n",
        "\n",
        "    if n != m or not np.linalg.det(self.coefficents_matrix):\n",
        "      return (False, np.array([]))\n",
        "\n",
        "    return (True, np.linalg.solve(self.coefficents_matrix,\n",
        "                                  self.free_value_column))"
      ],
      "metadata": {
        "id": "15zPoDQwNYUs"
      },
      "id": "15zPoDQwNYUs",
      "execution_count": 2,
      "outputs": []
    },
    {
      "cell_type": "code",
      "source": [
        "@dataclass\n",
        "class SLAEhomogeneous(SLAE):\n",
        "  \"\"\"My SLAEhomogeneous class\"\"\"\n",
        "\n",
        "  free_value_column: np.array = field(default = None, repr = False)\n",
        "\n",
        "  @property\n",
        "  def set_free_value_column(self):\n",
        "    print('b = 0 in homogeneous SLAE, use get_free_value_column instead')\n",
        "\n",
        "  @property\n",
        "  def get_free_value_column(self) -> np.array:\n",
        "    if self.free_value_column is None:\n",
        "      self.free_value_column = np.array([[0]] * self.get_equation_count)\n",
        "\n",
        "    return self.free_value_column\n",
        "\n",
        "  def solve(self) -> tuple[bool, np.array]:\n",
        "    n, m = self.get_dimensions_info\n",
        "\n",
        "    if n != m or not np.linalg.det(self.coefficents_matrix):\n",
        "      return (False, np.array([]))\n",
        "\n",
        "    return (True, np.array([[0]] * self.get_var_count))"
      ],
      "metadata": {
        "id": "Ixv-fBbu6nCz"
      },
      "id": "Ixv-fBbu6nCz",
      "execution_count": 3,
      "outputs": []
    },
    {
      "cell_type": "code",
      "source": [
        "@dataclass\n",
        "class SLAEsquare(SLAE):\n",
        "  singular : bool = field(default = None)\n",
        "  square : bool = field(default = None)\n",
        "\n",
        "  coefficent_matrix_inv : np.array = field(default = None)\n",
        "\n",
        "  @property\n",
        "  def is_square(self) -> bool:\n",
        "    if self.square == None:\n",
        "      n, m = self.get_dimensions_info\n",
        "      self.square = (n == m)\n",
        "\n",
        "    return self.square\n",
        "\n",
        "  @property\n",
        "  def is_singular(self) -> bool:\n",
        "    if self.singular == None:\n",
        "      self.singular = (np.linalg.det(self.coefficents_matrix) == 0)\n",
        "\n",
        "    return self.singular\n",
        "\n",
        "  @property\n",
        "  def get_inv(self) -> np.array:\n",
        "    if self.coefficent_matrix_inv == None:\n",
        "      if self.is_square:\n",
        "        return \"Coefficent matrix isnt singular, so there is no inverted matrix.\"\n",
        "\n",
        "      self.coefficent_matrix_inv = np.linalg.inv(self.coefficents_matrix)\n",
        "\n",
        "    return self.coefficent_matrix_inv\n",
        "\n",
        "  def solve(self) -> tuple[bool, np.array]:\n",
        "    if self.is_square and not self.is_singular:\n",
        "      return (True, np.linalg.solve(self.coefficents_matrix,\n",
        "                                  self.free_value_column))\n",
        "\n",
        "    return (False, np.array([]))"
      ],
      "metadata": {
        "id": "xbXKAHgaFLlO"
      },
      "id": "xbXKAHgaFLlO",
      "execution_count": 4,
      "outputs": []
    },
    {
      "cell_type": "markdown",
      "source": [
        "Считать матрицу и вектор из файла 'ab1.xlsx'"
      ],
      "metadata": {
        "id": "zG7s-dtG0rS1"
      },
      "id": "zG7s-dtG0rS1"
    },
    {
      "cell_type": "code",
      "source": [
        "from google.colab import files\n",
        "import pandas as pd\n",
        "table = files.upload()\n",
        "\n",
        "A1 = pd.read_excel('ab1.xlsx', 0, header = None).to_numpy()\n",
        "b1 = pd.read_excel('ab1.xlsx', 1, header = None).to_numpy()\n",
        "\n",
        "display(A1, b1)"
      ],
      "metadata": {
        "id": "z5b-GXbb6okn",
        "colab": {
          "base_uri": "https://localhost:8080/",
          "height": 217
        },
        "outputId": "4d496778-8267-4854-d815-4bc1693f7b03"
      },
      "id": "z5b-GXbb6okn",
      "execution_count": 5,
      "outputs": [
        {
          "output_type": "display_data",
          "data": {
            "text/plain": [
              "<IPython.core.display.HTML object>"
            ],
            "text/html": [
              "\n",
              "     <input type=\"file\" id=\"files-04a911fa-6b6f-48f4-ad39-7ff5c5ea4b54\" name=\"files[]\" multiple disabled\n",
              "        style=\"border:none\" />\n",
              "     <output id=\"result-04a911fa-6b6f-48f4-ad39-7ff5c5ea4b54\">\n",
              "      Upload widget is only available when the cell has been executed in the\n",
              "      current browser session. Please rerun this cell to enable.\n",
              "      </output>\n",
              "      <script>// Copyright 2017 Google LLC\n",
              "//\n",
              "// Licensed under the Apache License, Version 2.0 (the \"License\");\n",
              "// you may not use this file except in compliance with the License.\n",
              "// You may obtain a copy of the License at\n",
              "//\n",
              "//      http://www.apache.org/licenses/LICENSE-2.0\n",
              "//\n",
              "// Unless required by applicable law or agreed to in writing, software\n",
              "// distributed under the License is distributed on an \"AS IS\" BASIS,\n",
              "// WITHOUT WARRANTIES OR CONDITIONS OF ANY KIND, either express or implied.\n",
              "// See the License for the specific language governing permissions and\n",
              "// limitations under the License.\n",
              "\n",
              "/**\n",
              " * @fileoverview Helpers for google.colab Python module.\n",
              " */\n",
              "(function(scope) {\n",
              "function span(text, styleAttributes = {}) {\n",
              "  const element = document.createElement('span');\n",
              "  element.textContent = text;\n",
              "  for (const key of Object.keys(styleAttributes)) {\n",
              "    element.style[key] = styleAttributes[key];\n",
              "  }\n",
              "  return element;\n",
              "}\n",
              "\n",
              "// Max number of bytes which will be uploaded at a time.\n",
              "const MAX_PAYLOAD_SIZE = 100 * 1024;\n",
              "\n",
              "function _uploadFiles(inputId, outputId) {\n",
              "  const steps = uploadFilesStep(inputId, outputId);\n",
              "  const outputElement = document.getElementById(outputId);\n",
              "  // Cache steps on the outputElement to make it available for the next call\n",
              "  // to uploadFilesContinue from Python.\n",
              "  outputElement.steps = steps;\n",
              "\n",
              "  return _uploadFilesContinue(outputId);\n",
              "}\n",
              "\n",
              "// This is roughly an async generator (not supported in the browser yet),\n",
              "// where there are multiple asynchronous steps and the Python side is going\n",
              "// to poll for completion of each step.\n",
              "// This uses a Promise to block the python side on completion of each step,\n",
              "// then passes the result of the previous step as the input to the next step.\n",
              "function _uploadFilesContinue(outputId) {\n",
              "  const outputElement = document.getElementById(outputId);\n",
              "  const steps = outputElement.steps;\n",
              "\n",
              "  const next = steps.next(outputElement.lastPromiseValue);\n",
              "  return Promise.resolve(next.value.promise).then((value) => {\n",
              "    // Cache the last promise value to make it available to the next\n",
              "    // step of the generator.\n",
              "    outputElement.lastPromiseValue = value;\n",
              "    return next.value.response;\n",
              "  });\n",
              "}\n",
              "\n",
              "/**\n",
              " * Generator function which is called between each async step of the upload\n",
              " * process.\n",
              " * @param {string} inputId Element ID of the input file picker element.\n",
              " * @param {string} outputId Element ID of the output display.\n",
              " * @return {!Iterable<!Object>} Iterable of next steps.\n",
              " */\n",
              "function* uploadFilesStep(inputId, outputId) {\n",
              "  const inputElement = document.getElementById(inputId);\n",
              "  inputElement.disabled = false;\n",
              "\n",
              "  const outputElement = document.getElementById(outputId);\n",
              "  outputElement.innerHTML = '';\n",
              "\n",
              "  const pickedPromise = new Promise((resolve) => {\n",
              "    inputElement.addEventListener('change', (e) => {\n",
              "      resolve(e.target.files);\n",
              "    });\n",
              "  });\n",
              "\n",
              "  const cancel = document.createElement('button');\n",
              "  inputElement.parentElement.appendChild(cancel);\n",
              "  cancel.textContent = 'Cancel upload';\n",
              "  const cancelPromise = new Promise((resolve) => {\n",
              "    cancel.onclick = () => {\n",
              "      resolve(null);\n",
              "    };\n",
              "  });\n",
              "\n",
              "  // Wait for the user to pick the files.\n",
              "  const files = yield {\n",
              "    promise: Promise.race([pickedPromise, cancelPromise]),\n",
              "    response: {\n",
              "      action: 'starting',\n",
              "    }\n",
              "  };\n",
              "\n",
              "  cancel.remove();\n",
              "\n",
              "  // Disable the input element since further picks are not allowed.\n",
              "  inputElement.disabled = true;\n",
              "\n",
              "  if (!files) {\n",
              "    return {\n",
              "      response: {\n",
              "        action: 'complete',\n",
              "      }\n",
              "    };\n",
              "  }\n",
              "\n",
              "  for (const file of files) {\n",
              "    const li = document.createElement('li');\n",
              "    li.append(span(file.name, {fontWeight: 'bold'}));\n",
              "    li.append(span(\n",
              "        `(${file.type || 'n/a'}) - ${file.size} bytes, ` +\n",
              "        `last modified: ${\n",
              "            file.lastModifiedDate ? file.lastModifiedDate.toLocaleDateString() :\n",
              "                                    'n/a'} - `));\n",
              "    const percent = span('0% done');\n",
              "    li.appendChild(percent);\n",
              "\n",
              "    outputElement.appendChild(li);\n",
              "\n",
              "    const fileDataPromise = new Promise((resolve) => {\n",
              "      const reader = new FileReader();\n",
              "      reader.onload = (e) => {\n",
              "        resolve(e.target.result);\n",
              "      };\n",
              "      reader.readAsArrayBuffer(file);\n",
              "    });\n",
              "    // Wait for the data to be ready.\n",
              "    let fileData = yield {\n",
              "      promise: fileDataPromise,\n",
              "      response: {\n",
              "        action: 'continue',\n",
              "      }\n",
              "    };\n",
              "\n",
              "    // Use a chunked sending to avoid message size limits. See b/62115660.\n",
              "    let position = 0;\n",
              "    do {\n",
              "      const length = Math.min(fileData.byteLength - position, MAX_PAYLOAD_SIZE);\n",
              "      const chunk = new Uint8Array(fileData, position, length);\n",
              "      position += length;\n",
              "\n",
              "      const base64 = btoa(String.fromCharCode.apply(null, chunk));\n",
              "      yield {\n",
              "        response: {\n",
              "          action: 'append',\n",
              "          file: file.name,\n",
              "          data: base64,\n",
              "        },\n",
              "      };\n",
              "\n",
              "      let percentDone = fileData.byteLength === 0 ?\n",
              "          100 :\n",
              "          Math.round((position / fileData.byteLength) * 100);\n",
              "      percent.textContent = `${percentDone}% done`;\n",
              "\n",
              "    } while (position < fileData.byteLength);\n",
              "  }\n",
              "\n",
              "  // All done.\n",
              "  yield {\n",
              "    response: {\n",
              "      action: 'complete',\n",
              "    }\n",
              "  };\n",
              "}\n",
              "\n",
              "scope.google = scope.google || {};\n",
              "scope.google.colab = scope.google.colab || {};\n",
              "scope.google.colab._files = {\n",
              "  _uploadFiles,\n",
              "  _uploadFilesContinue,\n",
              "};\n",
              "})(self);\n",
              "</script> "
            ]
          },
          "metadata": {}
        },
        {
          "output_type": "stream",
          "name": "stdout",
          "text": [
            "Saving ab1.xlsx to ab1.xlsx\n"
          ]
        },
        {
          "output_type": "display_data",
          "data": {
            "text/plain": [
              "array([[ -3,   5,   5,  10],\n",
              "       [ -2,  -7,  -3,  -3],\n",
              "       [  4, -10,   3,   3],\n",
              "       [ -5,  -9,  10,  -4]])"
            ]
          },
          "metadata": {}
        },
        {
          "output_type": "display_data",
          "data": {
            "text/plain": [
              "array([[-2],\n",
              "       [10],\n",
              "       [10],\n",
              "       [-7]])"
            ]
          },
          "metadata": {}
        }
      ]
    },
    {
      "cell_type": "markdown",
      "source": [
        "Создать экземпляр класса SLAE с именем 'SLAE_1_1' и матрицей A1, вектором b1, вывести экземпляр на экран"
      ],
      "metadata": {
        "id": "G0s5Goby0y4I"
      },
      "id": "G0s5Goby0y4I"
    },
    {
      "cell_type": "code",
      "source": [
        "slae_1 = SLAE('SLAE_1_1', A1, b1)\n",
        "slae_1"
      ],
      "metadata": {
        "id": "XiX0ltYr6pcL",
        "colab": {
          "base_uri": "https://localhost:8080/"
        },
        "outputId": "229bfdb1-c26f-45d9-aa8b-ef99d02372af"
      },
      "id": "XiX0ltYr6pcL",
      "execution_count": 6,
      "outputs": [
        {
          "output_type": "execute_result",
          "data": {
            "text/plain": [
              "SLAE(name='SLAE_1_1', coefficents_matrix=array([[ -3,   5,   5,  10],\n",
              "       [ -2,  -7,  -3,  -3],\n",
              "       [  4, -10,   3,   3],\n",
              "       [ -5,  -9,  10,  -4]]), free_value_column=array([[-2],\n",
              "       [10],\n",
              "       [10],\n",
              "       [-7]]), count_of_variables=0, count_of_equations=0)"
            ]
          },
          "metadata": {},
          "execution_count": 6
        }
      ]
    },
    {
      "cell_type": "markdown",
      "source": [
        "Вывести на экран атрибуты SLAE_1:\n",
        "\n",
        "a\n",
        "\n",
        "get_a\n",
        "\n",
        "заменить b на вектор из нулей\n",
        "\n",
        "вывести на экран текущее значение b\n",
        "\n",
        "заменить b на вектор [4, 5, 6, 7]\n",
        "\n",
        "вывести на экран текущее значение b"
      ],
      "metadata": {
        "id": "iOYYeAwd1Ifd"
      },
      "id": "iOYYeAwd1Ifd"
    },
    {
      "cell_type": "code",
      "source": [
        "print(\"Матрица коэффицентов:\\n\", slae_1.coefficents_matrix)\n",
        "print(\"Матрица коэффицентов через метод:\\n\", slae_1.get_coefficents)\n",
        "\n",
        "print(\"Вектор-столбец свободных значений:\\n\", slae_1.free_value_column)\n",
        "print(\"Вектор-столбец свободных значений через метод:\\n\", slae_1.get_free_value_column)"
      ],
      "metadata": {
        "id": "eUHpW-zZ6qYf",
        "colab": {
          "base_uri": "https://localhost:8080/"
        },
        "outputId": "2233d76b-c8f6-48d8-d954-4f44e14c219d"
      },
      "id": "eUHpW-zZ6qYf",
      "execution_count": 7,
      "outputs": [
        {
          "output_type": "stream",
          "name": "stdout",
          "text": [
            "Матрица коэффицентов:\n",
            " [[ -3   5   5  10]\n",
            " [ -2  -7  -3  -3]\n",
            " [  4 -10   3   3]\n",
            " [ -5  -9  10  -4]]\n",
            "Матрица коэффицентов через метод:\n",
            " [[ -3   5   5  10]\n",
            " [ -2  -7  -3  -3]\n",
            " [  4 -10   3   3]\n",
            " [ -5  -9  10  -4]]\n",
            "Вектор-столбец свободных значений:\n",
            " [[-2]\n",
            " [10]\n",
            " [10]\n",
            " [-7]]\n",
            "Вектор-столбец свободных значений через метод:\n",
            " [[-2]\n",
            " [10]\n",
            " [10]\n",
            " [-7]]\n"
          ]
        }
      ]
    },
    {
      "cell_type": "code",
      "source": [
        "slae_1.set_free_value_column(np.array([[0]] * 4))\n",
        "slae_1.get_free_value_column"
      ],
      "metadata": {
        "colab": {
          "base_uri": "https://localhost:8080/"
        },
        "id": "84-4Oi67Fj3t",
        "outputId": "330ff752-cc1b-4e87-db4b-99f47a85953c"
      },
      "id": "84-4Oi67Fj3t",
      "execution_count": 8,
      "outputs": [
        {
          "output_type": "execute_result",
          "data": {
            "text/plain": [
              "array([[0],\n",
              "       [0],\n",
              "       [0],\n",
              "       [0]])"
            ]
          },
          "metadata": {},
          "execution_count": 8
        }
      ]
    },
    {
      "cell_type": "code",
      "source": [
        "slae_1.set_free_value_column(np.array([[4], [5], [6], [7]]))\n",
        "slae_1.get_free_value_column"
      ],
      "metadata": {
        "colab": {
          "base_uri": "https://localhost:8080/"
        },
        "id": "za-emXdiFpmI",
        "outputId": "9bd47f52-d296-4a1d-818c-37701c7fa6ec"
      },
      "id": "za-emXdiFpmI",
      "execution_count": 9,
      "outputs": [
        {
          "output_type": "execute_result",
          "data": {
            "text/plain": [
              "array([[4],\n",
              "       [5],\n",
              "       [6],\n",
              "       [7]])"
            ]
          },
          "metadata": {},
          "execution_count": 9
        }
      ]
    },
    {
      "cell_type": "markdown",
      "source": [
        "Попытаться заменить b на вектор [-1, 2, -3, 4, 5, 6, 7]\n",
        "\n",
        "вывести на экран текущее значение b и решение СЛАУ"
      ],
      "metadata": {
        "id": "tvrAT9m44IIZ"
      },
      "id": "tvrAT9m44IIZ"
    },
    {
      "cell_type": "code",
      "source": [
        "try:\n",
        "  slae_1.set_free_value_column(np.array([[-1], [2], [-3], [4], [5], [6], [7]]))\n",
        "except:\n",
        "  print(\"Размер вектора неправильный\")\n",
        "\n",
        "print(\"Значение вектора свободных коэффицентов:\\n\", slae_1.get_free_value_column)\n",
        "print(\"Решение СЛАУ:\\n\", slae_1.solve()[1])"
      ],
      "metadata": {
        "id": "qotTWFLH6rbh",
        "colab": {
          "base_uri": "https://localhost:8080/"
        },
        "outputId": "3331b779-eb10-4ae9-d7e5-2f39eb177f5b"
      },
      "id": "qotTWFLH6rbh",
      "execution_count": 12,
      "outputs": [
        {
          "output_type": "stream",
          "name": "stdout",
          "text": [
            "Размер вектора неправильный\n",
            "Значение вектора свободных коэффицентов:\n",
            " [[4]\n",
            " [5]\n",
            " [6]\n",
            " [7]]\n",
            "Решение СЛАУ:\n",
            " [[-0.71186441]\n",
            " [-0.73080758]\n",
            " [-0.07743436]\n",
            " [ 0.59056165]]\n"
          ]
        }
      ]
    },
    {
      "cell_type": "markdown",
      "source": [
        "Создать экземпляр класса SLAEhomogeneous с именем 'SLAE_homo_1' и матрицей A1, вывести экземпляр на экран\n",
        "\n",
        "Вывести на экран атрибуты SLAE_homo_1:\n",
        "\n",
        "a\n",
        "\n",
        "get_a\n",
        "\n",
        "вывести на экран текущее значение b\n",
        "\n",
        "попытаться заменить b на вектор [1, 2, 3, 4, 5, 6, 7]\n",
        "\n",
        "вывести на экран текущее значение b"
      ],
      "metadata": {
        "id": "nbskjaFi4V4M"
      },
      "id": "nbskjaFi4V4M"
    },
    {
      "cell_type": "code",
      "source": [
        "slae_2 = SLAEhomogeneous('SLAE_homo_1', A1)\n",
        "display(slae_2)\n",
        "\n",
        "print(\"Матрица коэффицентов:\\n\", slae_2.coefficents_matrix)\n",
        "print(\"Матрица коэффицентов через метод:\\n\", slae_2.get_coefficents)\n",
        "\n",
        "print(\"Вектор-столбец сводобных коэффицентов:\\n\", slae_2.get_free_value_column)\n",
        "try:\n",
        "  slae_2.set_free_value_column(np.array([[1], [2], [3], [4], [5], [6], [7]]))\n",
        "except:\n",
        "  print(\"Размер вектора неправильный\")"
      ],
      "metadata": {
        "id": "7S4WtVzE6sdy",
        "colab": {
          "base_uri": "https://localhost:8080/",
          "height": 392
        },
        "outputId": "44510d74-e11d-4278-b1a4-3e1c10acee1c"
      },
      "id": "7S4WtVzE6sdy",
      "execution_count": 15,
      "outputs": [
        {
          "output_type": "display_data",
          "data": {
            "text/plain": [
              "SLAEhomogeneous(name='SLAE_homo_1', coefficents_matrix=array([[ -3,   5,   5,  10],\n",
              "       [ -2,  -7,  -3,  -3],\n",
              "       [  4, -10,   3,   3],\n",
              "       [ -5,  -9,  10,  -4]]), count_of_variables=0, count_of_equations=0)"
            ]
          },
          "metadata": {}
        },
        {
          "output_type": "stream",
          "name": "stdout",
          "text": [
            "Матрица коэффицентов:\n",
            " [[ -3   5   5  10]\n",
            " [ -2  -7  -3  -3]\n",
            " [  4 -10   3   3]\n",
            " [ -5  -9  10  -4]]\n",
            "Матрица коэффицентов через метод:\n",
            " [[ -3   5   5  10]\n",
            " [ -2  -7  -3  -3]\n",
            " [  4 -10   3   3]\n",
            " [ -5  -9  10  -4]]\n",
            "Вектор-столбец сводобных коэффицентов:\n",
            " [[0]\n",
            " [0]\n",
            " [0]\n",
            " [0]]\n",
            "b = 0 in homogeneous SLAE, use get_free_value_column instead\n",
            "Размер вектора неправильный\n"
          ]
        }
      ]
    },
    {
      "cell_type": "markdown",
      "source": [
        "Создать экземпляр класса SLAEsquare с именем 'SLAE_sq_1' и матрицей A1, вектором b1 вывести экземпляр на экран\n",
        "\n",
        "Вывести на экран атрибуты SLAE_sq_1:\n",
        "\n",
        "a\n",
        "\n",
        "get_a\n",
        "\n",
        "вывести решение x\n",
        "\n",
        "заменить b на нулевой вектор\n",
        "\n",
        "\n",
        "вывести на экран текущее значение b и решение x\n",
        "\n",
        "попытаться заменить b на вектор [1, 2, 3, 4, 5]\n",
        "\n",
        "вывести на экран текущее значение b"
      ],
      "metadata": {
        "id": "alvWKxkz405W"
      },
      "id": "alvWKxkz405W"
    },
    {
      "cell_type": "code",
      "source": [
        "slae_3 = SLAEsquare('SLAE_sq_1', A1, b1)\n",
        "\n",
        "print(\"Матрица коэффицентов:\\n\", slae_3.coefficents_matrix)\n",
        "print(\"Матрица коэффицентов полученная через метод:\\n\", slae_3.get_coefficents)\n",
        "\n",
        "print(\"Решение системы:\\n\", slae_3.solve())\n",
        "\n",
        "slae_3.set_free_value_column(np.array([[0]] * 4))\n",
        "print(\"Значения свободных коэффицентов СЛАУ:\\n\", slae_3.get_free_value_column)\n",
        "print(\"Новое решение:\\n\", slae_3.solve())\n",
        "\n",
        "try:\n",
        "  slae_3.set_free_value_column(np.array([[1], [2], [3], [4], [5]]))\n",
        "except:\n",
        "  print(\"Размер вектора неправильный\")"
      ],
      "metadata": {
        "id": "n3RJ2BDM6tik",
        "colab": {
          "base_uri": "https://localhost:8080/"
        },
        "outputId": "e6917416-632f-412d-cbb3-e7075fa140e6"
      },
      "id": "n3RJ2BDM6tik",
      "execution_count": 18,
      "outputs": [
        {
          "output_type": "stream",
          "name": "stdout",
          "text": [
            "Матрица коэффицентов:\n",
            " [[ -3   5   5  10]\n",
            " [ -2  -7  -3  -3]\n",
            " [  4 -10   3   3]\n",
            " [ -5  -9  10  -4]]\n",
            "Матрица коэффицентов полученная через метод:\n",
            " [[ -3   5   5  10]\n",
            " [ -2  -7  -3  -3]\n",
            " [  4 -10   3   3]\n",
            " [ -5  -9  10  -4]]\n",
            "Решение системы:\n",
            " (True, array([[-0.20903955],\n",
            "       [-1.20106348],\n",
            "       [-1.45862413],\n",
            "       [ 1.06713194]]))\n",
            "Значения свободных коэффицентов СЛАУ:\n",
            " [[0]\n",
            " [0]\n",
            " [0]\n",
            " [0]]\n",
            "Новое решение:\n",
            " (True, array([[-0.],\n",
            "       [-0.],\n",
            "       [-0.],\n",
            "       [ 0.]]))\n",
            "Размер вектора неправильный\n"
          ]
        }
      ]
    },
    {
      "cell_type": "markdown",
      "source": [
        "Считать матрицу и вектор из файла 'ab2.xlsx'"
      ],
      "metadata": {
        "id": "i0k9Skfm50ny"
      },
      "id": "i0k9Skfm50ny"
    },
    {
      "cell_type": "code",
      "source": [
        "A2 = pd.read_excel('ab2.xlsx', 0, header = None).to_numpy()\n",
        "b2 = pd.read_excel('ab2.xlsx', 1, header = None).to_numpy()\n",
        "\n",
        "display(A2, b2)"
      ],
      "metadata": {
        "id": "7ggOKp7V6uso",
        "colab": {
          "base_uri": "https://localhost:8080/",
          "height": 231
        },
        "outputId": "c2c0398c-3325-4bcf-c5e3-4ecfe16a1355"
      },
      "id": "7ggOKp7V6uso",
      "execution_count": 20,
      "outputs": [
        {
          "output_type": "display_data",
          "data": {
            "text/plain": [
              "array([[ -3,   5,   5,  10],\n",
              "       [ -2,  -7,  -3,  -3],\n",
              "       [  4, -10,   3,   3],\n",
              "       [ -5,  -9,  10,  -4],\n",
              "       [ -4,  -8,  11,  -3],\n",
              "       [ -3,  -7,  12,  -2]])"
            ]
          },
          "metadata": {}
        },
        {
          "output_type": "display_data",
          "data": {
            "text/plain": [
              "array([[ -2],\n",
              "       [ 10],\n",
              "       [ 10],\n",
              "       [ -7],\n",
              "       [-24],\n",
              "       [-41]])"
            ]
          },
          "metadata": {}
        }
      ]
    },
    {
      "cell_type": "markdown",
      "source": [
        "Создать экземпляр класса SLAEsquare с именем 'SLAE_sq_2' и матрицей A2, вектором b2 вывести экземпляр на экран\n",
        "\n",
        "Вывести на экран атрибуты SLAE_sq_2:\n",
        "\n",
        "a\n",
        "\n",
        "get_a\n",
        "\n",
        "вывести решение x\n",
        "\n",
        "заменить b на нулевой вектор\n",
        "\n",
        "\n",
        "вывести на экран текущее значение b и решение x\n",
        "\n",
        "попытаться заменить b на вектор [1, 2, 3, 4, 5, 6]\n",
        "\n",
        "вывести на экран текущее значение b"
      ],
      "metadata": {
        "id": "xkjiMM9T59Wi"
      },
      "id": "xkjiMM9T59Wi"
    },
    {
      "cell_type": "code",
      "source": [
        "slae_4 = SLAEsquare('SLAE_sq_2', A2, b2)\n",
        "display(slae_4)\n",
        "\n",
        "print(\"Матрица коэффицентов:\\n\", slae_4.coefficents_matrix)\n",
        "print(\"Матрица коэффицентов через метод:\\n\", slae_4.get_coefficents)\n",
        "print(\"Решение:\\n\", slae_4.solve())\n",
        "\n",
        "slae_4.set_free_value_column(np.array([[0]] * 6))\n",
        "print(\"Значения свободных коэффицентов СЛАУ:\\n\", slae_4.get_free_value_column)\n",
        "print(\"Новое решение:\\n\", slae_4.solve())\n",
        "\n",
        "slae_4.set_free_value_column(np.array([[1], [2], [3], [4], [5], [6]]))\n",
        "print(\"Значения свободных коэффицентов СЛАУ:\\n\", slae_4.get_free_value_column)"
      ],
      "metadata": {
        "id": "gdiB5Z7U6vg_",
        "colab": {
          "base_uri": "https://localhost:8080/",
          "height": 785
        },
        "outputId": "1e0ecc60-e952-4ccb-8cd0-9f7aa83b8d6b"
      },
      "id": "gdiB5Z7U6vg_",
      "execution_count": 24,
      "outputs": [
        {
          "output_type": "display_data",
          "data": {
            "text/plain": [
              "SLAEsquare(name='SLAE_sq_2', coefficents_matrix=array([[ -3,   5,   5,  10],\n",
              "       [ -2,  -7,  -3,  -3],\n",
              "       [  4, -10,   3,   3],\n",
              "       [ -5,  -9,  10,  -4],\n",
              "       [ -4,  -8,  11,  -3],\n",
              "       [ -3,  -7,  12,  -2]]), free_value_column=array([[ -2],\n",
              "       [ 10],\n",
              "       [ 10],\n",
              "       [ -7],\n",
              "       [-24],\n",
              "       [-41]]), count_of_variables=0, count_of_equations=0, singular=None, square=None, coefficent_matrix_inv=None)"
            ]
          },
          "metadata": {}
        },
        {
          "output_type": "stream",
          "name": "stdout",
          "text": [
            "Матрица коэффицентов:\n",
            " [[ -3   5   5  10]\n",
            " [ -2  -7  -3  -3]\n",
            " [  4 -10   3   3]\n",
            " [ -5  -9  10  -4]\n",
            " [ -4  -8  11  -3]\n",
            " [ -3  -7  12  -2]]\n",
            "Матрица коэффицентов через метод:\n",
            " [[ -3   5   5  10]\n",
            " [ -2  -7  -3  -3]\n",
            " [  4 -10   3   3]\n",
            " [ -5  -9  10  -4]\n",
            " [ -4  -8  11  -3]\n",
            " [ -3  -7  12  -2]]\n",
            "Решение:\n",
            " (False, array([], dtype=float64))\n",
            "Значения свободных коэффицентов СЛАУ:\n",
            " [[0]\n",
            " [0]\n",
            " [0]\n",
            " [0]\n",
            " [0]\n",
            " [0]]\n",
            "Новое решение:\n",
            " (False, array([], dtype=float64))\n",
            "Значения свободных коэффицентов СЛАУ:\n",
            " [[1]\n",
            " [2]\n",
            " [3]\n",
            " [4]\n",
            " [5]\n",
            " [6]]\n"
          ]
        }
      ]
    }
  ],
  "metadata": {
    "kernelspec": {
      "display_name": "Python 3 (ipykernel)",
      "language": "python",
      "name": "python3"
    },
    "language_info": {
      "codemirror_mode": {
        "name": "ipython",
        "version": 3
      },
      "file_extension": ".py",
      "mimetype": "text/x-python",
      "name": "python",
      "nbconvert_exporter": "python",
      "pygments_lexer": "ipython3",
      "version": "3.11.5"
    },
    "colab": {
      "provenance": []
    }
  },
  "nbformat": 4,
  "nbformat_minor": 5
}