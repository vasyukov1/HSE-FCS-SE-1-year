{
  "nbformat": 4,
  "nbformat_minor": 0,
  "metadata": {
    "kernelspec": {
      "display_name": "Python 3",
      "language": "python",
      "name": "python3"
    },
    "language_info": {
      "codemirror_mode": {
        "name": "ipython",
        "version": 3
      },
      "file_extension": ".py",
      "mimetype": "text/x-python",
      "name": "python",
      "nbconvert_exporter": "python",
      "pygments_lexer": "ipython3",
      "version": "3.7.3"
    },
    "colab": {
      "provenance": []
    }
  },
  "cells": [
    {
      "cell_type": "code",
      "metadata": {
        "id": "N4mLs7g4G85I"
      },
      "source": [
        "from sympy import solve, symbols, eye, Eq\n",
        "from sympy import Matrix, latex\n",
        "from sympy import pi as Pi\n",
        "from sympy import cos as Cos\n",
        "from sympy import sin as Sin\n",
        "from sympy import rad as Rad\n",
        "import numpy as np\n",
        "import pandas as pd\n",
        "import matplotlib.pyplot as plt\n",
        "from IPython.display import Latex, display, Math"
      ],
      "execution_count": 104,
      "outputs": []
    },
    {
      "cell_type": "markdown",
      "metadata": {
        "id": "L53ZTfO2G85R"
      },
      "source": [
        "# Практическое занятие 13\n",
        "# Компьютерный практикум по алгебре на Python\n",
        "## Линейные операторы на плоскости и в пространстве\n",
        "### Задание 1.\n",
        "Написать функцию, составляющую матрицу линейного оператора поворота на $\\alpha$ градусов или радиан **по** или **против часовой стрелки** на плоскости. Параметры: обязательные - угол поворота, необязательные - тип меры угла (градусы или радианы), направление поворота (по или против часовой стрелки). Значения по умолчанию - против часовой стрелки в радианах.\n",
        "\n",
        "Использовать полученную функцию для выведения на экран координат векторов, полученных поворотом вектора [1, 2]\n",
        "\n",
        "1) на 10, 20, 45 градусов **по  часовой стрелке**\n",
        "\n",
        "2) на $\\pi/3$ радиан **против часовой стрелки**."
      ]
    },
    {
      "cell_type": "code",
      "source": [
        "def rotation_matrix(angle, angle_type='radian', clockwise=False):\n",
        "    \"\"\"\n",
        "    Функция для создания матрицы линейного оператора поворота.\n",
        "\n",
        "    Параметры:\n",
        "    - angle: угол поворота\n",
        "    - angle_type: тип меры угла ('degree' или 'radian')\n",
        "    - clockwise: направление поворота (по или против часовой стрелки)\n",
        "\n",
        "    Возвращает матрицу линейного оператора поворота.\n",
        "    \"\"\"\n",
        "    if angle_type == 'degree':\n",
        "        angle = Rad(angle)  # Преобразование градусов в радианы\n",
        "\n",
        "    direction = -1 if clockwise else 1\n",
        "\n",
        "    rotation_matrix = Matrix([\n",
        "        [Cos(direction * angle), -Sin(direction * angle)],\n",
        "        [Sin(direction * angle), Cos(direction * angle)]\n",
        "    ])\n",
        "\n",
        "    return rotation_matrix\n",
        "\n",
        "# Вектор для поворота\n",
        "vector = Matrix([1, 2])\n",
        "\n",
        "# Поворот на 10, 20 и 45 градусов по часовой стрелке\n",
        "for angle in [10, 20, 45]:\n",
        "    matrix = rotation_matrix(angle, angle_type='degree', clockwise=True)\n",
        "    rotated_vector = matrix * vector\n",
        "\n",
        "    display(Latex(f\"\\\\text{{Вектор после поворота на }} {angle}^\\\\circ \\\\text{{ по часовой стрелке: }}\"))\n",
        "    display(Latex(latex(rotated_vector)))\n",
        "    print()\n",
        "\n",
        "# Поворот на π/3 радиан против часовой стрелки\n",
        "angle_rad = Pi / 3\n",
        "matrix_rad = rotation_matrix(angle_rad, angle_type='radian', clockwise=False)\n",
        "rotated_vector_rad = matrix_rad * Matrix(vector)\n",
        "\n",
        "display(Latex(f\"\\\\text{{Вектор после поворота на }} \\\\frac{{\\\\pi}}{{3}} \\\\text{{ радиан против часовой стрелки: }}\"))\n",
        "display(Latex(latex(rotated_vector_rad)))"
      ],
      "metadata": {
        "id": "OYv_qCtZY8xJ",
        "colab": {
          "base_uri": "https://localhost:8080/",
          "height": 337
        },
        "outputId": "da277b85-714f-4e6b-e8c0-edc1a85ead08"
      },
      "execution_count": 26,
      "outputs": [
        {
          "output_type": "display_data",
          "data": {
            "text/plain": [
              "<IPython.core.display.Latex object>"
            ],
            "text/latex": "\\text{Вектор после поворота на } 10^\\circ \\text{ по часовой стрелке: }"
          },
          "metadata": {}
        },
        {
          "output_type": "display_data",
          "data": {
            "text/plain": [
              "<IPython.core.display.Latex object>"
            ],
            "text/latex": "\\left[\\begin{matrix}2 \\sin{\\left(\\frac{\\pi}{18} \\right)} + \\cos{\\left(\\frac{\\pi}{18} \\right)}\\\\- \\sin{\\left(\\frac{\\pi}{18} \\right)} + 2 \\cos{\\left(\\frac{\\pi}{18} \\right)}\\end{matrix}\\right]"
          },
          "metadata": {}
        },
        {
          "output_type": "stream",
          "name": "stdout",
          "text": [
            "\n"
          ]
        },
        {
          "output_type": "display_data",
          "data": {
            "text/plain": [
              "<IPython.core.display.Latex object>"
            ],
            "text/latex": "\\text{Вектор после поворота на } 20^\\circ \\text{ по часовой стрелке: }"
          },
          "metadata": {}
        },
        {
          "output_type": "display_data",
          "data": {
            "text/plain": [
              "<IPython.core.display.Latex object>"
            ],
            "text/latex": "\\left[\\begin{matrix}2 \\sin{\\left(\\frac{\\pi}{9} \\right)} + \\cos{\\left(\\frac{\\pi}{9} \\right)}\\\\- \\sin{\\left(\\frac{\\pi}{9} \\right)} + 2 \\cos{\\left(\\frac{\\pi}{9} \\right)}\\end{matrix}\\right]"
          },
          "metadata": {}
        },
        {
          "output_type": "stream",
          "name": "stdout",
          "text": [
            "\n"
          ]
        },
        {
          "output_type": "display_data",
          "data": {
            "text/plain": [
              "<IPython.core.display.Latex object>"
            ],
            "text/latex": "\\text{Вектор после поворота на } 45^\\circ \\text{ по часовой стрелке: }"
          },
          "metadata": {}
        },
        {
          "output_type": "display_data",
          "data": {
            "text/plain": [
              "<IPython.core.display.Latex object>"
            ],
            "text/latex": "\\left[\\begin{matrix}\\frac{3 \\sqrt{2}}{2}\\\\\\frac{\\sqrt{2}}{2}\\end{matrix}\\right]"
          },
          "metadata": {}
        },
        {
          "output_type": "stream",
          "name": "stdout",
          "text": [
            "\n"
          ]
        },
        {
          "output_type": "display_data",
          "data": {
            "text/plain": [
              "<IPython.core.display.Latex object>"
            ],
            "text/latex": "\\text{Вектор после поворота на } \\frac{\\pi}{3} \\text{ радиан против часовой стрелки: }"
          },
          "metadata": {}
        },
        {
          "output_type": "display_data",
          "data": {
            "text/plain": [
              "<IPython.core.display.Latex object>"
            ],
            "text/latex": "\\left[\\begin{matrix}\\frac{1}{2} - \\sqrt{3}\\\\\\frac{\\sqrt{3}}{2} + 1\\end{matrix}\\right]"
          },
          "metadata": {}
        }
      ]
    },
    {
      "cell_type": "markdown",
      "metadata": {
        "id": "oqFUkn1SG85T"
      },
      "source": [
        "### Задание 2.\n",
        "Найти собственные числа и собственные векторы линейного оператора, заданного матрицей\n",
        "$$\n",
        "\\left(\\begin{matrix}\n",
        "-34&20&-5\\\\\n",
        "-40&56&-20\\\\\n",
        "20&-8&50\n",
        "\\end{matrix}\\right)\n",
        "$$\n",
        "Воспользоваться eigenvals и eigenvects, проверить выполнение равенства нулю характеристического многочлена $|A-\\lambda E|$ и условия $Ax=\\lambda x$.\n"
      ]
    },
    {
      "cell_type": "code",
      "source": [
        "# Задаем матрицу\n",
        "A = Matrix([[-34, 20, -5],\n",
        "            [-40, 56, -20],\n",
        "            [20, -8, 50]])\n",
        "\n",
        "# Определяем символ лямбда\n",
        "lambda_symbol = symbols('lambda')\n",
        "\n",
        "# Строим матрицу A - λE\n",
        "char_matrix = A - lambda_symbol * eye(3)\n",
        "\n",
        "# Находим характеристический многочлен и его корни (собственные числа)\n",
        "characteristic_poly = char_matrix.det()\n",
        "eigenvalues = A.eigenvals()\n",
        "\n",
        "# Выводим характеристический многочлен и собственные числа\n",
        "display(Latex(f'\\\\text{{Характеристический многочлен: }}{latex(characteristic_poly)}'))\n",
        "display(Latex(f'\\\\text{{Собственные числа: }}{latex(eigenvalues)}'))\n",
        "\n",
        "# Проверяем условие Ax = λx для каждого собственного числа\n",
        "for eigenvalue in eigenvalues.keys():\n",
        "    # Находим собственные векторы\n",
        "    eigenvectors = A.eigenvects(eigenvalue)\n",
        "\n",
        "    print()\n",
        "    display(Latex(f'\\\\text{{Проверка для собственного числа }}{latex(eigenvalue)}'))\n",
        "    display(Latex(f'\\\\text{{Характеристическое уравнение: }}{latex(characteristic_poly.subs(lambda_symbol, eigenvalue) == 0)}'))\n",
        "\n",
        "    for eigenvector_info in eigenvectors:\n",
        "        number, multiplicity, vectors = eigenvector_info[0], eigenvector_info[1], eigenvector_info[2]\n",
        "        if number == eigenvalue:\n",
        "          for vector in vectors:\n",
        "              vector = Matrix(vector)\n",
        "              # Проверяем условие Ax = λx\n",
        "              check = (A * vector == number * vector)\n",
        "\n",
        "              display(Latex(f'\\\\text{{Собственный вектор: }}{latex(vector.T)}'))\n",
        "              display(Latex(f'\\\\text{{Условие Ax = λx: }}{latex(check)}'))\n"
      ],
      "metadata": {
        "id": "d_hrb3duY9wa",
        "colab": {
          "base_uri": "https://localhost:8080/",
          "height": 361
        },
        "outputId": "5c0ef1db-adef-4c3f-f3f7-368cc3ab5ba0"
      },
      "execution_count": 75,
      "outputs": [
        {
          "output_type": "display_data",
          "data": {
            "text/plain": [
              "<IPython.core.display.Latex object>"
            ],
            "text/latex": "\\text{Характеристический многочлен: }- \\lambda^{3} + 72 \\lambda^{2} + 64 \\lambda - 53760"
          },
          "metadata": {}
        },
        {
          "output_type": "display_data",
          "data": {
            "text/plain": [
              "<IPython.core.display.Latex object>"
            ],
            "text/latex": "\\text{Собственные числа: }\\left\\{ -24 : 1, \\  40 : 1, \\  56 : 1\\right\\}"
          },
          "metadata": {}
        },
        {
          "output_type": "stream",
          "name": "stdout",
          "text": [
            "\n"
          ]
        },
        {
          "output_type": "display_data",
          "data": {
            "text/plain": [
              "<IPython.core.display.Latex object>"
            ],
            "text/latex": "\\text{Проверка для собственного числа }56"
          },
          "metadata": {}
        },
        {
          "output_type": "display_data",
          "data": {
            "text/plain": [
              "<IPython.core.display.Latex object>"
            ],
            "text/latex": "\\text{Характеристическое уравнение: }\\text{True}"
          },
          "metadata": {}
        },
        {
          "output_type": "display_data",
          "data": {
            "text/plain": [
              "<IPython.core.display.Latex object>"
            ],
            "text/latex": "\\text{Собственный вектор: }\\left[\\begin{matrix}- \\frac{1}{2} & -2 & 1\\end{matrix}\\right]"
          },
          "metadata": {}
        },
        {
          "output_type": "display_data",
          "data": {
            "text/plain": [
              "<IPython.core.display.Latex object>"
            ],
            "text/latex": "\\text{Условие Ax = λx: }\\text{True}"
          },
          "metadata": {}
        },
        {
          "output_type": "stream",
          "name": "stdout",
          "text": [
            "\n"
          ]
        },
        {
          "output_type": "display_data",
          "data": {
            "text/plain": [
              "<IPython.core.display.Latex object>"
            ],
            "text/latex": "\\text{Проверка для собственного числа }40"
          },
          "metadata": {}
        },
        {
          "output_type": "display_data",
          "data": {
            "text/plain": [
              "<IPython.core.display.Latex object>"
            ],
            "text/latex": "\\text{Характеристическое уравнение: }\\text{True}"
          },
          "metadata": {}
        },
        {
          "output_type": "display_data",
          "data": {
            "text/plain": [
              "<IPython.core.display.Latex object>"
            ],
            "text/latex": "\\text{Собственный вектор: }\\left[\\begin{matrix}\\frac{5}{6} & \\frac{10}{3} & 1\\end{matrix}\\right]"
          },
          "metadata": {}
        },
        {
          "output_type": "display_data",
          "data": {
            "text/plain": [
              "<IPython.core.display.Latex object>"
            ],
            "text/latex": "\\text{Условие Ax = λx: }\\text{True}"
          },
          "metadata": {}
        },
        {
          "output_type": "stream",
          "name": "stdout",
          "text": [
            "\n"
          ]
        },
        {
          "output_type": "display_data",
          "data": {
            "text/plain": [
              "<IPython.core.display.Latex object>"
            ],
            "text/latex": "\\text{Проверка для собственного числа }-24"
          },
          "metadata": {}
        },
        {
          "output_type": "display_data",
          "data": {
            "text/plain": [
              "<IPython.core.display.Latex object>"
            ],
            "text/latex": "\\text{Характеристическое уравнение: }\\text{True}"
          },
          "metadata": {}
        },
        {
          "output_type": "display_data",
          "data": {
            "text/plain": [
              "<IPython.core.display.Latex object>"
            ],
            "text/latex": "\\text{Собственный вектор: }\\left[\\begin{matrix}- \\frac{9}{2} & -2 & 1\\end{matrix}\\right]"
          },
          "metadata": {}
        },
        {
          "output_type": "display_data",
          "data": {
            "text/plain": [
              "<IPython.core.display.Latex object>"
            ],
            "text/latex": "\\text{Условие Ax = λx: }\\text{True}"
          },
          "metadata": {}
        }
      ]
    },
    {
      "cell_type": "markdown",
      "metadata": {
        "id": "4sQHp6cxG85U"
      },
      "source": [
        "### Задание 3.\n",
        "Построить матрицу оператора из задания 2 в базисе из векторов $(1,1,1)$, $(0,5,3)$ и $(1,6,0)$.Вывести на экран матрицу перехода к новому базису и матрицу оператора в новом базисе.\n"
      ]
    },
    {
      "cell_type": "code",
      "source": [
        "# Исходная матрица оператора\n",
        "A = Matrix([[-34, 20, -5],\n",
        "            [-40, 56, -20],\n",
        "            [20, -8, 50]])\n",
        "\n",
        "# Шаг 1: Составляем матрицу перехода P\n",
        "P = Matrix([[1, 0, 1],\n",
        "            [1, 5, 6],\n",
        "            [1, 3, 0]])\n",
        "\n",
        "# Шаг 2: Находим обратную матрицу к P\n",
        "P_inv = P.inv()\n",
        "\n",
        "# Шаг 3: Находим матрицу оператора в новом базисе\n",
        "A_new_basis = P_inv * A * P\n",
        "\n",
        "# Выводим результаты\n",
        "print(\"Матрица перехода к новому базису P:\")\n",
        "display(P)\n",
        "\n",
        "print(\"\\nМатрица оператора в новом базисе:\")\n",
        "display(A_new_basis)\n",
        "\n"
      ],
      "metadata": {
        "id": "4xj45fAfY-rj",
        "colab": {
          "base_uri": "https://localhost:8080/",
          "height": 193
        },
        "outputId": "6f9196c8-e131-486c-977e-6326d9ad2d83"
      },
      "execution_count": 84,
      "outputs": [
        {
          "output_type": "stream",
          "name": "stdout",
          "text": [
            "Матрица перехода к новому базису P:\n"
          ]
        },
        {
          "output_type": "display_data",
          "data": {
            "text/plain": [
              "Matrix([\n",
              "[1, 0, 1],\n",
              "[1, 5, 6],\n",
              "[1, 3, 0]])"
            ],
            "text/latex": "$\\displaystyle \\left[\\begin{matrix}1 & 0 & 1\\\\1 & 5 & 6\\\\1 & 3 & 0\\end{matrix}\\right]$"
          },
          "metadata": {}
        },
        {
          "output_type": "stream",
          "name": "stdout",
          "text": [
            "\n",
            "Матрица оператора в новом базисе:\n"
          ]
        },
        {
          "output_type": "display_data",
          "data": {
            "text/plain": [
              "Matrix([\n",
              "[ -1, 71,  26],\n",
              "[ 21, 13, -18],\n",
              "[-18, 14,  60]])"
            ],
            "text/latex": "$\\displaystyle \\left[\\begin{matrix}-1 & 71 & 26\\\\21 & 13 & -18\\\\-18 & 14 & 60\\end{matrix}\\right]$"
          },
          "metadata": {}
        }
      ]
    },
    {
      "cell_type": "markdown",
      "metadata": {
        "id": "q0SjtudQG85V"
      },
      "source": [
        "### Задание 4.\n",
        "Построить матрицу оператора из задания 2 в базисе из собственных векторов с помощью eigenvects и матрицы перехода. Сравнить диагональные элементы с собственными числами."
      ]
    },
    {
      "cell_type": "code",
      "source": [
        "# Исходная матрица оператора\n",
        "A = Matrix([[-34, 20, -5],\n",
        "            [-40, 56, -20],\n",
        "            [20, -8, 50]])\n",
        "\n",
        "# Находим собственные векторы и собственные числа\n",
        "eigen_info = A.eigenvects()\n",
        "eigenvalues = [info[0] for info in eigen_info]\n",
        "eigenvectors = [list(info[2][0]) for info in eigen_info]\n",
        "\n",
        "# Составляем матрицу перехода P\n",
        "P = Matrix(eigenvectors).transpose()\n",
        "\n",
        "# Находим обратную матрицу к P\n",
        "P_inv = P.inv()\n",
        "\n",
        "# Находим матрицу оператора в новом базисе\n",
        "A_new_basis = P_inv * A * P\n",
        "\n",
        "print(\"\\nМатрица оператора в новом базисе:\")\n",
        "display(A_new_basis)\n",
        "\n",
        "# Сравниваем диагональные элементы матрицы оператора в новом базисе с собственными числами\n",
        "diagonal_elements = A_new_basis.diagonal()\n",
        "print(\"\\nСравнение диагональных элементов с собственными числами:\")\n",
        "for i, (diagonal_element, eigenvalue) in enumerate(zip(diagonal_elements, eigenvalues)):\n",
        "    print(f\"Диагональный элемент #{i + 1}: {diagonal_element} (Собственное число: {eigenvalue})\")\n"
      ],
      "metadata": {
        "id": "tZv0-9uCY_wO",
        "colab": {
          "base_uri": "https://localhost:8080/",
          "height": 203
        },
        "outputId": "615c94a1-4b9a-4796-ff22-1115b645004e"
      },
      "execution_count": 95,
      "outputs": [
        {
          "output_type": "stream",
          "name": "stdout",
          "text": [
            "\n",
            "Матрица оператора в новом базисе:\n"
          ]
        },
        {
          "output_type": "display_data",
          "data": {
            "text/plain": [
              "Matrix([\n",
              "[-24,  0,  0],\n",
              "[  0, 40,  0],\n",
              "[  0,  0, 56]])"
            ],
            "text/latex": "$\\displaystyle \\left[\\begin{matrix}-24 & 0 & 0\\\\0 & 40 & 0\\\\0 & 0 & 56\\end{matrix}\\right]$"
          },
          "metadata": {}
        },
        {
          "output_type": "stream",
          "name": "stdout",
          "text": [
            "\n",
            "Сравнение диагональных элементов с собственными числами:\n",
            "Диагональный элемент #1: -24 (Собственное число: -24)\n",
            "Диагональный элемент #2: 40 (Собственное число: 40)\n",
            "Диагональный элемент #3: 56 (Собственное число: 56)\n"
          ]
        }
      ]
    },
    {
      "cell_type": "markdown",
      "source": [
        "### Задание 5*.\n",
        "Изобразить на графике вектор $a(-1, 1)$ и результаты его поворота\n",
        "\n",
        "1) на 30, 45, 90 градусов **по  часовой стрелке** (имена $v_1$, $v_2$, $v_3$)\n",
        "\n",
        "2) на $\\pi/6$ и $2\\pi/3$ радиан **против часовой стрелки** (имена $w_1$, $w_2$).\n",
        "\n",
        "**Указание:** описать функцию, возвращающую угол поворота на плоскости против часовой стрелки в радианах. Агрументы функции: угол поворота, тип меры угла (градусы или радианы), направление поворота (по или против часовой стрелки). С помощью этой функции  составить словарь с ключами - именами векторов, значениями - углами  поворота против часовой стрелки в радианах, использовать в цикле этот словарь для изображения векторов на графике.\n",
        "\n",
        "В легенде графика для каждого вектора указать его имя и координаты. Для корректного представления координат в легенде нужно отдельно выделить каждую координату."
      ],
      "metadata": {
        "id": "jKkKLf6xOi7N"
      }
    },
    {
      "cell_type": "code",
      "source": [
        "def rotate_vector(vector, angle, angle_type='radian', clockwise=True):\n",
        "    if angle_type == 'degree':\n",
        "        angle = np.radians(angle)\n",
        "\n",
        "    rotation_matrix = np.array([[np.cos(angle), -np.sin(angle)],\n",
        "                                [np.sin(angle), np.cos(angle)]])\n",
        "\n",
        "    if clockwise:\n",
        "        rotated_vector = np.dot(rotation_matrix, vector)\n",
        "    else:\n",
        "        rotated_vector = np.dot(np.linalg.inv(rotation_matrix), vector)\n",
        "\n",
        "    return rotated_vector\n",
        "\n",
        "def plot_vector(ax, vector, name, color):\n",
        "    ax.arrow(0, 0, vector[0], vector[1], head_width=0.2, head_length=0.2,\n",
        "             fc=color, ec=color, label=f\"{name}: ({round(vector[0], 3)}, {round(vector[1], 3)})\")\n",
        "\n",
        "# Вектор a\n",
        "a = np.array([-1, 1])\n",
        "\n",
        "# Углы поворота в градусах и радианах\n",
        "angles_degrees = [30, 45, 90]\n",
        "angles_radians = [np.pi/6, 2*np.pi/3]\n",
        "\n",
        "# Создаем словарь с именами векторов и углами поворота в радианах\n",
        "vectors_dict = {'v1': angles_degrees[0], 'v2': angles_degrees[1], 'v3': angles_degrees[2],\n",
        "                'w1': angles_radians[0], 'w2': angles_radians[1]}\n",
        "\n",
        "# Создаем график\n",
        "fig, ax = plt.subplots(figsize=(8, 8))\n",
        "\n",
        "# Изображаем вектор a\n",
        "plot_vector(ax, a, 'a', 'blue')\n",
        "\n",
        "# Изображаем повернутые векторы\n",
        "for name, angle in vectors_dict.items():\n",
        "    rotated_vector = rotate_vector(a, angle, angle_type='degree' if name[0] == 'v' else 'radian', clockwise=name[0] == 'v')\n",
        "    plot_vector(ax, rotated_vector, name, 'orange' if name[0] == 'v' else 'green')\n",
        "\n",
        "# Настраиваем отображение\n",
        "ax.set_xlim(-3, 3)\n",
        "ax.set_ylim(-3, 3)\n",
        "ax.axhline(0, color='black',linewidth=0.5)\n",
        "ax.axvline(0, color='black',linewidth=0.5)\n",
        "ax.grid(color = 'gray', linestyle = '--', linewidth = 0.5)\n",
        "\n",
        "# Добавляем легенду\n",
        "ax.legend()\n",
        "\n",
        "# Отображаем график\n",
        "plt.show()\n"
      ],
      "metadata": {
        "id": "4eOGGJ_5ZAmc",
        "colab": {
          "base_uri": "https://localhost:8080/",
          "height": 682
        },
        "outputId": "f0221a59-9fbf-453d-e5a1-85a6e1cb6896"
      },
      "execution_count": 103,
      "outputs": [
        {
          "output_type": "display_data",
          "data": {
            "text/plain": [
              "<Figure size 800x800 with 1 Axes>"
            ],
            "image/png": "[encoded data removed]"
          },
          "metadata": {}
        }
      ]
    },
    {
      "cell_type": "markdown",
      "source": [
        "# Задание 6*\n",
        "Считать из файла \"task_13_6.xlsx\" координаты векторов на плоскости и углы поворота (крайний левый столбец в файле содержит имена векторов, следующие два - координаты векторов, затем угол поворота и последний столбец содержит текст \"rad\" или \"deg\", т.е. угол в радианах или градусах).\n",
        "\n",
        "Для каждого вектора найти координаты вектора, полученного в результате поворота, затем записать в файл  \"task_13_6_ans.xlsx\" имена векторов  из файла \"task_13_6.xlsx\" и координаты  векторов, полученных в результате поворота. В файле  \"task_13_6_ans.xlsx\" подписи строк - имена векторов, подписи столбцов - имена координат, т.е. \"x\" и \"y\".\n",
        "\n",
        "Изобразить на графике вектор [1, 2] из Задания 1 и результаты его поворота (по Заданию 1). В легенде графика для каждого вектора, кроме [1, 2] указать матрицу поворота, а для [1, 2] единичную матрицу."
      ],
      "metadata": {
        "id": "eXSlGWqS9axu"
      }
    },
    {
      "cell_type": "code",
      "source": [
        "def rotation_matrix(angle, angle_type='radian'):\n",
        "    \"\"\"\n",
        "    Функция для создания матрицы линейного оператора поворота.\n",
        "\n",
        "    Параметры:\n",
        "    - angle: угол поворота\n",
        "    - angle_type: тип меры угла ('degree' или 'radian')\n",
        "    - clockwise: направление поворота (по или против часовой стрелки)\n",
        "\n",
        "    Возвращает матрицу линейного оператора поворота.\n",
        "    \"\"\"\n",
        "    if angle_type == 'degree':\n",
        "        angle = Rad(angle)  # Преобразование градусов в радианы\n",
        "\n",
        "    rotation_matrix = Matrix([\n",
        "        [Cos(angle), -Sin(angle)],\n",
        "        [Sin(angle), Cos(angle)]\n",
        "    ])\n",
        "\n",
        "    return rotation_matrix\n",
        "\n",
        "\n",
        "# Чтение данных из файла\n",
        "df = pd.read_excel(\"task_13_6.xlsx\", header=None)  # Указываем header=None, чтобы не использовать первую строку как заголовок\n",
        "\n",
        "# Получение угла поворота и типа угла\n",
        "angles = df.iloc[:, 3].tolist()  # Используем второй столбец для углов поворота\n",
        "angle_types = df.iloc[:, 4].tolist()  # Используем третий столбец для типов углов\n",
        "\n",
        "# Получение координат векторов\n",
        "vectors_pd = df.iloc[:, 1:3].values[1:]  # Используем 2-й и 3-й столбцы для координат векторов\n",
        "vectors = []\n",
        "for vector in vectors_pd:\n",
        "    vectors.append(Matrix([vector[0], vector[1]]))\n",
        "\n",
        "# Считаем результаты поворотов\n",
        "results = []\n",
        "for i, angle in enumerate(angles):\n",
        "    angle_type = angle_types[i]\n",
        "    rotation_matrix_i = rotation_matrix(angle, angle_type=angle_type)\n",
        "    rotated_vector_i = np.dot(rotation_matrix_i, vectors[i-1])\n",
        "    results.append(rotated_vector_i)\n",
        "\n",
        "# Создаем новый DataFrame с результатами\n",
        "# results_df = pd.DataFrame(results, columns=[\"x\", \"y\"])\n",
        "\n",
        "# Добавляем имена векторов\n",
        "# results_df[\"vector_name\"] = df.iloc[:, 0]  # Используем первый столбец для имен векторов\n",
        "\n",
        "# Сохраняем результат в новый файл\n",
        "# results_df.to_excel(\"task_13_6_ans.xlsx\", index=False)\n"
      ],
      "metadata": {
        "id": "r49uih_5YtiA"
      },
      "execution_count": 145,
      "outputs": []
    },
    {
      "cell_type": "markdown",
      "metadata": {
        "id": "DeW-9Q28G85W"
      },
      "source": [
        "###  Индивидуальное задание\n",
        "Найти собственные числа и собственные векторы линейного оператора. Построить матрицу оператора в заданном базисе. Построить матрицу оператора в базисе из собственных векторов.\n",
        "\n",
        "Вывести на экран матрицу оператора А, матрицу перехода к базису ($e_1$, $e_2$, $e_3$), матрицу оператора в базисе ($e_1$, $e_2$, $e_3$), матрицу перехода к базису из собственных векторов, матрицу оператора в базисе из собственных векторов.\n",
        "\n",
        "Даны матрица оператора A, векторы базиса $e_1$, $e_2$, $e_3$."
      ]
    },
    {
      "cell_type": "markdown",
      "source": [
        "![image.png](data:image/png;base64,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)"
      ],
      "metadata": {
        "id": "pp-Tjpnn4y3v"
      }
    },
    {
      "cell_type": "code",
      "source": [
        "# Даны матрица оператора A и базисные векторы\n",
        "A = Matrix([[-58, -52, 64],\n",
        "            [74, 68, -62],\n",
        "            [-2, -2, 11]])\n",
        "e1 = Matrix([-3, 2, 4])\n",
        "e2 = Matrix([-2, 2, 4])\n",
        "e3 = Matrix([4, 4, 2])\n",
        "\n",
        "# Находим собственные числа\n",
        "eigenvalues = A.eigenvals()\n",
        "display(Latex(f'\\\\text{{Собственные числа: }}{latex(eigenvalues)}'))\n",
        "\n",
        "# Находим собственные векторы\n",
        "eigenvectors = A.eigenvects()\n",
        "print(\"\\n\")\n",
        "for eigenvalue, multiplicity, vectors in eigenvectors:\n",
        "    display(Latex(f'\\\\text{{Собственное число: }}{latex(eigenvalue)}'))\n",
        "    for vector in vectors:\n",
        "        display(Latex(f'\\\\text{{Собственный вектор:}}{latex(vector.T)}'))\n",
        "\n",
        "# Построим матрицу перехода к базису (e1, e2, e3)\n",
        "P_basis = Matrix.hstack(e1, e2, e3)\n",
        "\n",
        "# Построим матрицу оператора в базисе (e1, e2, e3)\n",
        "A_basis = P_basis.inv() * A * P_basis\n",
        "\n",
        "# Вывод результатов\n",
        "print('\\n')\n",
        "display(Latex(f'\\\\text{{Матрица оператора A:}}{latex(A)}'))\n",
        "\n",
        "print('\\n')\n",
        "display(Latex(f'\\\\text{{Матрица перехода к базису (e1, e2, e3):}}{latex(P_basis)}'))\n",
        "\n",
        "print('\\n')\n",
        "display(Latex(f'\\\\text{{Матрица оператора в базисе (e1, e2, e3):}}{latex(A_basis)}'))"
      ],
      "metadata": {
        "id": "TzC0pyPzZCUq",
        "colab": {
          "base_uri": "https://localhost:8080/",
          "height": 490
        },
        "outputId": "79ab5f06-e438-4651-8daa-62d99671d1e1"
      },
      "execution_count": 149,
      "outputs": [
        {
          "output_type": "display_data",
          "data": {
            "text/plain": [
              "<IPython.core.display.Latex object>"
            ],
            "text/latex": "\\text{Собственные числа: }\\left\\{ -6 : 1, \\  12 : 1, \\  15 : 1\\right\\}"
          },
          "metadata": {}
        },
        {
          "output_type": "stream",
          "name": "stdout",
          "text": [
            "\n",
            "\n"
          ]
        },
        {
          "output_type": "display_data",
          "data": {
            "text/plain": [
              "<IPython.core.display.Latex object>"
            ],
            "text/latex": "\\text{Собственное число: }-6"
          },
          "metadata": {}
        },
        {
          "output_type": "display_data",
          "data": {
            "text/plain": [
              "<IPython.core.display.Latex object>"
            ],
            "text/latex": "\\text{Собственный вектор:}\\left[\\begin{matrix}-1 & 1 & 0\\end{matrix}\\right]"
          },
          "metadata": {}
        },
        {
          "output_type": "display_data",
          "data": {
            "text/plain": [
              "<IPython.core.display.Latex object>"
            ],
            "text/latex": "\\text{Собственное число: }12"
          },
          "metadata": {}
        },
        {
          "output_type": "display_data",
          "data": {
            "text/plain": [
              "<IPython.core.display.Latex object>"
            ],
            "text/latex": "\\text{Собственный вектор:}\\left[\\begin{matrix}5 & - \\frac{11}{2} & 1\\end{matrix}\\right]"
          },
          "metadata": {}
        },
        {
          "output_type": "display_data",
          "data": {
            "text/plain": [
              "<IPython.core.display.Latex object>"
            ],
            "text/latex": "\\text{Собственное число: }15"
          },
          "metadata": {}
        },
        {
          "output_type": "display_data",
          "data": {
            "text/plain": [
              "<IPython.core.display.Latex object>"
            ],
            "text/latex": "\\text{Собственный вектор:}\\left[\\begin{matrix}8 & -10 & 1\\end{matrix}\\right]"
          },
          "metadata": {}
        },
        {
          "output_type": "stream",
          "name": "stdout",
          "text": [
            "\n",
            "\n"
          ]
        },
        {
          "output_type": "display_data",
          "data": {
            "text/plain": [
              "<IPython.core.display.Latex object>"
            ],
            "text/latex": "\\text{Матрица оператора A:}\\left[\\begin{matrix}-58 & -52 & 64\\\\74 & 68 & -62\\\\-2 & -2 & 11\\end{matrix}\\right]"
          },
          "metadata": {}
        },
        {
          "output_type": "stream",
          "name": "stdout",
          "text": [
            "\n",
            "\n"
          ]
        },
        {
          "output_type": "display_data",
          "data": {
            "text/plain": [
              "<IPython.core.display.Latex object>"
            ],
            "text/latex": "\\text{Матрица перехода к базису (e1, e2, e3):}\\left[\\begin{matrix}-3 & -2 & 4\\\\2 & 2 & 4\\\\4 & 4 & 2\\end{matrix}\\right]"
          },
          "metadata": {}
        },
        {
          "output_type": "stream",
          "name": "stdout",
          "text": [
            "\n",
            "\n"
          ]
        },
        {
          "output_type": "display_data",
          "data": {
            "text/plain": [
              "<IPython.core.display.Latex object>"
            ],
            "text/latex": "\\text{Матрица оператора в базисе (e1, e2, e3):}\\left[\\begin{matrix}-944 & -760 & 1044\\\\1015 & 818 & -1116\\\\-119 & -94 & 147\\end{matrix}\\right]"
          },
          "metadata": {}
        }
      ]
    }
  ]
}