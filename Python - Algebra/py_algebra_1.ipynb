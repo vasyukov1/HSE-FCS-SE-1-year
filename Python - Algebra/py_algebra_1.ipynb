{
  "nbformat": 4,
  "nbformat_minor": 0,
  "metadata": {
    "kernelspec": {
      "display_name": "Python 3",
      "language": "python",
      "name": "python3"
    },
    "language_info": {
      "codemirror_mode": {
        "name": "ipython",
        "version": 3
      },
      "file_extension": ".py",
      "mimetype": "text/x-python",
      "name": "python",
      "nbconvert_exporter": "python",
      "pygments_lexer": "ipython3",
      "version": "3.7.3"
    },
    "colab": {
      "provenance": []
    }
  },
  "cells": [
    {
      "cell_type": "markdown",
      "metadata": {
        "id": "NWxN--Ciycml"
      },
      "source": [
        "# Практическое занятие 1\n",
        "# Компьютерный практикум по алгебре на Python"
      ]
    },
    {
      "cell_type": "markdown",
      "metadata": {
        "id": "JITt7G7iycmp"
      },
      "source": [
        "https://docs.sympy.org/latest/tutorial/intro.html"
      ]
    },
    {
      "cell_type": "code",
      "metadata": {
        "id": "VKvRy_UGycmq"
      },
      "source": [
        "from sympy import sqrt, sin, cos, tan, atan, pi, E, Symbol, symbols, Matrix\n",
        "from sympy import expand, simplify, factor, collect, zeros, ones, eye, diag"
      ],
      "execution_count": 12,
      "outputs": []
    },
    {
      "cell_type": "markdown",
      "metadata": {
        "id": "x3mNO8qJycmr"
      },
      "source": [
        "## Действия с числами, числовые выражения\n",
        "Об основных типах данных Python 3.10 читайте здесь:\n",
        "https://docs.python.org/3/reference/datamodel.html#index-19\n",
        "\n",
        "Сейчас нам понадобятся типы:\n",
        "\n",
        "int - целое число (насколько большим оно может быть, зависит только от объема доступной памяти)\n",
        "\n",
        "float - вещественное число (double precision floating point numbers)\n",
        "\n",
        "### Задание 1.\n",
        "Вычислите значение выражения\n",
        "$$\n",
        "3\\left(2^{4}+6\\sin\\frac{\\pi}{4}-5\\sqrt{2}\\right)\n",
        "$$"
      ]
    },
    {
      "cell_type": "code",
      "source": [
        "res1 = 3 * (2 ** 4 + 6 * sin(pi / 4) - 5 * sqrt(2))\n",
        "display(res1.evalf())"
      ],
      "metadata": {
        "id": "B2Mnu-x8j3P4",
        "colab": {
          "base_uri": "https://localhost:8080/",
          "height": 37
        },
        "outputId": "bf5e5846-128f-408d-a48f-6bdcbbf4f5a6"
      },
      "execution_count": 13,
      "outputs": [
        {
          "output_type": "display_data",
          "data": {
            "text/plain": [
              "39.5147186257614"
            ],
            "text/latex": "$\\displaystyle 39.5147186257614$"
          },
          "metadata": {}
        }
      ]
    },
    {
      "cell_type": "markdown",
      "metadata": {
        "id": "G3b9I6dNycmr"
      },
      "source": [
        "## Символы, символьные выражения\n",
        "Для аналитических преобразований в sympy используется класс Symbol\n",
        "\n",
        "https://docs.sympy.org/latest/modules/core.html?highlight=symbol#module-sympy.core.symbol\n",
        "\n",
        "В этом классе есть метод Symbol для создания одного символа.\n",
        "###  Задание 2.\n",
        "Создайте символ $t$ и составьте выражение $\\frac{\\sqrt{t}+t^3}{t-1}$"
      ]
    },
    {
      "cell_type": "code",
      "source": [
        "t = Symbol('t')\n",
        "display((sqrt(t) + t ** 3) / (t - 1))"
      ],
      "metadata": {
        "id": "mQW8Ur0Bj5jN",
        "colab": {
          "base_uri": "https://localhost:8080/",
          "height": 57
        },
        "outputId": "2e282f03-f82a-4056-8585-b6e15a8a0522"
      },
      "execution_count": null,
      "outputs": [
        {
          "output_type": "display_data",
          "data": {
            "text/plain": [
              "(sqrt(t) + t**3)/(t - 1)"
            ],
            "text/latex": "$\\displaystyle \\frac{\\sqrt{t} + t^{3}}{t - 1}$"
          },
          "metadata": {}
        }
      ]
    },
    {
      "cell_type": "markdown",
      "metadata": {
        "id": "qMlP2YM5ycms"
      },
      "source": [
        "## Операции с символьными выражениями: simplify, expand,factor,collect\n",
        "#### simplify\n",
        "используется для упрощения выражения\n",
        "#### expand\n",
        "используется для раскрытия скобок\n",
        "#### factor\n",
        "для разложения на множители\n",
        "#### collect\n",
        "для группировки по степеням переменной\n",
        "###  Задание 3.\n",
        "Упростите выражение\n",
        "$$\n",
        "\\frac{(u+v)^2-4uv}{u-v}+2v-1\n",
        "$$"
      ]
    },
    {
      "cell_type": "code",
      "source": [
        "u, v = symbols('u v')\n",
        "res3 = (((u + v) ** 2 - 4 * u * v) / (u - v) + 2 * v - 1)\n",
        "display(simplify(res3))"
      ],
      "metadata": {
        "id": "cF45EuOyj7RH",
        "colab": {
          "base_uri": "https://localhost:8080/",
          "height": 39
        },
        "outputId": "e4e2fa83-c8c5-494e-ec5f-78de0e17bf54"
      },
      "execution_count": 14,
      "outputs": [
        {
          "output_type": "display_data",
          "data": {
            "text/plain": [
              "u + v - 1"
            ],
            "text/latex": "$\\displaystyle u + v - 1$"
          },
          "metadata": {}
        }
      ]
    },
    {
      "cell_type": "markdown",
      "metadata": {
        "id": "gasezWy-ycmt"
      },
      "source": [
        "###  Задание 4.\n",
        "Раскройте скобки в выражении $(a_1+a_2+a_3)^3-(a_1-a_2)^2$"
      ]
    },
    {
      "cell_type": "code",
      "source": [
        "A = symbols('a:4')\n",
        "\n",
        "expression = (A[1] + A[2] + A[3])**3 - (A[1] - A[2])**2\n",
        "display(expand(expression))"
      ],
      "metadata": {
        "id": "AzNkVzdUj8c3",
        "colab": {
          "base_uri": "https://localhost:8080/",
          "height": 39
        },
        "outputId": "5ef4cdca-c33e-4f06-bcef-501662d39537"
      },
      "execution_count": 15,
      "outputs": [
        {
          "output_type": "display_data",
          "data": {
            "text/plain": [
              "a1**3 + 3*a1**2*a2 + 3*a1**2*a3 - a1**2 + 3*a1*a2**2 + 6*a1*a2*a3 + 2*a1*a2 + 3*a1*a3**2 + a2**3 + 3*a2**2*a3 - a2**2 + 3*a2*a3**2 + a3**3"
            ],
            "text/latex": "$\\displaystyle a_{1}^{3} + 3 a_{1}^{2} a_{2} + 3 a_{1}^{2} a_{3} - a_{1}^{2} + 3 a_{1} a_{2}^{2} + 6 a_{1} a_{2} a_{3} + 2 a_{1} a_{2} + 3 a_{1} a_{3}^{2} + a_{2}^{3} + 3 a_{2}^{2} a_{3} - a_{2}^{2} + 3 a_{2} a_{3}^{2} + a_{3}^{3}$"
          },
          "metadata": {}
        }
      ]
    },
    {
      "cell_type": "markdown",
      "metadata": {
        "id": "d9_rZkk7ycmt"
      },
      "source": [
        "###  Задание 5.\n",
        "Разложите на множители\n",
        "$2u^4+3u^3v-2u^2v^2-2u^2v-3uv^2+2v^3$"
      ]
    },
    {
      "cell_type": "code",
      "source": [
        "expr = 2 * u**4 + 3 * u**3 * v - 2 * u**2 * v**2 - 2 * u**2 * v - \\\n",
        "        3 * u * v**2 + 2 * v**3\n",
        "display(factor(expr))"
      ],
      "metadata": {
        "id": "SN2UoNe0j9tn",
        "colab": {
          "base_uri": "https://localhost:8080/",
          "height": 39
        },
        "outputId": "68507ac9-cc94-47d5-ab2d-901817bd5828"
      },
      "execution_count": 16,
      "outputs": [
        {
          "output_type": "display_data",
          "data": {
            "text/plain": [
              "(u + 2*v)*(2*u - v)*(u**2 - v)"
            ],
            "text/latex": "$\\displaystyle \\left(u + 2 v\\right) \\left(2 u - v\\right) \\left(u^{2} - v\\right)$"
          },
          "metadata": {}
        }
      ]
    },
    {
      "cell_type": "markdown",
      "metadata": {
        "id": "Cnm5vka3ycmu"
      },
      "source": [
        "###  Задание 6.\n",
        "Сгруппируйте выражение из Задания 5 по степеням $u$."
      ]
    },
    {
      "cell_type": "code",
      "source": [
        "expr = 2 * u**4 + 3 * u**3 * v - 2 * u**2 * v**2 - 2 * u**2 * v \\\n",
        "      - 3 * u * v**2 + 2 * v**3\n",
        "display(collect(expr, u))"
      ],
      "metadata": {
        "id": "lIdg0LGAj_Dn",
        "colab": {
          "base_uri": "https://localhost:8080/",
          "height": 39
        },
        "outputId": "c4c9fa1c-fdf7-4eb5-9242-23d721fa8c78"
      },
      "execution_count": 17,
      "outputs": [
        {
          "output_type": "display_data",
          "data": {
            "text/plain": [
              "2*u**4 + 3*u**3*v + u**2*(-2*v**2 - 2*v) - 3*u*v**2 + 2*v**3"
            ],
            "text/latex": "$\\displaystyle 2 u^{4} + 3 u^{3} v + u^{2} \\left(- 2 v^{2} - 2 v\\right) - 3 u v^{2} + 2 v^{3}$"
          },
          "metadata": {}
        }
      ]
    },
    {
      "cell_type": "markdown",
      "metadata": {
        "id": "nvztFMwyycmv"
      },
      "source": [
        "## Списки и кортежи\n",
        "Нам понадобятся два итерируемых типа\n",
        "\n",
        "#### списки list\n",
        "изменяемый тип\n",
        "#### кортежи tuple\n",
        "неизменяемый тип\n",
        "\n",
        "### Задание 7\n",
        "Создайте список $Powers$ из трех кортежей, состоящих из символов $x$, $y$ и $z$ в степени, равной номеру кортежа в списке."
      ]
    },
    {
      "cell_type": "code",
      "source": [
        "Powers = [(), (), ()]\n",
        "x = Symbol('x')\n",
        "y = Symbol('y')\n",
        "z = Symbol('z')\n",
        "\n",
        "for i in range(3):\n",
        "  tup = (x ** (i), y ** (i), z ** (i))\n",
        "  Powers[i] = (tup)\n",
        "\n",
        "display(*Powers)\n"
      ],
      "metadata": {
        "id": "eB3M6rKYkAMu",
        "colab": {
          "base_uri": "https://localhost:8080/",
          "height": 71
        },
        "outputId": "260fa1f8-aa86-4122-b5a8-f1b1d79d6b3e"
      },
      "execution_count": 20,
      "outputs": [
        {
          "output_type": "display_data",
          "data": {
            "text/plain": [
              "(1, 1, 1)"
            ]
          },
          "metadata": {}
        },
        {
          "output_type": "display_data",
          "data": {
            "text/plain": [
              "(x, y, z)"
            ]
          },
          "metadata": {}
        },
        {
          "output_type": "display_data",
          "data": {
            "text/plain": [
              "(x**2, y**2, z**2)"
            ]
          },
          "metadata": {}
        }
      ]
    },
    {
      "cell_type": "markdown",
      "metadata": {
        "id": "sE10eEvqycmv"
      },
      "source": [
        "### Задание 8\n",
        "В списке Powers Задания 7 заменить $(x^2,y^2,z^2)$ на (0,0,0)."
      ]
    },
    {
      "cell_type": "code",
      "source": [
        "Powers[2] = (0, 0, 0)\n",
        "display(*Powers)"
      ],
      "metadata": {
        "id": "MWU-uGoKkBl4",
        "colab": {
          "base_uri": "https://localhost:8080/",
          "height": 71
        },
        "outputId": "051774f9-8591-4b61-c6e1-1115eb25c206"
      },
      "execution_count": 21,
      "outputs": [
        {
          "output_type": "display_data",
          "data": {
            "text/plain": [
              "(1, 1, 1)"
            ]
          },
          "metadata": {}
        },
        {
          "output_type": "display_data",
          "data": {
            "text/plain": [
              "(x, y, z)"
            ]
          },
          "metadata": {}
        },
        {
          "output_type": "display_data",
          "data": {
            "text/plain": [
              "(0, 0, 0)"
            ]
          },
          "metadata": {}
        }
      ]
    },
    {
      "cell_type": "markdown",
      "metadata": {
        "id": "PmrUn7iVycmw"
      },
      "source": [
        "## Матрицы\n",
        "### Задание 9\n",
        "Составить матрицу  $A_{3\\times 4}$ из чисел вида $3k+1$, $k=1,2,...$:\n",
        "$$\n",
        "A=\n",
        "\\left(\n",
        "\\begin{matrix}\n",
        "4& 7& 10& 13\\\\\n",
        "16& 19& 22& 25\\\\\n",
        "28& 31& 34& 37\n",
        "\\end{matrix}\n",
        "\\right)\n",
        "$$"
      ]
    },
    {
      "cell_type": "code",
      "source": [
        "values = [[0] * 4 for i in range(3)]\n",
        "\n",
        "k = 0\n",
        "for i in range(3):\n",
        "  for j in range(4):\n",
        "    k += 1\n",
        "    values[i][j] = 3 * k + 1\n",
        "\n",
        "A = Matrix(values)\n",
        "display(A)"
      ],
      "metadata": {
        "id": "czeVDc4bkCva",
        "colab": {
          "base_uri": "https://localhost:8080/",
          "height": 78
        },
        "outputId": "e0acb65f-0700-44ca-b324-da491818c65c"
      },
      "execution_count": 22,
      "outputs": [
        {
          "output_type": "display_data",
          "data": {
            "text/plain": [
              "Matrix([\n",
              "[ 4,  7, 10, 13],\n",
              "[16, 19, 22, 25],\n",
              "[28, 31, 34, 37]])"
            ],
            "text/latex": "$\\displaystyle \\left[\\begin{matrix}4 & 7 & 10 & 13\\\\16 & 19 & 22 & 25\\\\28 & 31 & 34 & 37\\end{matrix}\\right]$"
          },
          "metadata": {}
        }
      ]
    },
    {
      "cell_type": "markdown",
      "metadata": {
        "id": "lU6I_nCJycmw"
      },
      "source": [
        "### Задание 10\n",
        "В матрице А задания 9 удалить вторую строку и вставить третий столбец между первым и вторым (сам третий столбец не удалять!), должно получиться\n",
        "$$\n",
        "A=\n",
        "\\left(\n",
        "\\begin{matrix}\n",
        "4& 10& 7& 10& 13\\\\\n",
        "28& 34& 31& 34& 37\n",
        "\\end{matrix}\n",
        "\\right)\n",
        "$$"
      ]
    },
    {
      "cell_type": "code",
      "source": [
        "A.row_del(1)\n",
        "A = A.col_insert(1, Matrix([10, 34]))\n",
        "\n",
        "display(A)"
      ],
      "metadata": {
        "id": "544NU03jkHOc",
        "colab": {
          "base_uri": "https://localhost:8080/",
          "height": 58
        },
        "outputId": "501edc39-1049-417a-b2e6-d1b15ff001cb"
      },
      "execution_count": 23,
      "outputs": [
        {
          "output_type": "display_data",
          "data": {
            "text/plain": [
              "Matrix([\n",
              "[ 4, 10,  7, 10, 13],\n",
              "[28, 34, 31, 34, 37]])"
            ],
            "text/latex": "$\\displaystyle \\left[\\begin{matrix}4 & 10 & 7 & 10 & 13\\\\28 & 34 & 31 & 34 & 37\\end{matrix}\\right]$"
          },
          "metadata": {}
        }
      ]
    },
    {
      "cell_type": "markdown",
      "metadata": {
        "id": "bSKQcn87ycmx"
      },
      "source": [
        "### Индивидуальное задание\n",
        "Составить матрицу левой части СЛАУ, вектор-столбец переменных, вектор-столбец правой части, вектор-столбец $X_0$. Показать, что $X_0$ является решением данной СЛАУ."
      ]
    },
    {
      "cell_type": "code",
      "source": [
        "A = Matrix([\n",
        "    [0, 0, 2, -6],\n",
        "    [3, 5, 1, 0],\n",
        "    [2, 0, 4, -7]])\n",
        "\n",
        "X = Matrix(symbols('x:4'))\n",
        "B = Matrix([-22, -21, -45])\n",
        "X0 = Matrix([-8, 1, -2, 3])\n",
        "\n",
        "print(\"Матрица левой части:\")\n",
        "display(A)\n",
        "\n",
        "print(\"\\nВектор-столбец переменных:\")\n",
        "display(X)\n",
        "\n",
        "print(\"\\nВектор-столбец правой части:\")\n",
        "display(B)\n",
        "\n",
        "print(\"\\nВектор-столбец X0: \")\n",
        "display(X0)\n",
        "\n",
        "print(\"\\nПосле перемножения левой части СЛАУ и вектор-столбца X0 получаем, \\\n",
        "что \", end=\"\")\n",
        "\n",
        "if A * X0 == B:\n",
        "  print(\"X0 является решением СЛАУ.\")\n",
        "else:\n",
        "  print(\"X0 не является решением СЛАУ.\")"
      ],
      "metadata": {
        "id": "HBmdwIp7kLmJ",
        "colab": {
          "base_uri": "https://localhost:8080/",
          "height": 462
        },
        "outputId": "687e43a8-0d7e-420a-c5f4-c1134e5c29b6"
      },
      "execution_count": 25,
      "outputs": [
        {
          "output_type": "stream",
          "name": "stdout",
          "text": [
            "Матрица левой части:\n"
          ]
        },
        {
          "output_type": "display_data",
          "data": {
            "text/plain": [
              "Matrix([\n",
              "[0, 0, 2, -6],\n",
              "[3, 5, 1,  0],\n",
              "[2, 0, 4, -7]])"
            ],
            "text/latex": "$\\displaystyle \\left[\\begin{matrix}0 & 0 & 2 & -6\\\\3 & 5 & 1 & 0\\\\2 & 0 & 4 & -7\\end{matrix}\\right]$"
          },
          "metadata": {}
        },
        {
          "output_type": "stream",
          "name": "stdout",
          "text": [
            "\n",
            "Вектор-столбец переменных:\n"
          ]
        },
        {
          "output_type": "display_data",
          "data": {
            "text/plain": [
              "Matrix([\n",
              "[x0],\n",
              "[x1],\n",
              "[x2],\n",
              "[x3]])"
            ],
            "text/latex": "$\\displaystyle \\left[\\begin{matrix}x_{0}\\\\x_{1}\\\\x_{2}\\\\x_{3}\\end{matrix}\\right]$"
          },
          "metadata": {}
        },
        {
          "output_type": "stream",
          "name": "stdout",
          "text": [
            "\n",
            "Вектор-столбец правой части:\n"
          ]
        },
        {
          "output_type": "display_data",
          "data": {
            "text/plain": [
              "Matrix([\n",
              "[-22],\n",
              "[-21],\n",
              "[-45]])"
            ],
            "text/latex": "$\\displaystyle \\left[\\begin{matrix}-22\\\\-21\\\\-45\\end{matrix}\\right]$"
          },
          "metadata": {}
        },
        {
          "output_type": "stream",
          "name": "stdout",
          "text": [
            "\n",
            "Вектор-столбец X0: \n"
          ]
        },
        {
          "output_type": "display_data",
          "data": {
            "text/plain": [
              "Matrix([\n",
              "[-8],\n",
              "[ 1],\n",
              "[-2],\n",
              "[ 3]])"
            ],
            "text/latex": "$\\displaystyle \\left[\\begin{matrix}-8\\\\1\\\\-2\\\\3\\end{matrix}\\right]$"
          },
          "metadata": {}
        },
        {
          "output_type": "stream",
          "name": "stdout",
          "text": [
            "\n",
            "После перемножения левой части СЛАУ и вектор-столбца X0 получаем, что X0 является решением СЛАУ.\n"
          ]
        }
      ]
    }
  ]
}