{
  "cells": [
    {
      "cell_type": "markdown",
      "metadata": {
        "id": "V1qo8kCJaU1a"
      },
      "source": [
        "# Практическое занятие 2\n",
        "# Компьютерный практикум по алгебре на Python"
      ]
    },
    {
      "cell_type": "markdown",
      "metadata": {
        "id": "nrNldgTvaU1k"
      },
      "source": [
        "## Матрицы. Подстановки, действия над строками, столбцами и элементами. Формулы Крамера для решения СЛАУ.\n",
        "\n",
        "https://docs.sympy.org/latest/tutorial/matrices.html\n",
        "\n",
        "С помощью конструктора класса Matrix можно создавать матрицы, элементами которых служат не только числа или числовые выражения, но и символы Symbol, играющие роль математических переменных. Переменные могут принимать какие-то значения, эти значения можно подставлять в матрицы (и не только в них!) с помощью метода subs."
      ]
    },
    {
      "cell_type": "code",
      "execution_count": 1,
      "metadata": {
        "id": "DW7G-QrZaU1l"
      },
      "outputs": [],
      "source": [
        "from sympy import Symbol, symbols, Matrix, pi, simplify"
      ]
    },
    {
      "cell_type": "markdown",
      "metadata": {
        "id": "pebe8gBxaU1n"
      },
      "source": [
        "### Задание 1\n",
        "Решить по формулам Крамера СЛАУ\n",
        "\\begin{align*}\n",
        "\\left\\{\\begin{matrix} 2 x_{1} +  x_{3}  = -8\n",
        "\\\\- 4 x_{1} + 5 x_{2}  = 20\n",
        "\\\\- 6 x_{2} + x_{3}  = 2\n",
        "\\end{matrix}\\right.\n",
        " \\end{align*}\n",
        "Проверить правильность найденного решения подстановкой (в математическом смысле! subs не нужно использовать).\n",
        "\n",
        "Под проверкой правильности понимается проверка выполнения равенства $AX=b$ или $AX-b=\\bar 0$."
      ]
    },
    {
      "cell_type": "code",
      "execution_count": 2,
      "metadata": {
        "colab": {
          "base_uri": "https://localhost:8080/",
          "height": 114
        },
        "id": "0sM4zx8bc_2W",
        "outputId": "1985e161-5057-4f86-a7d1-3c0d7f50d3fa"
      },
      "outputs": [
        {
          "output_type": "stream",
          "name": "stdout",
          "text": [
            "Answer: \n"
          ]
        },
        {
          "output_type": "display_data",
          "data": {
            "text/plain": [
              "Matrix([[-5, 0, 2]])"
            ],
            "text/latex": "$\\displaystyle \\left[\\begin{matrix}-5 & 0 & 2\\end{matrix}\\right]$"
          },
          "metadata": {}
        },
        {
          "output_type": "stream",
          "name": "stdout",
          "text": [
            "\n",
            "Check: \n"
          ]
        },
        {
          "output_type": "display_data",
          "data": {
            "text/plain": [
              "Matrix([[0, 0, 0]])"
            ],
            "text/latex": "$\\displaystyle \\left[\\begin{matrix}0 & 0 & 0\\end{matrix}\\right]$"
          },
          "metadata": {}
        }
      ],
      "source": [
        "A = Matrix([\n",
        "    [2, 0, 1],\n",
        "    [-4, 5, 0],\n",
        "    [0, -6, 1]\n",
        "])\n",
        "\n",
        "b = Matrix([-8, 20, 2])\n",
        "A_det = A.det()\n",
        "\n",
        "X = Matrix([0, 0, 0])\n",
        "for i in range(A.shape[1]):\n",
        "  Ai = A.copy()\n",
        "  Ai.col_del(i)\n",
        "  X[i] = Ai.col_insert(i, b).det() / A_det\n",
        "\n",
        "print(\"Answer: \")\n",
        "display(X.T)\n",
        "print(\"\\nCheck: \")\n",
        "display((A * X - b).T)"
      ]
    },
    {
      "cell_type": "markdown",
      "metadata": {
        "id": "WfVS2gyDaU1r"
      },
      "source": [
        "### Задание 2\n",
        "Решить по формулам Крамера СЛАУ с параметром\n",
        "\\begin{align*}\n",
        "\\left\\{\\begin{matrix} a x_{1} + 2 x_{2}  = -7\n",
        "\\\\- 4 x_{1} + 5 x_{2} + 3 x_{3} = 9\n",
        "\\\\ 3 x_{1} + x_{3}  = 2\n",
        "\\end{matrix}\\right.\n",
        " \\end{align*}\n",
        "Проверить правильность найденного решения подстановкой.\n",
        "\n",
        "Составить матрицу $S$, столбцы которой являются решениями данной СЛАУ при $a = -1, 0, 3$.\n",
        "\n",
        "**Указание.**\n",
        "\n",
        "Оформить решение по формулам Крамера в виде функции.\n",
        "\n",
        "Параметр $a$ описать как символ.\n",
        "\n",
        "Использовать подстановки **subs** для построения матриц данной СЛАУ при $a = -1, 0, 3$ на основе матрицы с параметром.\n",
        "\n",
        "Воспользоваться **simplify** для того, чтобы упростить выражение при проверке."
      ]
    },
    {
      "cell_type": "code",
      "execution_count": 27,
      "metadata": {
        "colab": {
          "base_uri": "https://localhost:8080/",
          "height": 188
        },
        "id": "IzlvJIPmdBtu",
        "outputId": "cf82c860-0f59-447c-ae4b-c568eb7868c0"
      },
      "outputs": [
        {
          "output_type": "stream",
          "name": "stdout",
          "text": [
            "Answer: \n"
          ]
        },
        {
          "output_type": "display_data",
          "data": {
            "text/plain": [
              "Matrix([\n",
              "[         -41/(5*a + 26)],\n",
              "[  (3*a - 91)/(5*a + 26)],\n",
              "[(10*a + 175)/(5*a + 26)]])"
            ],
            "text/latex": "$\\displaystyle \\left[\\begin{matrix}- \\frac{41}{5 a + 26}\\\\\\frac{3 a - 91}{5 a + 26}\\\\\\frac{10 a + 175}{5 a + 26}\\end{matrix}\\right]$"
          },
          "metadata": {}
        },
        {
          "output_type": "stream",
          "name": "stdout",
          "text": [
            "\n",
            "----Check----\n",
            "Check 1: True\n",
            "Check 2: True\n",
            "Check 3: True\n"
          ]
        }
      ],
      "source": [
        "a = Symbol('a')\n",
        "\n",
        "A = Matrix([\n",
        "    [a, 2, 0],\n",
        "    [-4, 5, 3],\n",
        "    [3, 0, 1]\n",
        "])\n",
        "\n",
        "b = Matrix([-7, 9, 2])\n",
        "A_det = A.det()\n",
        "\n",
        "if A_det != 0:\n",
        "  X = Matrix([0, 0, 0])\n",
        "  for i in range(A.shape[1]):\n",
        "    Ax = A.copy()\n",
        "    Ax.col_del(i)\n",
        "    Ax = Ax.col_insert(i, b)\n",
        "    X[i] = Ax.det() / A_det\n",
        "\n",
        "  print(\"Answer: \")\n",
        "  display(X)\n",
        "\n",
        "  print(\"\\n----Check----\")\n",
        "  check1 = simplify((A * X).subs(a, -1) == b)\n",
        "  check2 = simplify((A * X).subs(a, 0) == b)\n",
        "  check3 = simplify((A * X).subs(a, 3) == b)\n",
        "  print(f\"Check 1: {check1}\")\n",
        "  print(f\"Check 2: {check2}\")\n",
        "  print(f\"Check 3: {check3}\")\n",
        "\n",
        "else:\n",
        "  print(\"Определитель равен 0, поэтому формулами Крамера нельзя воспользоваться.\")"
      ]
    },
    {
      "cell_type": "markdown",
      "metadata": {
        "id": "Ufm8BDgxaU1t"
      },
      "source": [
        "### Задание 3.\n",
        "Решить по формулам Крамера СЛАУ с параметрами\n",
        "\\begin{align*}\n",
        "\\left\\{\\begin{matrix} x_{1} + a_{12} x_{2}  = b_1\n",
        "\\\\ x_{1} + a_{22} x_{2}  = b_2\n",
        "\\end{matrix}\\right.\n",
        "\\end{align*}\n",
        "Проверить правильность найденного решения подстановкой.\n",
        "\n",
        "Найти такие наборы параметров, для которых полученное решение неприменимо (подсказка - из-за деления на ноль).\n",
        "\n",
        "Показать, что для этих наборов определитель матрицы левой части равен нулю, использовать подстановки subs."
      ]
    },
    {
      "cell_type": "code",
      "execution_count": 3,
      "metadata": {
        "id": "mtMc4R3ddDAG",
        "colab": {
          "base_uri": "https://localhost:8080/",
          "height": 139
        },
        "outputId": "522cbe76-8b39-40d6-9ca6-d15b15ed25be"
      },
      "outputs": [
        {
          "output_type": "stream",
          "name": "stdout",
          "text": [
            "Answer: \n"
          ]
        },
        {
          "output_type": "display_data",
          "data": {
            "text/plain": [
              "Matrix([\n",
              "[(-a0*b1 + a1*b0)/(-a0 + a1)],\n",
              "[      (-b0 + b1)/(-a0 + a1)]])"
            ],
            "text/latex": "$\\displaystyle \\left[\\begin{matrix}\\frac{- a_{0} b_{1} + a_{1} b_{0}}{- a_{0} + a_{1}}\\\\\\frac{- b_{0} + b_{1}}{- a_{0} + a_{1}}\\end{matrix}\\right]$"
          },
          "metadata": {}
        },
        {
          "output_type": "stream",
          "name": "stdout",
          "text": [
            "\n",
            "----Check----\n",
            "Check: True\n"
          ]
        }
      ],
      "source": [
        "A = symbols('a:2')\n",
        "res = symbols('b:2')\n",
        "\n",
        "M = Matrix([[1, A[0]], [1, A[1]]])\n",
        "\n",
        "b = Matrix([res[0], res[1]])\n",
        "M_det = M.det()\n",
        "\n",
        "if M_det != 0:\n",
        "  X = Matrix([0, 0])\n",
        "  for i in range(M.shape[1]):\n",
        "    Mx = M.copy()\n",
        "    Mx.col_del(i)\n",
        "    Mx = Mx.col_insert(i, b)\n",
        "    X[i] = Mx.det() / M_det\n",
        "\n",
        "  print(\"Answer: \")\n",
        "  display(X)\n",
        "\n",
        "  print(\"\\n----Check----\")\n",
        "  print(f\"Check: {simplify(M * X) == b}\")\n",
        "\n",
        "else:\n",
        "  print(\"Определитель равен 0, поэтому формулами Крамера нельзя воспользоваться.\")"
      ]
    },
    {
      "cell_type": "markdown",
      "metadata": {
        "id": "bsNtxeRDaU1w"
      },
      "source": [
        "### Задание 4.\n",
        "Дана матрица\n",
        "\\begin{align*}\n",
        "M =\n",
        "\\left(\\begin{matrix}\n",
        "p & 1 & 0 \\\\\n",
        "1 & q & 1 \\\\\n",
        "0 & 1 & r\n",
        "\\end{matrix}\\right)\n",
        "\\end{align*}\n",
        "Вычислить определитель этой матрицы.\n",
        "Найти целочисленные наборы параметров $p$, $q$, $r$, для которых определитель $M$ равен нулю. Рассматривать целые числа от 0 до 12 (НЕ включительно). Использовать подстановки subs в заранее вычисленный определитель.\n",
        "\n",
        "Из найденных наборов, содержащих равный 0 элемент, как столбцов составить матрицу $P$.\n",
        "\n",
        "Из найденных наборов, состоящих только из положительных элементов, как строк составить матрицу $R$."
      ]
    },
    {
      "cell_type": "code",
      "execution_count": 5,
      "metadata": {
        "id": "3cagI3UOdEn3",
        "colab": {
          "base_uri": "https://localhost:8080/",
          "height": 119
        },
        "outputId": "cac52d83-d4d1-4247-cff4-ba9952cfb1ce"
      },
      "outputs": [
        {
          "output_type": "display_data",
          "data": {
            "text/plain": [
              "Matrix([\n",
              "[0, 0, 0, 0, 0, 0, 0, 0, 0, 0,  0,  0],\n",
              "[0, 1, 2, 3, 4, 5, 6, 7, 8, 9, 10, 11],\n",
              "[0, 0, 0, 0, 0, 0, 0, 0, 0, 0,  0,  0]])"
            ],
            "text/latex": "$\\displaystyle \\left[\\begin{array}{cccccccccccc}0 & 0 & 0 & 0 & 0 & 0 & 0 & 0 & 0 & 0 & 0 & 0\\\\0 & 1 & 2 & 3 & 4 & 5 & 6 & 7 & 8 & 9 & 10 & 11\\\\0 & 0 & 0 & 0 & 0 & 0 & 0 & 0 & 0 & 0 & 0 & 0\\end{array}\\right]$"
          },
          "metadata": {}
        },
        {
          "output_type": "display_data",
          "data": {
            "text/plain": [
              "Matrix([\n",
              "[1, 2, 1],\n",
              "[2, 1, 2]])"
            ],
            "text/latex": "$\\displaystyle \\left[\\begin{matrix}1 & 2 & 1\\\\2 & 1 & 2\\end{matrix}\\right]$"
          },
          "metadata": {}
        }
      ],
      "source": [
        "p, q, r = symbols('p:r')\n",
        "\n",
        "M = Matrix([\n",
        "    [p, 1, 0],\n",
        "    [1, q, 1],\n",
        "    [0, 1, r]\n",
        "])\n",
        "\n",
        "detM = M.det()\n",
        "oneArray = []\n",
        "twoArray = []\n",
        "for pn in range(0, 12):\n",
        "  for qn in range(0, 12):\n",
        "    for rn in range(0, 12):\n",
        "      newDet = detM.subs({p: pn, q: qn, r: rn})\n",
        "\n",
        "      if newDet == 0:\n",
        "        if ((pn == 0) + (qn == 0) + (rn == 0)) > 0:\n",
        "          oneArray += [[pn, qn, rn]]\n",
        "\n",
        "        if ((pn > 0) + (qn > 0) + (rn > 0)) == 3:\n",
        "          twoArray += [[pn, qn, rn]]\n",
        "P = Matrix(oneArray).T\n",
        "R = Matrix(twoArray)\n",
        "display(P)\n",
        "display(R)"
      ]
    },
    {
      "cell_type": "markdown",
      "metadata": {
        "id": "sr7hz7rNaU1y"
      },
      "source": [
        "### Индивидуальное задание.\n",
        "1) В матрице $A$ выполнить заданную подстановку.\n",
        "\n",
        "2) В матрице $B$\n",
        "выполнить подстановки в форме списка,\n",
        "а также выполнить подстановки в форме словаря.\n",
        "\n",
        "Подстановки в форме словаря выполнить одновременно и не одновременно.\n",
        "\n",
        "\n",
        "Результат каждой подстановки выводить в виде отдельной матрицы."
      ]
    },
    {
      "cell_type": "markdown",
      "source": [
        "N 23\n",
        "\n",
        "\n",
        "1) В матрице\n",
        "\\begin{align*}\n",
        "\\left[\\begin{matrix}11 & 8 & 7 & 16 & 18 & 14 & 3\\\\0 & 11 & 8 & 9 & 15 & 8 & 2\\\\2 & b + 3 & n & 17 & 17 & 3 & 18\\end{matrix}\\right]\n",
        "\\end{align*}\n",
        "выполнить подстановку $n=\\frac{2 b}{n}$\n"
      ],
      "metadata": {
        "id": "IbI8vNYBBPVH"
      }
    },
    {
      "cell_type": "code",
      "source": [
        "# Вариант №23\n",
        "\n",
        "b = Symbol('b')\n",
        "n = Symbol('n')\n",
        "A = Matrix([\n",
        "    [11, 8, 7, 16, 18, 14, 3],\n",
        "    [0, 11, 8, 9, 15, 8, 2],\n",
        "    [2, b + 3, n, 17, 17, 3, 18]\n",
        "])\n",
        "\n",
        "A = A.subs(n, 2 * b / n)\n",
        "display(A)"
      ],
      "metadata": {
        "colab": {
          "base_uri": "https://localhost:8080/",
          "height": 225
        },
        "id": "lfNkmnXmJ1Es",
        "outputId": "3b4ff99e-57f8-40ba-9f62-a3e510f48bea"
      },
      "execution_count": 14,
      "outputs": [
        {
          "output_type": "display_data",
          "data": {
            "text/plain": [
              "Matrix([\n",
              "[11,     8,     7, 16, 18, 14,  3],\n",
              "[ 0,    11,     8,  9, 15,  8,  2],\n",
              "[ 2, b + 3, 2*b/n, 17, 17,  3, 18]])"
            ],
            "text/latex": "$\\displaystyle \\left[\\begin{matrix}11 & 8 & 7 & 16 & 18 & 14 & 3\\\\0 & 11 & 8 & 9 & 15 & 8 & 2\\\\2 & b + 3 & \\frac{2 b}{n} & 17 & 17 & 3 & 18\\end{matrix}\\right]$"
          },
          "metadata": {}
        },
        {
          "output_type": "execute_result",
          "data": {
            "text/plain": [
              "Matrix([\n",
              "[18,            8, 11,  4,        10,           19,     4],\n",
              "[17, 3 + 6*u/f**2, 13,  9,         4,           13,     6],\n",
              "[ 1,           16, 11,  9,         7,           19,     4],\n",
              "[18,           16, 13, 14, 3 + 6*u/f, 3 + 30*u*x/f,     8],\n",
              "[19,           10, 19,  0,         0,            2,    14],\n",
              "[ 4,           18,  2,  0,         8,            x, b - 4],\n",
              "[ 1,           10,  5,  6,        18,           15,     8]])"
            ],
            "text/latex": "$\\displaystyle \\left[\\begin{matrix}18 & 8 & 11 & 4 & 10 & 19 & 4\\\\17 & 3 + \\frac{6 u}{f^{2}} & 13 & 9 & 4 & 13 & 6\\\\1 & 16 & 11 & 9 & 7 & 19 & 4\\\\18 & 16 & 13 & 14 & 3 + \\frac{6 u}{f} & 3 + \\frac{30 u x}{f} & 8\\\\19 & 10 & 19 & 0 & 0 & 2 & 14\\\\4 & 18 & 2 & 0 & 8 & x & b - 4\\\\1 & 10 & 5 & 6 & 18 & 15 & 8\\end{matrix}\\right]$"
          },
          "metadata": {},
          "execution_count": 14
        }
      ]
    },
    {
      "cell_type": "markdown",
      "metadata": {
        "id": "8EChISEmPwJp"
      },
      "source": [
        "\n",
        "2) В матрице\n",
        "\\begin{align*}\n",
        "\\left[\\begin{matrix}18 & 8 & 11 & 4 & 10 & 19 & 4\\\\17 & f + 3 & 13 & 9 & 4 & 13 & 6\\\\1 & 16 & 11 & 9 & 7 & 19 & 4\\\\18 & 16 & 13 & 14 & v + 3 & k + 3 & 8\\\\19 & 10 & 19 & 0 & 0 & 2 & 14\\\\4 & 18 & 2 & 0 & 8 & x & b - 4\\\\1 & 10 & 5 & 6 & 18 & 15 & 8\\end{matrix}\\right]\n",
        "\\end{align*}\n",
        "\n",
        "выполнить подстановки в форме списка\n",
        "\n",
        "$f=\\frac{v}{f}$,\n",
        "\n",
        "$k=5 v x$,\n",
        "\n",
        "$v=\\frac{6 v}{f}$\n",
        "\n",
        "а также выполнить следующие подстановки в форме словаря:\n",
        "\n",
        "$v=k + 3$,\n",
        "\n",
        "$k=v + 2$\n",
        "\n",
        "\n",
        "Подстановки в форме словаря выполнить одновременно и не одновременно\n",
        "\n",
        "\n",
        "Результат каждой подстановки выводить в виде отдельной матрицы"
      ]
    },
    {
      "cell_type": "code",
      "source": [
        "f, v, k, x, b = symbols('f u k x b')\n",
        "B = Matrix([\n",
        "    [18, 8, 11, 4, 10, 19, 4],\n",
        "    [17, f + 3, 13, 9, 4, 13, 6],\n",
        "    [1, 16, 11, 9, 7, 19, 4],\n",
        "    [18, 16, 13, 14, v + 3, k + 3, 8],\n",
        "    [19, 10, 19, 0, 0, 2, 14],\n",
        "    [4, 18, 2, 0, 8, x, b - 4],\n",
        "    [1, 10, 5, 6, 18, 15, 8]\n",
        "])\n",
        "B1 = B.subs([(f, v / f), (k, 5 * v * x), (v, 6* v / f)])\n",
        "B2 = B.subs({v: k + 3, k: v + 2})\n",
        "display(B2)\n",
        "print()\n",
        "B3 = B.subs({v: k + 3, k: v + 2}, simultaneous=True)\n",
        "display(B3)"
      ],
      "metadata": {
        "colab": {
          "base_uri": "https://localhost:8080/",
          "height": 320
        },
        "id": "FvnFA-hIBBYs",
        "outputId": "f22c8495-3ea4-4c7a-84f3-42575fc7a92b"
      },
      "execution_count": 25,
      "outputs": [
        {
          "output_type": "display_data",
          "data": {
            "text/plain": [
              "Matrix([\n",
              "[18,     8, 11,  4,    10,    19,     4],\n",
              "[17, f + 3, 13,  9,     4,    13,     6],\n",
              "[ 1,    16, 11,  9,     7,    19,     4],\n",
              "[18,    16, 13, 14, k + 6, k + 8,     8],\n",
              "[19,    10, 19,  0,     0,     2,    14],\n",
              "[ 4,    18,  2,  0,     8,     x, b - 4],\n",
              "[ 1,    10,  5,  6,    18,    15,     8]])"
            ],
            "text/latex": "$\\displaystyle \\left[\\begin{matrix}18 & 8 & 11 & 4 & 10 & 19 & 4\\\\17 & f + 3 & 13 & 9 & 4 & 13 & 6\\\\1 & 16 & 11 & 9 & 7 & 19 & 4\\\\18 & 16 & 13 & 14 & k + 6 & k + 8 & 8\\\\19 & 10 & 19 & 0 & 0 & 2 & 14\\\\4 & 18 & 2 & 0 & 8 & x & b - 4\\\\1 & 10 & 5 & 6 & 18 & 15 & 8\\end{matrix}\\right]$"
          },
          "metadata": {}
        },
        {
          "output_type": "stream",
          "name": "stdout",
          "text": [
            "\n"
          ]
        },
        {
          "output_type": "display_data",
          "data": {
            "text/plain": [
              "Matrix([\n",
              "[18,     8, 11,  4,    10,    19,     4],\n",
              "[17, f + 3, 13,  9,     4,    13,     6],\n",
              "[ 1,    16, 11,  9,     7,    19,     4],\n",
              "[18,    16, 13, 14, k + 6, u + 5,     8],\n",
              "[19,    10, 19,  0,     0,     2,    14],\n",
              "[ 4,    18,  2,  0,     8,     x, b - 4],\n",
              "[ 1,    10,  5,  6,    18,    15,     8]])"
            ],
            "text/latex": "$\\displaystyle \\left[\\begin{matrix}18 & 8 & 11 & 4 & 10 & 19 & 4\\\\17 & f + 3 & 13 & 9 & 4 & 13 & 6\\\\1 & 16 & 11 & 9 & 7 & 19 & 4\\\\18 & 16 & 13 & 14 & k + 6 & u + 5 & 8\\\\19 & 10 & 19 & 0 & 0 & 2 & 14\\\\4 & 18 & 2 & 0 & 8 & x & b - 4\\\\1 & 10 & 5 & 6 & 18 & 15 & 8\\end{matrix}\\right]$"
          },
          "metadata": {}
        }
      ]
    }
  ],
  "metadata": {
    "colab": {
      "provenance": []
    },
    "kernelspec": {
      "display_name": "Python 3",
      "language": "python",
      "name": "python3"
    },
    "language_info": {
      "codemirror_mode": {
        "name": "ipython",
        "version": 3
      },
      "file_extension": ".py",
      "mimetype": "text/x-python",
      "name": "python",
      "nbconvert_exporter": "python",
      "pygments_lexer": "ipython3",
      "version": "3.7.3"
    }
  },
  "nbformat": 4,
  "nbformat_minor": 0
}