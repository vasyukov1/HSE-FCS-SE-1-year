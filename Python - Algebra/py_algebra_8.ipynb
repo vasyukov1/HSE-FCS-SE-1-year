{
  "nbformat": 4,
  "nbformat_minor": 0,
  "metadata": {
    "kernelspec": {
      "display_name": "Python 3",
      "language": "python",
      "name": "python3"
    },
    "language_info": {
      "codemirror_mode": {
        "name": "ipython",
        "version": 3
      },
      "file_extension": ".py",
      "mimetype": "text/x-python",
      "name": "python",
      "nbconvert_exporter": "python",
      "pygments_lexer": "ipython3",
      "version": "3.7.3"
    },
    "colab": {
      "provenance": []
    }
  },
  "cells": [
    {
      "cell_type": "markdown",
      "metadata": {
        "id": "KqMzidc80GGB"
      },
      "source": [
        "# Практическое занятие 8\n",
        "# Компьютерный практикум по алгебре на Python\n",
        "## Численное решение систем линейных алгебраических уравнений (СЛАУ) с numpy."
      ]
    },
    {
      "cell_type": "markdown",
      "metadata": {
        "id": "675Fb5ND0GGK"
      },
      "source": [
        "https://numpy.org/doc/stable/reference/routines.linalg.html"
      ]
    },
    {
      "cell_type": "code",
      "metadata": {
        "id": "TNk5d0Si0GGK"
      },
      "source": [
        "import numpy as np\n",
        "import sympy as sp\n",
        "from numpy import linalg\n",
        "from google.colab import files\n",
        "import pandas as pd"
      ],
      "execution_count": 5,
      "outputs": []
    },
    {
      "cell_type": "markdown",
      "metadata": {
        "id": "dMGJ1uQC0GGM"
      },
      "source": [
        "### Задание 1.\n",
        "Решить СЛАУ с помощью linalg.solve() и выполнить проверку.\n",
        "$$\n",
        "\\left\\{\n",
        "\\begin{matrix}\n",
        "-x+5y-3z=8\\\\\n",
        "4x-y+5z=-1\\\\\n",
        "3x+4y+5z=10\n",
        "\\end{matrix}\n",
        "\\right.\n",
        "$$"
      ]
    },
    {
      "cell_type": "code",
      "source": [
        "# Составляем массив, решаем через solve и делаем проверку.\n",
        "A = np.array([[-1, 5, -3],\n",
        "              [4, -1, 5],\n",
        "              [3, 4, 5]])\n",
        "b = np.array([8, -1, 10])\n",
        "X = linalg.solve(A, b)\n",
        "print(f'Решение СЛАУ: {X}')\n",
        "print(f'Проверка: {np.allclose(A @ X, b)}')"
      ],
      "metadata": {
        "id": "sNsDjz5jHQDb",
        "colab": {
          "base_uri": "https://localhost:8080/"
        },
        "outputId": "adc32891-7c25-4757-8d80-f28ee14f3a7d"
      },
      "execution_count": 6,
      "outputs": [
        {
          "output_type": "stream",
          "name": "stdout",
          "text": [
            "Решение СЛАУ: [-1.  2.  1.]\n",
            "Проверка: True\n"
          ]
        }
      ]
    },
    {
      "cell_type": "markdown",
      "source": [
        "### Задание 2.\n",
        "Определить с помощью Теоремы Кронекера-Капелли и linalg.matrix_rank, совместна ли СЛАУ\n",
        "$$\n",
        "\\left\\{\n",
        "\\begin{matrix}\n",
        "-x+5y-3z=8\\\\\n",
        "4x-y+5z=-1\\\\\n",
        "3x+4y+2z=7\n",
        "\\end{matrix}\n",
        "\\right.\n",
        "$$\n",
        "\n",
        "Сделать вывод о числе решений (текстом)"
      ],
      "metadata": {
        "id": "E6-UJMGKB8Ej"
      }
    },
    {
      "cell_type": "code",
      "source": [
        "# Составляем массив, находим определитель, ранк левой части и расширенной матрицы.\n",
        "A = np.array([[-1, 5, -3],\n",
        "              [4, -1, 5],\n",
        "              [3, 4, 2]])\n",
        "b = np.array([8, -1, 7])\n",
        "rank_A = linalg.matrix_rank(A)\n",
        "rank_Ab = linalg.matrix_rank(np.column_stack((A, b)))\n",
        "det_A = linalg.det(A)\n",
        "print(f'Ранг rg(А) = {rank_A}, ранг расширенной матрицы rb(A | b) = {rank_Ab}.')\n",
        "print(f'Определитель |А| = {det_A}')\n",
        "\n",
        "if rank_A == rank_Ab:\n",
        "  if det_A != 0:\n",
        "    print('Система имеет единственное решение.')\n",
        "  else:\n",
        "    print('Система имеет бесконечно много решений.')\n",
        "else:\n",
        "  print('Система не имеет решений.')"
      ],
      "metadata": {
        "id": "vWDsIP4VHRoa",
        "colab": {
          "base_uri": "https://localhost:8080/"
        },
        "outputId": "ab705cee-1ea5-4610-f092-9e7794281ae5"
      },
      "execution_count": 7,
      "outputs": [
        {
          "output_type": "stream",
          "name": "stdout",
          "text": [
            "Ранг rg(А) = 2, ранг расширенной матрицы rb(A | b) = 2.\n",
            "Определитель |А| = 0.0\n",
            "Система имеет бесконечно много решений.\n"
          ]
        }
      ]
    },
    {
      "cell_type": "markdown",
      "metadata": {
        "id": "m8SPA6yz0GGP"
      },
      "source": [
        "### Задание 3\n",
        "В расширенной матрице СЛАУ из Задания 2\n",
        "\n",
        "1) выделить матрицу левой части\n",
        "\n",
        "2) выделить столбец правой части\n",
        "\n",
        "3) транспонировать матрицу, полученную в 1)\n",
        "\n",
        "4) получить расширенную матрицу из матрицы 3) и столбца 2)\n",
        "\n",
        "5) создать на основе списочного выражения np.array $3\\times 4$ из расположенных в шахматном порядке чисел 1 и $-1$."
      ]
    },
    {
      "cell_type": "code",
      "source": [
        "matrixQ = np.array([[-1, 5, -3, 8],\n",
        "                    [4, -1, 5, -1],\n",
        "                    [3, 4, 2, 7]])\n",
        "\n",
        "Q_transpose = np.transpose(matrixQ)\n",
        "A = np.transpose(Q_transpose[:-1])\n",
        "b = Q_transpose[-1]\n",
        "C = np.transpose(A)\n",
        "D = np.array([[(-1)**(i + j) for i in range(4)] for j in range(3)])\n",
        "print(f'1. Матрица левой части: \\n{A}\\n')\n",
        "print(f'2. Столбец правой части: \\n{b}\\n')\n",
        "print(f'3. Транспонированная левая часть: \\n{C}\\n')\n",
        "print(f'4. Расширенная матрица из транспонированной левой части и столбца правой: \\n{np.column_stack((C, b))}\\n')\n",
        "print(f'5. Матрица 3×4 из чисел 1 и -1 в шахматном порядке: \\n{D}\\n')"
      ],
      "metadata": {
        "id": "LtWnxmLdHVA0",
        "colab": {
          "base_uri": "https://localhost:8080/"
        },
        "outputId": "53175681-a226-4b18-c7ed-334905ed3d47"
      },
      "execution_count": 8,
      "outputs": [
        {
          "output_type": "stream",
          "name": "stdout",
          "text": [
            "1. Матрица левой части: \n",
            "[[-1  5 -3]\n",
            " [ 4 -1  5]\n",
            " [ 3  4  2]]\n",
            "\n",
            "2. Столбец правой части: \n",
            "[ 8 -1  7]\n",
            "\n",
            "3. Транспонированная левая часть: \n",
            "[[-1  4  3]\n",
            " [ 5 -1  4]\n",
            " [-3  5  2]]\n",
            "\n",
            "4. Расширенная матрица из транспонированной левой части и столбца правой: \n",
            "[[-1  4  3  8]\n",
            " [ 5 -1  4 -1]\n",
            " [-3  5  2  7]]\n",
            "\n",
            "5. Матрица 3×4 из чисел 1 и -1 в шахматном порядке: \n",
            "[[ 1 -1  1 -1]\n",
            " [-1  1 -1  1]\n",
            " [ 1 -1  1 -1]]\n",
            "\n"
          ]
        }
      ]
    },
    {
      "cell_type": "markdown",
      "source": [
        "### Задание 4.\n",
        "Исследовать на совместность СЛАУ с параметром $a$ при значениях параметра $a=-1$, $a=0$ и $a=1$ и найти решение, если оно единственно и провести проверку подстановкой.\n",
        "$$\n",
        "\\left\\{\n",
        "\\begin{matrix}\n",
        "-x+5y-3z=8a\\\\\n",
        "4x-ay+5z=-a\\\\\n",
        "3x+4y+2z=5a\n",
        "\\end{matrix}\n",
        "\\right.\n",
        "$$\n",
        "**Указание** - описать функцию check_SLAE от аргументов $A$ и $b$ (матрица левой части и столбец правой части), которая возвращает 0 для несовместной СЛАУ, 1 для совместной СЛАУ с единственным решением и 2 в остальных случаях.\n",
        "\n",
        "Затем в цикле по значениям параметра $a$ проверять с помощью check_SLAE совместность и единственность решения СЛАУ и выводить на экран значение параметра и решение СЛАУ, если оно существует и единственно или \"решений нет\" или \"решение не единственно\"."
      ],
      "metadata": {
        "id": "3ezovPlhQWdy"
      }
    },
    {
      "cell_type": "code",
      "source": [
        "# Составляем массив СЛАУ и создаём параметр a.\n",
        "a = sp.Symbol('a')\n",
        "A = np.array([[-1, 5, -3],\n",
        "              [4, -a, 5],\n",
        "              [3, 4, 2]])\n",
        "b = np.array([[8*a, -a, 5*a]])\n",
        "\n",
        "# Функция, которая проверяет совместность СЛАУ, сравнивая ранги основной и расширенной матрицы.\n",
        "def check_SLAE(A, b):\n",
        "  rank_A = linalg.matrix_rank(A)\n",
        "  rank_Ab = linalg.matrix_rank(np.column_stack((A, b)))\n",
        "  if rank_A != rank_Ab:\n",
        "    return 0\n",
        "  return 1\n",
        "\n",
        "# Функция, которая подставляет значения параметра.\n",
        "# Проходим по каждому элементу и смотрим, есть ли в нём параметр.\n",
        "# Если есть, то разбиваем элемент на коэффициент и параметр по знаку умножения (*).\n",
        "# Если количество элементов после разбивки равно 1 (т.е. есть только параметр),\n",
        "# то смотрим, есть ли перед ним знак минуса.\n",
        "# Иначе, умножаем коэффициент на параметр.\n",
        "# Составляем строку и массив с данным параметром и возвращаем.\n",
        "def Subs(array, par):\n",
        "  new_array = []\n",
        "  for line in array:\n",
        "    new_line = []\n",
        "    for el in line:\n",
        "      if 'a' in str(el):\n",
        "        # Работаем при условии, что элемент записан в виде x * a,\n",
        "        # где a - параметр; x - коэффициент.\n",
        "        # Иначе надо преобразовать эту функцию.\n",
        "        items = str(el).split('*')\n",
        "        if len(items) == 1:\n",
        "          if str(el)[0] == '-':\n",
        "            el = -1 * par\n",
        "          else:\n",
        "            el = par\n",
        "        else:\n",
        "          el = int(items[0]) * par\n",
        "      new_line.append(el)\n",
        "    new_array.append(new_line)\n",
        "  return np.array(new_array)\n",
        "\n",
        "# Каждое данное значение параметра подставляем в СЛАУ,\n",
        "# проверяем на совместность и выводим ответ.\n",
        "params = (-1, 0, 1)\n",
        "for par in params:\n",
        "  new_A = Subs(A, par)\n",
        "  new_b = np.transpose(Subs(b, par))\n",
        "  print(f'При a = {par}:')\n",
        "  if check_SLAE(new_A, new_b):\n",
        "    if linalg.det(new_A):\n",
        "      sol = linalg.solve(new_A, new_b)\n",
        "      print(*sol)\n",
        "      print(f'Проверка: {np.allclose(new_A @ sol, new_b)}')\n",
        "    else:\n",
        "      print('решение не единственно')\n",
        "  else:\n",
        "    print('решений нет')\n",
        "  print()"
      ],
      "metadata": {
        "id": "M6GbeBFMHWqB",
        "colab": {
          "base_uri": "https://localhost:8080/"
        },
        "outputId": "c4fe7cc3-394c-47ef-a1fe-4b770495420d"
      },
      "execution_count": 31,
      "outputs": [
        {
          "output_type": "stream",
          "name": "stdout",
          "text": [
            "При a = -1:\n",
            "[-1.28571429] [-1.] [1.42857143]\n",
            "Проверка: True\n",
            "\n",
            "При a = 0:\n",
            "[0.] [0.] [-0.]\n",
            "Проверка: True\n",
            "\n",
            "При a = 1:\n",
            "решений нет\n",
            "\n"
          ]
        }
      ]
    },
    {
      "cell_type": "markdown",
      "source": [
        "### Задание 5.\n",
        "Считать из файла 'SLAE_5.xlsx' матрицу левой части и столбец правой части с листов 'A5' и 'b5' и вывести их на экран.\n",
        "\n",
        "Решить СЛАУ $AX=b$ и вывести полученное решение на экран.\n",
        "\n",
        "Записать полученное решение в файл  'SLAE_5.xlsx' на лист 'X5'.\n",
        "\n",
        "Скачать полученный файл."
      ],
      "metadata": {
        "id": "AlxPOVRAYm_5"
      }
    },
    {
      "cell_type": "code",
      "source": [
        "# Скачиваем файл.\n",
        "uploaded = files.upload()\n",
        "for file_name in uploaded.keys():\n",
        "    print(f'Загружен файл {file_name}')\n",
        "\n",
        "# Считываем правую и левую части СЛАУ.\n",
        "Adf = pd.read_excel(file_name, sheet_name='A5', header=None)\n",
        "bdf = pd.read_excel(file_name, sheet_name='b5', header=None)\n",
        "# Вывод правой и левой части СЛАУ.\n",
        "print(Adf, bdf, sep='\\n\\n')\n",
        "\n",
        "# Выделяем матрицу A и столбец b.\n",
        "A = Adf.to_numpy()\n",
        "b = bdf.to_numpy()\n",
        "\n",
        "# Решаем СЛАУ и выводим решение.\n",
        "X = linalg.solve(A, b)\n",
        "print('\\nРешение: ', *X.T)\n",
        "\n",
        "# Записываем полученное решение в файл.\n",
        "Xdf = pd.DataFrame(X)\n",
        "with pd.ExcelWriter(file_name, mode='a') as writer:\n",
        "    Xdf.to_excel(writer, sheet_name='X5', header=False, index=False)\n",
        "\n",
        "# Скачиваем полученный файл.\n",
        "files.download(file_name)"
      ],
      "metadata": {
        "id": "A5k0VYVtHZLO",
        "colab": {
          "base_uri": "https://localhost:8080/",
          "height": 324
        },
        "outputId": "aadfafa3-46db-419b-8592-1c0a4af4082f"
      },
      "execution_count": 36,
      "outputs": [
        {
          "output_type": "display_data",
          "data": {
            "text/plain": [
              "<IPython.core.display.HTML object>"
            ],
            "text/html": [
              "\n",
              "     <input type=\"file\" id=\"files-cf3eca49-1cd6-4bff-9d6d-4620bac2ebcb\" name=\"files[]\" multiple disabled\n",
              "        style=\"border:none\" />\n",
              "     <output id=\"result-cf3eca49-1cd6-4bff-9d6d-4620bac2ebcb\">\n",
              "      Upload widget is only available when the cell has been executed in the\n",
              "      current browser session. Please rerun this cell to enable.\n",
              "      </output>\n",
              "      <script>// Copyright 2017 Google LLC\n",
              "//\n",
              "// Licensed under the Apache License, Version 2.0 (the \"License\");\n",
              "// you may not use this file except in compliance with the License.\n",
              "// You may obtain a copy of the License at\n",
              "//\n",
              "//      http://www.apache.org/licenses/LICENSE-2.0\n",
              "//\n",
              "// Unless required by applicable law or agreed to in writing, software\n",
              "// distributed under the License is distributed on an \"AS IS\" BASIS,\n",
              "// WITHOUT WARRANTIES OR CONDITIONS OF ANY KIND, either express or implied.\n",
              "// See the License for the specific language governing permissions and\n",
              "// limitations under the License.\n",
              "\n",
              "/**\n",
              " * @fileoverview Helpers for google.colab Python module.\n",
              " */\n",
              "(function(scope) {\n",
              "function span(text, styleAttributes = {}) {\n",
              "  const element = document.createElement('span');\n",
              "  element.textContent = text;\n",
              "  for (const key of Object.keys(styleAttributes)) {\n",
              "    element.style[key] = styleAttributes[key];\n",
              "  }\n",
              "  return element;\n",
              "}\n",
              "\n",
              "// Max number of bytes which will be uploaded at a time.\n",
              "const MAX_PAYLOAD_SIZE = 100 * 1024;\n",
              "\n",
              "function _uploadFiles(inputId, outputId) {\n",
              "  const steps = uploadFilesStep(inputId, outputId);\n",
              "  const outputElement = document.getElementById(outputId);\n",
              "  // Cache steps on the outputElement to make it available for the next call\n",
              "  // to uploadFilesContinue from Python.\n",
              "  outputElement.steps = steps;\n",
              "\n",
              "  return _uploadFilesContinue(outputId);\n",
              "}\n",
              "\n",
              "// This is roughly an async generator (not supported in the browser yet),\n",
              "// where there are multiple asynchronous steps and the Python side is going\n",
              "// to poll for completion of each step.\n",
              "// This uses a Promise to block the python side on completion of each step,\n",
              "// then passes the result of the previous step as the input to the next step.\n",
              "function _uploadFilesContinue(outputId) {\n",
              "  const outputElement = document.getElementById(outputId);\n",
              "  const steps = outputElement.steps;\n",
              "\n",
              "  const next = steps.next(outputElement.lastPromiseValue);\n",
              "  return Promise.resolve(next.value.promise).then((value) => {\n",
              "    // Cache the last promise value to make it available to the next\n",
              "    // step of the generator.\n",
              "    outputElement.lastPromiseValue = value;\n",
              "    return next.value.response;\n",
              "  });\n",
              "}\n",
              "\n",
              "/**\n",
              " * Generator function which is called between each async step of the upload\n",
              " * process.\n",
              " * @param {string} inputId Element ID of the input file picker element.\n",
              " * @param {string} outputId Element ID of the output display.\n",
              " * @return {!Iterable<!Object>} Iterable of next steps.\n",
              " */\n",
              "function* uploadFilesStep(inputId, outputId) {\n",
              "  const inputElement = document.getElementById(inputId);\n",
              "  inputElement.disabled = false;\n",
              "\n",
              "  const outputElement = document.getElementById(outputId);\n",
              "  outputElement.innerHTML = '';\n",
              "\n",
              "  const pickedPromise = new Promise((resolve) => {\n",
              "    inputElement.addEventListener('change', (e) => {\n",
              "      resolve(e.target.files);\n",
              "    });\n",
              "  });\n",
              "\n",
              "  const cancel = document.createElement('button');\n",
              "  inputElement.parentElement.appendChild(cancel);\n",
              "  cancel.textContent = 'Cancel upload';\n",
              "  const cancelPromise = new Promise((resolve) => {\n",
              "    cancel.onclick = () => {\n",
              "      resolve(null);\n",
              "    };\n",
              "  });\n",
              "\n",
              "  // Wait for the user to pick the files.\n",
              "  const files = yield {\n",
              "    promise: Promise.race([pickedPromise, cancelPromise]),\n",
              "    response: {\n",
              "      action: 'starting',\n",
              "    }\n",
              "  };\n",
              "\n",
              "  cancel.remove();\n",
              "\n",
              "  // Disable the input element since further picks are not allowed.\n",
              "  inputElement.disabled = true;\n",
              "\n",
              "  if (!files) {\n",
              "    return {\n",
              "      response: {\n",
              "        action: 'complete',\n",
              "      }\n",
              "    };\n",
              "  }\n",
              "\n",
              "  for (const file of files) {\n",
              "    const li = document.createElement('li');\n",
              "    li.append(span(file.name, {fontWeight: 'bold'}));\n",
              "    li.append(span(\n",
              "        `(${file.type || 'n/a'}) - ${file.size} bytes, ` +\n",
              "        `last modified: ${\n",
              "            file.lastModifiedDate ? file.lastModifiedDate.toLocaleDateString() :\n",
              "                                    'n/a'} - `));\n",
              "    const percent = span('0% done');\n",
              "    li.appendChild(percent);\n",
              "\n",
              "    outputElement.appendChild(li);\n",
              "\n",
              "    const fileDataPromise = new Promise((resolve) => {\n",
              "      const reader = new FileReader();\n",
              "      reader.onload = (e) => {\n",
              "        resolve(e.target.result);\n",
              "      };\n",
              "      reader.readAsArrayBuffer(file);\n",
              "    });\n",
              "    // Wait for the data to be ready.\n",
              "    let fileData = yield {\n",
              "      promise: fileDataPromise,\n",
              "      response: {\n",
              "        action: 'continue',\n",
              "      }\n",
              "    };\n",
              "\n",
              "    // Use a chunked sending to avoid message size limits. See b/62115660.\n",
              "    let position = 0;\n",
              "    do {\n",
              "      const length = Math.min(fileData.byteLength - position, MAX_PAYLOAD_SIZE);\n",
              "      const chunk = new Uint8Array(fileData, position, length);\n",
              "      position += length;\n",
              "\n",
              "      const base64 = btoa(String.fromCharCode.apply(null, chunk));\n",
              "      yield {\n",
              "        response: {\n",
              "          action: 'append',\n",
              "          file: file.name,\n",
              "          data: base64,\n",
              "        },\n",
              "      };\n",
              "\n",
              "      let percentDone = fileData.byteLength === 0 ?\n",
              "          100 :\n",
              "          Math.round((position / fileData.byteLength) * 100);\n",
              "      percent.textContent = `${percentDone}% done`;\n",
              "\n",
              "    } while (position < fileData.byteLength);\n",
              "  }\n",
              "\n",
              "  // All done.\n",
              "  yield {\n",
              "    response: {\n",
              "      action: 'complete',\n",
              "    }\n",
              "  };\n",
              "}\n",
              "\n",
              "scope.google = scope.google || {};\n",
              "scope.google.colab = scope.google.colab || {};\n",
              "scope.google.colab._files = {\n",
              "  _uploadFiles,\n",
              "  _uploadFilesContinue,\n",
              "};\n",
              "})(self);\n",
              "</script> "
            ]
          },
          "metadata": {}
        },
        {
          "output_type": "stream",
          "name": "stdout",
          "text": [
            "Saving SLAE_5.xlsx to SLAE_5.xlsx\n",
            "Загружен файл SLAE_5.xlsx\n",
            "    0  1  2  3\n",
            "0   6 -3 -1  8\n",
            "1  -9 -7 -5  9\n",
            "2   0 -6  5  4\n",
            "3 -21 -1 -7 -7\n",
            "\n",
            "    0\n",
            "0 -15\n",
            "1 -42\n",
            "2 -34\n",
            "3 -44\n",
            "\n",
            "Решение:  [-4.7 18.8  8.   9.7]\n"
          ]
        },
        {
          "output_type": "display_data",
          "data": {
            "text/plain": [
              "<IPython.core.display.Javascript object>"
            ],
            "application/javascript": [
              "\n",
              "    async function download(id, filename, size) {\n",
              "      if (!google.colab.kernel.accessAllowed) {\n",
              "        return;\n",
              "      }\n",
              "      const div = document.createElement('div');\n",
              "      const label = document.createElement('label');\n",
              "      label.textContent = `Downloading \"${filename}\": `;\n",
              "      div.appendChild(label);\n",
              "      const progress = document.createElement('progress');\n",
              "      progress.max = size;\n",
              "      div.appendChild(progress);\n",
              "      document.body.appendChild(div);\n",
              "\n",
              "      const buffers = [];\n",
              "      let downloaded = 0;\n",
              "\n",
              "      const channel = await google.colab.kernel.comms.open(id);\n",
              "      // Send a message to notify the kernel that we're ready.\n",
              "      channel.send({})\n",
              "\n",
              "      for await (const message of channel.messages) {\n",
              "        // Send a message to notify the kernel that we're ready.\n",
              "        channel.send({})\n",
              "        if (message.buffers) {\n",
              "          for (const buffer of message.buffers) {\n",
              "            buffers.push(buffer);\n",
              "            downloaded += buffer.byteLength;\n",
              "            progress.value = downloaded;\n",
              "          }\n",
              "        }\n",
              "      }\n",
              "      const blob = new Blob(buffers, {type: 'application/binary'});\n",
              "      const a = document.createElement('a');\n",
              "      a.href = window.URL.createObjectURL(blob);\n",
              "      a.download = filename;\n",
              "      div.appendChild(a);\n",
              "      a.click();\n",
              "      div.remove();\n",
              "    }\n",
              "  "
            ]
          },
          "metadata": {}
        },
        {
          "output_type": "display_data",
          "data": {
            "text/plain": [
              "<IPython.core.display.Javascript object>"
            ],
            "application/javascript": [
              "download(\"download_244973c2-4459-4ec7-995f-a93c6f3a9307\", \"SLAE_5.xlsx\", 6085)"
            ]
          },
          "metadata": {}
        }
      ]
    },
    {
      "cell_type": "markdown",
      "metadata": {
        "id": "PtPxOU3a0GGR"
      },
      "source": [
        "### Индивидуальное задание.\n",
        "Исследовать на совместность СЛАУ с параметром $a$ при заданных значениях параметра $a$ и найти решение, если оно единственно и провести проверку подстановкой.\n",
        "\n",
        "На листы 'A1', 'A2' и т.п. файла 'Name_Ind_8_SLAE.xlsx' записать матрицы при заданных значениях параметра $a$, на листы 'b1', 'b2' и т.п. столбцы правой части СЛАУ, на листы 'X1', 'X2' и т.п. решения СЛАУ (если оно существует!).\n"
      ]
    },
    {
      "cell_type": "markdown",
      "source": [
        "N 23\n",
        "\\begin{align*}\n",
        " A = \\left[\\begin{matrix}-6 & 6 & -7 & -6\\\\4 & a & 1 & -7\\\\-6 & -8 & -8 & 6\\\\-22 & -24 & -12 & 34\\end{matrix}\\right],\n",
        "    \\qquad b = \\left[\\begin{matrix}-20\\\\45\\\\-110\\\\-250\\end{matrix}\\right], \\alpha = 0, \\alpha = 4, \\alpha = 6.\n",
        " \\end{align*}"
      ],
      "metadata": {
        "id": "4qsUZtgKHfeH"
      }
    },
    {
      "cell_type": "code",
      "source": [
        "# Действия аналогично заданию 4.\n",
        "\n",
        "a = sp.Symbol('a')\n",
        "A = np.array([[-6, 6, -7, -6],\n",
        "              [4, a, 1, -7],\n",
        "              [-6, -8, -8, 6],\n",
        "              [-22, -24, -12, 34]])\n",
        "b = np.array([[-20, 45, -110, -250]])\n",
        "\n",
        "# Функция, которая проверяет совместность СЛАУ, сравнивая ранги основной и расширенной матрицы.\n",
        "def check_SLAE(A, b):\n",
        "  rank_A = linalg.matrix_rank(A)\n",
        "  rank_Ab = linalg.matrix_rank(np.column_stack((A, b)))\n",
        "  if rank_A != rank_Ab:\n",
        "    return 0\n",
        "  return 1\n",
        "\n",
        "def Subs(array, par):\n",
        "  new_array = []\n",
        "  for line in array:\n",
        "    new_line = []\n",
        "    for el in line:\n",
        "      if 'a' in str(el):\n",
        "        # Работаем при условии, что элемент записан в виде x * a,\n",
        "        # где a - параметр; x - коэффициент.\n",
        "        items = str(el).split('*')\n",
        "        if len(items) == 1:\n",
        "          if str(el)[0] == '-':\n",
        "            el = -1 * par\n",
        "          else:\n",
        "            el = par\n",
        "        else:\n",
        "          el = int(items[0]) * par\n",
        "      new_line.append(el)\n",
        "    new_array.append(new_line)\n",
        "  return np.array(new_array)\n",
        "\n",
        "# Составляем список массивов A, B, X, чтобы потом их записать в таблицу.\n",
        "all_A = []\n",
        "all_B = []\n",
        "all_X = []\n",
        "# number = 0\n",
        "for par in (0, 4, 6):\n",
        "  number += 1\n",
        "  new_A = Subs(A, par)\n",
        "  new_B = np.transpose(Subs(b, par))\n",
        "  all_A.append(new_A)\n",
        "  all_B.append(new_B)\n",
        "  print(f'При a = {par}:')\n",
        "  if check_SLAE(new_A, new_B):\n",
        "    if linalg.det(new_A):\n",
        "      sol = linalg.solve(new_A, new_B)\n",
        "      print(*sol)\n",
        "      print(f'Проверка: {np.allclose(new_A @ sol, new_B)}')\n",
        "    else:\n",
        "      sol = 'б/м решений'\n",
        "      print(sol)\n",
        "  else:\n",
        "    sol = ['решений нет']\n",
        "    print('решений нет')\n",
        "  all_X.append(sol)\n",
        "  print()\n",
        "\n",
        "file_name = 'Name_Ind_8_SLAE.xlsx'\n",
        "with pd.ExcelWriter(file_name, mode='w') as writer:\n",
        "  for i in range(3):\n",
        "    pd.DataFrame(all_A[i]).to_excel(writer, sheet_name=f'A{i+1}', header=False, index=False)\n",
        "    pd.DataFrame(all_B[i]).to_excel(writer, sheet_name=f'B{i+1}', header=False, index=False)\n",
        "    pd.DataFrame(all_X[i]).to_excel(writer, sheet_name=f'X{i+1}', header=False, index=False)"
      ],
      "metadata": {
        "id": "clATXRkyHZ8I",
        "colab": {
          "base_uri": "https://localhost:8080/"
        },
        "outputId": "f73dbd22-e022-48c7-a132-0b6de4f8bc9c"
      },
      "execution_count": 34,
      "outputs": [
        {
          "output_type": "stream",
          "name": "stdout",
          "text": [
            "При a = 0:\n",
            "[-8.63636364] [-2.5] [15.90909091] [-9.09090909]\n",
            "Проверка: True\n",
            "\n",
            "При a = 4:\n",
            "решений нет\n",
            "\n",
            "При a = 6:\n",
            "[-2.58379177e-15] [5.] [8.] [-1.]\n",
            "Проверка: True\n",
            "\n"
          ]
        }
      ]
    }
  ]
}