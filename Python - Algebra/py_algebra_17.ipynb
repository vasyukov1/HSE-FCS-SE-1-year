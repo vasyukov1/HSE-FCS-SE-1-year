{
  "nbformat": 4,
  "nbformat_minor": 0,
  "metadata": {
    "kernelspec": {
      "display_name": "Python 3",
      "language": "python",
      "name": "python3"
    },
    "language_info": {
      "codemirror_mode": {
        "name": "ipython",
        "version": 3
      },
      "file_extension": ".py",
      "mimetype": "text/x-python",
      "name": "python",
      "nbconvert_exporter": "python",
      "pygments_lexer": "ipython3",
      "version": "3.7.3"
    },
    "colab": {
      "provenance": []
    }
  },
  "cells": [
    {
      "cell_type": "code",
      "metadata": {
        "id": "icrkYljeEln7"
      },
      "source": [
        "import sympy\n",
        "from sympy import Matrix, S, Symbol, symbols, I, zeros, eye\n",
        "from sympy import simplify, expand, expand_complex, latex\n",
        "import numpy as np\n",
        "from IPython.display import Latex\n",
        "import scipy\n",
        "import pandas as pd"
      ],
      "execution_count": 1,
      "outputs": []
    },
    {
      "cell_type": "markdown",
      "metadata": {
        "id": "t-ZvhFPEEln9"
      },
      "source": [
        "# Практическое занятие 17\n",
        "# Компьютерный практикум по алгебре на Python\n",
        "## Матричные разложения: Холецкого, LDL, LU, QR. Жорданова форма."
      ]
    },
    {
      "cell_type": "markdown",
      "metadata": {
        "id": "iLYVC4z3Eln-"
      },
      "source": [
        "### Задание 1.\n",
        "Построить разложение Холецкого матриц\n",
        "$$\n",
        "M1=\\left(\n",
        "\\begin{matrix}\n",
        "1&-3&0\\\\\n",
        "-3&-2&10\\\\\n",
        "0&10&7\n",
        "\\end{matrix}\n",
        "\\right)\n",
        "\\quad\n",
        "M2=\\left(\n",
        "\\begin{matrix}\n",
        "18&1 - 2I& -2\\\\\n",
        "1 + 2I&4&-3I\\\\\n",
        "-2&3I&5\n",
        "\\end{matrix}\n",
        "\\right)\n",
        "$$\n",
        "Проверить положительную определенность эрмитовой матрицы."
      ]
    },
    {
      "cell_type": "code",
      "source": [
        "A = Matrix([[-1, -3, 0],\n",
        "            [-3, -2, 10],\n",
        "            [0, 10, 7]])\n",
        "\n",
        "B = Matrix([[18, 1 - 2*I, -2],\n",
        "            [1 + 2*I, 4, -3*I],\n",
        "            [-2, 3*I, 5]])\n",
        "\n",
        "LA = A.cholesky(hermitian=False)\n",
        "LB = B.cholesky()\n",
        "\n",
        "display(Latex(f'L_A = {latex(LA)},\\ L_AL_A^T - A= {latex(simplify(LA * LA.T - A))},\\\\\\\\\\\n",
        "                B.is\\_positive\\_definite\\ {B.is_positive_definite},\\\\\\\\\\\n",
        "                L_B = {latex(LB)},\\\\\\\\\\\n",
        "                simplify(L_B) = {latex(simplify(LB))},\\\\\\\\\\\n",
        "                simplify(expand(L_B)) = {latex(simplify(expand(LB)))},\\\\\\\\\\\n",
        "                simplify(L_B*L_B^H - B) = {latex(simplify(LB * LB.H - B))}'))"
      ],
      "metadata": {
        "id": "LnSv8-gKkaXJ",
        "colab": {
          "base_uri": "https://localhost:8080/",
          "height": 405
        },
        "outputId": "8bb9278e-feff-444c-a6a9-d68220dc7624"
      },
      "execution_count": 2,
      "outputs": [
        {
          "output_type": "display_data",
          "data": {
            "text/plain": [
              "<IPython.core.display.Latex object>"
            ],
            "text/latex": "L_A = \\left[\\begin{matrix}i & 0 & 0\\\\3 i & \\sqrt{7} & 0\\\\0 & \\frac{10 \\sqrt{7}}{7} & \\frac{\\sqrt{357} i}{7}\\end{matrix}\\right],\\ L_AL_A^T - A= \\left[\\begin{matrix}0 & 0 & 0\\\\0 & 0 & 0\\\\0 & 0 & 0\\end{matrix}\\right],\\\\                B.is\\_positive\\_definite\\ True,\\\\                L_B = \\left[\\begin{matrix}3 \\sqrt{2} & 0 & 0\\\\\\frac{\\sqrt{2} \\cdot \\left(1 + 2 i\\right)}{6} & \\sqrt{- \\frac{\\left(1 - 2 i\\right) \\left(1 + 2 i\\right)}{18} + 4} & 0\\\\- \\frac{\\sqrt{2}}{3} & \\frac{\\frac{1}{9} + \\frac{25 i}{9}}{\\sqrt{- \\frac{\\left(1 - 2 i\\right) \\left(1 + 2 i\\right)}{18} + 4}} & \\sqrt{\\frac{43}{9} - \\frac{\\left(\\frac{1}{9} - \\frac{25 i}{9}\\right) \\left(\\frac{1}{9} + \\frac{25 i}{9}\\right)}{- \\frac{\\left(1 - 2 i\\right) \\left(1 + 2 i\\right)}{18} + 4}}\\end{matrix}\\right],\\\\                simplify(L_B) = \\left[\\begin{matrix}3 \\sqrt{2} & 0 & 0\\\\\\frac{\\sqrt{2} \\cdot \\left(1 + 2 i\\right)}{6} & \\frac{\\sqrt{134}}{6} & 0\\\\- \\frac{\\sqrt{2}}{3} & \\frac{\\sqrt{134} \\cdot \\left(1 + 25 i\\right)}{201} & \\frac{\\sqrt{12127}}{67}\\end{matrix}\\right],\\\\                simplify(expand(L_B)) = \\left[\\begin{matrix}3 \\sqrt{2} & 0 & 0\\\\\\frac{\\sqrt{2} \\cdot \\left(1 + 2 i\\right)}{6} & \\frac{\\sqrt{134}}{6} & 0\\\\- \\frac{\\sqrt{2}}{3} & \\frac{\\sqrt{134} \\cdot \\left(1 + 25 i\\right)}{201} & \\frac{\\sqrt{12127}}{67}\\end{matrix}\\right],\\\\                simplify(L_B*L_B^H - B) = \\left[\\begin{matrix}0 & 0 & 0\\\\0 & 0 & 0\\\\0 & 0 & 0\\end{matrix}\\right]"
          },
          "metadata": {}
        }
      ]
    },
    {
      "cell_type": "markdown",
      "metadata": {
        "id": "qrvNv_U7EloA"
      },
      "source": [
        "### Задание 2.\n",
        "Построить  LDL разложение для матриц Задания 1."
      ]
    },
    {
      "cell_type": "code",
      "source": [
        "A = Matrix([[-1, -3, 0],\n",
        "            [-3, -2, 10],\n",
        "            [0, 10, 7]])\n",
        "\n",
        "B = Matrix([[18, 1 - 2*I, -2],\n",
        "            [1 + 2*I, 4, -3*I],\n",
        "            [-2, 3*I, 5]])\n",
        "\n",
        "LA, DA = A.LDLdecomposition(hermitian=False)\n",
        "LB, DB = B.LDLdecomposition()\n",
        "LA, DA, LB, DB = [simplify(item) for item in (LA, DA, LB, DB)]\n",
        "\n",
        "display(Latex(\"\"\"A = {}\\\\\\\\A.is\\_positive\\_definite\\ {}\\\\\\\\\\\n",
        "              L_A = {}, D_A = {},\\\\\\\\L_AD_AL_A^T = {},\\\\\\\\\\\n",
        "              B = {}\\\\\\\\\\\n",
        "              B.is\\_positive\\_definite\\ {}\\\\\\\\L_B = {}, D_B = {},\\\\\\\\\\\n",
        "              L_BD_BL_B^H = {}\\\n",
        "              \"\"\".format(*[latex(item) for item in (A, A.is_positive_definite,\n",
        "                                                    LA, DA, LA * DA * LA.T,\n",
        "                                                    B, B.is_positive_definite,\n",
        "                                                    LB, simplify(DB),\n",
        "                                                    simplify(LB * DB * LB.H))])))"
      ],
      "metadata": {
        "id": "FvDYSq0-kbvo",
        "colab": {
          "base_uri": "https://localhost:8080/",
          "height": 427
        },
        "outputId": "1e173f4c-dae7-4611-d614-c76e9b321488"
      },
      "execution_count": 3,
      "outputs": [
        {
          "output_type": "display_data",
          "data": {
            "text/plain": [
              "<IPython.core.display.Latex object>"
            ],
            "text/latex": "A = \\left[\\begin{matrix}-1 & -3 & 0\\\\-3 & -2 & 10\\\\0 & 10 & 7\\end{matrix}\\right]\\\\A.is\\_positive\\_definite\\ \\text{False}\\\\              L_A = \\left[\\begin{matrix}1 & 0 & 0\\\\3 & 1 & 0\\\\0 & \\frac{10}{7} & 1\\end{matrix}\\right], D_A = \\left[\\begin{matrix}-1 & 0 & 0\\\\0 & 7 & 0\\\\0 & 0 & - \\frac{51}{7}\\end{matrix}\\right],\\\\L_AD_AL_A^T = \\left[\\begin{matrix}-1 & -3 & 0\\\\-3 & -2 & 10\\\\0 & 10 & 7\\end{matrix}\\right],\\\\              B = \\left[\\begin{matrix}18 & 1 - 2 i & -2\\\\1 + 2 i & 4 & - 3 i\\\\-2 & 3 i & 5\\end{matrix}\\right]\\\\              B.is\\_positive\\_definite\\ \\text{True}\\\\L_B = \\left[\\begin{matrix}1 & 0 & 0\\\\\\frac{1}{18} + \\frac{i}{9} & 1 & 0\\\\- \\frac{1}{9} & \\frac{2}{67} + \\frac{50 i}{67} & 1\\end{matrix}\\right], D_B = \\left[\\begin{matrix}18 & 0 & 0\\\\0 & \\frac{67}{18} & 0\\\\0 & 0 & \\frac{181}{67}\\end{matrix}\\right],\\\\              L_BD_BL_B^H = \\left[\\begin{matrix}18 & 1 - 2 i & -2\\\\1 + 2 i & 4 & - 3 i\\\\-2 & 3 i & 5\\end{matrix}\\right]              "
          },
          "metadata": {}
        }
      ]
    },
    {
      "cell_type": "markdown",
      "metadata": {
        "id": "FVp0Db5lEloB"
      },
      "source": [
        "### Задание  3.\n",
        "Построить  LU разложение для матрицы\n",
        "$$\n",
        "V=\\left(\n",
        "\\begin{matrix}\n",
        "5&-2 - I&3 - 4I&1 + 4I\\\\\n",
        "1 - I&-2&5 - I&2 - I\\\\\n",
        "5&6 + I&0&5\n",
        "\\end{matrix}\n",
        "\\right)\n",
        "$$"
      ]
    },
    {
      "cell_type": "code",
      "source": [
        "M = Matrix([[5, -2 - I, 3 - 4 * I, 1 + 4*I],\n",
        "            [1 - I, -2, 5 - I, 2 - I],\n",
        "            [5, 6 + I, 0, 5]])\n",
        "\n",
        "L, U, perm = M.LUdecomposition()\n",
        "display(Latex(\"M = {}\\\\\\\\perm = {}, L = {}, U = {}\\\\\\\\LU = {}\".format(*map(latex, (M, perm, *map(simplify, map(expand, (L, U, L * U))))))))"
      ],
      "metadata": {
        "id": "N-852saOkdKH",
        "colab": {
          "base_uri": "https://localhost:8080/",
          "height": 200
        },
        "outputId": "94969b51-5ef0-405c-89d2-88be89b4ed80"
      },
      "execution_count": 4,
      "outputs": [
        {
          "output_type": "display_data",
          "data": {
            "text/plain": [
              "<IPython.core.display.Latex object>"
            ],
            "text/latex": "M = \\left[\\begin{matrix}5 & -2 - i & 3 - 4 i & 1 + 4 i\\\\1 - i & -2 & 5 - i & 2 - i\\\\5 & 6 + i & 0 & 5\\end{matrix}\\right]\\\\perm = \\left[ \\left[ 1, \\  2\\right]\\right], L = \\left[\\begin{matrix}1 & 0 & 0\\\\1 & 1 & 0\\\\\\frac{1}{5} - \\frac{i}{5} & - \\frac{29}{170} + \\frac{3 i}{170} & 1\\end{matrix}\\right], U = \\left[\\begin{matrix}5 & -2 - i & 3 - 4 i & 1 + 4 i\\\\0 & 8 + 2 i & -3 + 4 i & 4 - 4 i\\\\0 & 0 & \\frac{809}{170} + \\frac{193 i}{170} & \\frac{137}{85} - \\frac{40 i}{17}\\end{matrix}\\right]\\\\LU = \\left[\\begin{matrix}5 & -2 - i & 3 - 4 i & 1 + 4 i\\\\5 & 6 + i & 0 & 5\\\\1 - i & -2 & 5 - i & 2 - i\\end{matrix}\\right]"
          },
          "metadata": {}
        }
      ]
    },
    {
      "cell_type": "markdown",
      "metadata": {
        "id": "w9-3cXYHEloC"
      },
      "source": [
        "### Задание  4.\n",
        "Построить  QR разложение для матрицы\n",
        "$$\n",
        "A=\\left(\n",
        "\\begin{matrix}\n",
        "3 + i&  2 & -i & 4 - 2i\\\\\n",
        "-2 & -3 &  i & -3 + i\\\\\n",
        "1 + i & -1 &  0 & 1 - i\\\\\n",
        "-1 + i &  -4 & i & -2\n",
        "\\end{matrix}\n",
        "\\right)\n",
        "$$\n",
        "показать, что $A = QR$."
      ]
    },
    {
      "cell_type": "code",
      "source": [
        "M = Matrix([[3+I, 2, -I, 4-2*I],\n",
        "            [-2, -3, I, -3+I],\n",
        "            [1+I, -1, 0, 1-I],\n",
        "            [-1+I, -4, I, -2]])\n",
        "\n",
        "Q, R = M.QRdecomposition()\n",
        "Q, R, MQR = [simplify(expand(item)) for item in (Q, R, Q * R)]\n",
        "\n",
        "Q = Q.col_del(2)\n",
        "R = R.row_del(2)\n",
        "\n",
        "QR = Q * R\n",
        "\n",
        "display(QR)\n",
        "display(simplify(QR) == M)"
      ],
      "metadata": {
        "id": "kncVPg70kezP",
        "colab": {
          "base_uri": "https://localhost:8080/",
          "height": 128
        },
        "outputId": "2983a96b-a24a-4fb2-a073-4ec305d0f873"
      },
      "execution_count": 22,
      "outputs": [
        {
          "output_type": "display_data",
          "data": {
            "text/plain": [
              "Matrix([\n",
              "[ 3 + I, -1/3 - 4*I/3 + (3 + I)*(5 + I)/6,   (-1 - 4*I)*(1 - 4*I)/51 - I*(3 + I)/3,  (-1 - 4*I)*(11 + 7*I)/51 + (3 - 2*I)*(3 + I)/3],\n",
              "[    -2,                               -3,           (-4 + I)*(1 - 4*I)/51 + 2*I/3,             -2 + (-4 + I)*(11 + 7*I)/51 + 4*I/3],\n",
              "[ 1 + I,     -5/3 - I + (1 + I)*(5 + I)/6,  -I*(1 + I)/3 + (-5 - 3*I)*(1 - 4*I)/51,  (-5 - 3*I)*(11 + 7*I)/51 + (1 + I)*(3 - 2*I)/3],\n",
              "[-1 + I,  -3 - 2*I/3 + (-1 + I)*(5 + I)/6, -I*(-1 + I)/3 + (-9 - 2*I)*(1 - 4*I)/51, (-9 - 2*I)*(11 + 7*I)/51 + (-1 + I)*(3 - 2*I)/3]])"
            ],
            "text/latex": "$\\displaystyle \\left[\\begin{matrix}3 + i & - \\frac{1}{3} - \\frac{4 i}{3} + \\frac{\\left(3 + i\\right) \\left(5 + i\\right)}{6} & \\frac{\\left(-1 - 4 i\\right) \\left(1 - 4 i\\right)}{51} - \\frac{i \\left(3 + i\\right)}{3} & \\frac{\\left(-1 - 4 i\\right) \\left(11 + 7 i\\right)}{51} + \\frac{\\left(3 - 2 i\\right) \\left(3 + i\\right)}{3}\\\\-2 & -3 & \\frac{\\left(-4 + i\\right) \\left(1 - 4 i\\right)}{51} + \\frac{2 i}{3} & -2 + \\frac{\\left(-4 + i\\right) \\left(11 + 7 i\\right)}{51} + \\frac{4 i}{3}\\\\1 + i & - \\frac{5}{3} - i + \\frac{\\left(1 + i\\right) \\left(5 + i\\right)}{6} & - \\frac{i \\left(1 + i\\right)}{3} + \\frac{\\left(-5 - 3 i\\right) \\left(1 - 4 i\\right)}{51} & \\frac{\\left(-5 - 3 i\\right) \\left(11 + 7 i\\right)}{51} + \\frac{\\left(1 + i\\right) \\left(3 - 2 i\\right)}{3}\\\\-1 + i & -3 - \\frac{2 i}{3} + \\frac{\\left(-1 + i\\right) \\left(5 + i\\right)}{6} & - \\frac{i \\left(-1 + i\\right)}{3} + \\frac{\\left(-9 - 2 i\\right) \\left(1 - 4 i\\right)}{51} & \\frac{\\left(-9 - 2 i\\right) \\left(11 + 7 i\\right)}{51} + \\frac{\\left(-1 + i\\right) \\left(3 - 2 i\\right)}{3}\\end{matrix}\\right]$"
          },
          "metadata": {}
        },
        {
          "output_type": "display_data",
          "data": {
            "text/plain": [
              "True"
            ]
          },
          "metadata": {}
        }
      ]
    },
    {
      "cell_type": "markdown",
      "metadata": {
        "id": "gTTZBv9tEloE"
      },
      "source": [
        "### Задание  5.\n",
        "Найти SVD c sympy и numpy\n",
        "$$\n",
        "\\left(\n",
        "\\begin{matrix}\n",
        "1 & 0 & 0 & -2\\\\\n",
        "0 & 1 & 0 & 1\\\\\n",
        "0 & 0 & 3 & 1\n",
        "\\end{matrix}\n",
        "\\right)\n",
        "$$"
      ]
    },
    {
      "cell_type": "code",
      "source": [
        "A = np.array([[1, 0, 0, -2],\n",
        "              [0, 1, 0, 1],\n",
        "              [0, 0, 3, 1]])\n",
        "\n",
        "np.linalg.svd(A)"
      ],
      "metadata": {
        "id": "xxchQJQqlpMH"
      },
      "execution_count": 30,
      "outputs": []
    },
    {
      "cell_type": "markdown",
      "source": [
        "## Задача 6*\n",
        "Считать из файла \"matrix_task_6.xlsx\" матрицу $A$, построить для нее разложение lu, ldl и qr. Все полученные матрицы записать в файл \"matrix_task_6_ans.xlsx\" на отдельные листы"
      ],
      "metadata": {
        "id": "HwVVeXkOlpc3"
      }
    },
    {
      "cell_type": "code",
      "source": [
        "from scipy.linalg import lu, ldl, qr\n",
        "\n",
        "df = pd.read_excel(\"matrix_task_6.xlsx\", header=None)\n",
        "\n",
        "A = df.values\n",
        "P, L, U = lu(A)\n",
        "L_ldl, D_ldl, perm = ldl(A)\n",
        "Q, R = qr(A)\n",
        "\n",
        "with pd.ExcelWriter(\"matrix_task_6_ans.xlsx\") as writer:\n",
        "    pd.DataFrame(L).to_excel(writer, sheet_name='L', index=False, header=False)\n",
        "    pd.DataFrame(U).to_excel(writer, sheet_name='U', index=False, header=False)\n",
        "    pd.DataFrame(L_ldl).to_excel(writer, sheet_name='L_ldl', index=False, header=False)\n",
        "    pd.DataFrame(D_ldl).to_excel(writer, sheet_name='D_ldl', index=False, header=False)\n",
        "    pd.DataFrame(Q).to_excel(writer, sheet_name='Q', index=False, header=False)\n",
        "    pd.DataFrame(R).to_excel(writer, sheet_name='R', index=False, header=False)\n"
      ],
      "metadata": {
        "id": "XjlzKJr4lsOI"
      },
      "execution_count": 32,
      "outputs": []
    }
  ]
}