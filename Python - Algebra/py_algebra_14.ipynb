{
  "cells": [
    {
      "cell_type": "code",
      "execution_count": 15,
      "metadata": {
        "id": "nVsRFN7HPrjP"
      },
      "outputs": [],
      "source": [
        "import sympy, numpy\n",
        "from sympy import Eq, S, latex, plot_implicit, Matrix, symbols\n",
        "from sympy import simplify, expand, collect, solve, solveset, lambdify\n",
        "from sympy import pi as Pi\n",
        "from sympy import cos as Cos\n",
        "from sympy import sin as Sin\n",
        "import matplotlib.pyplot as plt\n",
        "import pandas as pd\n",
        "from IPython.display import Latex\n",
        "from google.colab import files"
      ]
    },
    {
      "cell_type": "markdown",
      "metadata": {
        "id": "iy2K466yPrjR"
      },
      "source": [
        "# Практическое занятие 14\n",
        "# Компьютерный практикум по алгебре на Python\n",
        "### Задание 1.\n",
        "Составить матрицу квадратичной формы $16x^2-21y^2+3z^2-4xy-4xz+10yz$, проверить, что она определяет именно заданный многочлен."
      ]
    },
    {
      "cell_type": "code",
      "source": [
        "from sympy.abc import x, y, z\n",
        "\n",
        "f = 16 * x**2 - 21 * y**2 + 3 * z**2 - 4 * x * y - 4 * x * z + 10 * y * z\n",
        "A = Matrix([[16, -2, -2],\n",
        "            [-2, -21, 5],\n",
        "            [-2, 5, 3]])\n",
        "\n",
        "X = Matrix([x, y, z])\n",
        "res = X.T * A * X\n",
        "quadr_form = simplify(expand(res[0]))\n",
        "\n",
        "display(Latex(f'X^T A X = {latex(quadr_form)}'))\n",
        "display(Latex(f'X^T A X - f = {latex(quadr_form - f)}'))"
      ],
      "metadata": {
        "id": "_U0A19rog2_l",
        "colab": {
          "base_uri": "https://localhost:8080/",
          "height": 61
        },
        "outputId": "d337d693-166c-4f03-f230-b8b7ea618a3c"
      },
      "execution_count": 8,
      "outputs": [
        {
          "output_type": "display_data",
          "data": {
            "text/plain": [
              "<IPython.core.display.Latex object>"
            ],
            "text/latex": "X^T  A  X = 16 x^{2} - 4 x y - 4 x z - 21 y^{2} + 10 y z + 3 z^{2}"
          },
          "metadata": {}
        },
        {
          "output_type": "display_data",
          "data": {
            "text/plain": [
              "<IPython.core.display.Latex object>"
            ],
            "text/latex": "X^T A X - f = 0"
          },
          "metadata": {}
        }
      ]
    },
    {
      "cell_type": "markdown",
      "source": [
        "### Задание 2.\n",
        "Заданы векторы  $e_1=(1, 0, 1)$, $e_2=(-1, 0, 1)$, $e_1=(0, 1, 0)$.\n",
        "Вывести (используя цикл!) на экран матрицу квадратичной формы Задания 1 в новом базисе из векторов\n",
        "\n",
        "\n",
        "1.   ($e_1$, $e_2$, $e_3$),\n",
        "2.   ($e_1$, $e_2 - e_1$, $e_3$),\n",
        "3.   ($e_1$, $e_2$, $e_3 - e_1$),\n",
        "4.   ($e_1$, $e_2 - e_1$, $e_3 - e_1$),\n",
        "5.   ($e_1 + e_2$, $e_2$, $e_3 + e_2$),\n",
        "\n",
        "при этом в файл \"task2.xlsx\" записать на листы $A_1$, $A_2$, ... матрицы в новом базисе, а на листы  $P_1$, $P_2$, ... соответствующие матрицы перехода."
      ],
      "metadata": {
        "id": "5SjHvz59du7t"
      }
    },
    {
      "cell_type": "code",
      "source": [
        "A = Matrix([[16, -2, -2],\n",
        "            [-2, -21, 5],\n",
        "            [-2, 5, 3]])\n",
        "\n",
        "e1 = Matrix([1, 0, 1])\n",
        "e2 = Matrix([-1, 0, 1])\n",
        "e3 = Matrix([0, 1, 0])\n",
        "\n",
        "bases = [(e1, e2, e3),\n",
        "         (e1, e2 - e1, e3),\n",
        "         (e1, e2, e3 - e1),\n",
        "         (e1, e2 - e1, e3 - e1),\n",
        "         (e1 + e2, e2, e3 + e2)]\n",
        "\n",
        "for i, basis_vectors in enumerate(bases, start=1):\n",
        "    P = Matrix.hstack(*basis_vectors).T\n",
        "    A_new = P.T * A * P\n",
        "    A_new = A_new.applyfunc(lambda x: float(x))\n",
        "    P = P.applyfunc(lambda x: float(x))\n",
        "\n",
        "    print(f'Matrix A{i} in the new basis:')\n",
        "    display(A_new)\n",
        "    print(f'Matrix P{i} of the transition:')\n",
        "    display(P)\n",
        "\n",
        "    with pd.ExcelWriter(\"task2.xlsx\") as writer:\n",
        "      index = 1\n",
        "      for row in A_new.tolist():\n",
        "        df = pd.DataFrame(row)\n",
        "        df.to_excel(writer, sheet_name=f\"A{index}\", index=False, header=False)\n",
        "        index += 1\n",
        "\n",
        "      index = 1\n",
        "      for row in P.tolist():\n",
        "        df = pd.DataFrame(row)\n",
        "        df.to_excel(writer, sheet_name=f\"P{index}\", index=False, header=False)\n",
        "        index+=1"
      ],
      "metadata": {
        "id": "4AbF-qRtg4MD",
        "colab": {
          "base_uri": "https://localhost:8080/",
          "height": 806
        },
        "outputId": "2bc619c1-4991-489f-a536-b4ed1f6cbafb"
      },
      "execution_count": 9,
      "outputs": [
        {
          "output_type": "stream",
          "name": "stdout",
          "text": [
            "Matrix A1 in the new basis:\n"
          ]
        },
        {
          "output_type": "display_data",
          "data": {
            "text/plain": [
              "Matrix([\n",
              "[-1.0, -7.0, 37.0],\n",
              "[-7.0,  3.0,  3.0],\n",
              "[37.0,  3.0, -9.0]])"
            ],
            "text/latex": "$\\displaystyle \\left[\\begin{matrix}-1.0 & -7.0 & 37.0\\\\-7.0 & 3.0 & 3.0\\\\37.0 & 3.0 & -9.0\\end{matrix}\\right]$"
          },
          "metadata": {}
        },
        {
          "output_type": "stream",
          "name": "stdout",
          "text": [
            "Matrix P1 of the transition:\n"
          ]
        },
        {
          "output_type": "display_data",
          "data": {
            "text/plain": [
              "Matrix([\n",
              "[ 1.0,   0, 1.0],\n",
              "[-1.0,   0, 1.0],\n",
              "[   0, 1.0,   0]])"
            ],
            "text/latex": "$\\displaystyle \\left[\\begin{matrix}1.0 & 0 & 1.0\\\\-1.0 & 0 & 1.0\\\\0 & 1.0 & 0\\end{matrix}\\right]$"
          },
          "metadata": {}
        },
        {
          "output_type": "stream",
          "name": "stdout",
          "text": [
            "Matrix A2 in the new basis:\n"
          ]
        },
        {
          "output_type": "display_data",
          "data": {
            "text/plain": [
              "Matrix([\n",
              "[-60.0, -12.0, 20.0],\n",
              "[-12.0,   3.0, -2.0],\n",
              "[ 20.0,  -2.0, 16.0]])"
            ],
            "text/latex": "$\\displaystyle \\left[\\begin{matrix}-60.0 & -12.0 & 20.0\\\\-12.0 & 3.0 & -2.0\\\\20.0 & -2.0 & 16.0\\end{matrix}\\right]$"
          },
          "metadata": {}
        },
        {
          "output_type": "stream",
          "name": "stdout",
          "text": [
            "Matrix P2 of the transition:\n"
          ]
        },
        {
          "output_type": "display_data",
          "data": {
            "text/plain": [
              "Matrix([\n",
              "[ 1.0,   0, 1.0],\n",
              "[-2.0,   0,   0],\n",
              "[   0, 1.0,   0]])"
            ],
            "text/latex": "$\\displaystyle \\left[\\begin{matrix}1.0 & 0 & 1.0\\\\-2.0 & 0 & 0\\\\0 & 1.0 & 0\\end{matrix}\\right]$"
          },
          "metadata": {}
        },
        {
          "output_type": "stream",
          "name": "stdout",
          "text": [
            "Matrix A3 in the new basis:\n"
          ]
        },
        {
          "output_type": "display_data",
          "data": {
            "text/plain": [
              "Matrix([\n",
              "[ 16.0, -10.0,  44.0],\n",
              "[-10.0,   3.0,     0],\n",
              "[ 44.0,     0, -12.0]])"
            ],
            "text/latex": "$\\displaystyle \\left[\\begin{matrix}16.0 & -10.0 & 44.0\\\\-10.0 & 3.0 & 0\\\\44.0 & 0 & -12.0\\end{matrix}\\right]$"
          },
          "metadata": {}
        },
        {
          "output_type": "stream",
          "name": "stdout",
          "text": [
            "Matrix P3 of the transition:\n"
          ]
        },
        {
          "output_type": "display_data",
          "data": {
            "text/plain": [
              "Matrix([\n",
              "[ 1.0,   0,  1.0],\n",
              "[-1.0,   0,  1.0],\n",
              "[-1.0, 1.0, -1.0]])"
            ],
            "text/latex": "$\\displaystyle \\left[\\begin{matrix}1.0 & 0 & 1.0\\\\-1.0 & 0 & 1.0\\\\-1.0 & 1.0 & -1.0\\end{matrix}\\right]$"
          },
          "metadata": {}
        },
        {
          "output_type": "stream",
          "name": "stdout",
          "text": [
            "Matrix A4 in the new basis:\n"
          ]
        },
        {
          "output_type": "display_data",
          "data": {
            "text/plain": [
              "Matrix([\n",
              "[-33.0, -15.0, 37.0],\n",
              "[-15.0,   3.0, -5.0],\n",
              "[ 37.0,  -5.0, 23.0]])"
            ],
            "text/latex": "$\\displaystyle \\left[\\begin{matrix}-33.0 & -15.0 & 37.0\\\\-15.0 & 3.0 & -5.0\\\\37.0 & -5.0 & 23.0\\end{matrix}\\right]$"
          },
          "metadata": {}
        },
        {
          "output_type": "stream",
          "name": "stdout",
          "text": [
            "Matrix P4 of the transition:\n"
          ]
        },
        {
          "output_type": "display_data",
          "data": {
            "text/plain": [
              "Matrix([\n",
              "[ 1.0,   0,  1.0],\n",
              "[-2.0,   0,    0],\n",
              "[-1.0, 1.0, -1.0]])"
            ],
            "text/latex": "$\\displaystyle \\left[\\begin{matrix}1.0 & 0 & 1.0\\\\-2.0 & 0 & 0\\\\-1.0 & 1.0 & -1.0\\end{matrix}\\right]$"
          },
          "metadata": {}
        },
        {
          "output_type": "stream",
          "name": "stdout",
          "text": [
            "Matrix A5 in the new basis:\n"
          ]
        },
        {
          "output_type": "display_data",
          "data": {
            "text/plain": [
              "Matrix([\n",
              "[-8.0, -8.0, 16.0],\n",
              "[-8.0,  3.0,  4.0],\n",
              "[16.0,  4.0, 40.0]])"
            ],
            "text/latex": "$\\displaystyle \\left[\\begin{matrix}-8.0 & -8.0 & 16.0\\\\-8.0 & 3.0 & 4.0\\\\16.0 & 4.0 & 40.0\\end{matrix}\\right]$"
          },
          "metadata": {}
        },
        {
          "output_type": "stream",
          "name": "stdout",
          "text": [
            "Matrix P5 of the transition:\n"
          ]
        },
        {
          "output_type": "display_data",
          "data": {
            "text/plain": [
              "Matrix([\n",
              "[   0,   0, 2.0],\n",
              "[-1.0,   0, 1.0],\n",
              "[-1.0, 1.0, 1.0]])"
            ],
            "text/latex": "$\\displaystyle \\left[\\begin{matrix}0 & 0 & 2.0\\\\-1.0 & 0 & 1.0\\\\-1.0 & 1.0 & 1.0\\end{matrix}\\right]$"
          },
          "metadata": {}
        }
      ]
    },
    {
      "cell_type": "markdown",
      "metadata": {
        "id": "9UM-8WNdPrjW"
      },
      "source": [
        "### Задание 3.\n",
        "В цикле из файла \"task3.xlsx\" считать матрицы, вывести на экран каждую матрицу и ее собственные числа и собственные векторы."
      ]
    },
    {
      "cell_type": "code",
      "source": [
        "from openpyxl import load_workbook\n",
        "\n",
        "wb = load_workbook('task3.xlsx')\n",
        "for sheet in wb.sheetnames:\n",
        "    ws = wb[sheet]\n",
        "    # Считываем данные для матрицы из листа\n",
        "    matrix_data = [[cell.value for cell in row] for row in ws.iter_rows()]\n",
        "\n",
        "    # Создаём матрицу\n",
        "    matrix = Matrix(matrix_data)\n",
        "\n",
        "    # Вычисляем собственные числа и собственные векторы\n",
        "    eigensystem = matrix.eigenvects()\n",
        "    print(f'Матрица на листе {sheet}:')\n",
        "    display(matrix)\n",
        "\n",
        "    print('\\nСобственные числа и собственные векторы:')\n",
        "    for eigenvalue, multiplicity, eigenvectors in eigensystem:\n",
        "        print(f'Собственное число: {eigenvalue}')\n",
        "        print('Собственные векторы:')\n",
        "        for eigenvector in eigenvectors:\n",
        "            display(eigenvector)\n",
        "        print()\n",
        "wb.close()"
      ],
      "metadata": {
        "id": "Ufyv8VbCg5SP",
        "colab": {
          "base_uri": "https://localhost:8080/",
          "height": 1000
        },
        "outputId": "63249751-f7c8-4159-c236-fe2b8d1ba97d"
      },
      "execution_count": 11,
      "outputs": [
        {
          "output_type": "stream",
          "name": "stdout",
          "text": [
            "Матрица на листе A1:\n"
          ]
        },
        {
          "output_type": "display_data",
          "data": {
            "text/plain": [
              "Matrix([\n",
              "[  7, 37, -37],\n",
              "[ 37, -5,   5],\n",
              "[-37,  5,  -5]])"
            ],
            "text/latex": "$\\displaystyle \\left[\\begin{matrix}7 & 37 & -37\\\\37 & -5 & 5\\\\-37 & 5 & -5\\end{matrix}\\right]$"
          },
          "metadata": {}
        },
        {
          "output_type": "stream",
          "name": "stdout",
          "text": [
            "\n",
            "Собственные числа и собственные векторы:\n",
            "Собственное число: 0\n",
            "Собственные векторы:\n"
          ]
        },
        {
          "output_type": "display_data",
          "data": {
            "text/plain": [
              "Matrix([\n",
              "[0],\n",
              "[1],\n",
              "[1]])"
            ],
            "text/latex": "$\\displaystyle \\left[\\begin{matrix}0\\\\1\\\\1\\end{matrix}\\right]$"
          },
          "metadata": {}
        },
        {
          "output_type": "stream",
          "name": "stdout",
          "text": [
            "\n",
            "Собственное число: -3/2 + 3*sqrt(1249)/2\n",
            "Собственные векторы:\n"
          ]
        },
        {
          "output_type": "display_data",
          "data": {
            "text/plain": [
              "Matrix([\n",
              "[-3*sqrt(1249)/74 - 17/74],\n",
              "[                      -1],\n",
              "[                       1]])"
            ],
            "text/latex": "$\\displaystyle \\left[\\begin{matrix}- \\frac{3 \\sqrt{1249}}{74} - \\frac{17}{74}\\\\-1\\\\1\\end{matrix}\\right]$"
          },
          "metadata": {}
        },
        {
          "output_type": "stream",
          "name": "stdout",
          "text": [
            "\n",
            "Собственное число: -3*sqrt(1249)/2 - 3/2\n",
            "Собственные векторы:\n"
          ]
        },
        {
          "output_type": "display_data",
          "data": {
            "text/plain": [
              "Matrix([\n",
              "[-17/74 + 3*sqrt(1249)/74],\n",
              "[                      -1],\n",
              "[                       1]])"
            ],
            "text/latex": "$\\displaystyle \\left[\\begin{matrix}- \\frac{17}{74} + \\frac{3 \\sqrt{1249}}{74}\\\\-1\\\\1\\end{matrix}\\right]$"
          },
          "metadata": {}
        },
        {
          "output_type": "stream",
          "name": "stdout",
          "text": [
            "\n",
            "Матрица на листе A2:\n"
          ]
        },
        {
          "output_type": "display_data",
          "data": {
            "text/plain": [
              "Matrix([\n",
              "[  7,  30, -37],\n",
              "[ 30, -72,  42],\n",
              "[-37,  42,  -5]])"
            ],
            "text/latex": "$\\displaystyle \\left[\\begin{matrix}7 & 30 & -37\\\\30 & -72 & 42\\\\-37 & 42 & -5\\end{matrix}\\right]$"
          },
          "metadata": {}
        },
        {
          "output_type": "stream",
          "name": "stdout",
          "text": [
            "\n",
            "Собственные числа и собственные векторы:\n",
            "Собственное число: 0\n",
            "Собственные векторы:\n"
          ]
        },
        {
          "output_type": "display_data",
          "data": {
            "text/plain": [
              "Matrix([\n",
              "[1],\n",
              "[1],\n",
              "[1]])"
            ],
            "text/latex": "$\\displaystyle \\left[\\begin{matrix}1\\\\1\\\\1\\end{matrix}\\right]$"
          },
          "metadata": {}
        },
        {
          "output_type": "stream",
          "name": "stdout",
          "text": [
            "\n",
            "Собственное число: -35 + sqrt(5437)\n",
            "Собственные векторы:\n"
          ]
        },
        {
          "output_type": "display_data",
          "data": {
            "text/plain": [
              "Matrix([\n",
              "[-sqrt(5437)/79 - 12/79],\n",
              "[-67/79 + sqrt(5437)/79],\n",
              "[                     1]])"
            ],
            "text/latex": "$\\displaystyle \\left[\\begin{matrix}- \\frac{\\sqrt{5437}}{79} - \\frac{12}{79}\\\\- \\frac{67}{79} + \\frac{\\sqrt{5437}}{79}\\\\1\\end{matrix}\\right]$"
          },
          "metadata": {}
        },
        {
          "output_type": "stream",
          "name": "stdout",
          "text": [
            "\n",
            "Собственное число: -sqrt(5437) - 35\n",
            "Собственные векторы:\n"
          ]
        },
        {
          "output_type": "display_data",
          "data": {
            "text/plain": [
              "Matrix([\n",
              "[-12/79 + sqrt(5437)/79],\n",
              "[-sqrt(5437)/79 - 67/79],\n",
              "[                     1]])"
            ],
            "text/latex": "$\\displaystyle \\left[\\begin{matrix}- \\frac{12}{79} + \\frac{\\sqrt{5437}}{79}\\\\- \\frac{\\sqrt{5437}}{79} - \\frac{67}{79}\\\\1\\end{matrix}\\right]$"
          },
          "metadata": {}
        },
        {
          "output_type": "stream",
          "name": "stdout",
          "text": [
            "\n",
            "Матрица на листе A3:\n"
          ]
        },
        {
          "output_type": "display_data",
          "data": {
            "text/plain": [
              "Matrix([\n",
              "[  7,  37, -44],\n",
              "[ 37,  -5, -32],\n",
              "[-44, -32,  76]])"
            ],
            "text/latex": "$\\displaystyle \\left[\\begin{matrix}7 & 37 & -44\\\\37 & -5 & -32\\\\-44 & -32 & 76\\end{matrix}\\right]$"
          },
          "metadata": {}
        },
        {
          "output_type": "stream",
          "name": "stdout",
          "text": [
            "\n",
            "Собственные числа и собственные векторы:\n",
            "Собственное число: 0\n",
            "Собственные векторы:\n"
          ]
        },
        {
          "output_type": "display_data",
          "data": {
            "text/plain": [
              "Matrix([\n",
              "[1],\n",
              "[1],\n",
              "[1]])"
            ],
            "text/latex": "$\\displaystyle \\left[\\begin{matrix}1\\\\1\\\\1\\end{matrix}\\right]$"
          },
          "metadata": {}
        },
        {
          "output_type": "stream",
          "name": "stdout",
          "text": [
            "\n",
            "Собственное число: 39 - 21*sqrt(13)\n",
            "Собственные векторы:\n"
          ]
        },
        {
          "output_type": "display_data",
          "data": {
            "text/plain": [
              "Matrix([\n",
              "[ 23/4 + 7*sqrt(13)/4],\n",
              "[-27/4 - 7*sqrt(13)/4],\n",
              "[                   1]])"
            ],
            "text/latex": "$\\displaystyle \\left[\\begin{matrix}\\frac{23}{4} + \\frac{7 \\sqrt{13}}{4}\\\\- \\frac{27}{4} - \\frac{7 \\sqrt{13}}{4}\\\\1\\end{matrix}\\right]$"
          },
          "metadata": {}
        },
        {
          "output_type": "stream",
          "name": "stdout",
          "text": [
            "\n",
            "Собственное число: 39 + 21*sqrt(13)\n",
            "Собственные векторы:\n"
          ]
        },
        {
          "output_type": "display_data",
          "data": {
            "text/plain": [
              "Matrix([\n",
              "[ 23/4 - 7*sqrt(13)/4],\n",
              "[-27/4 + 7*sqrt(13)/4],\n",
              "[                   1]])"
            ],
            "text/latex": "$\\displaystyle \\left[\\begin{matrix}\\frac{23}{4} - \\frac{7 \\sqrt{13}}{4}\\\\- \\frac{27}{4} + \\frac{7 \\sqrt{13}}{4}\\\\1\\end{matrix}\\right]$"
          },
          "metadata": {}
        },
        {
          "output_type": "stream",
          "name": "stdout",
          "text": [
            "\n",
            "Матрица на листе A4:\n"
          ]
        },
        {
          "output_type": "display_data",
          "data": {
            "text/plain": [
              "Matrix([\n",
              "[  7,  30, -44],\n",
              "[ 30, -72,  12],\n",
              "[-44,  12,  76]])"
            ],
            "text/latex": "$\\displaystyle \\left[\\begin{matrix}7 & 30 & -44\\\\30 & -72 & 12\\\\-44 & 12 & 76\\end{matrix}\\right]$"
          },
          "metadata": {}
        },
        {
          "output_type": "stream",
          "name": "stdout",
          "text": [
            "\n",
            "Собственные числа и собственные векторы:\n",
            "Собственное число: 0\n",
            "Собственные векторы:\n"
          ]
        },
        {
          "output_type": "display_data",
          "data": {
            "text/plain": [
              "Matrix([\n",
              "[2],\n",
              "[1],\n",
              "[1]])"
            ],
            "text/latex": "$\\displaystyle \\left[\\begin{matrix}2\\\\1\\\\1\\end{matrix}\\right]$"
          },
          "metadata": {}
        },
        {
          "output_type": "stream",
          "name": "stdout",
          "text": [
            "\n",
            "Собственное число: 11/2 - sqrt(33817)/2\n",
            "Собственные векторы:\n"
          ]
        },
        {
          "output_type": "display_data",
          "data": {
            "text/plain": [
              "Matrix([\n",
              "[117/136 + sqrt(33817)/136],\n",
              "[ -185/68 - sqrt(33817)/68],\n",
              "[                        1]])"
            ],
            "text/latex": "$\\displaystyle \\left[\\begin{matrix}\\frac{117}{136} + \\frac{\\sqrt{33817}}{136}\\\\- \\frac{185}{68} - \\frac{\\sqrt{33817}}{68}\\\\1\\end{matrix}\\right]$"
          },
          "metadata": {}
        },
        {
          "output_type": "stream",
          "name": "stdout",
          "text": [
            "\n",
            "Собственное число: 11/2 + sqrt(33817)/2\n",
            "Собственные векторы:\n"
          ]
        },
        {
          "output_type": "display_data",
          "data": {
            "text/plain": [
              "Matrix([\n",
              "[117/136 - sqrt(33817)/136],\n",
              "[ -185/68 + sqrt(33817)/68],\n",
              "[                        1]])"
            ],
            "text/latex": "$\\displaystyle \\left[\\begin{matrix}\\frac{117}{136} - \\frac{\\sqrt{33817}}{136}\\\\- \\frac{185}{68} + \\frac{\\sqrt{33817}}{68}\\\\1\\end{matrix}\\right]$"
          },
          "metadata": {}
        },
        {
          "output_type": "stream",
          "name": "stdout",
          "text": [
            "\n",
            "Матрица на листе A5:\n"
          ]
        },
        {
          "output_type": "display_data",
          "data": {
            "text/plain": [
              "Matrix([\n",
              "[76, 32, 0],\n",
              "[32, -5, 0],\n",
              "[ 0,  0, 0]])"
            ],
            "text/latex": "$\\displaystyle \\left[\\begin{matrix}76 & 32 & 0\\\\32 & -5 & 0\\\\0 & 0 & 0\\end{matrix}\\right]$"
          },
          "metadata": {}
        },
        {
          "output_type": "stream",
          "name": "stdout",
          "text": [
            "\n",
            "Собственные числа и собственные векторы:\n",
            "Собственное число: 0\n",
            "Собственные векторы:\n"
          ]
        },
        {
          "output_type": "display_data",
          "data": {
            "text/plain": [
              "Matrix([\n",
              "[0],\n",
              "[0],\n",
              "[1]])"
            ],
            "text/latex": "$\\displaystyle \\left[\\begin{matrix}0\\\\0\\\\1\\end{matrix}\\right]$"
          },
          "metadata": {}
        },
        {
          "output_type": "stream",
          "name": "stdout",
          "text": [
            "\n",
            "Собственное число: 71/2 - sqrt(10657)/2\n",
            "Собственные векторы:\n"
          ]
        },
        {
          "output_type": "display_data",
          "data": {
            "text/plain": [
              "Matrix([\n",
              "[81/64 - sqrt(10657)/64],\n",
              "[                     1],\n",
              "[                     0]])"
            ],
            "text/latex": "$\\displaystyle \\left[\\begin{matrix}\\frac{81}{64} - \\frac{\\sqrt{10657}}{64}\\\\1\\\\0\\end{matrix}\\right]$"
          },
          "metadata": {}
        },
        {
          "output_type": "stream",
          "name": "stdout",
          "text": [
            "\n",
            "Собственное число: 71/2 + sqrt(10657)/2\n",
            "Собственные векторы:\n"
          ]
        },
        {
          "output_type": "display_data",
          "data": {
            "text/plain": [
              "Matrix([\n",
              "[81/64 + sqrt(10657)/64],\n",
              "[                     1],\n",
              "[                     0]])"
            ],
            "text/latex": "$\\displaystyle \\left[\\begin{matrix}\\frac{81}{64} + \\frac{\\sqrt{10657}}{64}\\\\1\\\\0\\end{matrix}\\right]$"
          },
          "metadata": {}
        },
        {
          "output_type": "stream",
          "name": "stdout",
          "text": [
            "\n"
          ]
        }
      ]
    },
    {
      "cell_type": "markdown",
      "source": [
        "### Задание 4.\n",
        "Привести квадратичную форму с матрицей\n",
        "$$\n",
        "\\left[\\begin{matrix}-645 & -12 & -960\\\\-12 & 3 & 9\\\\-960 & 9 & -1205\\end{matrix}\\right]\n",
        "$$\n",
        "к каноническому виду с помощью перехода к новому базису из собственных векторов.\n",
        "\n",
        "Вывести на экран матрицу перехода к новому базису, матрицу квадратичной формы в новом базисе и квадратичную форму в старом и новом базисе (в виде многочлена от переменных $x$, $y$, $z$)."
      ],
      "metadata": {
        "id": "PalqMShnV6wN"
      }
    },
    {
      "cell_type": "code",
      "source": [
        "A = Matrix([[-645, -12, -960],\n",
        "            [-12, 3, 9],\n",
        "            [-960, 9, -1205]])\n",
        "\n",
        "# Собственные значения и собственные векторы\n",
        "eigenvals = A.eigenvals()\n",
        "eigenvects = A.eigenvects()\n",
        "\n",
        "# Матрица новго базиса\n",
        "S = Matrix.hstack(*[vect[2][0] for vect in eigenvects])\n",
        "D = S.T * A * S\n",
        "\n",
        "x, y, z = symbols('x y z')\n",
        "v = Matrix([x, y, z])\n",
        "\n",
        "Q_old = v.T * A * v\n",
        "Q_new = v.T * D * v\n",
        "\n",
        "print(\"Матрица перехода к новому базису:\")\n",
        "display(S)\n",
        "print(\"\\nМатрица квадратичной формы в новом базисе:\")\n",
        "display(D)\n",
        "print(\"\\nКвадратичная форма в старом базисе:\")\n",
        "display(Q_old[0])\n",
        "print(\"\\nКвадратичная форма в новом базисе:\")\n",
        "display(Q_new[0])"
      ],
      "metadata": {
        "id": "7wmrB6odg64Z",
        "colab": {
          "base_uri": "https://localhost:8080/",
          "height": 323
        },
        "outputId": "3ce3d488-7eb1-4680-a222-2dffdf0ab8ad"
      },
      "execution_count": 12,
      "outputs": [
        {
          "output_type": "stream",
          "name": "stdout",
          "text": [
            "Матрица перехода к новому базису:\n"
          ]
        },
        {
          "output_type": "display_data",
          "data": {
            "text/plain": [
              "Matrix([\n",
              "[3/4,  -4/3, -4/3],\n",
              "[  0, -25/3,  1/3],\n",
              "[  1,     1,    1]])"
            ],
            "text/latex": "$\\displaystyle \\left[\\begin{matrix}\\frac{3}{4} & - \\frac{4}{3} & - \\frac{4}{3}\\\\0 & - \\frac{25}{3} & \\frac{1}{3}\\\\1 & 1 & 1\\end{matrix}\\right]$"
          },
          "metadata": {}
        },
        {
          "output_type": "stream",
          "name": "stdout",
          "text": [
            "\n",
            "Матрица квадратичной формы в новом базисе:\n"
          ]
        },
        {
          "output_type": "display_data",
          "data": {
            "text/plain": [
              "Matrix([\n",
              "[-48125/16, 0,     0],\n",
              "[        0, 0,     0],\n",
              "[        0, 0, 676/3]])"
            ],
            "text/latex": "$\\displaystyle \\left[\\begin{matrix}- \\frac{48125}{16} & 0 & 0\\\\0 & 0 & 0\\\\0 & 0 & \\frac{676}{3}\\end{matrix}\\right]$"
          },
          "metadata": {}
        },
        {
          "output_type": "stream",
          "name": "stdout",
          "text": [
            "\n",
            "Квадратичная форма в старом базисе:\n"
          ]
        },
        {
          "output_type": "display_data",
          "data": {
            "text/plain": [
              "x*(-645*x - 12*y - 960*z) + y*(-12*x + 3*y + 9*z) + z*(-960*x + 9*y - 1205*z)"
            ],
            "text/latex": "$\\displaystyle x \\left(- 645 x - 12 y - 960 z\\right) + y \\left(- 12 x + 3 y + 9 z\\right) + z \\left(- 960 x + 9 y - 1205 z\\right)$"
          },
          "metadata": {}
        },
        {
          "output_type": "stream",
          "name": "stdout",
          "text": [
            "\n",
            "Квадратичная форма в новом базисе:\n"
          ]
        },
        {
          "output_type": "display_data",
          "data": {
            "text/plain": [
              "-48125*x**2/16 + 676*z**2/3"
            ],
            "text/latex": "$\\displaystyle - \\frac{48125 x^{2}}{16} + \\frac{676 z^{2}}{3}$"
          },
          "metadata": {}
        }
      ]
    },
    {
      "cell_type": "markdown",
      "metadata": {
        "id": "D7VmR2N5PrjY"
      },
      "source": [
        "### Задание 5*.\n",
        "Определить тип кривой второго порядка, заданной уравнением\n",
        "$$\n",
        "97x^2 - 144xy + 97y^2 + 482x - 532y = 3452\n",
        "$$\n",
        "Построить в одной координатной плоскости график заданного уравнения и канонического уравнения соответствующей кривой, каноническое уравнение сделать названием графика."
      ]
    },
    {
      "cell_type": "code",
      "source": [
        "x, y = symbols('x y')\n",
        "eq = 97*x**2 - 144*x*y + 97*y**2 + 482*x - 532*y - 3452\n",
        "\n",
        "A = Matrix([[97, -72], [-72, 97]])\n",
        "B = Matrix([[482], [-532]])\n",
        "C = -3452\n",
        "\n",
        "# Собственные векторы\n",
        "eigenvects = A.eigenvects()\n",
        "\n",
        "# Матрицу перехода\n",
        "eigen_info = [(val[0], val[2][0].normalized()) for val in eigenvects]\n",
        "P = Matrix.hstack(*(eigen_info[i][1] for i in range(len(eigen_info))))\n",
        "\n",
        "P_T = P.T\n",
        "P_inv = P.inv()\n",
        "\n",
        "# Новый базис и квадратичная форма\n",
        "new_coords = P_T * Matrix([x, y])\n",
        "new_quadratic_form = expand(new_coords.T * P_T * A * P * new_coords)\n",
        "\n",
        "# Каноническое уравнение\n",
        "canonical_eq = new_quadratic_form[0] - C\n",
        "\n",
        "# Типа кривой\n",
        "curve_type = 'Гипербола' if eigen_info[0][0]*eigen_info[1][0] < 0 else 'Эллипс'\n",
        "\n",
        "\n",
        "f = lambdify((x, y), eq, \"numpy\")\n",
        "canonical_f = lambdify((x, y), canonical_eq, \"numpy\")\n",
        "\n",
        "\n",
        "x_vals = numpy.linspace(-25, 25, 400)\n",
        "y_vals = numpy.linspace(-25, 25, 400)\n",
        "X, Y = numpy.meshgrid(x_vals, y_vals)\n",
        "Z = f(X, Y)\n",
        "canonical_Z = canonical_f(X, Y)\n",
        "\n",
        "\n",
        "plt.figure(figsize=(8, 8))\n",
        "plt.contour(X, Y, Z, levels=[0], colors='blue')\n",
        "plt.contour(X, Y, canonical_Z, levels=[0], colors='red', linestyles='dashed')\n",
        "plt.title(f\"{curve_type}: {canonical_eq}\")\n",
        "plt.xlabel('x')\n",
        "plt.ylabel('y')\n",
        "plt.axhline(0, color='black', linewidth=0.5)\n",
        "plt.axvline(0, color='black', linewidth=0.5)\n",
        "plt.grid()\n",
        "plt.show()"
      ],
      "metadata": {
        "id": "PSszsSEpg8aX",
        "colab": {
          "base_uri": "https://localhost:8080/",
          "height": 718
        },
        "outputId": "83f02b49-5247-4880-afe9-d048b76bf539"
      },
      "execution_count": 16,
      "outputs": [
        {
          "output_type": "display_data",
          "data": {
            "text/plain": [
              "<Figure size 800x800 with 1 Axes>"
            ],
            "image/png": "[encoded data removed]"
          },
          "metadata": {}
        }
      ]
    },
    {
      "cell_type": "markdown",
      "metadata": {
        "id": "goIfBxdUPrja"
      },
      "source": [
        "### Задание 6*.\n",
        "Определить тип кривой второго порядка, заданной уравнением\n",
        "$$\n",
        "x^2+2xy+y^2-4x+4y=4\n",
        "$$\n",
        "Построить в одной координатной плоскости график заданного уравнения и канонического уравнения соответствующей кривой, каноническое уравнение сделать названием графика.\n",
        "\n",
        "Указание: каноническое уравнение параболы $y^2 = 2px$ или $x^2 = 2py$; для того, чтобы выразить $x$ или $y$ можно воспользоваться solve или solveset."
      ]
    },
    {
      "cell_type": "code",
      "source": [
        "A = Matrix([[1, 1, -2],\n",
        "            [1, 1, 2],\n",
        "            [-2, 2, -4]])\n",
        "\n",
        "x, y = symbols('x y')\n",
        "\n",
        "X = Matrix([x, y, 1])\n",
        "eq = Eq((X.T * A * X)[0], 0)\n",
        "\n",
        "alpha = sympy.acot((A[0, 0] - A[1, 1]) / (2 * A[0, 1])) / 2\n",
        "\n",
        "P = Matrix([[Cos(alpha), -Sin(alpha), 0],\n",
        "            [Sin(alpha), Cos(alpha), 0],\n",
        "            [0, 0, 1]])\n",
        "\n",
        "A_new = P.T * A * P\n",
        "X_new = Matrix([x, y + 1 / sympy.sqrt(2), 1])\n",
        "\n",
        "eq_new = (X_new.T * A_new * X_new)[0]\n",
        "eq_last = eq_new / (-2)\n",
        "\n",
        "p = plot_implicit(eq, (x, -15, 15), (y, -15, 15), line_color='r', aspect_ratio=(1, 1),\n",
        "                  xlabel='$x$', ylabel='$y$',\n",
        "                  title=f'{latex(Eq(eq_last, 0), mode=\"inline\")}\\n',\n",
        "                  adaptive=False, show=False)\n",
        "p.append(plot_implicit(eq_last, (x, -15, 15), (y, -15, 15), line_color='m',\n",
        "                       aspect_ratio=(1, 1), adaptive=False, show=False)[0])\n",
        "p.show()"
      ],
      "metadata": {
        "id": "m2Ggtw7vg9az",
        "colab": {
          "base_uri": "https://localhost:8080/",
          "height": 487
        },
        "outputId": "3a9e7911-bf57-4b23-9439-f57b388f5925"
      },
      "execution_count": 17,
      "outputs": [
        {
          "output_type": "display_data",
          "data": {
            "text/plain": [
              "<Figure size 640x480 with 1 Axes>"
            ],
            "image/png": "[encoded data removed]"
          },
          "metadata": {}
        }
      ]
    },
    {
      "cell_type": "markdown",
      "metadata": {
        "id": "WM4LDoZIPrjc"
      },
      "source": [
        "###  Индивидуальное задание\n",
        "Составить матрицу квадратичной формы и привести ее к каноническому виду с помощью перехода к новому базису из собственных векторов. Векторы выводить на экран не нужно. Вывести на экран матрицу в исходном виде и канонической форме, а также саму квадратичную форму в каноническом виде."
      ]
    },
    {
      "cell_type": "markdown",
      "source": [
        "![image.png](data:image/png;base64,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)"
      ],
      "metadata": {
        "id": "DNsfcwuEMeCk"
      }
    },
    {
      "cell_type": "code",
      "source": [
        "x, y, z = symbols('x y z')\n",
        "A = Matrix([[-167, 17 * sympy.sqrt(21), -108 * sympy.sqrt(3)],\n",
        "            [17 * sympy.sqrt(21), -132, -51 * sympy.sqrt(7)],\n",
        "            [-108 * sympy.sqrt(3), -51 * sympy.sqrt(7), 49]])\n",
        "\n",
        "display(Latex(f\"Матрица квадратичной формы в старом базисе:{latex(A)}\"))\n",
        "X = Matrix([x, y, z])\n",
        "f = (X.T * A * X)[0].simplify()\n",
        "\n",
        "# Cобственные векторы и матрица перехода\n",
        "res = A.eigenvects()\n",
        "v1 = res[0][2][0]\n",
        "v2 = res[1][2][0]\n",
        "v3 = res[2][2][0]\n",
        "P = v1.row_join(v2).row_join(v3)\n",
        "\n",
        "display(Latex(f\"Матрица перехода:{latex(P)}\"))\n",
        "\n",
        "A_new = P ** (-1) * A * P\n",
        "g = (X.T * A_new * X)[0].simplify()\n",
        "\n",
        "display(Latex(f\"Матрица\\ квадратичной\\ формы\\ в\\ новом\\ базисе:{latex(A_new)}\"))\n",
        "display(Latex(f\"Квадратичная\\ форма\\ в\\ старом\\ базисе:{latex(f)}\"))\n",
        "display(Latex(f\"Квадратичная\\ форма\\ в\\ новом\\ базисе:{latex(g)}\"))"
      ],
      "metadata": {
        "id": "2SRsH12Rg-o3",
        "colab": {
          "base_uri": "https://localhost:8080/",
          "height": 257
        },
        "outputId": "b1733c16-6b7d-4d3f-90ed-c0c684f5e1e4"
      },
      "execution_count": 18,
      "outputs": [
        {
          "output_type": "display_data",
          "data": {
            "text/plain": [
              "<IPython.core.display.Latex object>"
            ],
            "text/latex": "Матрица квадратичной формы в старом базисе:\\left[\\begin{matrix}-167 & 17 \\sqrt{21} & - 108 \\sqrt{3}\\\\17 \\sqrt{21} & -132 & - 51 \\sqrt{7}\\\\- 108 \\sqrt{3} & - 51 \\sqrt{7} & 49\\end{matrix}\\right]"
          },
          "metadata": {}
        },
        {
          "output_type": "display_data",
          "data": {
            "text/plain": [
              "<IPython.core.display.Latex object>"
            ],
            "text/latex": "Матрица перехода:\\left[\\begin{matrix}\\sqrt{3} & - \\frac{\\sqrt{3}}{3} & - \\frac{\\sqrt{3}}{3}\\\\0 & \\sqrt{7} & - \\frac{4 \\sqrt{7}}{21}\\\\1 & 1 & 1\\end{matrix}\\right]"
          },
          "metadata": {}
        },
        {
          "output_type": "display_data",
          "data": {
            "text/plain": [
              "<IPython.core.display.Latex object>"
            ],
            "text/latex": "Матрица\\ квадратичной\\ формы\\ в\\ новом\\ базисе:\\left[\\begin{matrix}-275 & 0 & 0\\\\0 & -200 & 0\\\\0 & 0 & 225\\end{matrix}\\right]"
          },
          "metadata": {}
        },
        {
          "output_type": "display_data",
          "data": {
            "text/plain": [
              "<IPython.core.display.Latex object>"
            ],
            "text/latex": "Квадратичная\\ форма\\ в\\ старом\\ базисе:- 167 x^{2} + 34 \\sqrt{21} x y - 216 \\sqrt{3} x z - 132 y^{2} - 102 \\sqrt{7} y z + 49 z^{2}"
          },
          "metadata": {}
        },
        {
          "output_type": "display_data",
          "data": {
            "text/plain": [
              "<IPython.core.display.Latex object>"
            ],
            "text/latex": "Квадратичная\\ форма\\ в\\ новом\\ базисе:- 275 x^{2} - 200 y^{2} + 225 z^{2}"
          },
          "metadata": {}
        }
      ]
    }
  ],
  "metadata": {
    "kernelspec": {
      "display_name": "Python 3",
      "language": "python",
      "name": "python3"
    },
    "language_info": {
      "codemirror_mode": {
        "name": "ipython",
        "version": 3
      },
      "file_extension": ".py",
      "mimetype": "text/x-python",
      "name": "python",
      "nbconvert_exporter": "python",
      "pygments_lexer": "ipython3",
      "version": "3.7.3"
    },
    "colab": {
      "provenance": []
    }
  },
  "nbformat": 4,
  "nbformat_minor": 0
}