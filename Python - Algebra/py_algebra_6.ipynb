{
  "nbformat": 4,
  "nbformat_minor": 0,
  "metadata": {
    "kernelspec": {
      "display_name": "Python 3",
      "language": "python",
      "name": "python3"
    },
    "language_info": {
      "codemirror_mode": {
        "name": "ipython",
        "version": 3
      },
      "file_extension": ".py",
      "mimetype": "text/x-python",
      "name": "python",
      "nbconvert_exporter": "python",
      "pygments_lexer": "ipython3",
      "version": "3.7.3"
    },
    "colab": {
      "provenance": []
    }
  },
  "cells": [
    {
      "cell_type": "code",
      "metadata": {
        "id": "7VmodJtRlts5"
      },
      "source": [
        "import sympy\n",
        "from sympy import  Symbol, symbols, S, Point, Line, Plane, Point3D,\\\n",
        "Matrix, Eq, latex, sqrt, simplify, solve, linsolve\n",
        "from IPython.display import display, Latex"
      ],
      "execution_count": 95,
      "outputs": []
    },
    {
      "cell_type": "markdown",
      "metadata": {
        "id": "AUjRxXCzlts-"
      },
      "source": [
        "# Практическое занятие 6\n",
        "# Компьютерный практикум по алгебре на Python\n",
        "##  Прямые и плоскости в пространстве. Geometry.\n",
        "### Задание 1.\n",
        "Задать точки $A(-1, 2, -4)$,\n",
        "$B(2, -2, 1)$,\n",
        "$C(5, 3, -6)$,\n",
        "$D(0, 3, -6)$ как Point из Geometry и\n",
        "найти с помощью  **angle_between** угол между плоскостями $ABC$ и  $ABD$.\n"
      ]
    },
    {
      "cell_type": "code",
      "source": [
        "A = Point(-1, 2, -4)\n",
        "B = Point(2, -2, 1)\n",
        "C = Point(5, 3, -6)\n",
        "D = Point(0, 3, -6)\n",
        "\n",
        "ABC = Plane(A, B, C)\n",
        "ABD = Plane(A, B, D)\n",
        "\n",
        "display(Latex(fr\"\"\"\\text{{Угол между плоскостями ABC и ABD равен }} {latex(ABC.angle_between(ABD))}\"\"\"))"
      ],
      "metadata": {
        "id": "DBnpC8QWA8Eo",
        "colab": {
          "base_uri": "https://localhost:8080/",
          "height": 47
        },
        "outputId": "db83dc85-76dd-40d3-af8c-33c63055c392"
      },
      "execution_count": null,
      "outputs": [
        {
          "output_type": "display_data",
          "data": {
            "text/plain": [
              "<IPython.core.display.Latex object>"
            ],
            "text/latex": "\\text{Угол между плоскостями ABC и ABD равен } \\operatorname{acos}{\\left(\\frac{99 \\sqrt{40454}}{20227} \\right)}"
          },
          "metadata": {}
        }
      ]
    },
    {
      "cell_type": "markdown",
      "metadata": {
        "id": "wg9WwHnwlttE"
      },
      "source": [
        "### Задание 2.\n",
        "Найти угол между прямой, проходящей через точки $A(-3,5,1)$ и $B(5,2,-3)$ и плоскостью, в которой лежат точки\n",
        "$K(4,3,0)$, $M(2,4,-2)$ и $N(-2,2,-1)$."
      ]
    },
    {
      "cell_type": "code",
      "source": [
        "A = Point(-3, 5, 1)\n",
        "B = Point(5, 2, -3)\n",
        "\n",
        "K = Point(4, 3, 0)\n",
        "M = Point(2, 4, -2)\n",
        "N = Point(-2, 2, -1)\n",
        "\n",
        "AB = Line(A, B)\n",
        "KMN = Plane(K, M, N)\n",
        "\n",
        "display(Latex(fr\"\"\"\\text{{Угол между AB и KMN равен }} {latex(KMN.angle_between(AB))}\"\"\"))"
      ],
      "metadata": {
        "id": "WlYRPVNMA8__",
        "colab": {
          "base_uri": "https://localhost:8080/",
          "height": 47
        },
        "outputId": "62d3f1cb-4cff-4aea-ec4b-7f3b5b2f773b"
      },
      "execution_count": null,
      "outputs": [
        {
          "output_type": "display_data",
          "data": {
            "text/plain": [
              "<IPython.core.display.Latex object>"
            ],
            "text/latex": "\\text{Угол между AB и KMN равен } - \\operatorname{asin}{\\left(\\frac{86 \\sqrt{15397}}{15397} \\right)}"
          },
          "metadata": {}
        }
      ]
    },
    {
      "cell_type": "markdown",
      "metadata": {
        "id": "1D0Y4l43lttF"
      },
      "source": [
        "### Задание 3.\n",
        "Проверить, лежат ли точки в одной плоскости\n",
        "\n",
        "а) $A(3, 2, -1)$, $B(2, -1, 0)$, $C(5, 2, -6)$, $D(6, 5, -7)$\n",
        "\n",
        "b) $A(-1, 5, -4)$, $B(7, -2, 1)$, $C(6, 3, -8)$, $D(0, 3, 0)$\n",
        "\n",
        "Вывести на экран сообщение \"Точки лежат в одной плоскости\" или \"Точки не лежат в одной плоскости\"."
      ]
    },
    {
      "cell_type": "code",
      "source": [
        "def result(A, B, C, D):\n",
        "  res = ''\n",
        "  if not(Point3D.are_coplanar(A, B, C, D)):\n",
        "    res = 'не '\n",
        "  print(f\"Точки A, B, C, D {res}лежат в одной плоскости.\")\n",
        "\n",
        "A = Point(3, 2, -1)\n",
        "B = Point(2, -1, 0)\n",
        "C = Point(5, 2, -6)\n",
        "D = Point(6, 5, -7)\n",
        "result(A, B, C, D)\n",
        "\n",
        "A = Point(-1, 5, -4)\n",
        "B = Point(7, -2, 1)\n",
        "C = Point(6, 3, -8)\n",
        "D = Point(0, 3, 0)\n",
        "result(A, B, C, D)\n"
      ],
      "metadata": {
        "id": "1VHHADUOA-Vn",
        "colab": {
          "base_uri": "https://localhost:8080/"
        },
        "outputId": "27b6f201-75bb-4599-9e1e-705085d61b64"
      },
      "execution_count": null,
      "outputs": [
        {
          "output_type": "stream",
          "name": "stdout",
          "text": [
            "Точки A, B, C, D лежат в одной плоскости.\n",
            "Точки A, B, C, D не лежат в одной плоскости.\n"
          ]
        }
      ]
    },
    {
      "cell_type": "markdown",
      "source": [
        "###  Задание 4.\n",
        "Для плоскостей Задания 1 найти векторы нормали (воспользоваться свойством normal_vector), преобразовать их в матрицы-столбцы и вычислить угол между плоскостями с помощью скалярного произведения. Сравнить с результатом Задания 1."
      ],
      "metadata": {
        "id": "e3a-OT4B8RUG"
      }
    },
    {
      "cell_type": "code",
      "source": [
        "A = Point(-1, 2, -4)\n",
        "B = Point(2, -2, 1)\n",
        "C = Point(5, 3, -6)\n",
        "D = Point(0, 3, -6)\n",
        "\n",
        "ABC = Plane(A, B, C)\n",
        "ABD = Plane(A, B, D)\n",
        "\n",
        "ABC_Matrix = Matrix(ABC.normal_vector)\n",
        "ABD_Matrix = Matrix(ABD.normal_vector)\n",
        "\n",
        "res = ABC_Matrix.dot(ABD_Matrix) / (sqrt(ABC_Matrix.dot(ABC_Matrix)) * sqrt(ABD_Matrix.dot(ABD_Matrix)))\n",
        "\n",
        "\n",
        "display(res)"
      ],
      "metadata": {
        "id": "zTsI-FcIA_To",
        "colab": {
          "base_uri": "https://localhost:8080/",
          "height": 55
        },
        "outputId": "21095399-3b61-4554-baf1-14d52cd733db"
      },
      "execution_count": 4,
      "outputs": [
        {
          "output_type": "display_data",
          "data": {
            "text/plain": [
              "99*sqrt(40454)/20227"
            ],
            "text/latex": "$\\displaystyle \\frac{99 \\sqrt{40454}}{20227}$"
          },
          "metadata": {}
        }
      ]
    },
    {
      "cell_type": "markdown",
      "metadata": {
        "id": "giXGCDt2lttH"
      },
      "source": [
        "###  Задание 5.\n",
        "Прямая задана параметрическими уравнениями:\n",
        "$$\n",
        "\\left\\{\\begin{matrix}\n",
        "x=2+5t\\\\\n",
        "y=-1-2t\\\\\n",
        "z=4-3t\n",
        "\\end{matrix}\\right..\n",
        "$$\n",
        "Представить прямую в виде линии пересечения двух плоскостей (вывести на экран уравнения плоскостей),\n",
        "одна из которых проходит через начало координат, а вторая плоскость перпендикулярна первой плоскости.\n",
        "\n",
        "**Указание:** сначала найти две различные точки на прямой и далее решить средствами для работы с прямыми и плоскостями из модуля Geometry."
      ]
    },
    {
      "cell_type": "code",
      "source": [
        "t = Symbol('t')\n",
        "base = Matrix([2+5*t, -1-2*t, 4-3*t])\n",
        "\n",
        "A = Point(0, 0, 0)\n",
        "B = Point(base.subs(t, 0))\n",
        "C = Point(base.subs(t, 1))\n",
        "\n",
        "first = Plane(A, B, C)\n",
        "display(Latex(fr'\\text{{Уравнение первой плоскости: }}{latex(Eq(first.equation(), 0))}'))\n",
        "\n",
        "v_norm = first.perpendicular_line(B)\n",
        "second = Plane(C, v_norm.p1, v_norm.p2)\n",
        "display(Latex(fr'\\text{{Уравнение второй плоскости: }}{latex(simplify(Eq(second.equation(), 0)))}'))"
      ],
      "metadata": {
        "id": "sYEF6uteBAVg",
        "colab": {
          "base_uri": "https://localhost:8080/",
          "height": 61
        },
        "outputId": "34575508-df34-4a72-dd77-b2be87bcd600"
      },
      "execution_count": 64,
      "outputs": [
        {
          "output_type": "display_data",
          "data": {
            "text/plain": [
              "<IPython.core.display.Latex object>"
            ],
            "text/latex": "\\text{Уравнение первой плоскости: }11 x + 26 y + z = 0"
          },
          "metadata": {}
        },
        {
          "output_type": "display_data",
          "data": {
            "text/plain": [
              "<IPython.core.display.Latex object>"
            ],
            "text/latex": "\\text{Уравнение второй плоскости: }2 x - y + 4 z = 21"
          },
          "metadata": {}
        }
      ]
    },
    {
      "cell_type": "markdown",
      "metadata": {
        "id": "vrK0LeOdlttJ"
      },
      "source": [
        "###  Задание 6*.\n",
        "Даны точки  пространстве\n",
        "$A(-2, 7, -5)$, $B(6, 2, -4)$, $C(14, -3, -2)$, $D(22, -8, -2)$, $K(30, -7, -4)$,\n",
        "$M(94, -35, -2)$.\n",
        "\n",
        "Определить, какие тройки точек лежат на одной прямой, какие четверки - в одной плоскости.\n",
        "\n",
        "Для проверки того, что три точки лежат на одной прямой использовать Point3D.are_collinear.\n",
        "\n",
        "Вывести на экран тройки точек, лежащие на одной прямой и четверки точек, лежащих в одной плоскости."
      ]
    },
    {
      "cell_type": "code",
      "source": [
        "A = Point(-2, 7, -5)\n",
        "B = Point(6, 2, -4)\n",
        "C = Point(14, -3, -2)\n",
        "D = Point(22, -8, -2)\n",
        "K = Point(30, -7, -4)\n",
        "M = Point(94, -35, -2)\n",
        "\n",
        "points = [A, B, C, D, K, M]\n",
        "point_names = ['A', 'B', 'C', 'D', 'K', 'M']\n",
        "one_line = []\n",
        "one_plane = []\n",
        "n = len(points)\n",
        "for i in range(n):\n",
        "  for j in range(i + 1, n):\n",
        "    for k in range(j + 1, n):\n",
        "      if (Point3D.are_collinear(points[i], points[j], points[k])):\n",
        "        one_line += [f'{point_names[i]}, {point_names[j]}, {point_names[k]}']\n",
        "        for l in range(k+1, n):\n",
        "          if (Point3D.are_collinear(points[i], points[j], points[k])):\n",
        "            one_plane += [f'{point_names[i]}, {point_names[j]}, {point_names[k]}, {point_names[l]}']\n",
        "\n",
        "for i in one_line:\n",
        "  print(i + ' - лежат на одной прямой')\n",
        "for i in one_line:\n",
        "  print(i + ' - лежат в одной плоскости')"
      ],
      "metadata": {
        "id": "Muwz7xCcBBmg",
        "colab": {
          "base_uri": "https://localhost:8080/"
        },
        "outputId": "c2d64b70-48ef-4d81-9589-68eeb63539bd"
      },
      "execution_count": 65,
      "outputs": [
        {
          "output_type": "stream",
          "name": "stdout",
          "text": [
            "A, B, D - лежат на одной прямой\n",
            "A, K, M - лежат на одной прямой\n",
            "A, B, D - лежат в одной плоскости\n",
            "A, K, M - лежат в одной плоскости\n"
          ]
        }
      ]
    },
    {
      "cell_type": "markdown",
      "metadata": {
        "id": "FE1XD5JYlttL"
      },
      "source": [
        "###  Задание 7*.\n",
        "Составить уравнения всех (различных!) плоскостей, определяемых точками задания 1.\n",
        "\n",
        "Указание: решать аналогично Примеру 11, проверить, что $A$, $B$, $C$ не лежат на одной прямой и составить плоскость $ABC$, включить ее в список плоскостей."
      ]
    },
    {
      "cell_type": "code",
      "source": [
        "A = Point(-1, 2, -4)\n",
        "B = Point(2, -2, 1)\n",
        "C = Point(5, 3, -6)\n",
        "D = Point(0, 3, -6)\n",
        "\n",
        "points = [A, B, C, D]\n",
        "point_names = ['A', 'B', 'C', 'D']\n",
        "planes = []\n",
        "\n",
        "n = len(points)\n",
        "for i in range(n):\n",
        "  for j in range(i + 1, n):\n",
        "    for k in range(j + 1, n):\n",
        "      if Point3D.are_coplanar(points[i], points[j], points[k]):\n",
        "        display(Latex(fr'{point_names[i]}{point_names[j]}{point_names[k]}: {latex(Eq(Plane(points[i], points[j], points[k]).equation(), 0))}'))"
      ],
      "metadata": {
        "id": "6-imt_zJBDZp",
        "colab": {
          "base_uri": "https://localhost:8080/",
          "height": 104
        },
        "outputId": "558af737-8c3b-446d-98b4-fd9863df4283"
      },
      "execution_count": 76,
      "outputs": [
        {
          "output_type": "display_data",
          "data": {
            "text/plain": [
              "<IPython.core.display.Latex object>"
            ],
            "text/latex": "ABC: 3 x + 36 y + 27 z + 39 = 0"
          },
          "metadata": {}
        },
        {
          "output_type": "display_data",
          "data": {
            "text/plain": [
              "<IPython.core.display.Latex object>"
            ],
            "text/latex": "ABD: 3 x + 11 y + 7 z + 9 = 0"
          },
          "metadata": {}
        },
        {
          "output_type": "display_data",
          "data": {
            "text/plain": [
              "<IPython.core.display.Latex object>"
            ],
            "text/latex": "ACD: 10 y + 5 z = 0"
          },
          "metadata": {}
        },
        {
          "output_type": "display_data",
          "data": {
            "text/plain": [
              "<IPython.core.display.Latex object>"
            ],
            "text/latex": "BCD: 35 y + 25 z + 45 = 0"
          },
          "metadata": {}
        }
      ]
    },
    {
      "cell_type": "markdown",
      "metadata": {
        "id": "ZWS39VoElttM"
      },
      "source": [
        "### Индивидуальное задание\n",
        "Даны точки в пространстве\n",
        "$A$, $B$, $C$ и\n",
        "$M$.\n",
        "\n",
        "Найти угол между прямой $AB$ и плоскостью $CDM$, угол между $AC$ и $CM$, угол между плоскостями $ABC$ и $CDM$.\n",
        "\n",
        "Составить уравнение:\n",
        "\n",
        "a) плоскости, параллельной $ABC$ и проходящей через $M$,\n",
        "\n",
        "b) плоскости, перпендикулярной $ABC$ и проходящей через $A$ и $M$,\n",
        "\n",
        "c) прямой (параметрическое!), перпендикулярной $ABC$ и проходящей через $C$."
      ]
    },
    {
      "cell_type": "markdown",
      "source": [
        "![image.png](data:image/png;base64,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)"
      ],
      "metadata": {
        "id": "NHnNkRJn5VRb"
      }
    },
    {
      "cell_type": "code",
      "source": [
        "A = Point(-2, -1, 1)\n",
        "B = Point(3, 3, 4)\n",
        "C = Point(5, 1, 5)\n",
        "D = Point(-4, 2, 0)\n",
        "M = Point(1, 2, 0)\n",
        "\n",
        "AB = Line(A, B)\n",
        "AC = Line(A, C)\n",
        "CM = Line(C, M)\n",
        "ABC = Plane(A, B, C)\n",
        "CDM = Plane(C, D, M)\n",
        "\n",
        "display(Latex(fr'∠(AB, CDM) = {latex(CDM.angle_between(AB))}'))\n",
        "display(Latex(fr'∠(AC, CM) = {latex(CM.angle_between(AC))}'))\n",
        "display(Latex(fr'∠(ABC, CDM) = {latex(CDM.angle_between(ABC))}'))\n",
        "\n",
        "print('\\nα || ABC & M ∊\tα:')\n",
        "display(Eq(ABC.parallel_plane(M).equation(), 0))\n",
        "\n",
        "print('\\nα ⊥ ABC & M ∊ α & A ∊ α:')\n",
        "display(Eq(ABC.perpendicular_plane(A, M).equation(), 0))\n",
        "\n",
        "print('\\nα ⊥ ABC & C ∊ α:')\n",
        "display(solve(Matrix(ABC.perpendicular_line(C).equation())))"
      ],
      "metadata": {
        "id": "GC247453BEy3",
        "colab": {
          "base_uri": "https://localhost:8080/",
          "height": 277
        },
        "outputId": "5e4dda0e-9aae-480d-906f-a7d59b48474a"
      },
      "execution_count": 101,
      "outputs": [
        {
          "output_type": "display_data",
          "data": {
            "text/plain": [
              "<IPython.core.display.Latex object>"
            ],
            "text/latex": "∠(AB, CDM) = - \\operatorname{asin}{\\left(\\frac{23 \\sqrt{13}}{130} \\right)}"
          },
          "metadata": {}
        },
        {
          "output_type": "display_data",
          "data": {
            "text/plain": [
              "<IPython.core.display.Latex object>"
            ],
            "text/latex": "∠(AC, CM) = \\operatorname{acos}{\\left(- \\frac{\\sqrt{322}}{21} \\right)}"
          },
          "metadata": {}
        },
        {
          "output_type": "display_data",
          "data": {
            "text/plain": [
              "<IPython.core.display.Latex object>"
            ],
            "text/latex": "∠(ABC, CDM) = \\operatorname{acos}{\\left(\\frac{\\sqrt{442}}{170} \\right)}"
          },
          "metadata": {}
        },
        {
          "output_type": "stream",
          "name": "stdout",
          "text": [
            "\n",
            "α || ABC & M ∊\tα:\n"
          ]
        },
        {
          "output_type": "display_data",
          "data": {
            "text/plain": [
              "Eq(10*x + y - 18*z - 12, 0)"
            ],
            "text/latex": "$\\displaystyle 10 x + y - 18 z - 12 = 0$"
          },
          "metadata": {}
        },
        {
          "output_type": "stream",
          "name": "stdout",
          "text": [
            "\n",
            "α ⊥ ABC & M ∊ α & A ∊ α:\n"
          ]
        },
        {
          "output_type": "display_data",
          "data": {
            "text/plain": [
              "Eq(-53*x + 44*y - 27*z - 35, 0)"
            ],
            "text/latex": "$\\displaystyle - 53 x + 44 y - 27 z - 35 = 0$"
          },
          "metadata": {}
        },
        {
          "output_type": "stream",
          "name": "stdout",
          "text": [
            "\n",
            "α ⊥ ABC & C ∊ α:\n"
          ]
        },
        {
          "output_type": "display_data",
          "data": {
            "text/plain": [
              "{x: 70/9 - 5*z/9, y: 23/18 - z/18}"
            ]
          },
          "metadata": {}
        }
      ]
    }
  ]
}