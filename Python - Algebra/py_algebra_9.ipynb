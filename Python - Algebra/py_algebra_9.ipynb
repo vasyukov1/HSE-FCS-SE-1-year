{
  "nbformat": 4,
  "nbformat_minor": 0,
  "metadata": {
    "kernelspec": {
      "display_name": "Python 3",
      "language": "python",
      "name": "python3"
    },
    "language_info": {
      "codemirror_mode": {
        "name": "ipython",
        "version": 3
      },
      "file_extension": ".py",
      "mimetype": "text/x-python",
      "name": "python",
      "nbconvert_exporter": "python",
      "pygments_lexer": "ipython3",
      "version": "3.7.3"
    },
    "colab": {
      "provenance": []
    }
  },
  "cells": [
    {
      "cell_type": "code",
      "metadata": {
        "id": "eTUL_xdODebk"
      },
      "source": [
        "import numpy as np\n",
        "import sympy, math\n",
        "from sympy import I, latex, pi\n",
        "from IPython.display import display, Latex\n",
        "import matplotlib.pyplot as plt\n",
        "from google.colab import files\n",
        "import pandas as pd"
      ],
      "execution_count": 2,
      "outputs": []
    },
    {
      "cell_type": "markdown",
      "metadata": {
        "id": "NYucazc7Debp"
      },
      "source": [
        "# Занятие 9\n",
        "# Алгебра\n",
        "## Комплексные числа в sympy\n",
        "### Задание 1.\n",
        "Даны комплексные числа\n",
        "$$\n",
        "z_1 = 5\\sqrt{3} + 5i,\\quad z_2 = -3 + 3i,\\quad z_3 = - 1 + i,\\quad z_4 = i,\\quad z_5 = \\frac{12}{13} + \\frac{5}{13}i,\n",
        "$$\n",
        "вычислить (представить в алгебраической форме) с помощью sympy\n",
        "$$\n",
        "z_1 \\cdot z_2,\\quad (z_2 - 5z_3)^6,\\quad \\sqrt{\\frac{z_4}{z_3}},\\quad \\frac{z_1^2 + z_3}{13z_5 - 2z_2}.\n",
        "$$"
      ]
    },
    {
      "cell_type": "code",
      "source": [
        "z1 = 5 * 3 ** sympy.S.Half + 5 * I\n",
        "z2 = -3 + 3 * I\n",
        "z3 = -1 + I\n",
        "z4 = I\n",
        "z5 = sympy.S(12) /13 + sympy.S(5) /13 * I\n",
        "\n",
        "complex_numbers = []\n",
        "for z in (z1  * z2, (z2 - 5 * z3) ** 6, (z4 / z3) ** sympy.S.Half, sympy.S(z1 ** 2 + z3) / (13 * z5 - 2 * z2)):\n",
        "  complex_numbers.append(z.simplify())\n",
        "\n",
        "display(*map(Latex, map(latex, map(sympy.expand_complex, complex_numbers))))"
      ],
      "metadata": {
        "id": "Ocriz2LkdybT",
        "colab": {
          "base_uri": "https://localhost:8080/",
          "height": 123
        },
        "outputId": "6f043202-72db-4068-c341-2aac06066804"
      },
      "execution_count": null,
      "outputs": [
        {
          "output_type": "display_data",
          "data": {
            "text/plain": [
              "<IPython.core.display.Latex object>"
            ],
            "text/latex": "- 15 \\sqrt{3} - 15 + i \\left(-15 + 15 \\sqrt{3}\\right)"
          },
          "metadata": {}
        },
        {
          "output_type": "display_data",
          "data": {
            "text/plain": [
              "<IPython.core.display.Latex object>"
            ],
            "text/latex": "512 i"
          },
          "metadata": {}
        },
        {
          "output_type": "display_data",
          "data": {
            "text/plain": [
              "<IPython.core.display.Latex object>"
            ],
            "text/latex": "\\frac{2^{\\frac{3}{4}} \\sqrt{\\frac{\\sqrt{2}}{4} + \\frac{1}{2}}}{2} - \\frac{2^{\\frac{3}{4}} i \\sqrt{\\frac{1}{2} - \\frac{\\sqrt{2}}{4}}}{2}"
          },
          "metadata": {}
        },
        {
          "output_type": "display_data",
          "data": {
            "text/plain": [
              "<IPython.core.display.Latex object>"
            ],
            "text/latex": "- \\frac{2 \\sqrt{3}}{13} + \\frac{881}{325} + i \\left(\\frac{67}{325} + \\frac{36 \\sqrt{3}}{13}\\right)"
          },
          "metadata": {}
        }
      ]
    },
    {
      "cell_type": "markdown",
      "metadata": {
        "id": "hMWTheVHDebr"
      },
      "source": [
        "### Задание  2.\n",
        "Вычисления Примера 1 проделать для мнимой единицы из Python (использовать встроенную функцию complex)."
      ]
    },
    {
      "cell_type": "code",
      "source": [
        "z1 = complex(5 * 3 ** (1/2), 5)\n",
        "z2 = complex(-3, 3)\n",
        "z3 = complex(-1, 1)\n",
        "z4 = complex(0, 1)\n",
        "z5 = complex(12/13, 5/13)\n",
        "print(z1  * z2, (z2 - 5 * z3) ** 6, (z4 / z3) ** (1/2), (z1 ** 2 + z3) / (13 * z5 - 2 * z2), sep=', ')"
      ],
      "metadata": {
        "id": "KvSI1jmQdzsV",
        "colab": {
          "base_uri": "https://localhost:8080/"
        },
        "outputId": "e13a35c8-60df-4a06-fd02-507480914c44"
      },
      "execution_count": null,
      "outputs": [
        {
          "output_type": "stream",
          "name": "stdout",
          "text": [
            "(-40.98076211353316+10.980762113533157j), (-0+512j), (0.7768869870150187-0.32179712645279135j), (2.4442998757586336+5.002602236344583j)\n"
          ]
        }
      ]
    },
    {
      "cell_type": "markdown",
      "metadata": {
        "id": "tb3ET3y6Debs"
      },
      "source": [
        "### Задание  3.\n",
        "Изобразить на координатной плоскости точки, соответствующие корням  $7$-й степени комплексного числа $z = \\frac{3}{5} + i\\frac{3}{5}$. Подписать точки $A_k$, где $k$  - номер корня."
      ]
    },
    {
      "cell_type": "code",
      "source": [
        "n = 7\n",
        "roots_list = [sympy.root(3/5 - 3/5 * I, n, k) for k in range(n)]\n",
        "\n",
        "for x, y, k_complex_z in zip(map(sympy.re, roots_list),\n",
        "                             map(sympy.im, roots_list),\n",
        "                             enumerate(roots_list)):\n",
        "  plt.scatter(x, y)\n",
        "  k, complex_z = k_complex_z\n",
        "  plt.annotate(f'$A_{k} = {sympy.latex(complex_z)}$',\n",
        "               xy=(x, y),\n",
        "               xytext=(x + 0.05, y - 0.10))\n",
        "plt.axis('equal')\n",
        "plt.xlabel(\"Re\")\n",
        "plt.ylabel(\"Im\")\n",
        "plt.xlim(-4, 4.5)\n",
        "plt.ylim(-1.5, 1.5)"
      ],
      "metadata": {
        "id": "neb-xd6-d1Mf",
        "colab": {
          "base_uri": "https://localhost:8080/",
          "height": 473
        },
        "outputId": "f8591802-fddc-487e-f4d0-a1a963ece424"
      },
      "execution_count": null,
      "outputs": [
        {
          "output_type": "execute_result",
          "data": {
            "text/plain": [
              "(-1.5, 1.5)"
            ]
          },
          "metadata": {},
          "execution_count": 73
        },
        {
          "output_type": "display_data",
          "data": {
            "text/plain": [
              "<Figure size 640x480 with 1 Axes>"
            ],
            "image/png": "[encoded data removed]"
          },
          "metadata": {}
        }
      ]
    },
    {
      "cell_type": "markdown",
      "metadata": {
        "id": "t9mDRl5eDebt"
      },
      "source": [
        "### Задание  4.\n",
        "Изобразить на координатной плоскости точки, соответствующие $z_4 = - \\sqrt{3} + 3i$ и $\\bar{z_4}$, подписать $z_4$ тригонометрической формой, $\\bar{z_4}$ - экспоненциальной ($z = r e^{i\\varphi}$, $r$ и $\\varphi$ такие же, как в тригонометрической форме)."
      ]
    },
    {
      "cell_type": "code",
      "source": [
        "z4 = -3 ** sympy.S.Half + 3 * I\n",
        "z4_conjugate = sympy.re(z4) - I * sympy.im(z4)\n",
        "roots = [z4, z4_conjugate]\n",
        "\n",
        "def draw(z, k):\n",
        "    r = sympy.functions.Abs(z)\n",
        "    phi = sympy.functions.arg(z)\n",
        "    x, y = sympy.re(z), sympy.im(z)\n",
        "    plt.scatter(x, y)\n",
        "    if k == 0:\n",
        "      plt.annotate(f'$A_{k} = {sympy.latex(r)}(cos{sympy.latex(phi)} + i sin{sympy.latex(phi)})$',\n",
        "                   xy=(x, y),\n",
        "                   xytext=(x + 0.05, y - 0.05))\n",
        "    else:\n",
        "      plt.scatter(x, y)\n",
        "      plt.annotate(f\"$A_{k} = {sympy.latex(r * sympy.exp(I * phi))}$\",\n",
        "                   xy=(x, y),\n",
        "                   xytext=(x + 0.05, y - 0.05))\n",
        "\n",
        "draw(z4, 0)\n",
        "draw(z4_conjugate, 1)\n",
        "\n",
        "plt.axis('equal')\n",
        "plt.xlabel(\"Re\")\n",
        "plt.ylabel(\"Im\")\n",
        "plt.xlim(-9, 9.5)\n",
        "plt.ylim(-9.5, 9.5)"
      ],
      "metadata": {
        "id": "FcntYpzld2Pu",
        "colab": {
          "base_uri": "https://localhost:8080/",
          "height": 467
        },
        "outputId": "54c11210-fb0b-4a59-888c-e443071ed902"
      },
      "execution_count": null,
      "outputs": [
        {
          "output_type": "execute_result",
          "data": {
            "text/plain": [
              "(-9.5, 9.5)"
            ]
          },
          "metadata": {},
          "execution_count": 72
        },
        {
          "output_type": "display_data",
          "data": {
            "text/plain": [
              "<Figure size 640x480 with 1 Axes>"
            ],
            "image/png": "[encoded data removed]"
          },
          "metadata": {}
        }
      ]
    },
    {
      "cell_type": "markdown",
      "metadata": {
        "id": "GRVpOD5bDebv"
      },
      "source": [
        "#### Задание  5*.\n",
        "Изобразить корни 4 степени числа $5e^{\\frac{i\\pi}{8}}$, в полярной системе координат, подписи к точкам - аргументы (углы) сответствующих комплексных чисел.\n",
        "\n",
        "Число вводить в тригонометрической форме, для получения корней комплексного числа $z = r(\\cos(\\varphi) + \\sin(\\varphi))$ использовать формулу\n",
        "$\\sqrt[n]{z} = \\sqrt[n]{r}(\\cos(\\varphi_k) + i \\sin(\\varphi_k))$,\n",
        "$\\varphi_k = \\frac{\\varphi + 2\\pi k}{n}$, $k = 0, ..., n$.\n",
        "\n",
        "Вывести алгебраическую форму полученных корней на экран и сравнить с результатом, полученным с помощью sympy.root (с использованием sympy.expand_complex для упрощения выражения). Аналитическое представление оказывается разным.\n",
        "\n",
        "Для каждого корня найти разность в формате float модуля разности корней, полученных двумя способами (т.е. нужно для каждой пары одинаковых корней, полученных двумя способами находить разность корней, вычислять модуль sympy.Abs этой разности и преобразовывать результат в формат float)."
      ]
    },
    {
      "cell_type": "code",
      "source": [
        "def to_trig(z, k, n):\n",
        "    r = sympy.functions.Abs(z)\n",
        "    phi = (sympy.functions.arg(z) + 2 * pi * k) / n\n",
        "    return r * (sympy.cos(phi) + I * sympy.sin(phi))\n",
        "\n",
        "z = 5 * (sympy.cos(pi/8) + I * sympy.sin(pi/8))\n",
        "n = 4\n",
        "roots = [5**(1/n) * (sympy.cos((pi/8 + 2*pi*k)/n) + I * sympy.sin((pi/8 + 2*pi*k)/n)) for k in range(n)]\n",
        "roots_sympy = [sympy.expand_complex(sympy.root(5 * sympy.exp(I * pi/8), n, k)) for k in range(n)]\n",
        "\n",
        "for k in range(n):\n",
        "    phi = (np.pi / 8 + 2 * np.pi * k) / n\n",
        "    plt.polar(phi, k, 'go')\n",
        "    plt.annotate(f\"{phi:.3f}\", xy=(phi, k), xytext=(phi, k), textcoords='offset points')\n",
        "plt.savefig('picture_task_5.png')\n",
        "\n",
        "print('Сравнение:')\n",
        "for i in range(n):\n",
        "  display(roots_sympy[i])\n",
        "  display(roots[i] == roots_sympy[i])\n",
        "print('Аналитическое представление оказывается разным.')"
      ],
      "metadata": {
        "id": "S_v-ypkVd3WQ",
        "colab": {
          "base_uri": "https://localhost:8080/",
          "height": 691
        },
        "outputId": "7656a241-2ab4-4305-b80b-d62ba9d58492"
      },
      "execution_count": 38,
      "outputs": [
        {
          "output_type": "stream",
          "name": "stdout",
          "text": [
            "Сравнение:\n"
          ]
        },
        {
          "output_type": "display_data",
          "data": {
            "text/plain": [
              "5**(1/4)*cos(pi/32) + 5**(1/4)*I*sin(pi/32)"
            ],
            "text/latex": "$\\displaystyle \\sqrt[4]{5} \\cos{\\left(\\frac{\\pi}{32} \\right)} + \\sqrt[4]{5} i \\sin{\\left(\\frac{\\pi}{32} \\right)}$"
          },
          "metadata": {}
        },
        {
          "output_type": "display_data",
          "data": {
            "text/plain": [
              "False"
            ]
          },
          "metadata": {}
        },
        {
          "output_type": "display_data",
          "data": {
            "text/plain": [
              "-5**(1/4)*sin(pi/32) + 5**(1/4)*I*cos(pi/32)"
            ],
            "text/latex": "$\\displaystyle - \\sqrt[4]{5} \\sin{\\left(\\frac{\\pi}{32} \\right)} + \\sqrt[4]{5} i \\cos{\\left(\\frac{\\pi}{32} \\right)}$"
          },
          "metadata": {}
        },
        {
          "output_type": "display_data",
          "data": {
            "text/plain": [
              "False"
            ]
          },
          "metadata": {}
        },
        {
          "output_type": "display_data",
          "data": {
            "text/plain": [
              "-5**(1/4)*cos(pi/32) - 5**(1/4)*I*sin(pi/32)"
            ],
            "text/latex": "$\\displaystyle - \\sqrt[4]{5} \\cos{\\left(\\frac{\\pi}{32} \\right)} - \\sqrt[4]{5} i \\sin{\\left(\\frac{\\pi}{32} \\right)}$"
          },
          "metadata": {}
        },
        {
          "output_type": "display_data",
          "data": {
            "text/plain": [
              "False"
            ]
          },
          "metadata": {}
        },
        {
          "output_type": "display_data",
          "data": {
            "text/plain": [
              "5**(1/4)*sin(pi/32) - 5**(1/4)*I*cos(pi/32)"
            ],
            "text/latex": "$\\displaystyle \\sqrt[4]{5} \\sin{\\left(\\frac{\\pi}{32} \\right)} - \\sqrt[4]{5} i \\cos{\\left(\\frac{\\pi}{32} \\right)}$"
          },
          "metadata": {}
        },
        {
          "output_type": "display_data",
          "data": {
            "text/plain": [
              "False"
            ]
          },
          "metadata": {}
        },
        {
          "output_type": "stream",
          "name": "stdout",
          "text": [
            "Аналитическое представление оказывается разным.\n"
          ]
        },
        {
          "output_type": "display_data",
          "data": {
            "text/plain": [
              "<Figure size 640x480 with 1 Axes>"
            ],
            "image/png": "[encoded data removed]"
          },
          "metadata": {}
        }
      ]
    },
    {
      "cell_type": "markdown",
      "source": [
        "#### Задание  6*.\n",
        "Считать из файла \"complex_numbers.xlsx\" комплексные числа (откройте файл, обратите внимание на подписи строк и столбцов, имя листа).\n",
        "Вывести на экран  считанные числа в алгебраической  форме, их модули и аргументы. Дописать в файл листы \"abs\" и \"arg\" с названиями строк в виде алгебраической формы комплексного числа (например, $2-3i$) и столбцом \"abs\" и \"arg\" соответсвенно со значениями модулей и аргументов чисел, округленными до 2 знаков после запятой. Округлять можно, например, с помощью round из Python.\n",
        "\n",
        "**Указание:** построить по считанным из файла значениям вещественной и мнимой части комплексные числа sympy, вычислить приближенно их модули и аргументы средствами sympy, затем округлить."
      ],
      "metadata": {
        "id": "sdLDvqr_G6Z6"
      }
    },
    {
      "cell_type": "code",
      "source": [
        "# Скачиваем файл.\n",
        "uploaded = files.upload()\n",
        "for file_name in uploaded.keys():\n",
        "    print(f'Загружен файл {file_name}')\n",
        "\n",
        "# Считываем файл.\n",
        "table = pd.read_excel(file_name, sheet_name='a+ib')\n",
        "Name_df = table['number'].tolist()\n",
        "Re_df = table['re'].tolist()\n",
        "Im_df = table['im'].tolist()\n",
        "\n",
        "numbers = []\n",
        "args = []\n",
        "abss = []\n",
        "# Вывод чисел из файла.\n",
        "for i in range(len(Name_df)):\n",
        "  z = complex(Re_df[i], Im_df[i])\n",
        "  abs = round(float(sympy.functions.Abs(z)), 2)\n",
        "  arg = round(float(sympy.functions.arg(z)), 2)\n",
        "  numbers += [str(z)]\n",
        "  args += [str(arg)]\n",
        "  abss += [str(abs)]\n",
        "  display(f'{Name_df[i]} = {z}; abs = {abs}; arg = {arg}')\n",
        "\n",
        "Xarg = pd.DataFrame(args)\n",
        "Xabs = pd.DataFrame(abss)\n",
        "Xname = pd.DataFrame(numbers)\n",
        "with pd.ExcelWriter(file_name, mode='a', if_sheet_exists='overlay') as writer:\n",
        "    Xname.to_excel(writer, sheet_name='abs', index=False, startcol = 0)\n",
        "    Xabs.to_excel(writer, sheet_name='abs', index=False, startcol = 1)\n",
        "    Xname.to_excel(writer, sheet_name='arg', index=False, startcol = 0)\n",
        "    Xarg.to_excel(writer, sheet_name='arg', index=False, startcol = 1)"
      ],
      "metadata": {
        "id": "73mSJpkcd43z",
        "colab": {
          "base_uri": "https://localhost:8080/",
          "height": 165
        },
        "outputId": "4aa6a933-2187-42bf-b560-b922b5354dcb"
      },
      "execution_count": 35,
      "outputs": [
        {
          "output_type": "display_data",
          "data": {
            "text/plain": [
              "<IPython.core.display.HTML object>"
            ],
            "text/html": [
              "\n",
              "     <input type=\"file\" id=\"files-af3625d0-6a5c-4b1f-9754-aea10597a167\" name=\"files[]\" multiple disabled\n",
              "        style=\"border:none\" />\n",
              "     <output id=\"result-af3625d0-6a5c-4b1f-9754-aea10597a167\">\n",
              "      Upload widget is only available when the cell has been executed in the\n",
              "      current browser session. Please rerun this cell to enable.\n",
              "      </output>\n",
              "      <script>// Copyright 2017 Google LLC\n",
              "//\n",
              "// Licensed under the Apache License, Version 2.0 (the \"License\");\n",
              "// you may not use this file except in compliance with the License.\n",
              "// You may obtain a copy of the License at\n",
              "//\n",
              "//      http://www.apache.org/licenses/LICENSE-2.0\n",
              "//\n",
              "// Unless required by applicable law or agreed to in writing, software\n",
              "// distributed under the License is distributed on an \"AS IS\" BASIS,\n",
              "// WITHOUT WARRANTIES OR CONDITIONS OF ANY KIND, either express or implied.\n",
              "// See the License for the specific language governing permissions and\n",
              "// limitations under the License.\n",
              "\n",
              "/**\n",
              " * @fileoverview Helpers for google.colab Python module.\n",
              " */\n",
              "(function(scope) {\n",
              "function span(text, styleAttributes = {}) {\n",
              "  const element = document.createElement('span');\n",
              "  element.textContent = text;\n",
              "  for (const key of Object.keys(styleAttributes)) {\n",
              "    element.style[key] = styleAttributes[key];\n",
              "  }\n",
              "  return element;\n",
              "}\n",
              "\n",
              "// Max number of bytes which will be uploaded at a time.\n",
              "const MAX_PAYLOAD_SIZE = 100 * 1024;\n",
              "\n",
              "function _uploadFiles(inputId, outputId) {\n",
              "  const steps = uploadFilesStep(inputId, outputId);\n",
              "  const outputElement = document.getElementById(outputId);\n",
              "  // Cache steps on the outputElement to make it available for the next call\n",
              "  // to uploadFilesContinue from Python.\n",
              "  outputElement.steps = steps;\n",
              "\n",
              "  return _uploadFilesContinue(outputId);\n",
              "}\n",
              "\n",
              "// This is roughly an async generator (not supported in the browser yet),\n",
              "// where there are multiple asynchronous steps and the Python side is going\n",
              "// to poll for completion of each step.\n",
              "// This uses a Promise to block the python side on completion of each step,\n",
              "// then passes the result of the previous step as the input to the next step.\n",
              "function _uploadFilesContinue(outputId) {\n",
              "  const outputElement = document.getElementById(outputId);\n",
              "  const steps = outputElement.steps;\n",
              "\n",
              "  const next = steps.next(outputElement.lastPromiseValue);\n",
              "  return Promise.resolve(next.value.promise).then((value) => {\n",
              "    // Cache the last promise value to make it available to the next\n",
              "    // step of the generator.\n",
              "    outputElement.lastPromiseValue = value;\n",
              "    return next.value.response;\n",
              "  });\n",
              "}\n",
              "\n",
              "/**\n",
              " * Generator function which is called between each async step of the upload\n",
              " * process.\n",
              " * @param {string} inputId Element ID of the input file picker element.\n",
              " * @param {string} outputId Element ID of the output display.\n",
              " * @return {!Iterable<!Object>} Iterable of next steps.\n",
              " */\n",
              "function* uploadFilesStep(inputId, outputId) {\n",
              "  const inputElement = document.getElementById(inputId);\n",
              "  inputElement.disabled = false;\n",
              "\n",
              "  const outputElement = document.getElementById(outputId);\n",
              "  outputElement.innerHTML = '';\n",
              "\n",
              "  const pickedPromise = new Promise((resolve) => {\n",
              "    inputElement.addEventListener('change', (e) => {\n",
              "      resolve(e.target.files);\n",
              "    });\n",
              "  });\n",
              "\n",
              "  const cancel = document.createElement('button');\n",
              "  inputElement.parentElement.appendChild(cancel);\n",
              "  cancel.textContent = 'Cancel upload';\n",
              "  const cancelPromise = new Promise((resolve) => {\n",
              "    cancel.onclick = () => {\n",
              "      resolve(null);\n",
              "    };\n",
              "  });\n",
              "\n",
              "  // Wait for the user to pick the files.\n",
              "  const files = yield {\n",
              "    promise: Promise.race([pickedPromise, cancelPromise]),\n",
              "    response: {\n",
              "      action: 'starting',\n",
              "    }\n",
              "  };\n",
              "\n",
              "  cancel.remove();\n",
              "\n",
              "  // Disable the input element since further picks are not allowed.\n",
              "  inputElement.disabled = true;\n",
              "\n",
              "  if (!files) {\n",
              "    return {\n",
              "      response: {\n",
              "        action: 'complete',\n",
              "      }\n",
              "    };\n",
              "  }\n",
              "\n",
              "  for (const file of files) {\n",
              "    const li = document.createElement('li');\n",
              "    li.append(span(file.name, {fontWeight: 'bold'}));\n",
              "    li.append(span(\n",
              "        `(${file.type || 'n/a'}) - ${file.size} bytes, ` +\n",
              "        `last modified: ${\n",
              "            file.lastModifiedDate ? file.lastModifiedDate.toLocaleDateString() :\n",
              "                                    'n/a'} - `));\n",
              "    const percent = span('0% done');\n",
              "    li.appendChild(percent);\n",
              "\n",
              "    outputElement.appendChild(li);\n",
              "\n",
              "    const fileDataPromise = new Promise((resolve) => {\n",
              "      const reader = new FileReader();\n",
              "      reader.onload = (e) => {\n",
              "        resolve(e.target.result);\n",
              "      };\n",
              "      reader.readAsArrayBuffer(file);\n",
              "    });\n",
              "    // Wait for the data to be ready.\n",
              "    let fileData = yield {\n",
              "      promise: fileDataPromise,\n",
              "      response: {\n",
              "        action: 'continue',\n",
              "      }\n",
              "    };\n",
              "\n",
              "    // Use a chunked sending to avoid message size limits. See b/62115660.\n",
              "    let position = 0;\n",
              "    do {\n",
              "      const length = Math.min(fileData.byteLength - position, MAX_PAYLOAD_SIZE);\n",
              "      const chunk = new Uint8Array(fileData, position, length);\n",
              "      position += length;\n",
              "\n",
              "      const base64 = btoa(String.fromCharCode.apply(null, chunk));\n",
              "      yield {\n",
              "        response: {\n",
              "          action: 'append',\n",
              "          file: file.name,\n",
              "          data: base64,\n",
              "        },\n",
              "      };\n",
              "\n",
              "      let percentDone = fileData.byteLength === 0 ?\n",
              "          100 :\n",
              "          Math.round((position / fileData.byteLength) * 100);\n",
              "      percent.textContent = `${percentDone}% done`;\n",
              "\n",
              "    } while (position < fileData.byteLength);\n",
              "  }\n",
              "\n",
              "  // All done.\n",
              "  yield {\n",
              "    response: {\n",
              "      action: 'complete',\n",
              "    }\n",
              "  };\n",
              "}\n",
              "\n",
              "scope.google = scope.google || {};\n",
              "scope.google.colab = scope.google.colab || {};\n",
              "scope.google.colab._files = {\n",
              "  _uploadFiles,\n",
              "  _uploadFilesContinue,\n",
              "};\n",
              "})(self);\n",
              "</script> "
            ]
          },
          "metadata": {}
        },
        {
          "output_type": "stream",
          "name": "stdout",
          "text": [
            "Saving complex_numbers.xlsx to complex_numbers.xlsx\n",
            "Загружен файл complex_numbers.xlsx\n"
          ]
        },
        {
          "output_type": "display_data",
          "data": {
            "text/plain": [
              "'z = (-1+2j); abs = 2.24; arg = 2.03'"
            ],
            "application/vnd.google.colaboratory.intrinsic+json": {
              "type": "string"
            }
          },
          "metadata": {}
        },
        {
          "output_type": "display_data",
          "data": {
            "text/plain": [
              "'w = (3-5j); abs = 5.83; arg = -1.03'"
            ],
            "application/vnd.google.colaboratory.intrinsic+json": {
              "type": "string"
            }
          },
          "metadata": {}
        },
        {
          "output_type": "display_data",
          "data": {
            "text/plain": [
              "'v = 4j; abs = 4.0; arg = 1.57'"
            ],
            "application/vnd.google.colaboratory.intrinsic+json": {
              "type": "string"
            }
          },
          "metadata": {}
        },
        {
          "output_type": "display_data",
          "data": {
            "text/plain": [
              "'t = (-3+0j); abs = 3.0; arg = 3.14'"
            ],
            "application/vnd.google.colaboratory.intrinsic+json": {
              "type": "string"
            }
          },
          "metadata": {}
        }
      ]
    },
    {
      "cell_type": "markdown",
      "metadata": {
        "id": "30FXizVhDebw"
      },
      "source": [
        "### Индивидуальное задание.\n",
        "Составить уравнение 3 степени с переменной $z$, корнями которого являются числа $z_1$, $z_2$ и $z_3$, вывести уравнение на экран (скобки должны быть раскрыты!).\n",
        "\n",
        "Решить полученное уравнение с использованием sympy.roots.\n",
        "Корни уравнения вывести на экран в алгебраической форме.\n",
        "\n",
        "Преобразовать **полученные** корни уравнения в комплексные числа Python (не sympy!), вывести на экран комплексно-сопряженные к ним числа.\n",
        "\n",
        "Затем вывести на экран на отдельной строчке модули всех чисел и на отдельной строчке аргументы, все числа округлить до 3 знаков после запятой, т.е. не более 3 знаков после запятой.\n"
      ]
    },
    {
      "cell_type": "markdown",
      "source": [
        "![image.png](data:image/png;base64,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)"
      ],
      "metadata": {
        "id": "vKcieyTbWbx4"
      }
    },
    {
      "cell_type": "code",
      "source": [
        "z1 = 9 + 5 * I\n",
        "z2 = -4 + 5 * I\n",
        "z3 = 9 - 6 * I\n",
        "z = sympy.Symbol('z')\n",
        "eq = (z - z1) * (z - z2) * (z - z3)\n",
        "eq = sympy.expand(sympy.Eq(eq, 0))\n",
        "\n",
        "display(eq)\n",
        "print()\n",
        "solve_eq = sympy.roots(eq)\n",
        "\n",
        "all_numbers = []\n",
        "conjugates = []\n",
        "display(Latex('\\\\text{{Корни\\ уравнения:}}'))\n",
        "for i in solve_eq:\n",
        "  display(i)\n",
        "  z_root = complex(i)\n",
        "  all_numbers += [z_root]\n",
        "  conjugates += [abs(z_root ** 2) / z_root]\n",
        "\n",
        "display(Latex('\\\\text{{Сопряжённые:}}'))\n",
        "for i in roots_python:\n",
        "  display(i)\n",
        "print()\n",
        "\n",
        "all_numbers += conjugates\n",
        "abs_z = set(round(float(sympy.functions.Abs(z_)), 3) for z_ in all_numbers)\n",
        "phi_z = set(round(float(sympy.functions.arg(z_)), 3) for z_ in all_numbers)\n",
        "\n",
        "display(Latex('\\\\text{{Abs:}}'))\n",
        "for i in abs_z:\n",
        "  display(i)\n",
        "print()\n",
        "\n",
        "display(Latex('\\\\text{{Arg:}}'))\n",
        "for i in phi_z:\n",
        "  display(i)"
      ],
      "metadata": {
        "id": "HCAbZZz4d7jD",
        "colab": {
          "base_uri": "https://localhost:8080/",
          "height": 453
        },
        "outputId": "d878ca8c-7da4-48df-b5b3-2cd0f834c7de"
      },
      "execution_count": null,
      "outputs": [
        {
          "output_type": "display_data",
          "data": {
            "text/plain": [
              "Eq(z**3 - 14*z**2 - 4*I*z**2 + 44*z + 85*I*z + 399 - 591*I, 0)"
            ],
            "text/latex": "$\\displaystyle z^{3} - 14 z^{2} - 4 i z^{2} + 44 z + 85 i z + 399 - 591 i = 0$"
          },
          "metadata": {}
        },
        {
          "output_type": "stream",
          "name": "stdout",
          "text": [
            "\n"
          ]
        },
        {
          "output_type": "display_data",
          "data": {
            "text/plain": [
              "<IPython.core.display.Latex object>"
            ],
            "text/latex": "\\text{{Корни\\ уравнения:}}"
          },
          "metadata": {}
        },
        {
          "output_type": "display_data",
          "data": {
            "text/plain": [
              "9 + 5*I"
            ],
            "text/latex": "$\\displaystyle 9 + 5 i$"
          },
          "metadata": {}
        },
        {
          "output_type": "display_data",
          "data": {
            "text/plain": [
              "-4 + 5*I"
            ],
            "text/latex": "$\\displaystyle -4 + 5 i$"
          },
          "metadata": {}
        },
        {
          "output_type": "display_data",
          "data": {
            "text/plain": [
              "9 - 6*I"
            ],
            "text/latex": "$\\displaystyle 9 - 6 i$"
          },
          "metadata": {}
        },
        {
          "output_type": "display_data",
          "data": {
            "text/plain": [
              "<IPython.core.display.Latex object>"
            ],
            "text/latex": "\\text{{Сопряжённые:}}"
          },
          "metadata": {}
        },
        {
          "output_type": "display_data",
          "data": {
            "text/plain": [
              "(9-5j)"
            ]
          },
          "metadata": {}
        },
        {
          "output_type": "display_data",
          "data": {
            "text/plain": [
              "(-4.000000000000001-5j)"
            ]
          },
          "metadata": {}
        },
        {
          "output_type": "display_data",
          "data": {
            "text/plain": [
              "(9+6j)"
            ]
          },
          "metadata": {}
        },
        {
          "output_type": "stream",
          "name": "stdout",
          "text": [
            "\n"
          ]
        },
        {
          "output_type": "display_data",
          "data": {
            "text/plain": [
              "<IPython.core.display.Latex object>"
            ],
            "text/latex": "\\text{{Abs:}}"
          },
          "metadata": {}
        },
        {
          "output_type": "display_data",
          "data": {
            "text/plain": [
              "10.296"
            ]
          },
          "metadata": {}
        },
        {
          "output_type": "display_data",
          "data": {
            "text/plain": [
              "10.817"
            ]
          },
          "metadata": {}
        },
        {
          "output_type": "display_data",
          "data": {
            "text/plain": [
              "6.403"
            ]
          },
          "metadata": {}
        },
        {
          "output_type": "stream",
          "name": "stdout",
          "text": [
            "\n"
          ]
        },
        {
          "output_type": "display_data",
          "data": {
            "text/plain": [
              "<IPython.core.display.Latex object>"
            ],
            "text/latex": "\\text{{Arg:}}"
          },
          "metadata": {}
        },
        {
          "output_type": "display_data",
          "data": {
            "text/plain": [
              "0.507"
            ]
          },
          "metadata": {}
        },
        {
          "output_type": "display_data",
          "data": {
            "text/plain": [
              "-0.588"
            ]
          },
          "metadata": {}
        },
        {
          "output_type": "display_data",
          "data": {
            "text/plain": [
              "2.246"
            ]
          },
          "metadata": {}
        },
        {
          "output_type": "display_data",
          "data": {
            "text/plain": [
              "-0.507"
            ]
          },
          "metadata": {}
        },
        {
          "output_type": "display_data",
          "data": {
            "text/plain": [
              "0.588"
            ]
          },
          "metadata": {}
        },
        {
          "output_type": "display_data",
          "data": {
            "text/plain": [
              "-2.246"
            ]
          },
          "metadata": {}
        }
      ]
    }
  ]
}