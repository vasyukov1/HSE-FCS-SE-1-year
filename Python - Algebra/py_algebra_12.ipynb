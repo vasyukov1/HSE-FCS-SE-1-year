{
  "nbformat": 4,
  "nbformat_minor": 0,
  "metadata": {
    "kernelspec": {
      "display_name": "Python 3",
      "language": "python",
      "name": "python3"
    },
    "language_info": {
      "codemirror_mode": {
        "name": "ipython",
        "version": 3
      },
      "file_extension": ".py",
      "mimetype": "text/x-python",
      "name": "python",
      "nbconvert_exporter": "python",
      "pygments_lexer": "ipython3",
      "version": "3.7.3"
    },
    "colab": {
      "provenance": []
    }
  },
  "cells": [
    {
      "cell_type": "code",
      "metadata": {
        "id": "BQ-uTnJuCclQ"
      },
      "source": [
        "import sympy\n",
        "from sympy import  Matrix, symbols, latex, S\n",
        "from sympy import  sin as Sin\n",
        "from sympy import  cos as Cos\n",
        "from sympy import  pi as Pi\n",
        "from sympy.vector import CoordSys3D, Vector, matrix_to_vector, AxisOrienter, express\n",
        "from IPython.display import Latex\n",
        "import pandas as pd\n",
        "from dataclasses import dataclass, field\n",
        "import numpy as np"
      ],
      "execution_count": 1,
      "outputs": []
    },
    {
      "cell_type": "markdown",
      "metadata": {
        "id": "HaZ4p6ZaCclc"
      },
      "source": [
        "# Практическое занятие 12\n",
        "# Компьютерный практикум по алгебре на Python\n",
        "## Векторы\n",
        "### Задание 1.\n",
        "Задать систему координат с именем '1'.\n",
        "Найти скалярное и векторное произведение векторов $a(-\\cos(\\pi/4), \\sin(\\pi/3), 1)$ и $b(2, -1, 3)$."
      ]
    },
    {
      "cell_type": "code",
      "source": [
        "N = CoordSys3D('1')\n",
        "\n",
        "a = -Cos(Pi / 4) * N.i + Sin(Pi / 3) * N.j + N.k\n",
        "b = 2 * N.i -1 * N.j + 3 * N.k\n",
        "\n",
        "display(a.dot(b), a.cross(b))"
      ],
      "metadata": {
        "id": "epNtfMZz1MXz",
        "colab": {
          "base_uri": "https://localhost:8080/",
          "height": 106
        },
        "outputId": "b1e0ba6b-5cfe-4d19-90ec-69d504929e4e"
      },
      "execution_count": 2,
      "outputs": [
        {
          "output_type": "display_data",
          "data": {
            "text/plain": [
              "-sqrt(2) - sqrt(3)/2 + 3"
            ],
            "text/latex": "$\\displaystyle - \\sqrt{2} - \\frac{\\sqrt{3}}{2} + 3$"
          },
          "metadata": {}
        },
        {
          "output_type": "display_data",
          "data": {
            "text/plain": [
              "(1 + 3*sqrt(3)/2)*1.i + (2 + 3*sqrt(2)/2)*1.j + (-sqrt(3) + sqrt(2)/2)*1.k"
            ],
            "text/latex": "$\\displaystyle \\left(1 + \\frac{3 \\sqrt{3}}{2}\\right)\\mathbf{\\hat{i}_{1}} + \\left(2 + \\frac{3 \\sqrt{2}}{2}\\right)\\mathbf{\\hat{j}_{1}} + \\left(- \\sqrt{3} + \\frac{\\sqrt{2}}{2}\\right)\\mathbf{\\hat{k}_{1}}$"
          },
          "metadata": {}
        }
      ]
    },
    {
      "cell_type": "markdown",
      "metadata": {
        "id": "B8Je98zJCclg"
      },
      "source": [
        "### Задание 2\n",
        "Ввести безымянную систему координат $M$ и символы $\\varphi$ и $c$.\n",
        "Вычислить $5u\\cdot(v - u)$ и $((2v + u)\\times(v - 3u)) $,\n",
        "\n",
        "$u = (\\cos(\\varphi), 2c - 5, \\sin(2\\varphi))$, $v = (\\sin(\\varphi), 2c  + 5, \\cos(2\\varphi))$.\n",
        "\n",
        "Скалярное произведение обозначено $\\cdot$, векторное $\\times$.\n",
        "Использовать  & и ^, скобки расставить как в условии, поскольку приоритет у & и ^ ниже, чем у + и -. Упростить полученное выражение."
      ]
    },
    {
      "cell_type": "code",
      "source": [
        "M = CoordSys3D('')\n",
        "from sympy.abc import phi, c\n",
        "\n",
        "u = Cos(phi) * M.i + (2 * c - 5) * M.j + Sin(2 * phi) * M.k\n",
        "v = Sin(phi) * M.i + (2 * c + 5) * M.j + Cos(2 * phi) * M.k\n",
        "\n",
        "answer_2_1 = sympy.simplify((5 * u) & (v - u))\n",
        "answer_2_2 = sympy.simplify((2 * v + u) ^ (v - 3 * u))\n",
        "\n",
        "display(Latex(latex(answer_2_1)))\n",
        "display(Latex(latex(answer_2_2)))"
      ],
      "metadata": {
        "id": "JILe-FnA1NRK",
        "colab": {
          "base_uri": "https://localhost:8080/",
          "height": 68
        },
        "outputId": "68df41e2-aa73-4e2d-b696-8e2d08b0bb2b"
      },
      "execution_count": 3,
      "outputs": [
        {
          "output_type": "display_data",
          "data": {
            "text/plain": [
              "<IPython.core.display.Latex object>"
            ],
            "text/latex": "100 c + \\frac{5 \\sqrt{2} \\sin{\\left(4 \\phi + \\frac{\\pi}{4} \\right)}}{2} - \\frac{5 \\sqrt{2} \\cos{\\left(2 \\phi + \\frac{\\pi}{4} \\right)}}{2} - 255"
          },
          "metadata": {}
        },
        {
          "output_type": "display_data",
          "data": {
            "text/plain": [
              "<IPython.core.display.Latex object>"
            ],
            "text/latex": "\\left(\\sqrt{2} \\cdot \\left(14 c \\cos{\\left(2 \\phi + \\frac{\\pi}{4} \\right)} - 35 \\sin{\\left(2 \\phi + \\frac{\\pi}{4} \\right)}\\right)\\right)\\mathbf{\\hat{i}_{}} + \\left(- 7 \\cos{\\left(3 \\phi \\right)}\\right)\\mathbf{\\hat{j}_{}} + \\left(\\sqrt{2} \\cdot \\left(14 c \\cos{\\left(\\phi + \\frac{\\pi}{4} \\right)} + 35 \\sin{\\left(\\phi + \\frac{\\pi}{4} \\right)}\\right)\\right)\\mathbf{\\hat{k}_{}}"
          },
          "metadata": {}
        }
      ]
    },
    {
      "cell_type": "markdown",
      "metadata": {
        "id": "5M-6y40TCclh"
      },
      "source": [
        "### Задание 3\n",
        "Упростить вектор $g(-2p^2 + 5pq - 3q^2, \\cos(q) + 2\\sin(q - \\pi/2), \\sin^2(p) - \\cos^2(p))$.\n",
        "Вывести на экран координаты упрощенного вектора, его длину и проекции на координатные оси"
      ]
    },
    {
      "cell_type": "code",
      "source": [
        "from sympy.abc import p, q\n",
        "\n",
        "g = sympy.simplify((-2 * p**2 + 5*p*q - 3*q**2) * M.i + (Cos(q) + 2 * Sin(q - Pi/2)) * M.j + (Sin(p)**2 - Cos(p)**2) * M.k)\n",
        "coords_dict = g.components\n",
        "coords = [coords_dict[i] for i in coords_dict]\n",
        "\n",
        "print('Координаты: ')\n",
        "display(Latex(',\\ '.join(map(latex, coords))))\n",
        "print('\\nДлина: ')\n",
        "display(a.magnitude())\n",
        "print('\\Проекции: ')\n",
        "display(M.i.projection(a), M.j.projection(a), M.k.projection(a))\n"
      ],
      "metadata": {
        "id": "hp0A8kHt1OVu",
        "colab": {
          "base_uri": "https://localhost:8080/",
          "height": 334
        },
        "outputId": "24d9f5fa-5acc-45ab-f9bc-15ad7b8c47d8"
      },
      "execution_count": 26,
      "outputs": [
        {
          "output_type": "stream",
          "name": "stdout",
          "text": [
            "Координаты: \n"
          ]
        },
        {
          "output_type": "display_data",
          "data": {
            "text/plain": [
              "<IPython.core.display.Latex object>"
            ],
            "text/latex": "- 2 p^{2} + 5 p q - 3 q^{2},\\ - \\cos{\\left(q \\right)},\\ - \\cos{\\left(2 p \\right)}"
          },
          "metadata": {}
        },
        {
          "output_type": "stream",
          "name": "stdout",
          "text": [
            "\n",
            "Длина: \n"
          ]
        },
        {
          "output_type": "display_data",
          "data": {
            "text/plain": [
              "3/2"
            ],
            "text/latex": "$\\displaystyle \\frac{3}{2}$"
          },
          "metadata": {}
        },
        {
          "output_type": "stream",
          "name": "stdout",
          "text": [
            "\\Проекции: \n"
          ]
        },
        {
          "output_type": "display_data",
          "data": {
            "text/plain": [
              "(-sqrt(2)*Dot(.i, 1.i)/2 + sqrt(3)*Dot(.i, 1.j)/2 + Dot(.i, 1.k))*.i"
            ],
            "text/latex": "$\\displaystyle \\left(- \\frac{\\sqrt{2} \\left(\\mathbf{\\hat{i}_{}} \\cdot \\mathbf{\\hat{i}_{1}}\\right)}{2} + \\frac{\\sqrt{3} \\left(\\mathbf{\\hat{i}_{}} \\cdot \\mathbf{\\hat{j}_{1}}\\right)}{2} + \\mathbf{\\hat{i}_{}} \\cdot \\mathbf{\\hat{k}_{1}}\\right)\\mathbf{\\hat{i}_{}}$"
          },
          "metadata": {}
        },
        {
          "output_type": "display_data",
          "data": {
            "text/plain": [
              "(-sqrt(2)*Dot(.j, 1.i)/2 + sqrt(3)*Dot(.j, 1.j)/2 + Dot(.j, 1.k))*.j"
            ],
            "text/latex": "$\\displaystyle \\left(- \\frac{\\sqrt{2} \\left(\\mathbf{\\hat{j}_{}} \\cdot \\mathbf{\\hat{i}_{1}}\\right)}{2} + \\frac{\\sqrt{3} \\left(\\mathbf{\\hat{j}_{}} \\cdot \\mathbf{\\hat{j}_{1}}\\right)}{2} + \\mathbf{\\hat{j}_{}} \\cdot \\mathbf{\\hat{k}_{1}}\\right)\\mathbf{\\hat{j}_{}}$"
          },
          "metadata": {}
        },
        {
          "output_type": "display_data",
          "data": {
            "text/plain": [
              "(-sqrt(2)*Dot(.k, 1.i)/2 + sqrt(3)*Dot(.k, 1.j)/2 + Dot(.k, 1.k))*.k"
            ],
            "text/latex": "$\\displaystyle \\left(- \\frac{\\sqrt{2} \\left(\\mathbf{\\hat{k}_{}} \\cdot \\mathbf{\\hat{i}_{1}}\\right)}{2} + \\frac{\\sqrt{3} \\left(\\mathbf{\\hat{k}_{}} \\cdot \\mathbf{\\hat{j}_{1}}\\right)}{2} + \\mathbf{\\hat{k}_{}} \\cdot \\mathbf{\\hat{k}_{1}}\\right)\\mathbf{\\hat{k}_{}}$"
          },
          "metadata": {}
        }
      ]
    },
    {
      "cell_type": "markdown",
      "metadata": {
        "id": "nOqai9ifCclj"
      },
      "source": [
        "### Задание  4\n",
        "Преобразовать матрицу $\\left(\\begin{matrix}-q\\\\ p\\\\ q + p\\end{matrix}\\right)$ в вектор в системе координат из Заданий 1 и 2.\n",
        "\n",
        "Вывести на экран матрицу и ее представления в обеих системах координат, а затем вывести только векторное представление при $q = -1, 0, 1, 2$ и $p = -10, 12$ на отдельных строках (использовать цикл, рассмотреть все пары значений)"
      ]
    },
    {
      "cell_type": "code",
      "source": [
        "from sympy.abc import p, q\n",
        "\n",
        "b = Matrix([-q, p, q + p])\n",
        "\n",
        "display(b)\n",
        "print()\n",
        "display(*map(Latex, map(':\\ '.join, zip(('N', 'M'),\n",
        "                                        map(latex, (matrix_to_vector(b, N),\n",
        "                                                    matrix_to_vector(b, M)))))))\n",
        "print()\n",
        "\n",
        "for i in (-1, 0, 1, 2):\n",
        "    for j in (-10, 12):\n",
        "        new_b = b.subs(q, i).subs(p, j)\n",
        "        res = matrix_to_vector(new_b, M)\n",
        "        display(Latex(fr\"\"\"\\text{{q =\\ }} {latex(i)}, {{\\ p =\\ }} {latex(j)}, {{\\ b:\\ }}{latex(res)}\"\"\"))\n",
        "        print()"
      ],
      "metadata": {
        "id": "mASJcb6u1PS2",
        "colab": {
          "base_uri": "https://localhost:8080/",
          "height": 482
        },
        "outputId": "19d07215-20cf-4d35-c77c-2a5ff47d44ea"
      },
      "execution_count": 47,
      "outputs": [
        {
          "output_type": "display_data",
          "data": {
            "text/plain": [
              "Matrix([\n",
              "[   -q],\n",
              "[    p],\n",
              "[p + q]])"
            ],
            "text/latex": "$\\displaystyle \\left[\\begin{matrix}- q\\\\p\\\\p + q\\end{matrix}\\right]$"
          },
          "metadata": {}
        },
        {
          "output_type": "stream",
          "name": "stdout",
          "text": [
            "\n"
          ]
        },
        {
          "output_type": "display_data",
          "data": {
            "text/plain": [
              "<IPython.core.display.Latex object>"
            ],
            "text/latex": "N:\\ \\left(- q\\right)\\mathbf{\\hat{i}_{1}} + \\left(p\\right)\\mathbf{\\hat{j}_{1}} + \\left(p + q\\right)\\mathbf{\\hat{k}_{1}}"
          },
          "metadata": {}
        },
        {
          "output_type": "display_data",
          "data": {
            "text/plain": [
              "<IPython.core.display.Latex object>"
            ],
            "text/latex": "M:\\ \\left(- q\\right)\\mathbf{\\hat{i}_{}} + \\left(p\\right)\\mathbf{\\hat{j}_{}} + \\left(p + q\\right)\\mathbf{\\hat{k}_{}}"
          },
          "metadata": {}
        },
        {
          "output_type": "stream",
          "name": "stdout",
          "text": [
            "\n"
          ]
        },
        {
          "output_type": "display_data",
          "data": {
            "text/plain": [
              "<IPython.core.display.Latex object>"
            ],
            "text/latex": "\\text{q =\\ } -1, {\\ p =\\ } -10, {\\ b:\\ }\\mathbf{\\hat{i}_{}} + \\left(-10\\right)\\mathbf{\\hat{j}_{}} + \\left(-11\\right)\\mathbf{\\hat{k}_{}}"
          },
          "metadata": {}
        },
        {
          "output_type": "stream",
          "name": "stdout",
          "text": [
            "\n"
          ]
        },
        {
          "output_type": "display_data",
          "data": {
            "text/plain": [
              "<IPython.core.display.Latex object>"
            ],
            "text/latex": "\\text{q =\\ } -1, {\\ p =\\ } 12, {\\ b:\\ }\\mathbf{\\hat{i}_{}} + \\left(12\\right)\\mathbf{\\hat{j}_{}} + \\left(11\\right)\\mathbf{\\hat{k}_{}}"
          },
          "metadata": {}
        },
        {
          "output_type": "stream",
          "name": "stdout",
          "text": [
            "\n"
          ]
        },
        {
          "output_type": "display_data",
          "data": {
            "text/plain": [
              "<IPython.core.display.Latex object>"
            ],
            "text/latex": "\\text{q =\\ } 0, {\\ p =\\ } -10, {\\ b:\\ }\\left(-10\\right)\\mathbf{\\hat{j}_{}} + \\left(-10\\right)\\mathbf{\\hat{k}_{}}"
          },
          "metadata": {}
        },
        {
          "output_type": "stream",
          "name": "stdout",
          "text": [
            "\n"
          ]
        },
        {
          "output_type": "display_data",
          "data": {
            "text/plain": [
              "<IPython.core.display.Latex object>"
            ],
            "text/latex": "\\text{q =\\ } 0, {\\ p =\\ } 12, {\\ b:\\ }\\left(12\\right)\\mathbf{\\hat{j}_{}} + \\left(12\\right)\\mathbf{\\hat{k}_{}}"
          },
          "metadata": {}
        },
        {
          "output_type": "stream",
          "name": "stdout",
          "text": [
            "\n"
          ]
        },
        {
          "output_type": "display_data",
          "data": {
            "text/plain": [
              "<IPython.core.display.Latex object>"
            ],
            "text/latex": "\\text{q =\\ } 1, {\\ p =\\ } -10, {\\ b:\\ }- \\mathbf{\\hat{i}_{}} + \\left(-10\\right)\\mathbf{\\hat{j}_{}} + \\left(-9\\right)\\mathbf{\\hat{k}_{}}"
          },
          "metadata": {}
        },
        {
          "output_type": "stream",
          "name": "stdout",
          "text": [
            "\n"
          ]
        },
        {
          "output_type": "display_data",
          "data": {
            "text/plain": [
              "<IPython.core.display.Latex object>"
            ],
            "text/latex": "\\text{q =\\ } 1, {\\ p =\\ } 12, {\\ b:\\ }- \\mathbf{\\hat{i}_{}} + \\left(12\\right)\\mathbf{\\hat{j}_{}} + \\left(13\\right)\\mathbf{\\hat{k}_{}}"
          },
          "metadata": {}
        },
        {
          "output_type": "stream",
          "name": "stdout",
          "text": [
            "\n"
          ]
        },
        {
          "output_type": "display_data",
          "data": {
            "text/plain": [
              "<IPython.core.display.Latex object>"
            ],
            "text/latex": "\\text{q =\\ } 2, {\\ p =\\ } -10, {\\ b:\\ }\\left(-2\\right)\\mathbf{\\hat{i}_{}} + \\left(-10\\right)\\mathbf{\\hat{j}_{}} + \\left(-8\\right)\\mathbf{\\hat{k}_{}}"
          },
          "metadata": {}
        },
        {
          "output_type": "stream",
          "name": "stdout",
          "text": [
            "\n"
          ]
        },
        {
          "output_type": "display_data",
          "data": {
            "text/plain": [
              "<IPython.core.display.Latex object>"
            ],
            "text/latex": "\\text{q =\\ } 2, {\\ p =\\ } 12, {\\ b:\\ }\\left(-2\\right)\\mathbf{\\hat{i}_{}} + \\left(12\\right)\\mathbf{\\hat{j}_{}} + \\left(14\\right)\\mathbf{\\hat{k}_{}}"
          },
          "metadata": {}
        },
        {
          "output_type": "stream",
          "name": "stdout",
          "text": [
            "\n"
          ]
        }
      ]
    },
    {
      "cell_type": "markdown",
      "metadata": {
        "id": "hfKN73PnCclj"
      },
      "source": [
        "### Задание 5.\n",
        "Ввести новую систему координат $S5$, которая получается поворотом системы координат $M$ из Задания 2 на угол $\\pi/4$ относительно оси $j$ по часовой стрелке.\n",
        "Определить вектор $b5$ на основе матрицы из Задания 4 в соответствии с системой координат M, затем получить представление в матричном виде вектора $b5\\_S5$ в системе координат $S5$.  Вывести на экран матрицу поворота, вектор $b5$ в системе координат $M$  и $S5$."
      ]
    },
    {
      "cell_type": "code",
      "source": [
        "S5 = M.orient_new_axis('S5', - sympy.pi / 4, M.j)\n",
        "\n",
        "b5 = matrix_to_vector(b, M)\n",
        "b5_S5 = b5.to_matrix(S5)\n",
        "R_matr = M.rotation_matrix(S5)\n",
        "display(*map(Latex, map('\\ =\\ '.join,\n",
        "                        zip(('R\\_matr', 'b5', 'b5\\_S5'),\n",
        "                            map(latex,\n",
        "                                (R_matr,\n",
        "                                 b5,\n",
        "                                 b5_S5))))))"
      ],
      "metadata": {
        "id": "cdAdhdYs1QMA",
        "colab": {
          "base_uri": "https://localhost:8080/",
          "height": 182
        },
        "outputId": "d903ad09-3469-4153-80ac-9c0e9447221b"
      },
      "execution_count": 55,
      "outputs": [
        {
          "output_type": "display_data",
          "data": {
            "text/plain": [
              "<IPython.core.display.Latex object>"
            ],
            "text/latex": "R\\_matr\\ =\\ \\left[\\begin{matrix}\\frac{\\sqrt{2}}{2} & 0 & - \\frac{\\sqrt{2}}{2}\\\\0 & 1 & 0\\\\\\frac{\\sqrt{2}}{2} & 0 & \\frac{\\sqrt{2}}{2}\\end{matrix}\\right]"
          },
          "metadata": {}
        },
        {
          "output_type": "display_data",
          "data": {
            "text/plain": [
              "<IPython.core.display.Latex object>"
            ],
            "text/latex": "b5\\ =\\ \\left(- q\\right)\\mathbf{\\hat{i}_{}} + \\left(p\\right)\\mathbf{\\hat{j}_{}} + \\left(p + q\\right)\\mathbf{\\hat{k}_{}}"
          },
          "metadata": {}
        },
        {
          "output_type": "display_data",
          "data": {
            "text/plain": [
              "<IPython.core.display.Latex object>"
            ],
            "text/latex": "b5\\_S5\\ =\\ \\left[\\begin{matrix}- \\frac{\\sqrt{2} q}{2} + \\frac{\\sqrt{2} \\left(p + q\\right)}{2}\\\\p\\\\\\frac{\\sqrt{2} q}{2} + \\frac{\\sqrt{2} \\left(p + q\\right)}{2}\\end{matrix}\\right]"
          },
          "metadata": {}
        }
      ]
    },
    {
      "cell_type": "markdown",
      "metadata": {
        "id": "wsupzWmVCclk"
      },
      "source": [
        "### Задание 6.\n",
        "Повернуть систему координат  M  из Задания 2 на $\\pi/3$ по часовой стрелке относительно оси, определяемой вектором $(3, -4, 12)$. Выразить вектор b5 в новой системе координат."
      ]
    },
    {
      "cell_type": "code",
      "source": [
        "S6 = M.orient_new_axis('S6', - sympy.pi / 3, 3 * M.i - 4 * M.j + 12 * M.k)\n",
        "\n",
        "b6 = matrix_to_vector(b5.to_matrix(S5), S5)\n",
        "b6_S6 = sympy.simplify(matrix_to_vector(b6.to_matrix(S6), S6))\n",
        "display(b6_S6)"
      ],
      "metadata": {
        "id": "b2dpQInD1RKS",
        "colab": {
          "base_uri": "https://localhost:8080/",
          "height": 68
        },
        "outputId": "2fb65c5b-08bf-465f-f287-8faa9260aeb4"
      },
      "execution_count": 69,
      "outputs": [
        {
          "output_type": "display_data",
          "data": {
            "text/plain": [
              "(-8*sqrt(3)*p/13 + 12*p/169 - 71*q/169 - 2*sqrt(3)*q/13)*S6.i + (-3*sqrt(3)*p/26 + 137*p/338 - 15*sqrt(3)*q/26 - 18*q/169)*S6.j + (3*sqrt(3)*p/26 + 265*p/338 - 2*sqrt(3)*q/13 + 277*q/338)*S6.k"
            ],
            "text/latex": "$\\displaystyle \\left(- \\frac{8 \\sqrt{3} p}{13} + \\frac{12 p}{169} - \\frac{71 q}{169} - \\frac{2 \\sqrt{3} q}{13}\\right)\\mathbf{\\hat{i}_{S6}} + \\left(- \\frac{3 \\sqrt{3} p}{26} + \\frac{137 p}{338} - \\frac{15 \\sqrt{3} q}{26} - \\frac{18 q}{169}\\right)\\mathbf{\\hat{j}_{S6}} + \\left(\\frac{3 \\sqrt{3} p}{26} + \\frac{265 p}{338} - \\frac{2 \\sqrt{3} q}{13} + \\frac{277 q}{338}\\right)\\mathbf{\\hat{k}_{S6}}$"
          },
          "metadata": {}
        }
      ]
    },
    {
      "cell_type": "markdown",
      "source": [
        "### Задание 7*.\n",
        "Составить класс dataclass векторов в пространстве, имя класса my_vect.\n",
        "\n",
        "**Обязательные переменные класса** coord_sys_name - имя системы координат и coordinates - кортеж из координат.\n",
        "\n",
        "**Переременная со значением по умолчанию** : coord_sys - система координат в пространстве, по умолчанию None\n",
        "\n",
        "**Атрибуты класса:** get_coord_sys и vector\n",
        "\n",
        "**Метод класса:** characts\n",
        "\n",
        "get_coord_sys проверяет, заполнена ли переменная coord_sys, если coord_sys равна None, то заполняет coord_sys в соответствии и именем coord_sys_name и возвращает значение coord_sys\n",
        "\n",
        "vector возвращает вектор в системе координат coord_sys\n",
        "\n",
        "characts возвращает координаты вектора, длину и нормализованный вектор  (по умолчанию координаты вектора возвращать в виде словаря, но предусмотреть возможность возвращать координаты в виде кортежа, np.array и списка, для этого нужно использовать необязательный аргумент)\n",
        "\n",
        "Из файла 'task_12_7.xlsx' считать координаты векторов, составить векторы my_vect и вывести на экран на отдельных строках полученные экземпляры и характеристики  characts этих векторов. При этом координаты векторов из 1, 2 и 5 строки файла выводить в виде списка, из 3 строки в виде словаря, из 4 строки в виде np.array, а из остальных строк в виде кортежа."
      ],
      "metadata": {
        "id": "AOb9_bau6vK1"
      }
    },
    {
      "cell_type": "code",
      "source": [],
      "metadata": {
        "id": "9p-2zRLP1SRM"
      },
      "execution_count": null,
      "outputs": []
    },
    {
      "cell_type": "markdown",
      "metadata": {
        "id": "LVIOHcc0Ccll"
      },
      "source": [
        "### Индивидуальное задание.\n",
        "Ввести безымянную систему координат XYZ, задать в ней векторы $v_1$ и $v_2$. Построить новую систему координат XYZ1 с именем Name поворотом  XYZ на $\\alpha$ по или против часовой стрелки относительно оси, определяемой вектором $b$, выразить векторы $v_1$ и $v_2$ в новой системе координат. Найти скалярное и векторное произведение векторов в новой и старой системе координат. Выразить вектор, равный векторному произведению $v_1$ и $v_2$ в старой системе координат через новую систему координат, сравнить с векторным произведением $v_1$ и $v_2$, выраженных в новой системе координат."
      ]
    },
    {
      "cell_type": "markdown",
      "source": [
        "![image.png](data:image/png;base64,iVBORw0KGgoAAAANSUhEUgAAA+AAAAB0CAYAAAAFOFi1AAAMPWlDQ1BJQ0MgUHJvZmlsZQAASImVVwdYU8kWnluSkEBoAQSkhN4EkRpASggtgPRuIyQBQokxIajY0UUF1y4WsKGrIoqdZkfsLIoN+2JBQVkXC3blTQrouq9873zf3Pvff87858y5c8sAoHGSIxLloZoA5AsLxHGhgfSU1DQ6qRsggAhQoAX0OVyJiBkTEwmgDZ7/bu9uQm9o1xxlWv/s/6+mxeNLuAAgMRBn8CTcfIgPAYBXckXiAgCIMt5iSoFIhmEDOmKYIMQLZThLgStlOEOB98l9EuJYELcAoKLG4YizAFC/Anl6ITcLaqj3Qews5AmEAGjQIfbLz5/EgzgdYlvoI4JYps/I+EEn62+aGUOaHE7WEFbMRW4qQQKJKI8z7f8sx/+2/DzpYAxr2NSyxWFxsjnDut3KnRQhw2oQ9wozoqIh1ob4g4An94cYpWRLwxIV/qgRV8KCNQN6EDvzOEEREBtBHCLMi4pU8hmZghA2xHCFoFMFBewEiPUhXsiXBMcrfTaLJ8UpY6F1mWIWU8mf54jlcWWxHkhzE5lK/dfZfLZSH1Mvyk5IhpgCsWWhICkKYnWInSS58RFKn9FF2ayoQR+xNE6WvyXEcXxhaKBCHyvMFIfEKf1L8yWD88U2ZwvYUUp8oCA7IUxRH6yFy5HnD+eCXeELmYmDOnxJSuTgXHj8oGDF3LFuvjAxXqnzQVQQGKcYi1NEeTFKf9ycnxcq480hdpMUxivH4kkFcEEq9PFMUUFMgiJPvCiHEx6jyAdfBiIBCwQBOpDClgEmgRwgaOut74VXip4QwAFikAX4wFHJDI5IlvcI4TEeFIE/IeIDydC4QHkvHxRC/usQqzg6gkx5b6F8RC54CnE+iAB58FoqHyUcipYEnkBG8I/oHNi4MN882GT9/54fZL8zTMhEKhnpYES6xqAnMZgYRAwjhhDtcEPcD/fBI+ExADYXnIF7Dc7juz/hKaGd8Ihwg9BJuD1RUCz+KcsxoBPqhyhrkfFjLXBrqOmOB+K+UB0q43q4IXDE3WAcJu4PI7tDlqXMW1YV+k/af5vBD3dD6Ud2JqPkYeQAsu3PI9Xt1d2HVGS1/rE+ilwzhurNGur5OT7rh+rz4DniZ09sIXYQO4edwi5gR7F6QMdOYA1YK3ZMhodW1xP56hqMFifPJxfqCP4Rb/DOyiopca5x7nH+ougr4E+VvaMBa5JomliQlV1AZ8IvAp/OFnKdRtBdnF3cAJB9XxSvrzex8u8Gotf6nZv3BwC+JwYGBo5858JPALDfEz7+jd85Wwb8dKgCcL6RKxUXKjhcdiDAt4QGfNIMgAmwALZwPi7AA/iAABAMwkE0SACpYALMPhuuczGYAmaAuaAElIFlYDVYDzaBrWAn2AMOgHpwFJwCZ8ElcAXcAHfh6ukCL0AfeAc+IwhCQqgIDTFATBErxAFxQRiIHxKMRCJxSCqSjmQhQkSKzEDmIWXICmQ9sgWpRvYjjcgp5ALSjtxGHiI9yGvkE4qhaqgOaoxaoyNRBspEI9AEdDyahU5Gi9D56BJ0LVqF7kbr0FPoJfQG2om+QPsxgKliepgZ5ogxMBYWjaVhmZgYm4WVYuVYFVaLNcH7fA3rxHqxjzgRp+F03BGu4DA8Eefik/FZ+GJ8Pb4Tr8Nb8Gv4Q7wP/0agEowIDgRvApuQQsgiTCGUEMoJ2wmHCWfgs9RFeEckEvWINkRP+CymEnOI04mLiRuIe4knie3Ex8R+EolkQHIg+ZKiSRxSAamEtI60m3SCdJXURfqgoqpiquKiEqKSpiJUKVYpV9mlclzlqsozlc9kTbIV2ZscTeaRp5GXkreRm8iXyV3kzxQtig3Fl5JAyaHMpayl1FLOUO5R3qiqqpqreqnGqgpU56iuVd2nel71oepHNW01ezWW2jg1qdoStR1qJ9Vuq72hUqnW1ABqGrWAuoRaTT1NfUD9oE5Td1Jnq/PUZ6tXqNepX1V/qUHWsNJgakzQKNIo1ziocVmjV5Osaa3J0uRoztKs0GzU7NDs16JpjdKK1srXWqy1S+uCVrc2SdtaO1ibpz1fe6v2ae3HNIxmQWPRuLR5tG20M7QuHaKOjQ5bJ0enTGePTptOn662rptuku5U3QrdY7qdepietR5bL09vqd4BvZt6n4YZD2MO4w9bNKx22NVh7/WH6wfo8/VL9ffq39D/ZEA3CDbINVhuUG9w3xA3tDeMNZxiuNHwjGHvcJ3hPsO5w0uHHxh+xwg1sjeKM5putNWo1ajf2MQ41FhkvM74tHGviZ5JgEmOySqT4yY9pjRTP1OB6SrTE6bP6bp0Jj2PvpbeQu8zMzILM5OabTFrM/tsbmOeaF5svtf8vgXFgmGRabHKotmiz9LUcozlDMsayztWZCuGVbbVGqtzVu+tbayTrRdY11t32+jbsG2KbGps7tlSbf1tJ9tW2V63I9ox7HLtNthdsUft3e2z7SvsLzugDh4OAocNDu0jCCO8RghHVI3ocFRzZDoWOtY4PnTSc4p0Knaqd3o50nJk2sjlI8+N/Obs7pznvM357ijtUeGjikc1jXrtYu/Cdalwue5KdQ1xne3a4PrKzcGN77bR7ZY7zX2M+wL3ZvevHp4eYo9ajx5PS890z0rPDoYOI4axmHHei+AV6DXb66jXR28P7wLvA95/+Tj65Prs8ukebTOaP3rb6Me+5r4c3y2+nX50v3S/zX6d/mb+HP8q/0cBFgG8gO0Bz5h2zBzmbubLQOdAceDhwPcsb9ZM1skgLCg0qDSoLVg7ODF4ffCDEPOQrJCakL5Q99DpoSfDCGERYcvDOtjGbC67mt0X7hk+M7wlQi0iPmJ9xKNI+0hxZNMYdEz4mJVj7kVZRQmj6qNBNDt6ZfT9GJuYyTFHYomxMbEVsU/jRsXNiDsXT4ufGL8r/l1CYMLShLuJtonSxOYkjaRxSdVJ75ODklckd6aMTJmZcinVMFWQ2pBGSktK257WPzZ47OqxXePcx5WMuzneZvzU8RcmGE7Im3BsosZEzsSD6YT05PRd6V840ZwqTn8GO6Myo4/L4q7hvuAF8Fbxevi+/BX8Z5m+mSsyu7N8s1Zm9WT7Z5dn9wpYgvWCVzlhOZty3udG5+7IHchLztubr5Kfnt8o1BbmClsmmUyaOqld5CAqEXVO9p68enKfOEK8XYJIxksaCnTgj3yr1Fb6i/RhoV9hReGHKUlTDk7Vmiqc2jrNftqiac+KQop+m45P505vnmE2Y+6MhzOZM7fMQmZlzGqebTF7/uyuOaFzds6lzM2d+3uxc/GK4rfzkuc1zTeeP2f+419Cf6kpUS8Rl3Qs8FmwaSG+ULCwbZHronWLvpXySi+WOZeVl31ZzF188ddRv679dWBJ5pK2pR5LNy4jLhMuu7ncf/nOFVorilY8XjlmZd0q+qrSVW9XT1x9odytfNMayhrpms61kWsb1lmuW7buy/rs9TcqAiv2VhpVLqp8v4G34erGgI21m4w3lW36tFmw+daW0C11VdZV5VuJWwu3Pt2WtO3cb4zfqrcbbi/b/nWHcEfnzridLdWe1dW7jHYtrUFrpDU9u8ftvrInaE9DrWPtlr16e8v2gX3Sfc/3p++/eSDiQPNBxsHaQ1aHKg/TDpfWIXXT6vrqs+s7G1Ib2hvDG5ubfJoOH3E6suOo2dGKY7rHlh6nHJ9/fOBE0Yn+k6KTvaeyTj1unth893TK6estsS1tZyLOnD8bcvb0Oea5E+d9zx+94H2h8SLjYv0lj0t1re6th393//1wm0db3WXPyw1XvK40tY9uP37V/+qpa0HXzl5nX790I+pG+83Em7c6xnV03uLd6r6dd/vVncI7n+/OuUe4V3pf8375A6MHVX/Y/bG306Pz2MOgh62P4h/dfcx9/OKJ5MmXrvlPqU/Ln5k+q+526T7aE9Jz5fnY510vRC8+95b8qfVn5Uvbl4f+CvirtS+lr+uV+NXA68VvDN7seOv2trk/pv/Bu/x3n9+XfjD4sPMj4+O5T8mfnn2e8oX0Ze1Xu69N3yK+3RvIHxgQccQc+a8ABhuamQnA6x0AUFMBoMH9GWWsYv8nN0SxZ5Uj8J+wYo8oNw8AauH/e2wv/LvpAGDfNrj9gvoa4wCIoQKQ4AVQV9ehNrhXk+8rZUaE+4DNwV8z8jPAvzHFnvOHvH8+A5mqG/j5/C+WVnwzB5ELVQAAAIplWElmTU0AKgAAAAgABAEaAAUAAAABAAAAPgEbAAUAAAABAAAARgEoAAMAAAABAAIAAIdpAAQAAAABAAAATgAAAAAAAACQAAAAAQAAAJAAAAABAAOShgAHAAAAEgAAAHigAgAEAAAAAQAAA+CgAwAEAAAAAQAAAHQAAAAAQVNDSUkAAABTY3JlZW5zaG901qImWwAAAAlwSFlzAAAWJQAAFiUBSVIk8AAAAdZpVFh0WE1MOmNvbS5hZG9iZS54bXAAAAAAADx4OnhtcG1ldGEgeG1sbnM6eD0iYWRvYmU6bnM6bWV0YS8iIHg6eG1wdGs9IlhNUCBDb3JlIDYuMC4wIj4KICAgPHJkZjpSREYgeG1sbnM6cmRmPSJodHRwOi8vd3d3LnczLm9yZy8xOTk5LzAyLzIyLXJkZi1zeW50YXgtbnMjIj4KICAgICAgPHJkZjpEZXNjcmlwdGlvbiByZGY6YWJvdXQ9IiIKICAgICAgICAgICAgeG1sbnM6ZXhpZj0iaHR0cDovL25zLmFkb2JlLmNvbS9leGlmLzEuMC8iPgogICAgICAgICA8ZXhpZjpQaXhlbFlEaW1lbnNpb24+MTE2PC9leGlmOlBpeGVsWURpbWVuc2lvbj4KICAgICAgICAgPGV4aWY6UGl4ZWxYRGltZW5zaW9uPjk5MjwvZXhpZjpQaXhlbFhEaW1lbnNpb24+CiAgICAgICAgIDxleGlmOlVzZXJDb21tZW50PlNjcmVlbnNob3Q8L2V4aWY6VXNlckNvbW1lbnQ+CiAgICAgIDwvcmRmOkRlc2NyaXB0aW9uPgogICA8L3JkZjpSREY+CjwveDp4bXBtZXRhPgqQKG4nAAAAHGlET1QAAAACAAAAAAAAADoAAAAoAAAAOgAAADoAACa0b4/dEQAAJoBJREFUeAHsnQv4DUUfx4dIuZRcKxRFrrlFRTe9JLeidKN66+mVqFdI8T55lUuSFBFScn0polxCN0mkFPl38QpJb1EK6UIpXead79Rse/bsnrPnnD3n7Ol853n2nN2Z2ZnZz+zO7m/mN78pJJUTdCSQBQIHDx4UJUuWFAMHDhRDhw7NQgmYZTwCe/bsEe3atRN16tQRM2bMiBc9a+FoxqpXry6aN28upk2bJooUKZK1soQl4ylTpohevXqJgoICUbNmzbAUK6ocM2fOFH369BFLlizR9RcVgR4kQAIkQAIkQAIk8BciUIgC+F+oNnPwUtatWyfq1q0rihcvnoOlz48iHzp0SGzbtk0L4WG+4vXr14smTZqEuYgZL9vWrVtF5cqVQ/187dy5UxQtWlRUrFgx43yYIQmQAAmQAAmQAAlkmgAF8EwTZ34kQAIkQAIkQAIkQAIkQAIkQAJ5SYACeF5WOy+aBEiABEiABEiABEiABEiABEgg0wQogGeaOPMjARIgARIgARIgARIgARIgARLISwIUwPOy2nnRJEACJEACJEACJEACJEACJEACmSZAATzTxJkfCZAACZAACZAACZAACZAACZBAXhKgAJ6X1c6LJgESIAESIAESIAESIAESIAESyDQBCuCZJs78SIAESIAESIAESIAESIAESIAE8pIABfC8rHZeNAmQAAmQAAmQAAmQAAmQAAmQQKYJ5JUAvmvXLvHRRx/FZPzLL7+I3377TZQoUUIcd9xx4oQTTogZn4HhI7Bhwwbxww8/RBSsSpUq4sQTT4zwMwc//fSTWLdunTmM+D/llFNEhQoVIvx4QAIkQAIkQAIkQAIkQAIkQALJEMgrAXzSpEmiT58+AgKX0x1++OGW16+//iqwwVWqVEncfPPNol+/fqJYsWJWHO6El0D58uXFvn37dEeKKWXZsmXFu+++q+vT+Jn/HTt2eHa0oO4nTJhgoib0j/vsqaeeEuvXrxf/+9//ROXKlUWjRo1Ely5ddAdPrMTee+89MW/ePN1hhHRq1KghzjnnHNG+fftYpzGMBEiABEiABEiABEiABEggxATySgA39QCBq3HjxmLv3r3aa9WqVVq4MeEYAf/ss8/E/PnzxX333Sd2794tqlevroUpCFB04ScgpRRLly4VF110kVXYVq1aiZdeesk6tu98+eWX4s033xQ33XST+OKLL0SvXr1Et27dRO3atUXRokXtUX3tr1mzRtxwww3iwIED4oILLhA//vijWLlypUA+xxxzjJg6daro1KlTVFqId/XVV+uyt2zZUpxxxhlaCH/mmWd0Wrj/Zs2aJerUqRN1Lj1IgARIgARIgARIgARIgATCTSAvBXBUCYSrKVOm6NrBaHfhwoVdawqjpmeffbYWfqCO/vbbb4ty5cq5xqVnuAhs2bJFC9CnnnqqwIgy3KOPPiq6d+/uWdD7779fd7p89dVXolChQp7xYgVs377dGukePXq0KF68uI4OYfyKK64Qzz33nBbqFyxYEDWiDeF78eLFuqPgzDPPtLL55ptvdJoYSYc6PdTseR9aeLhDAiRAAiRAAiRAAiRAAjlBIG8F8B49emhhDLUUSwBHONSQH3nkEeyKcePG6dFRfcCfUBOAAN6gQQOxdu1acfrpp4uff/5ZlCpVSmzcuNFT5fzpp58WI0aM0GrjyV4cRtoxar5s2bIoIf7gwYOiWrVqeiT8yCOP1FoYRkDH6DdU5TF/3U31fdSoUaJ///66WNOmTRPXX399skXkeSRAAiRAAiRAAiRAAiRAAlkgQAFcQY8ngD/55JOia9euunquvPJKMWfOnCxUFbNMlIARwCHYDh06VNx99906CaiEv/jii67JpSqAIy8I1hh1nz17tv53ZjRs2DBx1113aW+UA+WB+/TTTy1DcSeddFKUwUD7fXjrrbeKsWPH6vP4QwIkQAIkQAIkQAIkQAIkkCME1FzZvHRqrq9UVaQ3JYDHZDBmzBgrbu/evWPGZWB4CGzevFkqw3m6QIcOHZINGza06vGxxx5zLaia9y9PO+001zA/nm+99ZaVx7nnnut6yrPPPmvFGTBgQEScv//977Jq1apSjXBH+OPgX//6l3WeGg2PCqcHCZAACZAACZAACZAACZBAuAlwBFxJ4bFGwFX1ib/97W/agBb6VJYsWRI1bxf+cFAd/u9//6uNtmGebs2aNeNaToeFaxiDg2r0UUcdpdPBUmiY63vssceKkiVLar90/yC/Dz/8UBQpUkTUqlVLL8GW7jzTnb59BBx5YT5/06ZNtSo6WEMVHfVkd6mOgGPueMWKFfU91aJFC/HKK6/Yk9f7L7/8soCaOhwMtRlbBNojxg9GypcvX67V2t9//31Rt27dGLEZRAIkQAIkQAIkQAIkQAIkEDoC4e4fSF/p/I6AK7Vla9RRzbl1LZCymi6VSrEsXbq0VNbSJUY+1TriUs3nlcOHD5duI+ytW7eWSri20laGwaSywi3VUlPaXwnCOkxZu5YzZ86MyvfCCy+Ual3rqK1Zs2Y6bseOHaPCEN+EmwSVUCrPOussqeYh67zVutc6XyXsyXfeecdEs/6VATHXdJH23LlzpRI4Y4arddg9w5GG2zZo0CAr/0R27CPg5rzBgwdbzFEHTpfqCDjSKygokMr4mvz888+dyetjZVnfKoMyCucax+mpOgukWipPn3fbbbc5g3lMAiRAAiRAAiRAAiRAAiSQAwREDpQxLUW0C+BqFFqqUWe9QZhWS0XJF154QZ5//vla4IGgDMENasxuThnG0vEgfBqnljGTygCY9kdeTqcsXUsI98r6uo6j5g1rgR3q7vv379ebmvOr/VSvjYTQZnfff/+9FvSUZXbrfGVsTCpr2TqasrgtlaVsqUbWdTiENzXyqq/NpLNz504dppbqkso4mPGW48eP1/5lypSREPzsThkyk2qZLt3hgHJhUwbttB/4mHC1jJcOQ/g111wjP/jgAwnOKCP80NHw6quvyl27dkm1DJwVF50cSB/xwOewww6Tav69vQi+990EcKcq+uTJkyPSC0IAj0jQ5UBZN9fXi2tDh0Q8t3r1at2xo6yyR90H8c5lOAmQAAmQAAmQAAmQAAmQQHgIUABXwiBGru3b0UcfLc0INIRFtTSVFh7dqg0Cu1IV1wLVkCFDIqKsW7fOEixff/31iDBz0K5dOysOBGSnUyrHWgiF8AXh0OmUUTh9PoRop8MIrFK11uHt27d3BsuJEyfqMLUutfz6668jwjt06KDD3EaJERECNdhgg6DvdJs2bbLCwcE4jKCDLYRsuzMdBdOnT7d7y3/84x+ybdu2EX5+D9wEcJyLEWplpVyXD3yU8TMryXQL4GodcotL3759rXydO+iUgDbFEUccYcW/8cYbJTpW6EiABEiABEiABEiABEiABHKTAAVwJUC6qYhDsFZrfku1fJUWgNRcYVcBGCO+GL2GIAq1cKeDSjXC7rnnHmeQPlZzgHW4mpvsGg7Pyy+/XMeBmjhGvu1OrRutwzp37mz31qP1av1yHYb8neGIjDIhDNsbb7wRcT6MgMEfeWLk2unUfHHrXDUf2RksvcKVZXCp5kZHxTcdBU4BHFoAZ5xxRlR8Px5eAjjOxei6uXZ7vaVTAN+3b59U1s11vk2aNIkpTCtr6lLZE5BgO2PGDD2tAeXF+V6dOX6YMA4JkAAJkAAJkAAJkAAJkED2CFAAV0KNmwBuquS7776zhB+oDEN13OmeeOIJ2a1bN4n51E4HVWsITm5q6IhrBHC3EWyT1oIFCyxh0TlK7iWAq2WqJIQ8CN7I300A37Nnj+zZs6ccOXKkycr6Rz5GQIWauNN5Cdgmnlc4rI+7qZR7CeCvvfaaxLz0ZFwsARyq6GaKAK7z8ccf11mkSwBHhw60EJAXVNDNVAG/14VOEKMtgU4RaCDQkQAJkAAJkAAJkAAJkAAJ5BYBCuBKIIolgKM6IahCBRzCE4QfZe3ctZahVj116lQJtXAIWWa0E+dhTrSbMwI4VL69HARgpIENI7d25yaAz5o1S5YrV05+8skn0i3cfj72Mf8dgi6WuWrZsqVUa1hbKtrIU1n2dp4SMcIN1eg777wzYsO8cFNm+wg5NAYwEux0XgI4BGXMp0/GxRLAkR5U581UA+S/Y8cOreWQyjJkXuXE9ATwgFYCOnWScZiPb5g2atQomSR4DgmQAAmQAAmQAAmQAAmQQBYJUABXQlE8ARz107hxY0v4wTxeu4NaOIRQCOlYd/qqq66SWOsZBrbMCHgqAjjKZzoAOnXqZM86SsCG5XLMpzZljCeAw3Ac1Osh2Kll0/Ro+Pr16+XChQut640ngN9+++0SI9v2za7ebhfAIwpvO/ASwG1REt6NJ4AjQVivN0JtmzZt0iKAQ40e9aeWs4updu7nAmvUqGGVd9u2bX5OYRwSIAESIAESIAESIAESIIGQEKAA7lMAv+666yzBZ9iwYVb1wZJ47dq1dRgskjuthhtL6qkI4BhZN0IihF27swvYZo7xiBEjrCj2cMvzj51Ro0ZZVtiRLtSkjYOFcpNnPAHcTcD2UkE36Tv/syWAY4S9fv361rVCzTvIEXB0hMACPdK1W5rH9YMRjNUZ99BDD2nNBcT1ctBQMPUCTQc6EiABEiABEiABEiABEiCB3CFAAdynAA5DYEbwmTRpklXDsNJt/DHi6nTOEXAITStXrrSi+VFBf/755608MJpqd0bAvuSSS7S1cIyQ2wVpE+6cA759+3ZL/bpLly72JPW+fQ44BHBYSb/jjjusePEE7HjhVkJ/7GRLAEf2dlV01GVQAjiM+EEbAewh6DvdgAEDZO/evS1vTBsw95KXoTVjFBDxYFGejgRIgARIgARIgARIgARIIHcIUAD3IYCvWbNGLwUGoQdLlGGdcOOMSjAEIzdnliiDUTQ4CNwPP/ywFdUI4BjZ9HJQaUfeEND27t0bEc0I2AhHWb799lvXcKcADmvkOAfbsmXLIs7BAToZTDhG1rFUV9myZa148QTseOFWQn/spEMAx8g8pgT4cYMGDbKuNwgBHOrhFSpU0GugY469m4N2hL0zp27duroMuMfcjLTBEBvCUC9QaXcuHeeWB/1IgARIgARIgARIgARIgATCQyBvBfBrr73WEri8BCRUE1TKq1atasUdN25cRO3VqVNHh5133nkR/jjACKURYpEfHKydjx8/Xu/jxwjgWO8Z63Y7HdbQNmtWu6kcmyXKoObspgoOi+MoA0bI7W7u3LlW2TAP3O4wgg4jcqbsmMuO0Vx0ABiHJbJMuJv1d7sA7hZu0sE/8jNLuWEeeVDOLKXmnBbglj6EWxifwzWlKoBjysDJJ5+shWQYths4cKDeYKgOo979+vXTdgKQl10bAp008Fu9erVbEeW8efMs5qh3OhIgARIgARIgARIgARIggdwikFcCOATcVatWaUvlGBk1AuTw4cO1P8Ig/GCD8AbDasZKNgTcMWPGRNUu5lubdGAB3Tisq3388cdLqHcjHCPhS5YskeXLl5d241lGAEccCPMFBQUmCV0OxC9cuLC2MG4FqB2sEw3BtmTJkjp9rDcOK97GQaDcunWrrF69ug7H/HSonRsHtXKUD/liubLdu3frIJwHC+Y4D/4Ih8B4yy23SMyDh4MGAOa0IwwbVNPtluExYg5WJhx87eE6EfUDwXv//v1y8uTJVtxWrVppPn4M45l0nP+LFi3SxtXMaHG1atUk5u3DQF0sh04G1HcqAjg6c+xq4oaB1z+EdeNQBzCEV6ZMGYkpAHYGW7Zs0fcO0kHdODUdTBr8JwESIAESIAESIAESIAESCC+BvBLAoe4LwTvWBkEb631D6IXwC2EMlrIhAHm5CRMm6BFPCEdQI8YGw2wQLCFEGWEV6cHwmd0ZAbx169Zy7NixWihu2LChVifHyHfTpk3lihUr7Kfo/Xr16rleh1GF9wqvVauWlRYEdKi3Q+iECnjz5s212jT8IMxDIIWFdKg7Q0UeHQdz5sxxzRcj2BB8Y4XPnDnTyhtLu2HU39QF9itVqqTzQ57QOhg9erQVP5EdjNSbdO3/sdT8Tfr33nuv1lIwx4n+r1271jVveznMfsWKFaOSB3csY4d7sHTp0hLL08F6Os5BPWC9ebCjIwESIAESIAESIAESIAESyD0ChVBkJTjSpUgAGJVFdKHmSgu1VrhQ6zRHpKhGhYUarRZKwI/wV0bchBo5F2oJLKFU1nWYUvkWaq63aNCggVCCaUT8dBwcOHBAfPzxxzpPlFsJflY2akRXqPnIQgm1lh930k9AaSsIpZEhlCq/UJoCQqnHC9W5ItTod/ozZw4kQAIkQAIkQAIkQAIkQAJpIUABPC1Y/SdqBPC2bdsKZQzN/4mMSQIkQAIkQAIkQAIkQAIkQAIkkFMEKIBnubqMAK7WfhZLly7NcmmYPQmQAAmQAAmQAAmQAAmQAAmQQLoIUABPF1mf6Xbs2FEsXrxYKANsQlkW93kWo5EACZAACZAACZAACZAACZAACeQaAQrgWaoxtSSVUAa7hFoCzCpBixYthDL6Jh544AHLjzskQAIkQAIkQAIkQAIkQAIkQAJ/DQIUwLNUjw8++KDYtGlTVO7KGrlQS3hF+dODBEiABEiABEiABEiABEiABEggtwlQAM/t+mPpSYAESIAESIAESIAESIAESIAEcoQABfAcqSgWMz0EvvzySzF//nzRs2dPodZ+T08mTDUQAnPnzhW1a9cW9evXDyQ9JhJJgHwjefAo8wTYHgfLnDyD5ZnJ1NgeZ5I28yKBzBOgAJ555swxJATWrVsnLr30Ur1++4UXXijmzJkTsQZ6SIqZ98X4+eefRd++fcWECRNEiRIlxPTp08Vll12W91yCAkC+QZFkOqkQYHucCr3oc8kzmkku+LA9zoVaYhlJIHUCFMBTZ8gUcpAAhLgePXqIn376ySp99erVxaJFi7RFesuTO1klsHv3bnH55ZeLVatWRZRj4MCBYujQodRaiKCS+AH5Js6MZwRPgO1xsEzJM1iemUqN7XGmSDMfEggBAUlHAnlEQPUuy169ekn16OmtXr16cvDgwbJ06dL6uFSpUnLhwoV5RCS8l6pGcGSVKlV0vRQpUkT26dNHtmnTxqq7Dh06yG+//Ta8FxDykpFvyCsoD4rH9jjYSibPYHlmMjW2x5mkzbxIIPsERPaLwBKQQOYIvPDCC1qAO/zww+WQIUPkoUOHdOaff/65VGrNOuzoo4+WP/zwQ+YKxZxcCTRr1kzXR+PGjWVBQYEVZ/bs2bJ8+fI67N5777X8uZMYAfJNjBdjB0+A7XGwTMkzWJ6ZTI3tcSZpMy8SyD4BqqCHQAuBRcgsgZEjR4qLLrrIVdV88eLFomjRoqJt27aZLRRziyLw/vvvixUrVoh//vOf4rDDDosI37dvn5g4caK44447RLFixSLCeOCPAPn648RY6SXA9jhYvuQZLM9Mpcb2OFOkmQ8JhIMABfBw1EOoSoF5SBUqVAhVmZyF2bNnj1CjoE7vvDpmPeVOdQdVV99//72e937kkUfmzsWzpCkRCOreSakQcU5meyxEUPXEZ/z3mw2drGpKmO4Qj3P7ZS2YdZU19MyYBHKeAAXwnK/C4C7g4MGD4sorr8S0BPHss88Gl3DAKaF8lSpVEtdff71QKsgBpx7+5FhP4a8jU8Kg62rSpEni/vvvF88995yoWbOmyYb/f0ECQd876ULE9jjY9yafcaHbt6uuukosX75cNG3aNF23bsrpsq5SRsgESCBvCVAAz9uqj7xwLH2Bpbg2btwo3nnnHXH88cdHRgjZ0VtvvSXOOeccoQyqiQceeCCp0qH3Ws0nFt999522tH3iiScmlU4mT8rHegLf/fv3i1mzZgkIJVdccYWoXLlyJrEnlVc66grCTufOncVrr70m1q5dK0466STfZYPF/6VLlwrc9wcOHLD+u3btKk455RTf6TBi+gmk495JZ6nZHgf33kzlGXfWMeoF06qaN2+up1UVKlTIGSV0x88//7y4+OKLRf/+/cU999wTuvLZC5RKXYWtPd67d6/YvHmz/fL01C90gCgjqBH+5uDDDz8UWGve6Y444gjRpEkTpzePSYAE7ARUA0JHArJnz56ycOHC8sUXX8wKjfXr10s1sifVCLzeBgwYIFeuXBmzLGpdaG2Ia+rUqTHjuQX+8ssvsmrVqvp89TzIsmXLyk8//dQtaqj8sl1PX331lQT37t27y44dO8rbbrtNPv300/LXX3/15JRKPSFR9aEijzvuOKuuKlasKL/44gvP/MISEKuuNm3apK9n7NixUs39kzt27JBKjVeCr9tmt/aOfbVknqxbt65UnUe+LxfMcK87t8mTJ/tOgxEzQyDWvZOJErA99kc5Xj3hnfbvf/9bgqfdqQ4WuWHDBqlsWMhp06bZg/R+ss+4PaGHH3444lnHah9hd1u2bNErkpx33nkS7+hMObbHUuJdpOzfRNwzeFfgW8zL3XDDDVHxzftFTcnwOo3+JEACigCtoPM2kEuWLNGN6KBBgzJO48cff9TLS6meeXnuuedKNOinnXaa7gxAQ6567uXXX3/tWS61RrQsXry4/OSTTzzjuAWYazYvC/xPmTLFLWpo/EyZs1FPgPDUU09p6+NnnnmmHDZsmBw9erS85pprJJYIq127tty6dasnq2TryeRrryfsP/nkk555hSEgXl2h08J5TbGOlbZHxGUpLRXN/ZZbbonwj3UAy/7jx4+X1113XUTeFMBjUct8WLx7J50lYnvsn66femrVqpX1rGF1DTVtRCpNK6mMSmp/rMbxyiuvuGaazDNuT6hOnTpW3mhbkHeY3W+//SbVaKtU9mckViXJpGN7/CdtpSElzzrrLOvewbfZq6+++mcE2x5WkcF92qNHDx1fTQ3U35NqVNwWi7skQAJuBCiAu1HJIz80oEr9VL/0MNKYaXfzzTdrQcI58v7MM89IZWhKN+oQyJVBFteiffDBBxIvCKWW6xru5bls2TLrBWMEH/gF5TCqGavjINF8sl1Pb7zxhu4ddxPW3nvvPa1BUK1aNT2K63ZtydYT0po/f35UXcXTjnArg5dfNupKqVZGXZO5D93+lfp9VPG7dOmiP+TxAZSIw8etPY/HHnsskdMZN40Esv2csz32V7l+68kugNufOexDqwfLhsVyyT7jSLNevXoRz3mLFi1iZZVQmJoKJLFudZBu+vTpurxjxowJMllfabE9jsSk5t/LBg0aWPfPySefLCGYezloK5QsWVI+9NBDXlHoTwIk4CBAAdwBJN8OjZpaNkZV33zzTS08e63lDH/z0YIeVi+nlhTT8SAk+nUY6YGam0kfHyfogQ/KQU0a6oVBuWzWE67h9NNP1yrnXtczd+5czdJNQDfnJFNPOBcvfoy6m7pSS8SZJAP5z0ZdXX311VLNY5e33nqrvPPOO+Vdd90VtSn7Bvqa8RHu5t5++20drmw3uAV7+kE10LDEf6w680yEAWkhkM3nnO2x/yr1W08QwDHiXb9+fXnUUUfJE044QbZv316OGjUqpkBjSpLsM47z0SZDOwnPeOnSpaUy3GiSTfn/kUce0enGEsoSyQSd/8rujBbivvnmm0RODSQu2+NIjBDAR4wYIaG5Zt4VvXv3jozkOEKHjzLe6/DlIQmQgBcBCuBeZPLEH/NIMe/ns88+y/gV33333bpxV8Y6JEZRnQ4vYjMnCXNevRxGQ/GSUFbRvaJ4+mNuXkFBgWd4sgH44IFwFZTLZj1BdRkfcrHUnTEXGXUA9WYvl0o9oXMEAoLbfeKVn1//bNRV48aNJT5iYzllbE5/sMf6IEXHETRAPv7441hJRYRRAI/AEaqDbD7nbI/93wp+6wkCeKqd28k84+ZKlGEtqYya+RL2zTl+/jHSifbeSzPNTxr2OPPmzdPpQQMjG47tcSR1I4DDLgmmBKCu8Z5ZtWpVZETbEQVwGwzukoAPAhTAfUD6q0aBQIOGtV27dlm5xEsuuUTnjzJ4Cc8QvBGOzWueNwyAYXQBc8ETMUqVzosOUqjLdj0pS6eaP0aKvebm7dq1S8eJJaSHsZ5wD2S6rtCZUKJECW18zesehGEmGEWM9cGDc9UKAJp7Ih/5FMC9qGfXP9vPOdtjf/WfSD0FIYAn84z7u5LkYwUtgEOrCe94ZbU9+UIleSbb42hwRgBHiOkcQf3ge8xL64ECeDRH+pBALAJ5K4CrZY200SgvteOdO3dKjPz9lR0+2tGowqBWNtztt9+u80cZYIHTzdWqVcuKgw8fL9emTRsdz48KlFqCSa5Zs0bPv4PxlZkzZ0q1nqe0W5r2ysevf5BCXbbrCer6RpWxSpUqcsWKFVEYYOkX9RiPfyL1hEzQoYK6go2ABQsWSMyFRl1t3749qgzJemSjrqAOCkvIbm7btm1aFROq6fGcWopMc4edBL8ungCO50Atc6YtN0PjABoiqAOMpqXLsT2WeqSU7fFfqz0OQgBP5hmHVW8Yd4OhOKiiY6WQIKeaBCmA4zsLxujU0lWebWK62h2TLttjQ+L3f7sADh9oY6FtwtanT5/IyH8c+RXAoa2F9zm+I7w69J0ZQAsM70V8ixiH9xEGB2CPwc3BEBwMw+Ld4tfh2xCaergfYmme+U0vG/Eg04CN3SgubDYE+c2UjetyyxPXiXsJtjQ++uijmKvxuJ2fbb+8E8Dx0Yv5xDCAUqpUKW29GcK23T3++OPauBGEjUQeXnsaubBv5kA7DaBlquzoSYUl7UcffVSigXA6zAsrVqyYbvRhNTaWADB8+HAdz8+8azOCYV4o5j9RY1bO8tqPgxTqsl1PuC4sD2c44b9bt26WkTl8jGG09rLLLrMjcN1PpJ6QAF7S9nzNPvIMyoWprqAl0KxZM4lpGV4Cuv268fEBzQ88H361P+IJ4OgMM5zt/+hkCdqxPf6TaLafc7bHf9ZFrL1E6skI4Hg2Fy1apDu7Ydvk9ddf9/V8oxzJPONYUcT+7GIf7VxQLkgBHB0FKB9WPAmby7f22PB3CuB4Z5QvX17XE971q1evNlGt/3gC+Lvvvqutq+N9hVU9YPwX9X7BBRdoS+pWQn/soPP32GOPtaYhIi78Fi5cKGHhH1pkWFkA7z7M4TdLk7700kuyQ4cO+vse9zxU52EnJdYysygb7MxgymOjRo0kvv3RKQStICwLmgsOU00wXcC+wgI6LKCViGsBPyy9G9R3LpZYhG0gbGZ1B9i76Nevn4UL7xTwRBx806DesHwtOjgQ18/mNv0UwjZWTMLAEK4ZeeC6YSww1mpG6LABAz/5Is75559vXUs6dvJOAIdhI9wMmNsycuRIfVP27ds3gu3FF1+s/XHD4kWZLofGHdYjU92SLR86INA4BWmtO9myuJ03Z84cqx7QSMdyy5cv13H9WHpFz+bAgQMl5n2hjs0WVMOEcgYp1IWhnqBiDiM5hhX+0Yl16aWXaj8I5F490fZ6S6SecB56bfv3769foPa8wyqAp1pXeHngOhPpFDv77LP1OX4tw8cTwDHihtEolAPtQ6dOneTQoUNdP7rsdZvMfpjaY5Q/1bYY56NdT8aleu8kk2ci57A9/p1WIvUEARxLa+GDHs8p1lTGPGc8X5jS8/LLL/uqgkSfcaxsAKNZZcqU0c8xnuWwCuAPPvigLqPXyKovQGmKlG/tscHoFMDhj2VIzTu4Ro0aURqisQRwDHLhXBhitQ+2YFlM+OM+3bhxo8le/2PAZeLEiXqKpMkX9/Qxxxwjly5dqjuw0N6awQF8I0KbEUI5hHR8j6Atvvbaa3UesNvgpvE6e/ZsveIOhH1ojhhn7stTTz01tN/Ipqz4xxTNcePG6XYGvCCc4r3dsmVLiXc6Ok7gj3duEA6aK0gXAq2pHwymOQctUVdGgxLP+JYtW3TdocMExmfNuVj9ABoIOB+aEajLcuXK6XD4G4c8MeUU9wGm6Jk6heaeMfSLuvNy6FCBZhC+bSADIm1s4IfldFEedFigbTadOl5ppeqfVwI4es8AFr0ncOipAWxYJbU7qFuam9Wtpw8PNdRhU+kZgxVV3ADm5kvlHx8EsUaH7ddm9vHwIE/cxGF0aFjRY4Yyos7iGUpD3SIueq38OtShnXsYBfAw1RMaRTTmdmbYRwPst6FKpp5QnzD2Y883jAJ4qnWFFw86NRo2bOj3FtbxTCfINDVv3I+LJYCjTWvdurVmbT50/KSZTJwg2mOo2WGOIp7lzZs3J1MMfQ5G4vEBZr/HUtn3M33AXthU7x17WunYZ3v8O9VE6wkCOO4jLKtpd/i4w/sfozaY7hHPJfqMm/RgCNTcx2EVwNHBijJ6TUMz15Lp/3xrj+183QRwhNutojsHrmIJ4BCkUcd4pzgHfDBajTC8d9wcBkzMPYx/CGB2Z4y7Igzf7c41yxHfnO88Fx38ZrlbfPc7nZkyl8g0TUz3wLUEsTllE2f53I7NNxauGYMm6PyAkIqOQGiU4n0ZpENnh+G7ePFi16Sh7eBm5wnL05pzsRys0z3xxBM63GgvYPoCOlhwDkb8nQ4j/lg+D22r29Kt9vi4F5G/3XXt2lWnnQx3ezp+9/NKAL/pppssNVnckFi3GBWJXhinu/HGG3WYmTeBFy/UVNALaJZEQi9Ksg7zWaCOiwc71Q3CvOkF8lse3Mi4djAIoxs8eLAuH8qI64vnTA8rPmj8skD9IX2zhVEAD1M9oefafNA5O4/Qg+1nHfVk6gl1jx5KU0/4D6MAnmpdmd7g//znP/Fu94hwaB+AyZAhQyL8vQ68BPANGzZYvdlQ6TJtn1c6qfqn0h7jPoJaITosMPXBaLNAtRFhyTisQ5xqW4zzsaZwvA5DZ/lSvXec6QV9zPb4d6KJ1hOWckLnkJszRu/QgRlvukmiz7jJz25nJawCOFbOQPs1Y8YMU+xQ/Odbe2yH7iWAO1XR7Z1HsQRw+zrrzuVi0XGM+odqOqYdujmEY3NbghSdxibcTWUYHSnmewVaPHZntF0x7cvNQYhD2pUqVXILdvWDtiA0Z4PY7CPyrpm5eEJYNTy6d+9uxYBGAFgE7fC9DRV05Olm0Bkd4/guNwOf9vyNgV+c6yaA45sTnSrm29zIZVjW0cuZJRIxnQB14eZQZpTJCPYmDqYyoCydO3c2Xmn9/z8AAAD//5KhN3wAADebSURBVO2dBbjkRPa3iwUWFllcB3cYZHF3twEGd3d3H9zdncHdGdyHAQZ3d4dd3D3feev/nZBOJ+kknb7dPffU89zb3SnNryqVOj5cIMn1krTCCiu43Xff3S255JLu4Ycfdosssoi/8yeeeMLNPffcNShceOGFbrfddnNff/21G2644dzee+/trr76ajfHHHO4V155xb3++uvu1ltvdSuttFJNvW75wT3PO++87j//+Y979tlnM4f9zTffuPfee881s1RGHHFEN/PMM2f2o5mPP/64W2ihhdwff/zhjjrqKLfPPvtoVurnzz//7EYZZRSf/+OPP4bfUytIxm233VYzf88995ybbbbZsqr4vA8++MB9+eWXmeXmnHNOt84667g999wztdw//vEPN/XUU7vRRhsttUyReaKR1157zYFF2cRa79OnjxtvvPFqmnjppZf8/Xz//ffuyiuvdJNOOqnbfvvt/TOgBYcffng3ePBgt8ACC+ilus8y80QjzGkUp5NPPtntvPPOde3HL3TyXEXH+vvvv3vcWVf8jTnmmNHszO/sTccee6xfa3w2Sv/73//c+OOPHxY777zz3D//+U+3zTbb+LXTr18/v9eNPPLIYZlWfCm7H//5559+jU0//fTu0ksvDYd2xBFHuAMOOMBNO+20bsiQITX3GBbq0C+d8pwnwWP78d+oFJ2nv2vWfzvnnHP8M0fOzTff7Hju0lLRZ1zb4f1z/PHH+5/sKZxnGqVffvnFvfHGG47nLC2xZ5x11lnuwQcfdP/+97/Tivk83nFZiX3gjjvucDfddJNbZZVVsoq6njqL9Mb9OAr8uuuu689CSWeva665xq299tq++HTTTec4N/3rX/9ys8wyiz+vJZ2Jv/jiCzdgwAA3xRRTuL322ivalbv//vv9mZyLn376qZtwwglr8vnBuYTEWuYMH0+8q3799Vd3+OGHu/333z+e7d+n3377rRs4cKDbZJNNfP5vv/3mzxTM9X777ed4f8QT5/wZZpjBX2btjTHGGPEiHff7ww8/dJNNNpkf12WXXebWX3/9lo/xtNNOczvttJPjTPv222/7edZOd9llF/f++++7G2+8US+Fn2+99ZZ/X3PhxRdfTKQRpplmGsd9zDrrrG6sscZyzBv74dFHHx22E/3yySef+LMU19LWC/vg2GOP7c9afGraYIMN3OWXX+5WX311d9111+nl1n1CgPfGtOWWW8J4CGRyE29fCL9gjTXWSMzbeOONfV0hwBPzu+GivPD8PQih23C4/fv392XBq5m/O++8s2Ff//3vf4OppprK9yPERMPy0QJC5AeyAQRCJEYvp34fNGhQzf3IiyS1rGbIZh0IIVhTrxlMZNPSphM/i8zTCy+8UMm45ptvvpqxyGYVCMEdyEYVyMGsJk9exoG8MMN+hYERCOOkpkz8R9F5ov4PP/wQ9gHeQoDHm6373clzFR/s9ddf7+9PXvbxrIa/5eDg68phu2FZCvCMRdesHCpqfsuLLhCGR662qipUZD8Wxpkfr7woa7oX5k4w6qij+jw5ENTkdfqPTnjOkzCy/bgWlSLzVFuz/td9990XPneN3gNFn3HtbY899gj7EAJcL2d+ysE2rBPdJ8p8F6ZsIAy/zP5439D2vffem1mOzJ46i/T2/ViEBwFn4LTE2VjXgwiqfDERsASNzsScDYQ5GghhH4ggLBCiPeA8oG0J8zmxS83nvJGUhAD3bQhDNik70HecEOBh/jPPPBP2K4yBYOWVV677W3zxxcMy8bNP2FCHfRGhQzjmJ598skdGJ8yJ8N277777hn1yjmDfESZLeC365c033wzHKgR4NCv8zvmTxPlc18G5554b5se/COMwYN+hrDAf4tn+t/YrTJuafMpTTwjwmuut+jEcDUuHvSrB2Z1oookckqADDzzQHXrooXX3Lw+eE0I75JZFC8BBu/jii7taAq5cRyS1Tz31VPT26r7DvXr++eebkoAjYUPzgM+0hJRziSWWcLIxuvPPP9/jn1Y2fh1pOVJ2OKVwNJHGNkplJeBIQeDUZiW4jkiCkRKnJbiFc801l1+LaWWKzBNt3H333U1LwOFqK9eXNlX6cvbZZ7utt96aSzUJiS0ccTlQ+usPPfRQqF1SU1B+lJkn2igrAe/kuYpig+Tnlltu8c+IHESjWQ2/I/WFe5+2l8UbiEvA4/n8Zj6vuuqqpKzKrxXdj5Hysybhhn/11Vc144FzfcMNN7jVVlvNf9ZkdvCPTnjO4/DYfhxHxIXSujzvTd4vaNpxjphxxhnrGhs6dKibf/75/fVGEpeiz7h2VkYCjnTokUceyZSAC/Pav6MvueSSTAk4UvdFF11Uh5P4iSYiOOXRKOyps0hv3o+ZpCwJOPnCmHN9+/Z1SLY5xzB/nA3QWEySgFMHbYmNNtrIIaFFe2mzzTbz77uPPvrIrbrqqhSpk0j6i/JPJeC6t+t1/VQJONp5aB7GE+swLgFH60T75X2i3+N1+U37aIt2Q4pKwIXQdEiQeyIJE93vCWjXMQbO+mjKnHTSSV5rOGkMeSTgWo/zkWrIoI281lpraVbdJ5oK3333Xep5Cq0u9iW0faLJJOCtYjVE2n366ac9l0OAD+CCxZOoW3sOymeffRbP8r+rkIDTtqhVBELIN/0nCzNxnFkXZQF6DNI0ALLqtiIPaeXyyy8fiBp5cPvtt9d1IcRAplROXgT+fsYZZ5y6umkXykjA09qKX4fr10iqEa+T9LsT5gkJxQgjjBD89NNPSUP015BQy0vVz8GZZ56ZWq7MPNFYGQl46iBiGe2eKzi2yqFP07qJDbnm5w477OBxzyv1jUvAl1pqqeDjjz8OFl54Yd8O+yJ/RTVQagZV4EfR/RhO+EwzzRSI2mBdLxtuuKEfu7yo6/IaXbjnnnua3ovZz4UoCXiHFEmd8JxHx2v7cRSNv7/nnSc5gAZCNPi1OM888/zdQOSbEC3h87beeutFcuq/Fn3GtYUyEnCtm/WJBhJ7hDDAsorlyuO9T1uchzoh9fb9mDloJAGnDGcyfVcI0z4QU4NUCfhxxx3ntRMpz5r866+/aMInYdiH7TSSgAsBrtVqPkcaaSTfhhDgNdf1h75foxJwYc6H/Yo5hRZt+lMIv0AIy0r+RJ278HiiEnC+91SKvsd1HoRpEZxyyimpQ1BJNOsiTQKulcUcIJyvCy64QC8nfqoEfIsttkjM5+wvDKS6vJ6WgCPV7HWJjZ4JR/VF7Anq7v+www4LFltssbrreqEKApwNSTevZj8hjhqpeenY9ZMDN/2Kra9eauunaBUEo48+eiA2xHXjYI6Em+Y3tLrM/3+BjYr74WCeN3UDAd4J8zTuuOMGIm1sCKtIafwcRF9y8Upl5ok2uoEALztXUdMBVLGLJiU609Tz4u3FCXCRTPgin3/+eTDJJJOE+xIvMdGoiFev/Hez+7EOCKJxyimn9ONPO6hp2fgndfWQ1ux+TH3xTxDvIvN32bWT2WgTmbYfJ4OXd55effXV8DkSe8zExsTmOSzTiNlV9BnXDruBAFfzkzPOOEOH3dbP3r4fA34eApxyqOpG98skFfR33nnHM/ApJ5J1qtWkqCkGBDgqx3FzKu0jbV8vQ4BjqojAh7bF/0nNmOI/EBxEmQbx/Ohv8e0QQHhW8QdzvGhqFwHOOGE2gqdotQSPPfaYV0tHPT0tFSHAaUPNHdXsIandKKGeJgyC4bLmmmvWVTcCvA6S6i8ceeSRfpFgsxJPog7jD2LYeqWlKghwDnxISdicmv3jQF00sZnopqU2FkXbqKo8kiwOvzywSQkCARsfONNpCRsTHvwsxkm8bjcQ4J0wT8suu6zHthE3VZys+HLiCC4Odfi7zDxRuRsI8LJzhdRUDxjioCbEKu8XXnbUV0K6Ub00Apx6SAXUno42sftvxIVn/xLHlI26Tc1vdj/WhnmpMmakMY38EGid6CeHv2b3Yuq/++67Qdy2LNpP0veyayeprWav2X6cjmDeedJyaJWIiVdigzvuuGP43CcxnqOVij7jWrcbCHC1bxdnTTrstn729v0Y8CGss2zAdYJg2qJ1qO+vJAIcXx2an6TdKKZtYT4aFZwz4pqMWr9KApx7EJVj3zfSe87kSYkxMR6k2t2QihLgCLiwy8deu9mE8EXnShxbB40ECkUJcDSFaB9fQ2kJ+3DKwFwRkxVfjE/uUdOmm24aHHTQQfoz/DQCPISidV9wBsYETTzxxHWdoA7ViOtUBQFe13EbLqjzEziQ7Uqnn366nwvGgppd9G+77bYLwFq8Ggc4hspKxxxzjG+niNp3NxDg3HO75+mEE07w2CIVS0tiX+UJH7Fpz+QUl5kn+uwGApxxlpmrqDYMxGiRBFMKp4Cou6ap78XbyyLAKYt6l75E+eTZY36TEs6KcHxIubJqfM3ux4wLqRU4IG0sqv6ddF/tuFZm7VQ9TtuPGyOad56QIq644oqJjGMOu5NPPrl/bhqZS5R5xvUuuoEA1+cfZkUnpN6+H7PecISb1xwKdWN9XyQR4GKvG+Y/8MADNVMMo0qfJ9qA2YsqM1p3miAQtf0kJ2vkqyM38R2k1cJPmLHqnFNsksPrfIEwEy/+vv2ksyNYcAYV30Q19Tr5B4wCxevll19uOFSIWcqjPdYsEY4j1ChDJsnENzogxqdjzeMwDoaP7puYQMQT5xR14sy5lYTppDpOhtZhPYideoA5UTypc0HxIRPPasnvXqmCziJR1RPUwEhwv3hZMTGomWUlHkgWTdJmk1Wv0/JQ8+E+Gqm/tWrcYK+Hd30I0z7FKVTmMFQVSkIHZJYjE/VADkZIyqL9cQDAE2YVqSq7YsbS7nniBadScFR/IIajCe+gSGjQYmgkLS0yT9E+uoUALzNXeITVdYgH4iIJuynqJmnzxNvhRQT+Sy+9dNgfdTkA8TyIo0VfBRMcHY9+4gUf5mTcTit6wBenJvEuc/1udj+WsCP+8MDz3C1SiiRgyqydpHbKXrP9OB9yeecJRheHRRiXUQYW6x0mP88WKpVpvmZ0NEWeca2jn9Hnk3dSValKG3BsZjF34ZAMwdPu1Fv3YzR3UNldbrnlwv0f0wcYspwBshIEC+s56UwMYxhhF/kw6FVjEy0hVL/xQ8R18iXEWCCOawPO2KiI0x7XyNP64jwtQCWcMwGe8yGcNR+1b/YxziG87yC4ovU5p+AzCcmrJqJqKIEuYcwCcczls3iXcP8wA/IQstpeuz4xQ+Xe2W8UD86zMLiSiE3GifYrJqxaPs4gKXMvaPHRHueKrAQxHdUCQiqtayOrHvshTBNoOLRVVNsNAl79SWy++ebhdd1fGBPMIhhseN+PJ9Y/ZrCUg5GPNlurU68kwAH10UcfDe0dCf3DBsEmkEd6wubAJCVtNq2esCrbZ/PiPsT7Y5XN5m5LiTHG0Ojv4IMPzmwX21VU6vM4hWED1hc+ts1ssBCPEsuyTvUps9OMzCoJ8HbPE7fJyxB1IjjNMKl44fLyJJQIWEJ85XlJFZmnKLzdQoCXmSvVCuAZuPDCC6O33fA7HH/qQRQ0Shz0YXixzlmfatvP4YM5xDyAhOMS1NB5JuBm84zwsuNFHedo89JCfQ/fC7RbNpXdjzl00DemJ/rsc4jXQ1TZ8bSjXpm1U+U4bT/Oh2aRecJhIEQ4z5p47fVSRZ4nnlnwznPgLPKMx++gGwhwxkw4VDDJEwo0fo9V/+6t+zFMFc5QSX+NzJt4tyB5TCP0YNKjEcI7BOJJIsT4cwTXcFiI1BsmL5pcnCkgfjHdSBoL1yTih2cGp+XDRKbPtHz81UQT607i0fv+YQSpLxQIOgQ23ZAkznbq/SYRnHpPmByxJ/GuT7OZ1rJ5PiFceZZxRpqWkF6nzU0ev1QIC2Au0A/nlz59+vi5k2gTwbXXXlvXLWcaysKgwZ8UTIloAp+k8ZQJCxttt9H3XkuAAwycEx4uCOki3I5hhQBH/Yf4hyxIuFHdmuDa8XBxwOmUVCUB3knzBIMKJyNIwtnUTjzxxAAvpnlSM/PULQR4mbmCcNx1110DCYVSWAUMxgdrvxkb7Dxz16gMEgUJ7dioWGZ+0f0Y7v3ss8/unalEba5Zj43UejMH0qbMMmunTUPN7LaZ5zyz4SYy27kfwwxCdRZJ3FZbbeUPuWl24Um32Mwz3i0EOIxH9rGizguT8Gr2mu3HzSKYXh9GPuZCMHvjvofQQi3qTDi9p3I5jAk/KPgjavdYyt1B+VrYP2fF187bMswaiPmeYIKjWcR88c7JcvbGu5VyF110UYDQoFNSrybAy07CsEKAc/+o3PDiK6r6Wha7VtTr37+/vwfCCHVKgovHgauq1JvmCdyQvqJWjUdLUtSrMOs1i7taFPNunSv11rvgggsWveXKy8PRRr2vpxIvXjyu4jMiqraKqiTMoSqfvZ66J/rpTc95T+I6rD/jEPQ4PUJ6Fw3Ph+kW+yV/SCirSngsp00IqioSDFb2fCRxWeEuq+irVW305v24VZhauz2HANJe1YJrpldMGPJo5DXTx7BS1wjwgjOJkwKkLrx8UIOBs9LNCfsIJFe8nLvxXvD4iPrsMsss01HTcNddd+UyZ8g76N4yT1GnHDxjGh4k6uiF61Xa+nbrXCFNA4tHHnkk7zJqWTnCyxxyyCEtaz/aMId1VVlFpT76Bx78JTnjibbRqd97y3Pe0/gP6884IXV07fP56aefeoinn3768Doen6tK2PXigLHKpM7PkFJ1Y+qt+3E3zpWNuRYBBBxoCfH+yZvQEph//vlrhHdcgwmo+0/etnprOSPAc848ardwaLFf4VO/8xuubTcvONTjeGnzAuy2hNoMdkV57I+77d7i4+0N84SaUPQgiUMWGEPqXIO8TmO2xOeJ362eK6Qt2GknxVVNGk8rr0HcMJY89qxVjEO98kfXSfw7NuXdmlq9dlqJi+3H1aFb5BnHflWfAfx04JiQZ0CdnPKOzGsqVN0dFGsJ7RWkcNgC543oUKyH1pUuMletG8X/tdzT+3Gr78faby0CnK9gaGfF1k4aAVGK2HOggUhoouEtvqcY8Ulj6rZrRoB324y1aLw4YuPFneZEo0XdNtUsISXYALpZfb4oAMP6PGEHrB6CmVvUq3GcoYdLOK5Ztj5F8Wxl+VbNFWqfSLbw1Nlu3w1wzPEjceihh7YSyl7XdqvWTiuBtP24OnSLPuOYX+HLhX0Sp0Q4yVSPvjhQ7Bap8tChQ70zpG7y4VB0rqpbJfUt2X5cj4ldyUbg1FNPDSaYYILCNu9XXHGF32/69u3r7asxdyESCRpqlvIhYAR4PpyG+VK8RIj3SyzAbiBw8IKI1+VOkAD25OLoDfOEQy2kgDjVI5QFRPhmm20WEH6km1Kr5gopI4fquEfydmBDyEa850btsNsxjmGtz1atnVbhZPtxte/NMs84/jLwfUDIyDnmmCPo169fMGDAgIZhzlq1Jsq2S2ghGAmnnHJK2SZ6tF6ZuWrVAG0/bhWyw267mGuV9fSO80S81k877bQ+Sg7h4SzlR2A4ispmZ8kQcOL10Ykqm5OwPk5egh2LCEtWYkc6CWXhBg4c6ES9rmPH2oqB2Ty1AtXWtFn1XInzObfLLru4QYMG+fXfmlFbq52AQNVrp1X3ZPtxte9Ne8adk9jTTmIEu2effdaJtk+rlm7T7dpcNQ2hNWAI9FoEjADvtVOffONih+XEwZUnwpNLdMZV8frqJG57ZwymDaOweWoD6CW7rHKuPvroIyemIk5UxkqOxqp1EwJVrp1W3rftx9W9N+0Z/7+VKnGcncRjdqLt08ql21TbNldNwWeVDYFejYAR4L16+u3mDQFDoEoErr76ajfjjDM6MeeosllrqwcQsLnrAZCtC0PAEDAEDAFDwBBwRoDbIjAEDAFDoEkEfv/9d7frrrs6iY/rxAmSE6dHbo011miyVaveEwjY3PUEytaHIWAIGAKGgCFgCCgCRoArEvZpCBgChkAJBCT8lpM4vG7w4ME1tffff38n3sGdhAKquW4/OgcBm7vOmQsbiSFgCBgChoAh0FsQMAK8t8y03achYAhUjgC2r/3793cffvihdwa4ww47uNdee83deeedvq+VVlrJXX755U5iZVbetzXYHAI2d83hZ7UNAUPAEDAEDAFDoBwCRoCXw81qGQKGgCHgPZE/9thjTsL+eM+9ErPcoyIxMr23cjxZH3nkkW7fffc1tDoMAaIo2Nx12KTYcAwBQ8AQMAQMgV6AgBHgvWCSe/MtEiLnk08+cX369OnNMLTt3r/66is3+uije8/dbRtEg45//PFHryYuceUblKzPfvHFF93999/vkHwPP/zwNQW49zPPPNPtueeebqSRRqrJ64YfqGePP/74HT1UGBzjjTdeqTEOy3NXChCrZAgYAoaAIWAIGAI9goAR4D0Cs3XSLgSOOeYYd8ABB7ivv/7ajTbaaO0aRq/s94477nDrrLOOu/fee93cc8/dsRicffbZ7thjj3WMt5NjzvYUgD///LNbe+21HcyrW2+9tae6LdwP44Oxtskmm3gtg8INWAVDwBAwBAwBQ8AQMATagIAR4G0A3brsOQRmmmkmh5fjN998s+c6tZ68DXS/fv3cXnvt5Q4//PCORgRCbvXVV3dDhgxxQ4cOdVNNNVWp8T7zzDPuxhtv9MwGbL+70fkaz8qyyy7rXnrpJffcc8+5iSeeuBQWPVXpiSeecAsvvLDbcccd3fHHH99Ut7R1yy23eLOC5Zdf3g033HBNtWeVDQFDwBAwBAwBQ8AQSELACPAkVOxaLgSQkr3//vvuqKOOclNMMYVDhfef//xnat2eVkV++umn3VxzzeUOPvhgd9BBByWO64EHHnD8vfzyy15VeoYZZnDrr7++m3TSSRPL28XGCLzxxhtu3nnndbPNNpu777776lSzG7fQfAnmFIIaNWMcoDEePJWPOeaYiY1/9913bs455/Sq4tgFs1aLpAsvvNBtvvnmYRXUzpGqd1vabrvt3DnnnOMZKEsvvXTbhv/KK6+4hx56yD388MNu5JFH9nOz4YYbJjqzQ81/++23d8zBpptuWmrMp59+uifitXLWnqFl7NMQMAQMAUPAEDAEDIEyCBgBXgY1q+MRmHXWWT2BkxcOiLElllgib/Gmy+2yyy7ulFNOcW+//XadVBP73C222MKrR0NwzzjjjA6b1+uvv9698847bp999nGHHHJI02PobQ0gTYbYhTGDBHWiiSbqUQi+/fZbb4992WWXufnmm88tt9xyDmLu5ptv9kyVm266yfXt2zdxTM8//7xn2Gy99dYOgqxIQsUer9qaYOB88MEH+rMrPm+77TaH5P7AAw/04dPaMWjs8SGir732Wjf//PO7lVde2Q/j4osv9n4E7r777sQ1tdZaaznG/+qrr7rJJpus8NBZE6wTTZgi4M3ekiFgCBgChoAhYAgYApUjIAdmS4ZAYQT++OOPQBxLBbIgc/3JATf49ddfC/dTtoKo0gbiQCpYcMEFE5sQQiMQj9WBOHGqyf/tt98Ckab5ezrhhBNq8uxHYwQuuugij91JJ53UuHDFJVhfInX3/W+88cbBX3/9FfZw1113+eviByAQCX14Pf5l3XXXDcSZWiDMg3hW5u955pnHt6/PA7+rTmKbHTz55JNVN+vbY91PN910/pnpyec0ejPvvvuunz/w59n7888/ffZPP/0UrLrqqh5fMWeIVgm/C+EdiMp4IKYE4bUiX2aeeeaa+VtsscWKVLeyhoAhYAgYAoaAIWAI5EYARzuWDIHCCIhNtT+wrrbaaoHY+QYiNQsGDBhQ9zfhhBMGI444YiDSxcJ9NFNh0KBBfnziYKuumdtvv93nPfvss3V5XIB4n2WWWYJJJpkkMd8uJiMA4SY2wwFE7jfffJNcqIVX99tvPz+vYgaR2L9oOvh8se9NHYWYLfgyYgedWiYpQ2yH/TqHABf19UAk7UnFmrp21lln+bGJlLipdpIqn3baab5tnuN2JJglEsrNj0E0T2qGIKro/jrYwjhLSyIt9+XEhCCtSOr1q6++OhhhhBF8fTFTCMQhX2pZyzAEDAFDwBAwBAwBQ6AZBIwAbwa9XlwXgkPUi2ukjHE4IHAhhtohDRX7dC+hF1Xz+LACJdS+/PLLujy9sOuuu/rDOFI5S/kQELVhj5nYEeerUGEppKRKQC211FKJLV9++eV+fEhKs+YV6WejMkkdiKf94M477wy+//77pOymr5188sl+/ElrutnG0VCBUfbxxx8321Sp+pdeeqm/t3HGGSdA0h9Nn332WTD22GP7fLFPj2bVfH/wwQd9GfGKXnM9748vvvjCz18rGBx5x2DlDAFDwBAwBAwBQ2DYR8AI8GF/jltyhxLeK1PdE4JI7KqDZZZZJpNIb8XgxA44EIdwqeNTSWiWtE/sgP1hPq6i3orxDittIllGSinepHv8llDNVvXvnXbaKbH/F154ISyTxRQSb9q+XNb6SOygxRdbRYA//vjj/n5XWGGFFt9BcvO//PJLMPnkk/sxiDfzxEI//PBD8NFHHyXm6UVU1sXhXjDKKKME4lRPL9unIWAIGAKGgCFgCBgCHYVAxzhhExVEH/rmvffe8052xB7RjTHGGHKmbl0SCagjdJDMiJtmmmm8J++s0EGiYutESuI9JONZmSS20I4xi6p17jjTPX2vQgx7L984GcM5FA6GxH67KWBxMCVqxg5HbEkJb8o4UhKiJ9FpUlKdqq6pR2ocbq2yyip1zYqqvDvssMP89W222cYdd9xxNXPHuph66qn9mog61qprqKILRddhtFthEPg1POqoozo8uI877rjR7B77TuxoPIzz/IgE2Ik0usf6piOdc77vvffe7uijj+ZrTRLprhOzAn9tgw02cCJ1rcnXH0KQegdueEXPM/94ff/kk0+cEIkOJ2J8EhVgySWX1CYr+cShII4FcSA41lhjVdImjejzwDNxwAEHVNZu3oZuuOEGHwaO8ldddZWPQZ63brwc4cNEC8HHL8ehXJ6E47bPP//czx3zx58Q895JY576VsYQMAQMAUPAEDAEDIFCCJRhB2Afh8Qi608OoIn54o24pkuceYmHW+8ASA7vweyzzx5MMMEEXp0USaUQtzXlsTlO61fi9wZCEAZyuA6wG0xL4hU72GyzzXwfOOqiTxz/CNEVXHDBBXXVkOJi1yrA+r+tttoqQGok8Wf9dVV9lZjTwSWXXFJXXy8UvVfGmXavadejUjvsKrHLxqZRGAzBIossEgihFqDmecQRR4ROjnR8VX2qjbXERE5tUgj4QMI2+flKu5f4dfGKnEu9FxViIUQDHEslJYlx7Odb51O8JgeMmfThhx96R1BI0ZjjVqai6zA6lmuuucY/M9wDmgasXZzi4axKiEFfNOs5xea1yiRhv/yzscACC1TZbO62sPXX+RQP9on10GbQMjzzaYl1w/yzJ+SRpKrkX9vmk3moOrVKAr7ooot6XMTDeNVDztUejtUUO5ypoc2w5ZZbBsLACPbYY48Afw551cLZ12hLwsDl6ptC7Ivav36yZ1oyBAwBQ8AQMAQMAUOgFQiUUkHHSRV2eRB3emBBJRnbR9QJUQWkjKpyUgaimMNV1MMuBCleh8nnwIUNniYIItSIISxEOqGXfX0cekFsUw/CEoKDviGYJCZ1aC8o4WzqiMyhQ4d6NUWRIAWDBw8O1aNRW1YnPnHv19g7H3TQQQEMAvpkXBCxqLHSL39XXnmlv0a+SN/C8eqXMvfKWGkPQh+GwqeffurHzDX+sHVkHijH+CAY1ltvPe3SO0ejHMSRJmw81VM0atZVJ+aXOcsixFgHMFn0PvJ+ivQ+QBU1K8GwwX4XT+ZZCUdP8X5h7uBErE+fPoHEH86q3nRemXVIpzBVdt55Zz92vLhHvXVD0OMAjGeD5y/pORWJv18zacyJsjfGMwOeIqEt20RT9bC91vlMG4PEeg/LwCDMSgsttJAvi11xo4TDNezelRHHOLqJAGfN8Mxgw96OxLtB5w47fdTId9hhh4Dvu+++u8d12mmnDdKcJkbHfO+99/q2ingxP/fcc/0zpXbmjMUI8Ciq9t0QMAQMAUPAEDAEqkSgFAGuA4CQ0oMT9pXxRLgfzU8Kn6OEBAQmxEI8iTqir4933LgkijBDtJ3kFVc9YJN/xRVXhM3ieEnU2n09DuzxBPMA4pTDqMQRjmcH2Ejq/UhM67p8Dn8QwdS/7rrravLL3CsSTA71ENnRxIGZcRDyKZqQKKuHZwg1PJBTLu5VOGov++ijj0abaPq7Ml3SpN9IsnD4xGH3xBNP9IdqJNKMc+DAgcHrr7/u/9BMgJGhv/G6nkcKphIwCNxGCW0HJJ06p/p53nnnNaraVH4z61DDfEEgSLzymnGAud6DxEQO86LPqZhchNer/IInfPoWNekqm83dFsQjjDHGsOKKKybWg0mm+MCAy0r9+/f3ZVmTeZMytuijWwhwfDUw3kZ45MWgTLm55pornBciD9x66601zaj39/HGG6+hHbja+aM9UzThO0DXhxHgRdGz8oaAIWAIGAKGgCGQF4GmCHANRcWh5cUXX6zrMysfSSVed6krNoB1dbmA1BiJJGXiznlQIed6EgEeJTCjzpaQslMHNfW0pIc9xobEOZq0z7nnnjt6ueb7mmuu6fuAsFOCsey9IgFKkuQgIeI+4gQ4BMa8887rxwNDQwmSpJBKHFBpIy2ubs1N5fyBV3EOrkirYAAkJQ65MAbef//9MBttBxgNymThE22De+65JyyT94vYQXvV7DzlYT5A6KtmA3jo3xprrBHOX562ipQpuw4J7cV4GSMMnXjiOdLxDxkyJMzOeg7DQk1+UYYY5iTtSoorTLYkhh6EueJDmay0xRZb+LJx5lVWnSgh2S0EOMwgMJlyyimzbq2leVHJc1ocb2UmwhjJSjhq435ghKbtQWn1UXfX9WEEeBpKdt0QMAQMAUPAEDAEmkWgbQS4OPvxh50o4ZV0M3qoRkITVZtVYjhOgIujMe95m4MUxAq2xiSIYUJicV2cNCV15a+hoq2HMKS50aR9oqqelqJSSJWSl71XVCOjKuXaZxoBDtElzuu0mJf+Q0gkxeBG64D7rFINXW1UCeGVlhgPsZajCeJNGQdcBzfG9tprr0WLNfyujBdxJpVZFhMJbOU5pKPqihRQnHiFpgs6/6pNkNlYwcxm1iFaFTq2qFmBDgGCgzUTt+/uCQJc7aDzxL9GIo8kvuwfqsg85/EEg0JNU3jmognGALHdFb8sG3DqqUS/iC1xMwQ4obd4TrMw2Xbbbf34UYvPKvfWW29Fbz3zO2Y7YII5Q57UirmLmqPENYd0TGuttZYfJ+8L9XGgedFPlehzT8oAjeZnfTcCPAsdyzMEDAFDwBAwBAyBqhBoGwGOhIhDEhLurBS11YWQ0KTEMDbgxHVGIggRgJMxpNcQ2TjU0oStrB6+IVLSEsQZhBllcQIXTdpnnOiPlkFqrv1gl00qe69I8ZJi/qYR4DAokuL4osIOgUls7Pnmmy8kUhhnXLPAD7jkPyVwMB3Im1D7RxoZdZx17LHHegwb2XvH+0C6jvo/Ur2spGry8XvH14D6JNA5JLZ1lamZdaiMHMYWN0vIGmOUAIehxfOifzBN0AQoKi2M98e6YlyYYWQlVRFWfMt+0l9SguGGsz7ahWhDwwNtBsw2NE605iXV12tqytBTBDjmFmWxiNdj/8obPg8zF+pj894otWruYBrqPWCnn5SYBy3TiMnD/o9WC745iiQjwIugZWUNAUPAEDAEDAFDoCwCw1FRDjalkkhanKgb+7qigu5mnnnmmnay8sWu24kky4kHZ/fKK6/U1Iv+EBVyt9tuu/lL4hjLyUHRfxd7Zx96iHBlcnDy1wiFJASOE/ttJ559nThkcyKV8nniSC0MSSUSQieHc3896Z8QhE7UoH0YISEowiLapxDgPsxNmBH5IoSMD8EErEJ4O5GIu2bvNdK8/6rjExV0J9LjeHb4m/BjhC06//zznUj/nTgZc8JUcOKt3YkDNweeQoS6U089NaxT9gtzyX2SovPUqD2dl7vuusuJt3lfnBBRYsPsxK63UfUwX8wVnDBz/HoSh3Xh9fgX2pxooomcaEc4cVrm5LAeL+LEw7jbcMMNnTA03OKLL+7uv//+ujJlL+j9Ur/oOhQGih8bdQmJx5zmSdHnUAhvHyKLUFlCfDkhSp0wehwht04//XQffitPm/Ey4knaz7vY7zqej6wk3rYdz2rZJEwWx3NP2LWkxLPHfiRaAk60LZx4uXfCPPMh0kTV2lfZf//9nRDnSdX9NWF2OCHCnWhKuEMPPTS1XDRDTFPCsGX67Efzs76zLh955BEf/iqtnPi28M+yRFpwwoRLK+bDwbH/5UmsbcKl5Q251oq5E4eN7rHHHvPDJVSi2HrXDV1DpZFBODZhttWV4QL7AM80a4R1LcyIxHJJF4XId8Kc81migl5o/0lqz64ZAoaAIWAIGAKGgCGQiAAEeNkUlawVtQFXSSOerbOSHH5DyQf2fZqypNGoIhOSCWnoGWec4avgzEsA8H9Joca0XT5VAo66dDRl9anlkExqP0hUSM3eq7atn2kScM3nE6wIT8VYCLOFo7NoEsLS58WlwNEyRb6rF2z6i/eV1U6/fv28xkJU2o06elEbTBw30XcjB2rqLRsJcFaiHdrDjKHK1Mw6xNM2Y+Ivqt3RaHxZzymRB3BySJtIiYuq/WvfqoKe5LxQy7T7M+qcEf8KWQnTBDA57bTTsorV5DWjgl7TUMoPNfFI0opJqdLwsqqgo0nUroQZjK5rNRmKj0UYJmGZrP2b9UxbRKkomkwCXhQxK28IGAKGgCFgCBgCZRBomwq6OjtDVRDbzbSkxGucEGpEDBOii4MYztBUFVEd+YhEPa0773VbD4NnnnlmTblGfVJYCTzawCkaqdl79Y1E/uUhwPGIrveRRFSpDbgS4BBOIg2N9FLsq3qNps8kNfik1rBVZf4XXHDBmmzCmME8ITRc3oS68cgjj5y5lmhLpLwel0beutVWu4w35UZjLrsOzznnnHBOUR1OSzgvVId2lMkiwMkn5JquFTWb4HqRpL4alOFVpG6VZWEExp0navtKxBFmDpvrrCQaEB4T4q3nTd1IgKvPCzyMtyuJhk64/tL2IPZsXaNPPfVU6lAJxUc50fJJLZOWYQR4GjJ23RAwBAwBQ8AQMASqRKBtBDiSQIgsDktpIau4UfWCHo/r3IgY1rBfSLOVkMOhGf0RLigtYR9OGQj3qKduymuforKZVj1YZ511fP1xxx03jGve7L3GO8tDgOOJnPuYZ5554tX9byUCsZsmcW9FpH2+UuQfXpTpjz8cIeVJ9E15HKJFEwQS15FY5kkwcCC+8UDfKImqq2+b+81KEGg47WM+44nwX2I2Eb+c+3fZdYjkUz3bJznn0wFAaG666ab6syEBrkQLmMefs7CRBl/UZjotBneD6pVkiymFn9ukZxffDsT+5h5hwjRKolLvy6YRhEn1u5EAx/YfbSFwIZRbOxJSa3WQGY1aER2LmKf4MfKcZzFPRKXel0uKHhFtL+m7EeBJqNg1Q8AQMAQMAUPAEKgagaYIcBzmcHDjL8nTdjQOeFL+Mccc4+uK7Xhi2CCVVkKQKRGtAIidsK9LbO54glDRMFtiXxhm42RLryc5CqMP9aKMSnU8KQHOITDJEy+q7zgAAo+4Km4z9xodBwdmJcKynMkhAWIcYgsare6/q+Ml8pH0kfDsnocw8YUT/uH8jvY4SOdJYK3xzAcPHlxTRZkHWZoK0QoqQYvHD46W0e84tsOjPkRaFhGtWgtis61V/ef1118fhi2jTJnUzDrEKRyMK9bgE088Udc9DuhQ3xeb+jAv+pwmmYqgBcHc8ZcHw7DhyBfV/ECzol1JfByE9yF+AGqGgWSe+8McQ+zna/LiPyDWRxttNI8zofXypm4kwLk3daCnURvy3m+V5WAYMT9J+znaHMwH+Y0iHOg+q4zFImM0ArwIWlbWEDAEDAFDwBAwBMoiUJoAh4iIHtyRgEUlnxxc1Zs1B6d4vg5YiVqkymrjjSQGogrJDBJwcU6kxQO8ZmNjjOds2sV2UVXYURsWJ0E+pA55ECJIRKIJAgQJMgQYoYlQ1yVBPKsdK+rbej1aV8dK2xC4hEPShBovapyoVKfZF2v9vPeqbfMJ4Y0qvdomM4allloqQI0bgiGexAGdx4dyeEDXhAQYTFW1H0k4kmbGTltlEnNCP/xBGOZJJ554oi+PaUEc6+WWW87nwZjJk5BWMn6I6zwJT90wClB1jxP/tAFhDSMFO+B4ih7Sk5gb8fJpv5tZh+rFHS0LCG2837MGWIPMLcwpTfHnlOeK54vrPBusIZ27rPBx2l7aJ0QS2iYQSknrMa1eldfVDwHe/qNrAcYS88l8o43SKDE3YJJ3/aHBEY0xTl1Ca3FNzVAa9ZknvxU24PSrHsbZr9uV8NqOPxCwizICmUfdq4iy0Ih5Qhxx2kgLZ5Z1f9Fnu6gPiqx2Lc8QMAQMAUPAEDAEDIEoAqUIcKTHEMfxPySzN998c5CVLx58o/174gFiTGPBoiYKcQSBjZot6onRJN566/qFmEaaSv8QYqiYc6hEAp+UkMYj8eWghuQWCTtSRZyWZYWdUgIadUhsiCF2iJ+LxJYDvnhBriP4o/1DKBW5V63L4RTCVvHmO2PmwMofmNFuPCH1g+jgPvv27ev/uEeIeIgkZaCA2XHHHRevnvs3bakEHAljnoSDO8YVVz+nrjJu8oRGQuLL3Kkte56+KXP77bcH4kXbjwEJIDbMqJtPPvnknoiEyI0Scdou/YEpDBjWWzOp7DqkT5yITT/99H78EL0QDEj2CdunBHDac6jriE9MByBY4xLjMvfFfDGnhFprR4IRh3NBYkUzlzBQeCYZE6HJkmKHJ41TNSrYQ/Ik9iSeSfYsnH+NPfbYfg2xJzTyNZCnfS3TKgIchhQYES6xnYn5QXWcscBU22ijjQINUcb3qF+DtHFOMskkfp8s46jOCPA0VO26IWAIGAKGgCFgCFSJQFNhyOSgVFkifJfYXPvQUHKIckJc+FAylXWQ0JAc6JxIxJxIzt3ss8/uCO+VlTQMmUhofQgnyhLKSpgEToh+J4fwrOphXk/eqywWJ5oFTrwLO2FU+PsMByJf5KDqhIDLHdIqWjf6nXBrhA4jVNbSSy8dzUr8DmaEnyN8VTwR/otQYkIYO2GsxLNrfhMqipBRosEQhpyrKZDxg3kQ1Wkfuo55FEaEn0dCj4lmQEZN5wjtxdjFFCGzXJ7Mousw2qZ43fdjYe0SEjDvGoy2UdX3gQMH+nBf4n/BCbFYVbOF2hGmiROtBr8exPmcD41HmK20kGVJjQsR6Ncf65MwiZ2SCL9FWEGeWWG2VDYs9ggxvfFrWbzr+xB9lTVesCHRhnGEOhPv7H487KuEKdMQh1nNEVKPZ5cQk4T4K5osDFlRxKy8IWAIGAKGgCFgCJRBoGMI8DKD7+k6SoCLqroTCWpPd2/9JSAAYSVq/5mx5BOqNX2JA754yfeEWtONDSMNwMgSzQw/H+Jd24mGQNfdmaifu1lnndWJZ343ZMiQjho/602c5DkxRfFMsyoHp4yso48+2u29995VNt1jbYn6ubvhhhvcPffc48S0IrVfYsNvu+227tVXX/XxxLl3kmhNhIQ7DAmYcpYMAUPAEDAEDAFDwBCoGgEjwAsgqgS4OAry0t4CVa1oCxBA6i1e3h0HaLG7b0EP6U2KeYSXqg4YMCC9UC/MEdV9hyTxoosuchtvvHHXISAxqZ04N3Tid8JLXjvpBpB8I+WVkH+VDwuiHq0jmCZod4hZR+V9tLJBJPdiTuHQdhC/CJldISEXU6OwjISt8xovMPPQiCKJHwV36aWXhmXsiyFgCBgChoAhYAgYAlUhYAR4ASRXWWUVJ16xndj/OvEsXaCmFW0FAuLp2InDJvfee+85sT1vRReJbaIiy1pArR+1dUt/I4AKOBJkpOFiC+7EHvrvzA7/hvQbho54U3dXXHFFh4+2+uFJ5AYnURGc+INwYg9dfQctbBGCGa0U8avg9+esrsQ5XqjBJHb63vSJPUR8GDjMUsSHgBOP8InmMVntWp4hYAgYAoaAIWAIGAJ5EDACPAdKSFeHDh3qHnjggbA0dqLifMkh8bPU8whA6IkTPCeeqmvmpdUjQVIIgSkO+Zw4kGt1d13ZPva74iHe4Svhpptu6op7+OGHH7wPAYkx7e3HxTt/V4y76kHCfMCXA+r3MCO6IYnTPCdOFF1e9XlxOucgwvE1Ic4jnTjVdFzj2cZPBqr+3ai90Q1zZWM0BAwBQ8AQMAQMAeeMAM+xCiS8UaKNsYQzcyeddFKOFqxI1QhIvGrXr18/d8EFF3hiuOr209rD6Rrqq+J13ds6p5Xr7dcl2oEnYnAchqZCpyckqDgShPDEIWNvTTAisH+HGJUwiw0dU7YbpxdeeME7axQP7oW0FiRChjc1kJCWTqJMOBx/SkQLt9122zmJyNHu27L+DQFDwBAwBAwBQ2AYRsAI8GF4coflW0Mr4dRTT/WekmGEWOo8BGCOwKiAkMO+uFMTzAK8iw8aNKjj7L7bgRkEKX4uMLW5+OKL2zGEXH3ivX2aaabxc4YHflTHLRkChoAhYAgYAoaAIdDpCBgB3ukzZONLRODLL790OE9CBd1S5yKApBHpIqq9nZoI04ctsEk+/54h1LNxxgYR3snpqaeeKhx+sJPvx8ZmCBgChoAhYAgYAsM+AkaAD/tzbHdoCBgChoAhYAgYAoaAIWAIGAKGgCHQAQgYAd4Bk2BDMAQMAUPAEDAEDAFDwBAwBAwBQ8AQGPYRMAJ82J9ju0NDwBAwBAwBQ8AQMAQMAUPAEDAEDIEOQMAI8A6YBBuCIWAIGAKGgCFgCBgChoAhYAgYAobAsI+AEeDD/hzbHRoChoAhYAgYAoaAIWAIGAKGgCFgCHQAAv8PFvgEMLLX+ZAAAAAASUVORK5CYII=)"
      ],
      "metadata": {
        "id": "xBtaVa5U1ORt"
      }
    },
    {
      "cell_type": "code",
      "source": [
        "XYZ = CoordSys3D('')\n",
        "\n",
        "v1 = -2 * XYZ.i - 8 * XYZ.j + 7 * XYZ.k\n",
        "v2 = -2 * XYZ.i + 5 * XYZ.j - 7 * XYZ.k\n",
        "\n",
        "XYZ1 = XYZ.orient_new_axis('r', sympy.pi * 7 / 8, -9 * XYZ.i - 6 * XYZ.j)\n",
        "\n",
        "v1_new = sympy.simplify(matrix_to_vector(v1.to_matrix(XYZ1), XYZ1))\n",
        "v2_new = sympy.simplify(matrix_to_vector(v2.to_matrix(XYZ1), XYZ1))\n",
        "\n",
        "cross_v1_v2 = v1.cross(v2)\n",
        "cross_v1_v2_new = v1_new.cross(v2_new)\n",
        "\n",
        "display(v1)\n",
        "display(v2)\n",
        "display(Latex(fr\"\"\"\\text{{Скалярное произведение:\\ }} {latex(v1.dot(v2))}\"\"\"))\n",
        "display(Latex(fr\"\"\"\\text{{Векторное произведение:\\ }} {latex(cross_v1_v2)}\"\"\"))\n",
        "print()\n",
        "\n",
        "display(v1_new)\n",
        "display(v2_new)\n",
        "display(Latex(fr\"\"\"\\text{{Скалярное произведение:\\ }} {latex(v1_new.dot(v2_new).simplify())}\"\"\"))\n",
        "display(Latex(fr\"\"\"\\text{{Векторное произведение:\\ }} {latex(v1_new.cross(v2_new).simplify())}\"\"\"))\n",
        "print()\n",
        "\n",
        "cross_in_XYZ1 = sympy.simplify(matrix_to_vector(cross_v1_v2.to_matrix(XYZ1), XYZ1))\n",
        "\n",
        "display(cross_in_XYZ1 == cross_v1_v2_new)"
      ],
      "metadata": {
        "id": "0D-TLmEg1Tdo",
        "colab": {
          "base_uri": "https://localhost:8080/",
          "height": 357
        },
        "outputId": "ff1f4c0c-7c82-4d06-b44d-742db46035e2"
      },
      "execution_count": 85,
      "outputs": [
        {
          "output_type": "display_data",
          "data": {
            "text/plain": [
              "(-2)*.i + (-8)*.j + 7*.k"
            ],
            "text/latex": "$\\displaystyle \\left(-2\\right)\\mathbf{\\hat{i}_{}} + \\left(-8\\right)\\mathbf{\\hat{j}_{}} + \\left(7\\right)\\mathbf{\\hat{k}_{}}$"
          },
          "metadata": {}
        },
        {
          "output_type": "display_data",
          "data": {
            "text/plain": [
              "(-2)*.i + 5*.j + (-7)*.k"
            ],
            "text/latex": "$\\displaystyle \\left(-2\\right)\\mathbf{\\hat{i}_{}} + \\left(5\\right)\\mathbf{\\hat{j}_{}} + \\left(-7\\right)\\mathbf{\\hat{k}_{}}$"
          },
          "metadata": {}
        },
        {
          "output_type": "display_data",
          "data": {
            "text/plain": [
              "<IPython.core.display.Latex object>"
            ],
            "text/latex": "\\text{Скалярное произведение:\\ } -85"
          },
          "metadata": {}
        },
        {
          "output_type": "display_data",
          "data": {
            "text/plain": [
              "<IPython.core.display.Latex object>"
            ],
            "text/latex": "\\text{Векторное произведение:\\ } \\left(21\\right)\\mathbf{\\hat{i}_{}} + \\left(-28\\right)\\mathbf{\\hat{j}_{}} + \\left(-26\\right)\\mathbf{\\hat{k}_{}}"
          },
          "metadata": {}
        },
        {
          "output_type": "stream",
          "name": "stdout",
          "text": [
            "\n"
          ]
        },
        {
          "output_type": "display_data",
          "data": {
            "text/plain": [
              "(-66/13 - 20*sqrt(sqrt(2) + 2)/13 + 7*sqrt(26 - 13*sqrt(2))/13)*r.i + (-44/13 - 21*sqrt(26 - 13*sqrt(2))/26 + 30*sqrt(sqrt(2) + 2)/13)*r.j + (-7*sqrt(sqrt(2) + 2)/2 - 10*sqrt(26 - 13*sqrt(2))/13)*r.k"
            ],
            "text/latex": "$\\displaystyle \\left(- \\frac{66}{13} - \\frac{20 \\sqrt{\\sqrt{2} + 2}}{13} + \\frac{7 \\sqrt{26 - 13 \\sqrt{2}}}{13}\\right)\\mathbf{\\hat{i}_{r}} + \\left(- \\frac{44}{13} - \\frac{21 \\sqrt{26 - 13 \\sqrt{2}}}{26} + \\frac{30 \\sqrt{\\sqrt{2} + 2}}{13}\\right)\\mathbf{\\hat{j}_{r}} + \\left(- \\frac{7 \\sqrt{\\sqrt{2} + 2}}{2} - \\frac{10 \\sqrt{26 - 13 \\sqrt{2}}}{13}\\right)\\mathbf{\\hat{k}_{r}}$"
          },
          "metadata": {}
        },
        {
          "output_type": "display_data",
          "data": {
            "text/plain": [
              "(-7*sqrt(26 - 13*sqrt(2))/13 + 12/13 + 19*sqrt(sqrt(2) + 2)/13)*r.i + (-57*sqrt(sqrt(2) + 2)/26 + 8/13 + 21*sqrt(26 - 13*sqrt(2))/26)*r.j + (19*sqrt(26 - 13*sqrt(2))/26 + 7*sqrt(sqrt(2) + 2)/2)*r.k"
            ],
            "text/latex": "$\\displaystyle \\left(- \\frac{7 \\sqrt{26 - 13 \\sqrt{2}}}{13} + \\frac{12}{13} + \\frac{19 \\sqrt{\\sqrt{2} + 2}}{13}\\right)\\mathbf{\\hat{i}_{r}} + \\left(- \\frac{57 \\sqrt{\\sqrt{2} + 2}}{26} + \\frac{8}{13} + \\frac{21 \\sqrt{26 - 13 \\sqrt{2}}}{26}\\right)\\mathbf{\\hat{j}_{r}} + \\left(\\frac{19 \\sqrt{26 - 13 \\sqrt{2}}}{26} + \\frac{7 \\sqrt{\\sqrt{2} + 2}}{2}\\right)\\mathbf{\\hat{k}_{r}}$"
          },
          "metadata": {}
        },
        {
          "output_type": "display_data",
          "data": {
            "text/plain": [
              "<IPython.core.display.Latex object>"
            ],
            "text/latex": "\\text{Скалярное произведение:\\ } -85"
          },
          "metadata": {}
        },
        {
          "output_type": "display_data",
          "data": {
            "text/plain": [
              "<IPython.core.display.Latex object>"
            ],
            "text/latex": "\\text{Векторное произведение:\\ } \\left(- \\frac{126 \\sqrt{\\sqrt{2} + 2}}{13} - 2 \\sqrt{26 - 13 \\sqrt{2}} + \\frac{21}{13}\\right)\\mathbf{\\hat{i}_{r}} + \\left(\\frac{14}{13} + 3 \\sqrt{26 - 13 \\sqrt{2}} + \\frac{189 \\sqrt{\\sqrt{2} + 2}}{13}\\right)\\mathbf{\\hat{j}_{r}} + \\left(- \\frac{63 \\sqrt{26 - 13 \\sqrt{2}}}{13} + 13 \\sqrt{\\sqrt{2} + 2}\\right)\\mathbf{\\hat{k}_{r}}"
          },
          "metadata": {}
        },
        {
          "output_type": "stream",
          "name": "stdout",
          "text": [
            "\n"
          ]
        },
        {
          "output_type": "display_data",
          "data": {
            "text/plain": [
              "False"
            ]
          },
          "metadata": {}
        }
      ]
    }
  ]
}