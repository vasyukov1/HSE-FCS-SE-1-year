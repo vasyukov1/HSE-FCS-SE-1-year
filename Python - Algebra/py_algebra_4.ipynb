{
  "cells": [
    {
      "cell_type": "markdown",
      "metadata": {
        "id": "B600zaglO8R5"
      },
      "source": [
        "## Занятие 4\n",
        "## Компьютерный практикум по алгебре на Python\n",
        "## Фундаментальная система решений однородной СЛАУ"
      ]
    },
    {
      "cell_type": "markdown",
      "metadata": {
        "id": "z-MBGjqlO8R-"
      },
      "source": [
        "https://docs.sympy.org/latest/modules"
      ]
    },
    {
      "cell_type": "code",
      "execution_count": 2,
      "metadata": {
        "id": "mbuIM2VjO8SA"
      },
      "outputs": [],
      "source": [
        "import sympy\n",
        "from sympy import linsolve, Matrix, S, Symbol, symbols, Eq,\\\n",
        "linear_eq_to_matrix, zeros, latex\n",
        "from IPython.display import display, Latex"
      ]
    },
    {
      "cell_type": "markdown",
      "metadata": {
        "id": "MCakxRL6O8SC"
      },
      "source": [
        "### Задание 1.\n",
        "Проверить по теореме Кронекера-Капелли совместность СЛАУ $AX = b$, если\n",
        "\\begin{align*}\n",
        "a)&\\ A = \\left(\n",
        "\\begin{matrix}\n",
        "-1 & -3 & 5 & 2\\\\\n",
        "2 & -1 & 4 & 7\\\\\n",
        "3 & 4 & -1 & 0\\\\\n",
        "5 & 0 & 1 & -3\n",
        "\\end{matrix}\n",
        "\\right), \\quad\n",
        "b = \\left(\n",
        "\\begin{matrix}\n",
        "14\\\\ 56\\\\ 5\\\\ -6\n",
        "\\end{matrix}\n",
        "\\right), \\\\\n",
        "b)&\\ A = \\left(\n",
        "\\begin{matrix}\n",
        "1 & 3 & 5 & 2\\\\\n",
        "2 & -1 & 4 & 1\\\\\n",
        "3 & 4 & -1 & 0\\\\\n",
        "5 & 3 & 3 & 1\n",
        "\\end{matrix}\n",
        "\\right), \\quad\n",
        "b = \\left(\n",
        "\\begin{matrix}\n",
        "24\\\\ 20\\\\ 5\\\\ 5\n",
        "\\end{matrix}\n",
        "\\right), \\\\\n",
        "c)&\\ A = \\left(\n",
        "\\begin{matrix}\n",
        "1 & 3 & 5 & 2\\\\\n",
        "2 & -1 & 4 & 1\\\\\n",
        "3 & 2 & 9 & 3\\\\\n",
        "1 & -4 & -1 & -1\n",
        "\\end{matrix}\n",
        "\\right), \\quad\n",
        "b = \\left(\n",
        "\\begin{matrix}\n",
        "24\\\\ 20\\\\ 44\\\\ -4\n",
        "\\end{matrix}\n",
        "\\right)\n",
        "\\end{align*}"
      ]
    },
    {
      "cell_type": "code",
      "source": [
        "A1 = Matrix([[-1, -3, 5, 2],\n",
        "            [2, -1, 4, 7],\n",
        "            [3, 4, -1, 0],\n",
        "            [5, 0, 1, -3]])\n",
        "b1 = Matrix([14, 56, 5, -6])\n",
        "print(f\"a совместна: {A1.rank() == A1.row_join(b1).rank()}\\n\")\n",
        "\n",
        "A2 = Matrix([[1, 3, 5, 2],\n",
        "             [2, -1, 4, 1],\n",
        "             [3, 4, -1, 0],\n",
        "             [5, 3, 3, 1]])\n",
        "b2 = Matrix([24, 20, 5, 5])\n",
        "print(f\"b совместна: {A2.rank() == A2.row_join(b2).rank()}\\n\")\n",
        "\n",
        "A3 = Matrix([[1, 3, 5, 2],\n",
        "             [2, -1, 4, 1],\n",
        "             [3, 2, 9, 3],\n",
        "             [1, -4, -1, -1]])\n",
        "b3 = Matrix([24, 20, 44, -4])\n",
        "print(f\"c совместна: {A3.rank() == A3.row_join(b3).rank()}\\n\")"
      ],
      "metadata": {
        "id": "VKU7nfir1Yfq",
        "colab": {
          "base_uri": "https://localhost:8080/"
        },
        "outputId": "8a5ad4d7-3c98-41c9-af93-58772ebe53ce"
      },
      "execution_count": 4,
      "outputs": [
        {
          "output_type": "stream",
          "name": "stdout",
          "text": [
            "a совместна: True\n",
            "\n",
            "b совместна: False\n",
            "\n",
            "c совместна: True\n",
            "\n"
          ]
        }
      ]
    },
    {
      "cell_type": "markdown",
      "metadata": {
        "id": "F3lXkJ3oO8SM"
      },
      "source": [
        "### Задание 2.\n",
        "\n",
        "Проверить единственность решения в совместных СЛАУ Задания 1."
      ]
    },
    {
      "cell_type": "code",
      "source": [
        "num = 'abc'\n",
        "num_k = 0\n",
        "for Ab in [(A1, b1), (A2, b2), (A3, b3)]:\n",
        "  A, b = Ab\n",
        "  number_of_x = A.shape[1]\n",
        "  print(f\"Единственность решения в {num[num_k]}: {A.rank() == A.row_join(b).rank() and A.rank() == number_of_x}\")\n",
        "  num_k += 1\n"
      ],
      "metadata": {
        "id": "rPoixqcH1Zp6",
        "colab": {
          "base_uri": "https://localhost:8080/"
        },
        "outputId": "48b19b29-a2f2-4872-a0bd-5d518988851e"
      },
      "execution_count": null,
      "outputs": [
        {
          "output_type": "stream",
          "name": "stdout",
          "text": [
            "Единственность решения в a: True\n",
            "Единственность решения в b: False\n",
            "Единственность решения в c: False\n"
          ]
        }
      ]
    },
    {
      "cell_type": "markdown",
      "metadata": {
        "id": "cHZhM0_jO8SO"
      },
      "source": [
        "### Задание 3\n",
        "Для однородных СЛАУ, соответствующих СЛАУ из Задания 1 установить, есть ли у однородной СЛАУ нетривиальное решение."
      ]
    },
    {
      "cell_type": "code",
      "source": [
        "num = 'abc'\n",
        "num_k = 0\n",
        "for Ab in [(A1, b1), (A2, b2), (A3, b3)]:\n",
        "  A, b = Ab\n",
        "  number_of_x = A.shape[1]\n",
        "  print(f\"Нетривиальное решение в {num[num_k]}: {A.rank() < number_of_x}\")\n",
        "  num_k += 1"
      ],
      "metadata": {
        "id": "rhNGTcBi1axC",
        "colab": {
          "base_uri": "https://localhost:8080/"
        },
        "outputId": "120ee08a-a593-4287-953d-4b3639eec66c"
      },
      "execution_count": 8,
      "outputs": [
        {
          "output_type": "stream",
          "name": "stdout",
          "text": [
            "Нетривиальное решения в a: False\n",
            "Нетривиальное решения в b: True\n",
            "Нетривиальное решения в c: True\n"
          ]
        }
      ]
    },
    {
      "cell_type": "markdown",
      "metadata": {
        "id": "wmJb1QrxO8SQ"
      },
      "source": [
        "### Задание 4\n",
        "Для однородных СЛАУ из Задания 3, имеющих нетривиальное решение, составить ФСР."
      ]
    },
    {
      "cell_type": "code",
      "source": [
        "fsrB = A2.nullspace()\n",
        "print(\"ФСР B:\")\n",
        "display(*fsrB)\n",
        "\n",
        "fsrC = A3.nullspace()\n",
        "print(\"\\nФСР C:\")\n",
        "display(*fsrC)"
      ],
      "metadata": {
        "id": "eS-_SBkc1btS",
        "colab": {
          "base_uri": "https://localhost:8080/",
          "height": 315
        },
        "outputId": "839a140d-6f41-4c2f-ef7e-26dc7c0cec91"
      },
      "execution_count": 24,
      "outputs": [
        {
          "output_type": "stream",
          "name": "stdout",
          "text": [
            "ФСР B:\n"
          ]
        },
        {
          "output_type": "display_data",
          "data": {
            "text/plain": [
              "Matrix([\n",
              "[  7/82],\n",
              "[ -6/41],\n",
              "[-27/82],\n",
              "[     1]])"
            ],
            "text/latex": "$\\displaystyle \\left[\\begin{matrix}\\frac{7}{82}\\\\- \\frac{6}{41}\\\\- \\frac{27}{82}\\\\1\\end{matrix}\\right]$"
          },
          "metadata": {}
        },
        {
          "output_type": "stream",
          "name": "stdout",
          "text": [
            "\n",
            "ФСР C:\n"
          ]
        },
        {
          "output_type": "display_data",
          "data": {
            "text/plain": [
              "Matrix([\n",
              "[-17/7],\n",
              "[ -6/7],\n",
              "[    1],\n",
              "[    0]])"
            ],
            "text/latex": "$\\displaystyle \\left[\\begin{matrix}- \\frac{17}{7}\\\\- \\frac{6}{7}\\\\1\\\\0\\end{matrix}\\right]$"
          },
          "metadata": {}
        },
        {
          "output_type": "display_data",
          "data": {
            "text/plain": [
              "Matrix([\n",
              "[-5/7],\n",
              "[-3/7],\n",
              "[   0],\n",
              "[   1]])"
            ],
            "text/latex": "$\\displaystyle \\left[\\begin{matrix}- \\frac{5}{7}\\\\- \\frac{3}{7}\\\\0\\\\1\\end{matrix}\\right]$"
          },
          "metadata": {}
        }
      ]
    },
    {
      "cell_type": "markdown",
      "metadata": {
        "id": "TbcC_Tc-O8ST"
      },
      "source": [
        "### Задание 5\n",
        "Для однородных СЛАУ из Задания 4 построить общее решение, используя построенную в Задании 4 ФСР. Сравнить с результатом, возвращаемым linsolve."
      ]
    },
    {
      "cell_type": "code",
      "source": [
        "def GeneralSolution(A):\n",
        "  n, m = A.shape\n",
        "  x = symbols('x1:' + str(m + 1)) # x1:(m+1)\n",
        "  X = zeros(m, 1)\n",
        "  for i, vect in enumerate(A.nullspace()):\n",
        "      X += vect * Symbol('alpha' + str(i + 1))\n",
        "  display(Latex(f\"\"\"X = {latex(X.T)}, linsolve: {latex(*linsolve((A, zeros(n, 1)), x))}\"\"\"))\n",
        "\n",
        "print(\"Общее решение B:\")\n",
        "GeneralSolution(A2)\n",
        "print(\"\\nОбщее решение C:\")\n",
        "GeneralSolution(A3)\n"
      ],
      "metadata": {
        "id": "PdHLZ9tG1c2b",
        "colab": {
          "base_uri": "https://localhost:8080/",
          "height": 114
        },
        "outputId": "e9c10a9d-9a18-45e5-ca34-52efb21bce76"
      },
      "execution_count": 34,
      "outputs": [
        {
          "output_type": "stream",
          "name": "stdout",
          "text": [
            "Общее решение B:\n"
          ]
        },
        {
          "output_type": "display_data",
          "data": {
            "text/plain": [
              "<IPython.core.display.Latex object>"
            ],
            "text/latex": "X = \\left[\\begin{matrix}\\frac{7 \\alpha_{1}}{82} & - \\frac{6 \\alpha_{1}}{41} & - \\frac{27 \\alpha_{1}}{82} & \\alpha_{1}\\end{matrix}\\right], linsolve: \\left( \\frac{7 x_{4}}{82}, \\  - \\frac{6 x_{4}}{41}, \\  - \\frac{27 x_{4}}{82}, \\  x_{4}\\right)"
          },
          "metadata": {}
        },
        {
          "output_type": "stream",
          "name": "stdout",
          "text": [
            "\n",
            "Общее решение C:\n"
          ]
        },
        {
          "output_type": "display_data",
          "data": {
            "text/plain": [
              "<IPython.core.display.Latex object>"
            ],
            "text/latex": "X = \\left[\\begin{matrix}- \\frac{17 \\alpha_{1}}{7} - \\frac{5 \\alpha_{2}}{7} & - \\frac{6 \\alpha_{1}}{7} - \\frac{3 \\alpha_{2}}{7} & \\alpha_{1} & \\alpha_{2}\\end{matrix}\\right], linsolve: \\left( - \\frac{17 x_{3}}{7} - \\frac{5 x_{4}}{7}, \\  - \\frac{6 x_{3}}{7} - \\frac{3 x_{4}}{7}, \\  x_{3}, \\  x_{4}\\right)"
          },
          "metadata": {}
        }
      ]
    },
    {
      "cell_type": "markdown",
      "metadata": {
        "id": "q96MSia2O8SU"
      },
      "source": [
        "### Индивидуальное задание.\n",
        "Дана СЛАУ $AX = b$. Проверить совместность по теореме Кронекера-Капелли. Если СЛАУ совместна, проверить единственность решения.\n",
        "Для соответствующей однородной СЛАУ проверить существование нетривиального решения. В случае, если оно существует,\n",
        "найти размерность пространства решений и составить ФСР и общее решение однородной и неоднородной СЛАУ.\n"
      ]
    },
    {
      "cell_type": "markdown",
      "source": [
        "\\begin{align*}\n",
        " A = \\left[\\begin{matrix}5 & 3 & -2 & -3 & -8\\\\5 & -9 & -4 & -3 & -5\\\\-5 & 45 & 10 & 3 & -4\\\\-2 & -3 & -9 & -6 & 1\\\\-3 & 6 & -6 & -2 & -8\\end{matrix}\\right],\n",
        "\\ b = \\left[\\begin{matrix}-3\\\\-9\\\\27\\\\-11\\\\48\\end{matrix}\\right].\n",
        " \\end{align*}"
      ],
      "metadata": {
        "id": "17C31mSF2fsD"
      }
    },
    {
      "cell_type": "code",
      "source": [
        "A = Matrix([[5, 3, -2, -3, -8],\n",
        "            [5, -9, -4, -3, -5],\n",
        "            [-5, 45, 10, 3, -4],\n",
        "            [-2, -3, -9, -6, 1],\n",
        "            [-3, 6, -6, -2, -8]])\n",
        "\n",
        "B = Matrix([-3, -9, 27, -11, 48])\n",
        "\n",
        "display(Latex(f\"\"\"Совместность: {latex(A.rank() == A.row_join(B).rank())}\"\"\"))\n",
        "display(Latex(f\"\"\"Нетривиальноcть: {latex(A.rank() < A.shape[1])}\"\"\"))\n",
        "display(Latex(f\"\"\"Размерность: {latex(A.shape[1] - A.rank())}\"\"\"))\n",
        "display(Latex(f\"\"\"ФСР: {latex(*A.nullspace())}\"\"\"))\n",
        "\n",
        "n, m = A.shape\n",
        "X = zeros(m, 1)\n",
        "for i, vect in enumerate(A.nullspace()):\n",
        "    X += vect * Symbol('alpha' + str(i + 1))\n",
        "\n",
        "display(Latex(f\"\"\"Общее\\ решение: {latex(X.T)}\"\"\"))"
      ],
      "metadata": {
        "id": "Q1V4ku_t1ejj",
        "colab": {
          "base_uri": "https://localhost:8080/",
          "height": 203
        },
        "outputId": "f4e16e14-4895-4357-f19a-6e91950faf9c"
      },
      "execution_count": 4,
      "outputs": [
        {
          "output_type": "display_data",
          "data": {
            "text/plain": [
              "<IPython.core.display.Latex object>"
            ],
            "text/latex": "Совместность: \\text{True}"
          },
          "metadata": {}
        },
        {
          "output_type": "display_data",
          "data": {
            "text/plain": [
              "<IPython.core.display.Latex object>"
            ],
            "text/latex": "Нетривиальноcть: \\text{True}"
          },
          "metadata": {}
        },
        {
          "output_type": "display_data",
          "data": {
            "text/plain": [
              "<IPython.core.display.Latex object>"
            ],
            "text/latex": "Размерность: 1"
          },
          "metadata": {}
        },
        {
          "output_type": "display_data",
          "data": {
            "text/plain": [
              "<IPython.core.display.Latex object>"
            ],
            "text/latex": "ФСР: \\left[\\begin{matrix}\\frac{507}{251}\\\\\\frac{1057}{1506}\\\\- \\frac{1361}{502}\\\\\\frac{1611}{502}\\\\1\\end{matrix}\\right]"
          },
          "metadata": {}
        },
        {
          "output_type": "display_data",
          "data": {
            "text/plain": [
              "<IPython.core.display.Latex object>"
            ],
            "text/latex": "Общее\\ решение: \\left[\\begin{matrix}\\frac{507 \\alpha_{1}}{251} & \\frac{1057 \\alpha_{1}}{1506} & - \\frac{1361 \\alpha_{1}}{502} & \\frac{1611 \\alpha_{1}}{502} & \\alpha_{1}\\end{matrix}\\right]"
          },
          "metadata": {}
        }
      ]
    }
  ],
  "metadata": {
    "colab": {
      "provenance": []
    },
    "kernelspec": {
      "display_name": "Python 3 (ipykernel)",
      "language": "python",
      "name": "python3"
    },
    "language_info": {
      "codemirror_mode": {
        "name": "ipython",
        "version": 3
      },
      "file_extension": ".py",
      "mimetype": "text/x-python",
      "name": "python",
      "nbconvert_exporter": "python",
      "pygments_lexer": "ipython3",
      "version": "3.10.7"
    }
  },
  "nbformat": 4,
  "nbformat_minor": 0
}