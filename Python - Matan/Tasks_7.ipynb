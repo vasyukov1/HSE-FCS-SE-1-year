{
  "cells": [
    {
      "cell_type": "markdown",
      "metadata": {
        "id": "iQlHt6iGGVvg"
      },
      "source": [
        "## Занятие 7\n",
        "## Математический анализ\n",
        "## Исследование функции с sympy.calculus.util и sympy.calculus.singularities"
      ]
    },
    {
      "cell_type": "code",
      "execution_count": 2,
      "metadata": {
        "id": "GMRgh8XgGVvi"
      },
      "outputs": [],
      "source": [
        "import sympy\n",
        "from sympy import S, Interval, plot\n",
        "from sympy import sin as Sin\n",
        "from sympy import cos as Cos\n",
        "from sympy import exp as Exp\n",
        "from sympy import log as Log\n",
        "from sympy import pi as Pi\n",
        "from sympy.calculus.util import continuous_domain, function_range, periodicity, stationary_points, maximum, minimum, AccumBounds\n",
        "from sympy.calculus.singularities import singularities, is_increasing, is_decreasing, is_monotonic\n",
        "from sympy.calculus.singularities import is_strictly_increasing, is_strictly_decreasing\n",
        "%matplotlib inline"
      ]
    },
    {
      "cell_type": "markdown",
      "metadata": {
        "id": "3klv4W_HGVvj"
      },
      "source": [
        "## Схема анализа функции.\n",
        "1. Область определения\n",
        "\n",
        "sympy.calculus.util.continuous_domain(f, symbol, domain)\n",
        "\n",
        "f - выражение, описывающее функцию,\n",
        "\n",
        "symbol - переменная, от которой зависит исследуемая функция,\n",
        "\n",
        "domain - область значений переменной, на которой рассматривается функция,\n",
        "\n",
        "если функция рассматривается на всей вещественной прямой, то domain=S.Reals\n",
        "\n",
        "Сингулярные точки (точки, в которых функция не существует) находятся с помощью\n",
        "\n",
        "sympy.calculus.singularities.singularities(f, symbol, domain=None)\n",
        "\n",
        "2. Область значений\n",
        "\n",
        "sympy.calculus.util.function_range(f, symbol, domain)\n",
        "\n",
        "3. Периодичность\n",
        "\n",
        "sympy.calculus.util.periodicity(f, symbol, check=False)\n",
        "\n",
        "4. Стационарные точки\n",
        "\n",
        "sympy.calculus.util.stationary_points(f, symbol, domain=Reals)\n",
        "\n",
        "5. Точки экстремума\n",
        "\n",
        "sympy.calculus.util.maximum(f, symbol, domain=Reals)\n",
        "\n",
        "sympy.calculus.util.minimum(f, symbol, domain=Reals)\n",
        "\n",
        "6. Монотонность\n",
        "\n",
        "sympy.calculus.singularities.is_decreasing(f, interval=Reals, symbol=None)\n",
        "\n",
        "sympy.calculus.singularities.is_increasing(f, interval=Reals, symbol=None)\n",
        "\n",
        "sympy.calculus.singularities.is_monotonic(f, interval=Reals, symbol=None)\n",
        "\n",
        "sympy.calculus.singularities.is_strictly_decreasing(f, interval=Reals, symbol=None)\n",
        "\n",
        "sympy.calculus.singularities.is_strictly_increasing(f, interval=Reals, symbol=None)\n",
        "\n",
        "7. Минимальное и максимальное значение функции на интервале\n",
        "\n",
        "sympy.calculus.util.AccumulationBounds(min, max)\n",
        "\n",
        "Свойства: delta, max, min, mid\n",
        "\n",
        "### Задание 1.  \n",
        "Исследовать функцию по п.1 - 5 на области определения и по п. 1 - 7 на одном периоде, построить график.\n",
        "$$\n",
        "f(x) = e^{\\sin(x)}.\n",
        "$$\n",
        "###### 1. Область определения"
      ]
    },
    {
      "cell_type": "code",
      "source": [
        "from sympy.abc import x\n",
        "f = Exp(Sin(x))"
      ],
      "metadata": {
        "id": "qyyMq4Ikcwu2"
      },
      "execution_count": 3,
      "outputs": []
    },
    {
      "cell_type": "code",
      "execution_count": 162,
      "metadata": {
        "id": "IyFWRFSFGVvj",
        "colab": {
          "base_uri": "https://localhost:8080/",
          "height": 38
        },
        "outputId": "bfee21f2-a679-42eb-e69d-a56de5e599ff"
      },
      "outputs": [
        {
          "output_type": "execute_result",
          "data": {
            "text/plain": [
              "Reals"
            ],
            "text/latex": "$\\displaystyle \\mathbb{R}$"
          },
          "metadata": {},
          "execution_count": 162
        }
      ],
      "source": [
        "continuous_domain(f, x, S.Reals)"
      ]
    },
    {
      "cell_type": "markdown",
      "metadata": {
        "id": "ALv2MimCGVvk"
      },
      "source": [
        "Сингулярные точки (точки, где функция не определена)"
      ]
    },
    {
      "cell_type": "code",
      "execution_count": 163,
      "metadata": {
        "id": "nbjh4SJaGVvk",
        "colab": {
          "base_uri": "https://localhost:8080/",
          "height": 37
        },
        "outputId": "3513c7d2-0bff-42d3-89ac-0823a4f4c6d4"
      },
      "outputs": [
        {
          "output_type": "execute_result",
          "data": {
            "text/plain": [
              "EmptySet"
            ],
            "text/latex": "$\\displaystyle \\emptyset$"
          },
          "metadata": {},
          "execution_count": 163
        }
      ],
      "source": [
        "singularities(f, x)"
      ]
    },
    {
      "cell_type": "markdown",
      "metadata": {
        "id": "H3L4jQguGVvk"
      },
      "source": [
        "###### 2. Область значений"
      ]
    },
    {
      "cell_type": "code",
      "execution_count": 165,
      "metadata": {
        "id": "2ePdHyIKGVvk",
        "colab": {
          "base_uri": "https://localhost:8080/",
          "height": 39
        },
        "outputId": "c2f71bc9-3a06-478b-af82-92159320c46e"
      },
      "outputs": [
        {
          "output_type": "execute_result",
          "data": {
            "text/plain": [
              "Interval(exp(-1), E)"
            ],
            "text/latex": "$\\displaystyle \\left[e^{-1}, e\\right]$"
          },
          "metadata": {},
          "execution_count": 165
        }
      ],
      "source": [
        "function_range(f, x, S.Reals)"
      ]
    },
    {
      "cell_type": "markdown",
      "metadata": {
        "id": "MC9qH_TLGVvk"
      },
      "source": [
        "###### 3. Периодичность"
      ]
    },
    {
      "cell_type": "code",
      "execution_count": 166,
      "metadata": {
        "id": "MSci_VOFGVvk",
        "colab": {
          "base_uri": "https://localhost:8080/",
          "height": 39
        },
        "outputId": "10bc4b4d-3509-45fe-e5c0-dc84763cd249"
      },
      "outputs": [
        {
          "output_type": "execute_result",
          "data": {
            "text/plain": [
              "2*pi"
            ],
            "text/latex": "$\\displaystyle 2 \\pi$"
          },
          "metadata": {},
          "execution_count": 166
        }
      ],
      "source": [
        "periodicity(f, x)"
      ]
    },
    {
      "cell_type": "markdown",
      "metadata": {
        "id": "k7m5O4v7GVvk"
      },
      "source": [
        "###### 4. Стационарные точки"
      ]
    },
    {
      "cell_type": "code",
      "execution_count": 167,
      "metadata": {
        "id": "BmwHD8ycGVvk",
        "colab": {
          "base_uri": "https://localhost:8080/",
          "height": 58
        },
        "outputId": "d2e51244-451c-4372-ee42-ae32ac12dad2"
      },
      "outputs": [
        {
          "output_type": "execute_result",
          "data": {
            "text/plain": [
              "Union(ImageSet(Lambda(_n, 2*_n*pi + pi/2), Integers), ImageSet(Lambda(_n, 2*_n*pi + 3*pi/2), Integers))"
            ],
            "text/latex": "$\\displaystyle \\left\\{2 n \\pi + \\frac{\\pi}{2}\\; \\middle|\\; n \\in \\mathbb{Z}\\right\\} \\cup \\left\\{2 n \\pi + \\frac{3 \\pi}{2}\\; \\middle|\\; n \\in \\mathbb{Z}\\right\\}$"
          },
          "metadata": {},
          "execution_count": 167
        }
      ],
      "source": [
        "stationary_points(f, x)"
      ]
    },
    {
      "cell_type": "markdown",
      "metadata": {
        "id": "ZbAUMD6HGVvk"
      },
      "source": [
        "###### 5. Максимальное и минимальное значения функции"
      ]
    },
    {
      "cell_type": "code",
      "execution_count": 168,
      "metadata": {
        "id": "YtWgrfthGVvk",
        "colab": {
          "base_uri": "https://localhost:8080/",
          "height": 61
        },
        "outputId": "636c4ff9-5e77-4007-d113-d88c20a5f698"
      },
      "outputs": [
        {
          "output_type": "display_data",
          "data": {
            "text/plain": [
              "E"
            ],
            "text/latex": "$\\displaystyle e$"
          },
          "metadata": {}
        },
        {
          "output_type": "display_data",
          "data": {
            "text/plain": [
              "exp(-1)"
            ],
            "text/latex": "$\\displaystyle e^{-1}$"
          },
          "metadata": {}
        }
      ],
      "source": [
        "display(maximum(f, x), minimum(f, x))"
      ]
    },
    {
      "cell_type": "markdown",
      "metadata": {
        "id": "iXWDr0RKGVvk"
      },
      "source": [
        "##### Исследование периодической функции на одном периоде.\n",
        "Найти пересечение с периодом области определения, множества сингулярных точек и стационарных точек.\n",
        "###### 1. Область определения"
      ]
    },
    {
      "cell_type": "code",
      "source": [
        "period_pi = Interval(0, 2*Pi)"
      ],
      "metadata": {
        "id": "cPQyyHpUQR38"
      },
      "execution_count": 169,
      "outputs": []
    },
    {
      "cell_type": "code",
      "execution_count": 170,
      "metadata": {
        "id": "TVzH30bWGVvk",
        "colab": {
          "base_uri": "https://localhost:8080/",
          "height": 39
        },
        "outputId": "7f1e290c-f7c9-4035-a150-25aec4013315"
      },
      "outputs": [
        {
          "output_type": "execute_result",
          "data": {
            "text/plain": [
              "Interval(0, 2*pi)"
            ],
            "text/latex": "$\\displaystyle \\left[0, 2 \\pi\\right]$"
          },
          "metadata": {},
          "execution_count": 170
        }
      ],
      "source": [
        "continuous_domain(f, x, period_pi)"
      ]
    },
    {
      "cell_type": "markdown",
      "metadata": {
        "id": "V7gs7jdPGVvk"
      },
      "source": [
        "Сингулярные точки (точки, где функция не определена)"
      ]
    },
    {
      "cell_type": "code",
      "execution_count": 171,
      "metadata": {
        "id": "rY7tVKlvGVvl",
        "colab": {
          "base_uri": "https://localhost:8080/",
          "height": 37
        },
        "outputId": "8623fa2a-8702-4d88-ec3b-0480a91bc75a"
      },
      "outputs": [
        {
          "output_type": "execute_result",
          "data": {
            "text/plain": [
              "EmptySet"
            ],
            "text/latex": "$\\displaystyle \\emptyset$"
          },
          "metadata": {},
          "execution_count": 171
        }
      ],
      "source": [
        "singularities(f, x, period_pi)"
      ]
    },
    {
      "cell_type": "markdown",
      "metadata": {
        "id": "BExyTjeIGVvl"
      },
      "source": [
        "###### 2. Область значений"
      ]
    },
    {
      "cell_type": "code",
      "execution_count": 172,
      "metadata": {
        "id": "vCJ-AclBGVvl",
        "colab": {
          "base_uri": "https://localhost:8080/",
          "height": 39
        },
        "outputId": "c0e6e5dd-3397-48a5-8916-402138d1f062"
      },
      "outputs": [
        {
          "output_type": "execute_result",
          "data": {
            "text/plain": [
              "Interval(exp(-1), E)"
            ],
            "text/latex": "$\\displaystyle \\left[e^{-1}, e\\right]$"
          },
          "metadata": {},
          "execution_count": 172
        }
      ],
      "source": [
        "function_range(f, x, period_pi)"
      ]
    },
    {
      "cell_type": "markdown",
      "metadata": {
        "id": "8WWwYAioGVvl"
      },
      "source": [
        "###### 4. Стационарные точки"
      ]
    },
    {
      "cell_type": "code",
      "execution_count": 173,
      "metadata": {
        "id": "Qc10_lOFGVvl",
        "colab": {
          "base_uri": "https://localhost:8080/",
          "height": 58
        },
        "outputId": "a9c1bf15-3bd0-46f4-ae97-05571ef619dc"
      },
      "outputs": [
        {
          "output_type": "execute_result",
          "data": {
            "text/plain": [
              "{pi/2, 3*pi/2}"
            ],
            "text/latex": "$\\displaystyle \\left\\{\\frac{\\pi}{2}, \\frac{3 \\pi}{2}\\right\\}$"
          },
          "metadata": {},
          "execution_count": 173
        }
      ],
      "source": [
        "stationary_points(f, x, period_pi)"
      ]
    },
    {
      "cell_type": "markdown",
      "metadata": {
        "id": "YHtLJbEdGVvl"
      },
      "source": [
        "###### 5. Максимальное и минимальное значения функции"
      ]
    },
    {
      "cell_type": "code",
      "execution_count": 176,
      "metadata": {
        "id": "xJgN83U1GVvl",
        "colab": {
          "base_uri": "https://localhost:8080/",
          "height": 116
        },
        "outputId": "3068afe6-bf47-4061-b805-5c41d4a14663"
      },
      "outputs": [
        {
          "output_type": "display_data",
          "data": {
            "text/plain": [
              "E"
            ],
            "text/latex": "$\\displaystyle e$"
          },
          "metadata": {}
        },
        {
          "output_type": "display_data",
          "data": {
            "text/plain": [
              "exp(-1)"
            ],
            "text/latex": "$\\displaystyle e^{-1}$"
          },
          "metadata": {}
        },
        {
          "output_type": "display_data",
          "data": {
            "text/plain": [
              "E - exp(-1)"
            ],
            "text/latex": "$\\displaystyle e - e^{-1}$"
          },
          "metadata": {}
        },
        {
          "output_type": "display_data",
          "data": {
            "text/plain": [
              "exp(-1)/2 + E/2"
            ],
            "text/latex": "$\\displaystyle \\frac{1}{2 e} + \\frac{e}{2}$"
          },
          "metadata": {}
        }
      ],
      "source": [
        "f_AccumBounds = f.subs(x, AccumBounds(0, 2*Pi))\n",
        "display(f_AccumBounds.max, f_AccumBounds.min, f_AccumBounds.delta, f_AccumBounds.mid)"
      ]
    },
    {
      "cell_type": "markdown",
      "metadata": {
        "id": "IXmhTKXgGVvl"
      },
      "source": [
        "###### 6. Монотонность\n",
        "Исследовать на периоде открытые интервалы (Interval.open), на которые период разбивают стационарные точки."
      ]
    },
    {
      "cell_type": "code",
      "execution_count": 177,
      "metadata": {
        "id": "pUgAQaD8GVvl",
        "colab": {
          "base_uri": "https://localhost:8080/",
          "height": 183
        },
        "outputId": "b8432129-1c82-454a-e8c7-6c443441e898"
      },
      "outputs": [
        {
          "output_type": "display_data",
          "data": {
            "text/plain": [
              "Interval.open(0, pi/2)"
            ],
            "text/latex": "$\\displaystyle \\left(0, \\frac{\\pi}{2}\\right)$"
          },
          "metadata": {}
        },
        {
          "output_type": "stream",
          "name": "stdout",
          "text": [
            "True False True False True\n"
          ]
        },
        {
          "output_type": "display_data",
          "data": {
            "text/plain": [
              "Interval.open(pi/2, 3*pi/2)"
            ],
            "text/latex": "$\\displaystyle \\left(\\frac{\\pi}{2}, \\frac{3 \\pi}{2}\\right)$"
          },
          "metadata": {}
        },
        {
          "output_type": "stream",
          "name": "stdout",
          "text": [
            "True True False True False\n"
          ]
        },
        {
          "output_type": "display_data",
          "data": {
            "text/plain": [
              "Interval.open(3*pi/2, 2*pi)"
            ],
            "text/latex": "$\\displaystyle \\left(\\frac{3 \\pi}{2}, 2 \\pi\\right)$"
          },
          "metadata": {}
        },
        {
          "output_type": "stream",
          "name": "stdout",
          "text": [
            "True False True False True\n"
          ]
        }
      ],
      "source": [
        "intervals = [Interval.open(0, Pi/2), Interval.open(Pi/2, 3*Pi/2), Interval.open(3*Pi/2, 2*Pi)]\n",
        "for interval in intervals:\n",
        " display(interval)\n",
        " print(is_monotonic(f, interval=interval),\n",
        "       is_decreasing(f, interval=interval),\n",
        "       is_increasing(f, interval=interval),\n",
        "       is_strictly_decreasing(f, interval=interval),\n",
        "       is_strictly_increasing(f, interval=interval))"
      ]
    },
    {
      "cell_type": "markdown",
      "metadata": {
        "id": "AgFK8kwLGVvl"
      },
      "source": [
        "###### 7. Минимальное и максимальное значение функции на интервале\n",
        "Найти максимальное и минимальное значение функции на каждом из интервалов монотонности в пределах одного периода"
      ]
    },
    {
      "cell_type": "code",
      "execution_count": 178,
      "metadata": {
        "id": "75LMKdQ-GVvl",
        "colab": {
          "base_uri": "https://localhost:8080/",
          "height": 257
        },
        "outputId": "0b397554-0efb-4c91-9e32-7afa10c62920"
      },
      "outputs": [
        {
          "output_type": "display_data",
          "data": {
            "text/plain": [
              "Interval.open(0, pi/2)"
            ],
            "text/latex": "$\\displaystyle \\left(0, \\frac{\\pi}{2}\\right)$"
          },
          "metadata": {}
        },
        {
          "output_type": "display_data",
          "data": {
            "text/plain": [
              "1"
            ],
            "text/latex": "$\\displaystyle 1$"
          },
          "metadata": {}
        },
        {
          "output_type": "display_data",
          "data": {
            "text/plain": [
              "E"
            ],
            "text/latex": "$\\displaystyle e$"
          },
          "metadata": {}
        },
        {
          "output_type": "display_data",
          "data": {
            "text/plain": [
              "Interval.open(pi/2, 3*pi/2)"
            ],
            "text/latex": "$\\displaystyle \\left(\\frac{\\pi}{2}, \\frac{3 \\pi}{2}\\right)$"
          },
          "metadata": {}
        },
        {
          "output_type": "display_data",
          "data": {
            "text/plain": [
              "exp(-1)"
            ],
            "text/latex": "$\\displaystyle e^{-1}$"
          },
          "metadata": {}
        },
        {
          "output_type": "display_data",
          "data": {
            "text/plain": [
              "E"
            ],
            "text/latex": "$\\displaystyle e$"
          },
          "metadata": {}
        },
        {
          "output_type": "display_data",
          "data": {
            "text/plain": [
              "Interval.open(3*pi/2, 2*pi)"
            ],
            "text/latex": "$\\displaystyle \\left(\\frac{3 \\pi}{2}, 2 \\pi\\right)$"
          },
          "metadata": {}
        },
        {
          "output_type": "display_data",
          "data": {
            "text/plain": [
              "exp(-1)"
            ],
            "text/latex": "$\\displaystyle e^{-1}$"
          },
          "metadata": {}
        },
        {
          "output_type": "display_data",
          "data": {
            "text/plain": [
              "1"
            ],
            "text/latex": "$\\displaystyle 1$"
          },
          "metadata": {}
        }
      ],
      "source": [
        "intervals = [Interval.open(0, Pi/2), Interval.open(Pi/2, 3*Pi/2), Interval.open(3*Pi/2, 2*Pi)]\n",
        "for interval in intervals:\n",
        " display(interval, minimum(f, x, interval), maximum(f, x, interval))"
      ]
    },
    {
      "cell_type": "markdown",
      "metadata": {
        "id": "fd8xlke7GVvl"
      },
      "source": [
        "###### График функции на одном периоде."
      ]
    },
    {
      "cell_type": "code",
      "execution_count": 227,
      "metadata": {
        "id": "eJ3bjkXpGVvl",
        "colab": {
          "base_uri": "https://localhost:8080/",
          "height": 505
        },
        "outputId": "1c2e4c40-564b-47cc-8143-8cc47f2af2dc"
      },
      "outputs": [
        {
          "output_type": "display_data",
          "data": {
            "text/plain": [
              "<Figure size 640x480 with 1 Axes>"
            ],
            "image/png": "[encoded data removed]"
          },
          "metadata": {}
        },
        {
          "output_type": "execute_result",
          "data": {
            "text/plain": [
              "<sympy.plotting.plot.Plot at 0x7c555cd6d900>"
            ]
          },
          "metadata": {},
          "execution_count": 227
        }
      ],
      "source": [
        "plot(f, (x, 0, 2*Pi))"
      ]
    },
    {
      "cell_type": "markdown",
      "metadata": {
        "id": "TgJKebmEGVvl"
      },
      "source": [
        "### Задание 2.  \n",
        "Исследовать функцию по п.1 - 5 на области определения и по п. 1 - 7  на одном периоде, построить график.\n",
        "$$\n",
        "f(x) = \\frac{1}{\\sin(x) + \\cos(x)}.\n",
        "$$\n",
        "###### 1. Область определения"
      ]
    },
    {
      "cell_type": "code",
      "source": [
        "f = 1 / (Sin(x) + Cos(x))"
      ],
      "metadata": {
        "id": "Ywwf-FNwf-xo"
      },
      "execution_count": 4,
      "outputs": []
    },
    {
      "cell_type": "code",
      "execution_count": 181,
      "metadata": {
        "id": "B1oO58aYGVvl",
        "colab": {
          "base_uri": "https://localhost:8080/",
          "height": 58
        },
        "outputId": "ce807475-2827-4de2-8a10-a7ed3ce99e35"
      },
      "outputs": [
        {
          "output_type": "execute_result",
          "data": {
            "text/plain": [
              "Complement(Reals, Union(ImageSet(Lambda(_n, 2*_n*pi + 3*pi/4), Integers), ImageSet(Lambda(_n, 2*_n*pi + 7*pi/4), Integers)))"
            ],
            "text/latex": "$\\displaystyle \\mathbb{R} \\setminus \\left(\\left\\{2 n \\pi + \\frac{3 \\pi}{4}\\; \\middle|\\; n \\in \\mathbb{Z}\\right\\} \\cup \\left\\{2 n \\pi + \\frac{7 \\pi}{4}\\; \\middle|\\; n \\in \\mathbb{Z}\\right\\}\\right)$"
          },
          "metadata": {},
          "execution_count": 181
        }
      ],
      "source": [
        "continuous_domain(f, x, S.Reals)"
      ]
    },
    {
      "cell_type": "markdown",
      "metadata": {
        "id": "Dxuwu28CGVvl"
      },
      "source": [
        "Сингулярные точки (точки, где функция не определена)"
      ]
    },
    {
      "cell_type": "code",
      "execution_count": 182,
      "metadata": {
        "id": "f4_VjHWuGVvl",
        "colab": {
          "base_uri": "https://localhost:8080/",
          "height": 58
        },
        "outputId": "a43142f2-7f76-4fbd-ecce-8e3fde55a0dc"
      },
      "outputs": [
        {
          "output_type": "execute_result",
          "data": {
            "text/plain": [
              "Union(ImageSet(Lambda(_n, 2*_n*pi + 3*pi/4), Integers), ImageSet(Lambda(_n, 2*_n*pi + 7*pi/4), Integers))"
            ],
            "text/latex": "$\\displaystyle \\left\\{2 n \\pi + \\frac{3 \\pi}{4}\\; \\middle|\\; n \\in \\mathbb{Z}\\right\\} \\cup \\left\\{2 n \\pi + \\frac{7 \\pi}{4}\\; \\middle|\\; n \\in \\mathbb{Z}\\right\\}$"
          },
          "metadata": {},
          "execution_count": 182
        }
      ],
      "source": [
        "singularities(f, x)"
      ]
    },
    {
      "cell_type": "markdown",
      "metadata": {
        "id": "ZL2D0JFeGVvl"
      },
      "source": [
        "###### 2. Область значений"
      ]
    },
    {
      "cell_type": "code",
      "execution_count": 183,
      "metadata": {
        "id": "O5Ew8sfqGVvl",
        "colab": {
          "base_uri": "https://localhost:8080/",
          "height": 68
        },
        "outputId": "fd4f8c73-730e-4f63-fca7-60d219a0b590"
      },
      "outputs": [
        {
          "output_type": "execute_result",
          "data": {
            "text/plain": [
              "Union(Interval(-oo, -sqrt(2)/2), Interval(sqrt(2)/2, oo))"
            ],
            "text/latex": "$\\displaystyle \\left(-\\infty, - \\frac{\\sqrt{2}}{2}\\right] \\cup \\left[\\frac{\\sqrt{2}}{2}, \\infty\\right)$"
          },
          "metadata": {},
          "execution_count": 183
        }
      ],
      "source": [
        "function_range(f, x, S.Reals)"
      ]
    },
    {
      "cell_type": "markdown",
      "metadata": {
        "id": "gspVZp_xGVvl"
      },
      "source": [
        "###### 3. Периодичность"
      ]
    },
    {
      "cell_type": "code",
      "execution_count": 184,
      "metadata": {
        "id": "B0jJIeD_GVvm",
        "colab": {
          "base_uri": "https://localhost:8080/",
          "height": 39
        },
        "outputId": "8628b7c8-a4d3-46f1-c52d-a02f54683f30"
      },
      "outputs": [
        {
          "output_type": "execute_result",
          "data": {
            "text/plain": [
              "2*pi"
            ],
            "text/latex": "$\\displaystyle 2 \\pi$"
          },
          "metadata": {},
          "execution_count": 184
        }
      ],
      "source": [
        "periodicity(f, x)"
      ]
    },
    {
      "cell_type": "markdown",
      "metadata": {
        "id": "rs_4L0V1GVvm"
      },
      "source": [
        "###### 4. Стационарные точки"
      ]
    },
    {
      "cell_type": "code",
      "execution_count": 185,
      "metadata": {
        "id": "1i1ztB5cGVvx",
        "colab": {
          "base_uri": "https://localhost:8080/",
          "height": 99
        },
        "outputId": "a4725aaa-d397-455d-a8cd-d4d41ce1fa46"
      },
      "outputs": [
        {
          "output_type": "execute_result",
          "data": {
            "text/plain": [
              "Union(Complement(ImageSet(Lambda(_n, 2*_n*pi + 5*pi/4), Integers), Union(ImageSet(Lambda(_n, 2*_n*pi + 3*pi/4), Integers), ImageSet(Lambda(_n, 2*_n*pi + 7*pi/4), Integers))), Complement(ImageSet(Lambda(_n, 2*_n*pi + pi/4), Integers), Union(ImageSet(Lambda(_n, 2*_n*pi + 3*pi/4), Integers), ImageSet(Lambda(_n, 2*_n*pi + 7*pi/4), Integers))))"
            ],
            "text/latex": "$\\displaystyle \\left(\\left\\{2 n \\pi + \\frac{5 \\pi}{4}\\; \\middle|\\; n \\in \\mathbb{Z}\\right\\} \\setminus \\left(\\left\\{2 n \\pi + \\frac{3 \\pi}{4}\\; \\middle|\\; n \\in \\mathbb{Z}\\right\\} \\cup \\left\\{2 n \\pi + \\frac{7 \\pi}{4}\\; \\middle|\\; n \\in \\mathbb{Z}\\right\\}\\right)\\right) \\cup \\left(\\left\\{2 n \\pi + \\frac{\\pi}{4}\\; \\middle|\\; n \\in \\mathbb{Z}\\right\\} \\setminus \\left(\\left\\{2 n \\pi + \\frac{3 \\pi}{4}\\; \\middle|\\; n \\in \\mathbb{Z}\\right\\} \\cup \\left\\{2 n \\pi + \\frac{7 \\pi}{4}\\; \\middle|\\; n \\in \\mathbb{Z}\\right\\}\\right)\\right)$"
          },
          "metadata": {},
          "execution_count": 185
        }
      ],
      "source": [
        "stationary_points(f, x)"
      ]
    },
    {
      "cell_type": "markdown",
      "metadata": {
        "id": "azFRk0awGVvx"
      },
      "source": [
        "###### 5. Максимальное и минимальное значения функции"
      ]
    },
    {
      "cell_type": "code",
      "execution_count": null,
      "metadata": {
        "id": "-7sO3OaPGVvx",
        "colab": {
          "base_uri": "https://localhost:8080/",
          "height": 58
        },
        "outputId": "5df5768e-64ca-4ed7-dded-1a21ca125c23"
      },
      "outputs": [
        {
          "output_type": "display_data",
          "data": {
            "text/plain": [
              "oo"
            ],
            "text/latex": "$\\displaystyle \\infty$"
          },
          "metadata": {}
        },
        {
          "output_type": "display_data",
          "data": {
            "text/plain": [
              "-oo"
            ],
            "text/latex": "$\\displaystyle -\\infty$"
          },
          "metadata": {}
        }
      ],
      "source": [
        "display(maximum(f, x), minimum(f, x))"
      ]
    },
    {
      "cell_type": "markdown",
      "metadata": {
        "id": "TYCPMKVVGVvx"
      },
      "source": [
        "##### Исследование периодической функции на одном периоде.\n",
        "Найти пересечение с периодом области определения, множества сингулярных точек и стационарных точек.\n",
        "###### 1. Область определения"
      ]
    },
    {
      "cell_type": "code",
      "execution_count": 193,
      "metadata": {
        "id": "mOLbJb4jGVvy",
        "colab": {
          "base_uri": "https://localhost:8080/",
          "height": 58
        },
        "outputId": "2c06b9d3-96e0-4ac9-fabe-3c8abefe64d8"
      },
      "outputs": [
        {
          "output_type": "execute_result",
          "data": {
            "text/plain": [
              "Union(Interval.open(-pi/4, 3*pi/4), Interval.open(3*pi/4, 7*pi/4))"
            ],
            "text/latex": "$\\displaystyle \\left(- \\frac{\\pi}{4}, \\frac{3 \\pi}{4}\\right) \\cup \\left(\\frac{3 \\pi}{4}, \\frac{7 \\pi}{4}\\right)$"
          },
          "metadata": {},
          "execution_count": 193
        }
      ],
      "source": [
        "period_pi = Interval(-Pi/4, 7*Pi/4)\n",
        "continuous_domain(f, x, period_pi)"
      ]
    },
    {
      "cell_type": "markdown",
      "metadata": {
        "id": "4Dq74kUHGVvy"
      },
      "source": [
        "Сингулярные точки (точки, где функция не определена)"
      ]
    },
    {
      "cell_type": "code",
      "execution_count": 194,
      "metadata": {
        "id": "WBuqgXaxGVvy",
        "colab": {
          "base_uri": "https://localhost:8080/",
          "height": 58
        },
        "outputId": "c8ff7f75-48ea-46ad-d594-b81cc5cb2e28"
      },
      "outputs": [
        {
          "output_type": "execute_result",
          "data": {
            "text/plain": [
              "{-pi/4, 3*pi/4, 7*pi/4}"
            ],
            "text/latex": "$\\displaystyle \\left\\{- \\frac{\\pi}{4}, \\frac{3 \\pi}{4}, \\frac{7 \\pi}{4}\\right\\}$"
          },
          "metadata": {},
          "execution_count": 194
        }
      ],
      "source": [
        "singularities(f, x, period_pi)"
      ]
    },
    {
      "cell_type": "markdown",
      "metadata": {
        "id": "_I0ZS6zGGVvy"
      },
      "source": [
        "###### 2. Область значений"
      ]
    },
    {
      "cell_type": "code",
      "execution_count": 195,
      "metadata": {
        "id": "9qJ1u23vGVvy",
        "colab": {
          "base_uri": "https://localhost:8080/",
          "height": 68
        },
        "outputId": "87c02da9-ef54-40da-eb81-e081839132e8"
      },
      "outputs": [
        {
          "output_type": "execute_result",
          "data": {
            "text/plain": [
              "Union(Interval(-oo, -sqrt(2)/2), Interval(sqrt(2)/2, oo))"
            ],
            "text/latex": "$\\displaystyle \\left(-\\infty, - \\frac{\\sqrt{2}}{2}\\right] \\cup \\left[\\frac{\\sqrt{2}}{2}, \\infty\\right)$"
          },
          "metadata": {},
          "execution_count": 195
        }
      ],
      "source": [
        "function_range(f, x, period_pi)"
      ]
    },
    {
      "cell_type": "markdown",
      "metadata": {
        "id": "xc06_BKHGVvy"
      },
      "source": [
        "###### 4. Стационарные точки"
      ]
    },
    {
      "cell_type": "code",
      "execution_count": 196,
      "metadata": {
        "id": "9lmXMhj0GVvy",
        "colab": {
          "base_uri": "https://localhost:8080/",
          "height": 58
        },
        "outputId": "afe0f438-0952-4469-d813-8a2031e21b6b"
      },
      "outputs": [
        {
          "output_type": "execute_result",
          "data": {
            "text/plain": [
              "{pi/4, 5*pi/4}"
            ],
            "text/latex": "$\\displaystyle \\left\\{\\frac{\\pi}{4}, \\frac{5 \\pi}{4}\\right\\}$"
          },
          "metadata": {},
          "execution_count": 196
        }
      ],
      "source": [
        "stationary_points(f, x, period_pi)"
      ]
    },
    {
      "cell_type": "markdown",
      "metadata": {
        "id": "DdeKjWt5GVvy"
      },
      "source": [
        "###### 5. Максимальное и минимальное значения функции"
      ]
    },
    {
      "cell_type": "code",
      "execution_count": 197,
      "metadata": {
        "id": "-D6etie8GVvy",
        "colab": {
          "base_uri": "https://localhost:8080/",
          "height": 58
        },
        "outputId": "61c429a0-46e3-41de-d4ec-b847cfd3de58"
      },
      "outputs": [
        {
          "output_type": "display_data",
          "data": {
            "text/plain": [
              "oo"
            ],
            "text/latex": "$\\displaystyle \\infty$"
          },
          "metadata": {}
        },
        {
          "output_type": "display_data",
          "data": {
            "text/plain": [
              "-oo"
            ],
            "text/latex": "$\\displaystyle -\\infty$"
          },
          "metadata": {}
        }
      ],
      "source": [
        "display(maximum(f, x, period_pi), minimum(f, x, period_pi))"
      ]
    },
    {
      "cell_type": "markdown",
      "metadata": {
        "id": "Gl21mzJFGVvy"
      },
      "source": [
        "###### 6. Монотонность"
      ]
    },
    {
      "cell_type": "code",
      "execution_count": 5,
      "metadata": {
        "id": "7xCOfCvzGVvy",
        "colab": {
          "base_uri": "https://localhost:8080/",
          "height": 242
        },
        "outputId": "ef7d4274-2bf8-4a7a-f891-7b23d828c118"
      },
      "outputs": [
        {
          "output_type": "display_data",
          "data": {
            "text/plain": [
              "Interval.open(-pi/4, pi/4)"
            ],
            "text/latex": "$\\displaystyle \\left(- \\frac{\\pi}{4}, \\frac{\\pi}{4}\\right)$"
          },
          "metadata": {}
        },
        {
          "output_type": "stream",
          "name": "stdout",
          "text": [
            "True False False False False\n"
          ]
        },
        {
          "output_type": "display_data",
          "data": {
            "text/plain": [
              "Interval.open(pi/4, 3*pi/4)"
            ],
            "text/latex": "$\\displaystyle \\left(\\frac{\\pi}{4}, \\frac{3 \\pi}{4}\\right)$"
          },
          "metadata": {}
        },
        {
          "output_type": "stream",
          "name": "stdout",
          "text": [
            "True False True False True\n"
          ]
        },
        {
          "output_type": "display_data",
          "data": {
            "text/plain": [
              "Interval.open(3*pi/4, 5*pi/4)"
            ],
            "text/latex": "$\\displaystyle \\left(\\frac{3 \\pi}{4}, \\frac{5 \\pi}{4}\\right)$"
          },
          "metadata": {}
        },
        {
          "output_type": "stream",
          "name": "stdout",
          "text": [
            "True False True False True\n"
          ]
        },
        {
          "output_type": "display_data",
          "data": {
            "text/plain": [
              "Interval.open(5*pi/4, 7*pi/4)"
            ],
            "text/latex": "$\\displaystyle \\left(\\frac{5 \\pi}{4}, \\frac{7 \\pi}{4}\\right)$"
          },
          "metadata": {}
        },
        {
          "output_type": "stream",
          "name": "stdout",
          "text": [
            "True True False True False\n"
          ]
        }
      ],
      "source": [
        "intervals = [Interval.open(-Pi/4, Pi/4),\n",
        "             Interval.open(Pi/4, 3*Pi/4),\n",
        "             Interval.open(3*Pi/4, 5*Pi/4),\n",
        "             Interval.open(5*Pi/4, 7*Pi/4)]\n",
        "for interval in intervals:\n",
        " display(interval)\n",
        " print(is_monotonic(f, interval=interval),\n",
        "       is_decreasing(f, interval=interval),\n",
        "       is_increasing(f, interval=interval),\n",
        "       is_strictly_decreasing(f, interval=interval),\n",
        "       is_strictly_increasing(f, interval=interval))"
      ]
    },
    {
      "cell_type": "markdown",
      "metadata": {
        "id": "wkl9DvGDGVvy"
      },
      "source": [
        "###### 7. Минимальное и максимальное значение функции на периоде"
      ]
    },
    {
      "cell_type": "code",
      "execution_count": 253,
      "metadata": {
        "id": "m576k0Q0GVvy",
        "colab": {
          "base_uri": "https://localhost:8080/",
          "height": 98
        },
        "outputId": "c3a5dae0-a141-434e-a6d7-72997c6bc427"
      },
      "outputs": [
        {
          "output_type": "display_data",
          "data": {
            "text/plain": [
              "oo"
            ],
            "text/latex": "$\\displaystyle \\infty$"
          },
          "metadata": {}
        },
        {
          "output_type": "display_data",
          "data": {
            "text/plain": [
              "-oo"
            ],
            "text/latex": "$\\displaystyle -\\infty$"
          },
          "metadata": {}
        },
        {
          "output_type": "display_data",
          "data": {
            "text/plain": [
              "oo"
            ],
            "text/latex": "$\\displaystyle \\infty$"
          },
          "metadata": {}
        },
        {
          "output_type": "display_data",
          "data": {
            "text/plain": [
              "nan"
            ],
            "text/latex": "$\\displaystyle \\text{NaN}$"
          },
          "metadata": {}
        }
      ],
      "source": [
        "f_AccumBounds = f.subs(x, AccumBounds(-Pi/4, 7*Pi/4))\n",
        "display(f_AccumBounds.max, f_AccumBounds.min,f_AccumBounds.delta, f_AccumBounds.mid)"
      ]
    },
    {
      "cell_type": "markdown",
      "metadata": {
        "id": "J1jGlkLMGVvy"
      },
      "source": [
        "###### График"
      ]
    },
    {
      "cell_type": "code",
      "execution_count": 240,
      "metadata": {
        "id": "dSPYaSvcGVvz",
        "colab": {
          "base_uri": "https://localhost:8080/",
          "height": 505
        },
        "outputId": "09f74af7-614e-4eb3-c862-10d2d0de6186"
      },
      "outputs": [
        {
          "output_type": "display_data",
          "data": {
            "text/plain": [
              "<Figure size 640x480 with 1 Axes>"
            ],
            "image/png": "[encoded data removed]"
          },
          "metadata": {}
        },
        {
          "output_type": "execute_result",
          "data": {
            "text/plain": [
              "<sympy.plotting.plot.Plot at 0x7c5556f6af50>"
            ]
          },
          "metadata": {},
          "execution_count": 240
        }
      ],
      "source": [
        "plot((f, (x, -Pi/4 + 0.1, 3*Pi/4 - 0.1)),\n",
        "     (f, (x, 3*Pi/4 + 0.1, 7*Pi/4 - 0.1)))\n"
      ]
    },
    {
      "cell_type": "markdown",
      "metadata": {
        "id": "frBlb2SnGVvz"
      },
      "source": [
        "### Индивидуальное задание.  \n",
        "Исследовать функцию $f(x)$, найти минимальное и максимальное значение на каком-нибудь конечном интервале, не содержащем точек разрыва, построить график.\n",
        "###### 1. Область определения"
      ]
    },
    {
      "cell_type": "markdown",
      "source": [
        "![image.png](data:image/png;base64,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)"
      ],
      "metadata": {
        "id": "-Egn5Q0O_fCE"
      }
    },
    {
      "cell_type": "code",
      "execution_count": 258,
      "metadata": {
        "id": "GjQCIrtHGVvz",
        "colab": {
          "base_uri": "https://localhost:8080/",
          "height": 68
        },
        "outputId": "8fef633c-ce1f-4fd9-f305-74c6f9a2b064"
      },
      "outputs": [
        {
          "output_type": "execute_result",
          "data": {
            "text/plain": [
              "Interval(atan(sqrt(7)/3), -atan(sqrt(7)/3) + 2*pi)"
            ],
            "text/latex": "$\\displaystyle \\left[\\operatorname{atan}{\\left(\\frac{\\sqrt{7}}{3} \\right)}, - \\operatorname{atan}{\\left(\\frac{\\sqrt{7}}{3} \\right)} + 2 \\pi\\right]$"
          },
          "metadata": {},
          "execution_count": 258
        }
      ],
      "source": [
        "f = 4 * sympy.sqrt(3-4*Cos(x))\n",
        "continuous_domain(f, x, S.Reals)"
      ]
    },
    {
      "cell_type": "markdown",
      "metadata": {
        "id": "jO73WysmGVvz"
      },
      "source": [
        "Сингулярные точки (точки, где функция не определена)"
      ]
    },
    {
      "cell_type": "code",
      "execution_count": 242,
      "metadata": {
        "id": "nTux4wT3GVvz",
        "colab": {
          "base_uri": "https://localhost:8080/",
          "height": 37
        },
        "outputId": "24a24737-ca61-4b78-c46c-d9b90bc2e0ea"
      },
      "outputs": [
        {
          "output_type": "execute_result",
          "data": {
            "text/plain": [
              "EmptySet"
            ],
            "text/latex": "$\\displaystyle \\emptyset$"
          },
          "metadata": {},
          "execution_count": 242
        }
      ],
      "source": [
        "singularities(f, x)"
      ]
    },
    {
      "cell_type": "markdown",
      "metadata": {
        "id": "LiE9SZUBGVvz"
      },
      "source": [
        "###### 2. Область значений"
      ]
    },
    {
      "cell_type": "code",
      "execution_count": 243,
      "metadata": {
        "id": "yl9ERiW5GVvz",
        "colab": {
          "base_uri": "https://localhost:8080/",
          "height": 47
        },
        "outputId": "5a6384f1-93e4-4662-d2ef-12e0efabbf20"
      },
      "outputs": [
        {
          "output_type": "execute_result",
          "data": {
            "text/plain": [
              "Interval(0, 4*sqrt(7))"
            ],
            "text/latex": "$\\displaystyle \\left[0, 4 \\sqrt{7}\\right]$"
          },
          "metadata": {},
          "execution_count": 243
        }
      ],
      "source": [
        "function_range(f, x, S.Reals)"
      ]
    },
    {
      "cell_type": "markdown",
      "metadata": {
        "id": "Ub42DlZRGVvz"
      },
      "source": [
        "###### 3. Периодичность"
      ]
    },
    {
      "cell_type": "code",
      "execution_count": 244,
      "metadata": {
        "id": "w735vI4LGVvz",
        "colab": {
          "base_uri": "https://localhost:8080/",
          "height": 39
        },
        "outputId": "f8a1ad8e-594b-4698-ea45-489538ea4ce9"
      },
      "outputs": [
        {
          "output_type": "execute_result",
          "data": {
            "text/plain": [
              "2*pi"
            ],
            "text/latex": "$\\displaystyle 2 \\pi$"
          },
          "metadata": {},
          "execution_count": 244
        }
      ],
      "source": [
        "periodicity(f, x)"
      ]
    },
    {
      "cell_type": "markdown",
      "metadata": {
        "id": "EVXBt1fcGVvz"
      },
      "source": [
        "###### 4. Стационарные точки"
      ]
    },
    {
      "cell_type": "code",
      "execution_count": 245,
      "metadata": {
        "id": "i6VdzE9EGVvz",
        "colab": {
          "base_uri": "https://localhost:8080/",
          "height": 39
        },
        "outputId": "d72e0643-696e-4d8f-9007-f6b100b1b1f0"
      },
      "outputs": [
        {
          "output_type": "execute_result",
          "data": {
            "text/plain": [
              "{pi}"
            ],
            "text/latex": "$\\displaystyle \\left\\{\\pi\\right\\}$"
          },
          "metadata": {},
          "execution_count": 245
        }
      ],
      "source": [
        "stationary_points(f, x)"
      ]
    },
    {
      "cell_type": "markdown",
      "metadata": {
        "id": "-q23Zl5oGVvz"
      },
      "source": [
        "###### 5. Максимальное и минимальное значения функции"
      ]
    },
    {
      "cell_type": "code",
      "execution_count": 246,
      "metadata": {
        "id": "zTZ0MRFvGVvz",
        "colab": {
          "base_uri": "https://localhost:8080/",
          "height": 58
        },
        "outputId": "d249907e-8a0e-41f0-ef68-d705ca38c45b"
      },
      "outputs": [
        {
          "output_type": "display_data",
          "data": {
            "text/plain": [
              "4*sqrt(7)"
            ],
            "text/latex": "$\\displaystyle 4 \\sqrt{7}$"
          },
          "metadata": {}
        },
        {
          "output_type": "display_data",
          "data": {
            "text/plain": [
              "0"
            ],
            "text/latex": "$\\displaystyle 0$"
          },
          "metadata": {}
        }
      ],
      "source": [
        "display(maximum(f, x), minimum(f, x))"
      ]
    },
    {
      "cell_type": "markdown",
      "metadata": {
        "id": "bAVGKegPGVvz"
      },
      "source": [
        "###### 6. Монотонность  "
      ]
    },
    {
      "cell_type": "code",
      "execution_count": 281,
      "metadata": {
        "id": "Ue3qf3ooGVvz",
        "colab": {
          "base_uri": "https://localhost:8080/",
          "height": 190
        },
        "outputId": "76b8986c-50bd-480e-e105-81639dc3ca71"
      },
      "outputs": [
        {
          "output_type": "display_data",
          "data": {
            "text/plain": [
              "Interval.open(atan(sqrt(7)/3), pi)"
            ],
            "text/latex": "$\\displaystyle \\left(\\operatorname{atan}{\\left(\\frac{\\sqrt{7}}{3} \\right)}, \\pi\\right)$"
          },
          "metadata": {}
        },
        {
          "output_type": "stream",
          "name": "stdout",
          "text": [
            "True True False True False\n",
            "\n"
          ]
        },
        {
          "output_type": "display_data",
          "data": {
            "text/plain": [
              "Interval.open(pi, -atan(sqrt(7)/3) + 2*pi)"
            ],
            "text/latex": "$\\displaystyle \\left(\\pi, - \\operatorname{atan}{\\left(\\frac{\\sqrt{7}}{3} \\right)} + 2 \\pi\\right)$"
          },
          "metadata": {}
        },
        {
          "output_type": "stream",
          "name": "stdout",
          "text": [
            "True True False True False\n",
            "\n"
          ]
        }
      ],
      "source": [
        "arg1 = sympy.sqrt(7)\n",
        "arctan_arg = sympy.atan(arg1/3)\n",
        "intervals = [Interval.open(arctan_arg, Pi), Interval.open(Pi, 2*Pi - arctan_arg)]\n",
        "el_of_interval = [2, 4]\n",
        "\n",
        "def crutch(f, interval, el):\n",
        "  display(interval)\n",
        "  if is_monotonic(f, interval=interval):\n",
        "    decreasing = f.subs(x, el) >= 0\n",
        "    increasing= f.subs(x, el) <= 0\n",
        "    strictly_decreasing = f.subs(x, el) > 0\n",
        "    strictly_increasing= f.subs(x, el) < 0\n",
        "    print(True, decreasing, increasing, strictly_decreasing, strictly_increasing)\n",
        "  else:\n",
        "    print('False ' * 5)\n",
        "\n",
        "for i in range(2):\n",
        "  crutch(f, intervals[i], el_of_interval[i])\n",
        "  print()"
      ]
    },
    {
      "cell_type": "markdown",
      "metadata": {
        "id": "F1YanuA9GVvz"
      },
      "source": [
        "###### 7. Минимальное и максимальное значение функции на интервале"
      ]
    },
    {
      "cell_type": "code",
      "execution_count": 262,
      "metadata": {
        "id": "0z6E3czdGVvz",
        "colab": {
          "base_uri": "https://localhost:8080/",
          "height": 131
        },
        "outputId": "fec05842-b7ec-408c-93e8-3ccde4ac1cc2"
      },
      "outputs": [
        {
          "output_type": "display_data",
          "data": {
            "text/plain": [
              "AccumBounds(0, 4*sqrt(7))"
            ],
            "text/latex": "$\\displaystyle \\left\\langle 0, 4 \\sqrt{7}\\right\\rangle$"
          },
          "metadata": {}
        },
        {
          "output_type": "display_data",
          "data": {
            "text/plain": [
              "4*sqrt(7)"
            ],
            "text/latex": "$\\displaystyle 4 \\sqrt{7}$"
          },
          "metadata": {}
        },
        {
          "output_type": "display_data",
          "data": {
            "text/plain": [
              "0"
            ],
            "text/latex": "$\\displaystyle 0$"
          },
          "metadata": {}
        },
        {
          "output_type": "display_data",
          "data": {
            "text/plain": [
              "4*sqrt(7)"
            ],
            "text/latex": "$\\displaystyle 4 \\sqrt{7}$"
          },
          "metadata": {}
        },
        {
          "output_type": "display_data",
          "data": {
            "text/plain": [
              "2*sqrt(7)"
            ],
            "text/latex": "$\\displaystyle 2 \\sqrt{7}$"
          },
          "metadata": {}
        }
      ],
      "source": [
        "f_AccumBounds1 = f.subs(x, AccumBounds(arctan_arg, 2*Pi - arctan_arg))\n",
        "display(f_AccumBounds1, f_AccumBounds1.max, f_AccumBounds1.min,f_AccumBounds1.delta, f_AccumBounds1.mid)"
      ]
    },
    {
      "cell_type": "markdown",
      "metadata": {
        "id": "xgNhCO3NGVv0"
      },
      "source": [
        "###### График"
      ]
    },
    {
      "cell_type": "code",
      "execution_count": 264,
      "metadata": {
        "id": "IBOkJ0WIGVv0",
        "colab": {
          "base_uri": "https://localhost:8080/",
          "height": 503
        },
        "outputId": "4272cf09-daec-4bbd-9720-cc887f9d16bd"
      },
      "outputs": [
        {
          "output_type": "display_data",
          "data": {
            "text/plain": [
              "<Figure size 640x480 with 1 Axes>"
            ],
            "image/png": "[encoded data removed]"
          },
          "metadata": {}
        },
        {
          "output_type": "execute_result",
          "data": {
            "text/plain": [
              "<sympy.plotting.plot.Plot at 0x7c5556b93df0>"
            ]
          },
          "metadata": {},
          "execution_count": 264
        }
      ],
      "source": [
        "plot(f, (x, 0, 2*Pi))"
      ]
    }
  ],
  "metadata": {
    "kernelspec": {
      "display_name": "Python 3",
      "language": "python",
      "name": "python3"
    },
    "language_info": {
      "codemirror_mode": {
        "name": "ipython",
        "version": 3
      },
      "file_extension": ".py",
      "mimetype": "text/x-python",
      "name": "python",
      "nbconvert_exporter": "python",
      "pygments_lexer": "ipython3",
      "version": "3.7.3"
    },
    "colab": {
      "provenance": []
    }
  },
  "nbformat": 4,
  "nbformat_minor": 0
}