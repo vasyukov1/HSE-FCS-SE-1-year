{
  "cells": [
    {
      "cell_type": "code",
      "execution_count": 1,
      "metadata": {
        "id": "QmiHX8WPqmAN"
      },
      "outputs": [],
      "source": [
        "import sympy\n",
        "from sympy import Symbol, symbols, S, Function, integrate, Integral, diff, solve"
      ]
    },
    {
      "cell_type": "markdown",
      "metadata": {
        "id": "61doZhC6qmAO"
      },
      "source": [
        "## Занятие 9-10\n",
        "## Математический анализ\n",
        "## Интегрирование функции: первообразная и неопределенный интеграл\n",
        "https://docs.sympy.org/1.5.1/modules/integrals/integrals.html\n",
        "\n",
        "https://ru.wikipedia.org/wiki/%D0%9F%D0%B5%D1%80%D0%B2%D0%BE%D0%BE%D0%B1%D1%80%D0%B0%D0%B7%D0%BD%D0%B0%D1%8F\n",
        "\n",
        "https://ru.wikipedia.org/wiki/%D0%A1%D0%BF%D0%B8%D1%81%D0%BE%D0%BA_%D0%B8%D0%BD%D1%82%D0%B5%D0%B3%D1%80%D0%B0%D0%BB%D0%BE%D0%B2_%D1%8D%D0%BB%D0%B5%D0%BC%D0%B5%D0%BD%D1%82%D0%B0%D1%80%D0%BD%D1%8B%D1%85_%D1%84%D1%83%D0%BD%D0%BA%D1%86%D0%B8%D0%B9"
      ]
    },
    {
      "cell_type": "markdown",
      "metadata": {
        "id": "gi6ebF7TqmAP"
      },
      "source": [
        "### Задача 1.\n",
        "Вычислить определенные интегралы:\n",
        "$$\n",
        "1)\\ \\int_2^3 \\frac{1}{\\sqrt{x-2}},\\ 2) \\int_1^6 \\frac{1}{(x-1)^3},\\ 3)\\ \\int_2^\\infty \\frac{1}{(x-1)^3}\n",
        "$$"
      ]
    },
    {
      "cell_type": "code",
      "execution_count": 8,
      "metadata": {
        "id": "o1CdybZOqmAP",
        "colab": {
          "base_uri": "https://localhost:8080/",
          "height": 92
        },
        "outputId": "cd8ee827-bdf2-46fd-fabb-1ba807e3deb6"
      },
      "outputs": [
        {
          "output_type": "display_data",
          "data": {
            "text/plain": [
              "2"
            ],
            "text/latex": "$\\displaystyle 2$"
          },
          "metadata": {}
        },
        {
          "output_type": "display_data",
          "data": {
            "text/plain": [
              "oo"
            ],
            "text/latex": "$\\displaystyle \\infty$"
          },
          "metadata": {}
        },
        {
          "output_type": "display_data",
          "data": {
            "text/plain": [
              "1/2"
            ],
            "text/latex": "$\\displaystyle \\frac{1}{2}$"
          },
          "metadata": {}
        }
      ],
      "source": [
        "x = Symbol('x')\n",
        "integral_1 = integrate((1 / sympy.sqrt(x - 2)), (x, 2, 3))\n",
        "integral_2 = integrate((1 / (x - 1) ** 3), (x, 1, 6))\n",
        "integral_3 = integrate((1 / (x - 1) ** 3), (x, 2, sympy.oo))\n",
        "display(integral_1, integral_2, integral_3)"
      ]
    },
    {
      "cell_type": "markdown",
      "metadata": {
        "id": "w-RId9TGqmAP"
      },
      "source": [
        "### Задача 2\n",
        "Описать функцию, находящую неопределенный интеграл $\\int f(x)\\,dx$ в виде $F(x)+C$.\n",
        "\n",
        "Использовать эту функцию для интегрирования $\\sin(3x+5)$, $x{\\rm tg}(x^2)$, $(e^{\\sin x})\\cos x$, $x^2e^{x^3}$"
      ]
    },
    {
      "cell_type": "code",
      "execution_count": 12,
      "metadata": {
        "id": "eOCfonyLqmAP",
        "colab": {
          "base_uri": "https://localhost:8080/",
          "height": 178
        },
        "outputId": "a42b03b3-c55e-4d56-8c05-b1b8527c3348"
      },
      "outputs": [
        {
          "output_type": "display_data",
          "data": {
            "text/plain": [
              "Eq(Integral(sin(3*x + 5), x), C - cos(3*x + 5)/3)"
            ],
            "text/latex": "$\\displaystyle \\int \\sin{\\left(3 x + 5 \\right)}\\, dx = C - \\frac{\\cos{\\left(3 x + 5 \\right)}}{3}$"
          },
          "metadata": {}
        },
        {
          "output_type": "display_data",
          "data": {
            "text/plain": [
              "Eq(Integral(x*tan(x**2), x), C + log(tan(x**2)**2 + 1)/4)"
            ],
            "text/latex": "$\\displaystyle \\int x \\tan{\\left(x^{2} \\right)}\\, dx = C + \\frac{\\log{\\left(\\tan^{2}{\\left(x^{2} \\right)} + 1 \\right)}}{4}$"
          },
          "metadata": {}
        },
        {
          "output_type": "display_data",
          "data": {
            "text/plain": [
              "Eq(Integral(exp(sin(x))*cos(x), x), C + exp(sin(x)))"
            ],
            "text/latex": "$\\displaystyle \\int e^{\\sin{\\left(x \\right)}} \\cos{\\left(x \\right)}\\, dx = C + e^{\\sin{\\left(x \\right)}}$"
          },
          "metadata": {}
        },
        {
          "output_type": "display_data",
          "data": {
            "text/plain": [
              "Eq(Integral(x**2*exp(x**3), x), C + exp(x**3)/3)"
            ],
            "text/latex": "$\\displaystyle \\int x^{2} e^{x^{3}}\\, dx = C + \\frac{e^{x^{3}}}{3}$"
          },
          "metadata": {}
        }
      ],
      "source": [
        "def integral_func(func):\n",
        "  return sympy.Eq(Integral(func), func.integrate() + C)\n",
        "\n",
        "functions = (sympy.sin(3*x + 5), x * sympy.tan(x**2),\n",
        "             sympy.exp(sympy.sin(x)) * sympy.cos(x), x**2 * sympy.exp(x**3))\n",
        "C = Symbol('C')\n",
        "for func in functions:\n",
        "  display(integral_func(func))"
      ]
    },
    {
      "cell_type": "markdown",
      "metadata": {
        "id": "RkzgIO2-qmAQ"
      },
      "source": [
        "### Задача 3.\n",
        "Найти первообразную функции $\\frac{x-3}{(x+1)^2}$, график которой проходит через начало координат."
      ]
    },
    {
      "cell_type": "code",
      "execution_count": 21,
      "metadata": {
        "id": "-UnJUjwEqmAQ",
        "colab": {
          "base_uri": "https://localhost:8080/",
          "height": 52
        },
        "outputId": "17fcdb75-65c4-43c1-be97-7e0d75a4728d"
      },
      "outputs": [
        {
          "output_type": "display_data",
          "data": {
            "text/plain": [
              "log(x + 1) - 4 + 4/(x + 1)"
            ],
            "text/latex": "$\\displaystyle \\log{\\left(x + 1 \\right)} - 4 + \\frac{4}{x + 1}$"
          },
          "metadata": {}
        }
      ],
      "source": [
        "antider_3 = ((x-3) / (x+1)**2).integrate(x)\n",
        "param = 0 - antider_3.subs(x, 0)\n",
        "display(antider_3 + param)"
      ]
    },
    {
      "cell_type": "markdown",
      "metadata": {
        "id": "Wp5Cu_DOqmAQ"
      },
      "source": [
        "### Задача 4.\n",
        "Описать функцию, вычисляющую неопределенный интеграл от $\\frac{1}{\\sqrt{x^2+a}}$ по формуле \"длинного логарифма\":\n",
        "$$\n",
        "\\int\\frac{1}{\\sqrt{x^2+a}} = \\ln|x + \\sqrt{x^2 + a}| + C,\\quad a \\neq 0.\n",
        "$$\n",
        "Функция возвращает $\\ln|x| + C$ при $a = 0$. Аргументы функции - переменная интегрирования $x$ и параметр $a$.\n",
        "\n",
        "Вызвать функцию при $a = 0, 1, 4$. Сравнить с результатом integrate.\n",
        "\n",
        "Проверить дифференцированием, при необходимости использовать simplyfy для того, чтобы упростить выражение.\n",
        "\n",
        "Рекомендется создавать положительные символы, чтобы не было неоднозначности."
      ]
    },
    {
      "cell_type": "code",
      "execution_count": 42,
      "metadata": {
        "id": "iE7w71kXqmAR",
        "colab": {
          "base_uri": "https://localhost:8080/",
          "height": 338
        },
        "outputId": "b9ca25d4-4adf-4a61-e262-0d5cf38c8b3c"
      },
      "outputs": [
        {
          "output_type": "display_data",
          "data": {
            "text/plain": [
              "2*C + log(x)"
            ],
            "text/latex": "$\\displaystyle 2 C + \\log{\\left(x \\right)}$"
          },
          "metadata": {}
        },
        {
          "output_type": "display_data",
          "data": {
            "text/plain": [
              "C + log(x)"
            ],
            "text/latex": "$\\displaystyle C + \\log{\\left(x \\right)}$"
          },
          "metadata": {}
        },
        {
          "output_type": "display_data",
          "data": {
            "text/plain": [
              "1/x"
            ],
            "text/latex": "$\\displaystyle \\frac{1}{x}$"
          },
          "metadata": {}
        },
        {
          "output_type": "stream",
          "name": "stdout",
          "text": [
            "\n"
          ]
        },
        {
          "output_type": "display_data",
          "data": {
            "text/plain": [
              "C + log(x + sqrt(x**2 + 1))"
            ],
            "text/latex": "$\\displaystyle C + \\log{\\left(x + \\sqrt{x^{2} + 1} \\right)}$"
          },
          "metadata": {}
        },
        {
          "output_type": "display_data",
          "data": {
            "text/plain": [
              "C + asinh(x)"
            ],
            "text/latex": "$\\displaystyle C + \\operatorname{asinh}{\\left(x \\right)}$"
          },
          "metadata": {}
        },
        {
          "output_type": "display_data",
          "data": {
            "text/plain": [
              "1/sqrt(x**2 + 1)"
            ],
            "text/latex": "$\\displaystyle \\frac{1}{\\sqrt{x^{2} + 1}}$"
          },
          "metadata": {}
        },
        {
          "output_type": "stream",
          "name": "stdout",
          "text": [
            "\n"
          ]
        },
        {
          "output_type": "display_data",
          "data": {
            "text/plain": [
              "C + log(x + sqrt(x**2 + 4))"
            ],
            "text/latex": "$\\displaystyle C + \\log{\\left(x + \\sqrt{x^{2} + 4} \\right)}$"
          },
          "metadata": {}
        },
        {
          "output_type": "display_data",
          "data": {
            "text/plain": [
              "C + asinh(x/2)"
            ],
            "text/latex": "$\\displaystyle C + \\operatorname{asinh}{\\left(\\frac{x}{2} \\right)}$"
          },
          "metadata": {}
        },
        {
          "output_type": "display_data",
          "data": {
            "text/plain": [
              "1/sqrt(x**2 + 4)"
            ],
            "text/latex": "$\\displaystyle \\frac{1}{\\sqrt{x^{2} + 4}}$"
          },
          "metadata": {}
        },
        {
          "output_type": "stream",
          "name": "stdout",
          "text": [
            "\n"
          ]
        }
      ],
      "source": [
        "def integral_log(a):\n",
        "  if a != 0:\n",
        "    return sympy.simplify(sympy.log(abs(x + sympy.sqrt(x ** 2 + a))))\n",
        "  return sympy.log(abs(x)) + C\n",
        "\n",
        "x = Symbol('x', positive=True)\n",
        "a = Symbol('a', positive=True)\n",
        "func = 1 / sympy.sqrt(x ** 2 + a)\n",
        "dif_fun = (sympy.log(x), sympy.asinh(x), sympy.asinh(x/2))\n",
        "\n",
        "for param in (0, 1, 4):\n",
        "  display(integral_log(param)  + C)\n",
        "  display(func.subs(a, param).integrate(x) + C)\n",
        "  display(sympy.simplify(diff(integral_log(param), x)))\n",
        "  print()"
      ]
    },
    {
      "cell_type": "markdown",
      "metadata": {
        "id": "74nJQuaJqmAR"
      },
      "source": [
        "### Задача 5.\n",
        "Провести замену переменной $y = x^2$ в интеграле $\\int x e^{x^2}\\,dx$."
      ]
    },
    {
      "cell_type": "code",
      "execution_count": 23,
      "metadata": {
        "id": "MfupRWeZqmAR",
        "colab": {
          "base_uri": "https://localhost:8080/",
          "height": 55
        },
        "outputId": "9514f7c7-9ecb-4a96-9c6c-4b239aeff086"
      },
      "outputs": [
        {
          "output_type": "execute_result",
          "data": {
            "text/plain": [
              "Eq(Integral(x*exp(x**2), x), Integral(exp(y)/2, y))"
            ],
            "text/latex": "$\\displaystyle \\int x e^{x^{2}}\\, dx = \\int \\frac{e^{y}}{2}\\, dy$"
          },
          "metadata": {},
          "execution_count": 23
        }
      ],
      "source": [
        "y = Symbol('y', positive=True)\n",
        "I5 = Integral(x * sympy.exp(x ** 2))\n",
        "sympy.Eq(I5, I5.transform(x**2, y))"
      ]
    },
    {
      "cell_type": "markdown",
      "source": [
        "### Задача 6.\n",
        "$$\n",
        "sign(x)=\\left\\{\\begin{matrix}\n",
        "-1,\\quad x<0\\\\\n",
        "0,\\quad x=0\\\\\n",
        "1,\\quad x>0\n",
        "\\end{matrix}\\right.\n",
        "$$\n",
        "Описать кусочную функцию $sign(x)$ и функцию $F(x)=\\int_{-1}^x sign(t)\\,dt$, аргумент обеих функций $x$. Построить график $sign(x)$ красной сплошной линией и $F(x)$ зеленой в одной плоскости на интервале $[-1, 2]$."
      ],
      "metadata": {
        "id": "9bqGIy8kqtPB"
      }
    },
    {
      "cell_type": "code",
      "source": [
        "from sympy.abc import x, t\n",
        "\n",
        "sign = sympy.Piecewise((-1, x < 0), (0, x == 0), (1, x > 0))\n",
        "integral_sign = sympy.Piecewise((integrate(-1, (t, -1, x)), x < 0),\n",
        "                                (integrate(0, (t, -1, x)), x == 0),\n",
        "                                (integrate(1, (t, -1, x)), x > 0))\n",
        "\n",
        "f1 = sympy.plot(sign, (x, -1, 2), line_color = 'red', ylim = (-3, 3), show = False)\n",
        "f2 = sympy.plot(integral_sign, (x, -1, 2), line_color = 'green', ylim = (-3, 3), show = False)\n",
        "f2.append(f1[0])\n",
        "f2.show()"
      ],
      "metadata": {
        "id": "T-0dDTFnqud7",
        "colab": {
          "base_uri": "https://localhost:8080/",
          "height": 486
        },
        "outputId": "17ca0654-0cbd-4c2d-c57a-34e0f47ed10e"
      },
      "execution_count": 50,
      "outputs": [
        {
          "output_type": "display_data",
          "data": {
            "text/plain": [
              "<Figure size 640x480 with 1 Axes>"
            ],
            "image/png": "[encoded data removed]"
          },
          "metadata": {}
        }
      ]
    },
    {
      "cell_type": "markdown",
      "source": [
        "### Задача 7.\n",
        "В неопределенном интеграле $\\int \\frac1{2\\sqrt x}e^{\\sqrt x},\\,dx$ провести замену переменной $x=u^2$, вычислить полученный интеграл, сделать обратную замену и проверить правильность полученного результата дифференцированием.\n",
        "#### Указание.\n",
        "Нужно использовать положительный символ $u$."
      ],
      "metadata": {
        "id": "BlGdwq-Qq1bZ"
      }
    },
    {
      "cell_type": "code",
      "source": [
        "u = Symbol('u', positive=True)\n",
        "func_7 = sympy.exp(sympy.sqrt(x)) / (2 * sympy.sqrt(x))\n",
        "\n",
        "I7 = Integral(func_7)\n",
        "I7_u = I7.transform(x, u**2)\n",
        "\n",
        "\n",
        "integral_u = I7_u.integrate(u)\n",
        "integral = integral_u.subs(u, x)\n",
        "\n",
        "display(sympy.Eq(I7, I7_u))\n",
        "display(integral_u  + C)\n",
        "\n",
        "display(integral + C)\n",
        "print('Проверка:')\n",
        "display(diff(integral))"
      ],
      "metadata": {
        "id": "ylmw2Vvgq3NJ",
        "colab": {
          "base_uri": "https://localhost:8080/",
          "height": 143
        },
        "outputId": "dc08793c-fd50-476d-b887-0a1ff9a58d0c"
      },
      "execution_count": 68,
      "outputs": [
        {
          "output_type": "display_data",
          "data": {
            "text/plain": [
              "Eq(Integral(exp(sqrt(x))/(2*sqrt(x)), x), Integral(exp(u), u))"
            ],
            "text/latex": "$\\displaystyle \\int \\frac{e^{\\sqrt{x}}}{2 \\sqrt{x}}\\, dx = \\int e^{u}\\, du$"
          },
          "metadata": {}
        },
        {
          "output_type": "display_data",
          "data": {
            "text/plain": [
              "C + exp(u)"
            ],
            "text/latex": "$\\displaystyle C + e^{u}$"
          },
          "metadata": {}
        },
        {
          "output_type": "display_data",
          "data": {
            "text/plain": [
              "C + exp(x)"
            ],
            "text/latex": "$\\displaystyle C + e^{x}$"
          },
          "metadata": {}
        },
        {
          "output_type": "stream",
          "name": "stdout",
          "text": [
            "Проверка:\n"
          ]
        },
        {
          "output_type": "display_data",
          "data": {
            "text/plain": [
              "exp(x)"
            ],
            "text/latex": "$\\displaystyle e^{x}$"
          },
          "metadata": {}
        }
      ]
    },
    {
      "cell_type": "markdown",
      "metadata": {
        "id": "y32maC7WqmAR"
      },
      "source": [
        "### Индивидуальное задание\n",
        "Провести замену переменных в определенном интеграле, представить результат в виде двух уравнений, как в примере:\n",
        "\\begin{align*}\n",
        "\\int_1^4 \\frac{dx}{\\sqrt{x}\\left(\\sqrt{x}+1\\right)} = \\int_1^2 \\frac{2\\,dy}{y + 1}\\\\\n",
        "\\int_1^2 \\frac{2\\,dy}{y + 1} = 2(\\ln 3 - \\ln 2)\n",
        "\\end{align*}\n",
        "(с точностью до перестановки слагаемых и сомножителей)"
      ]
    },
    {
      "cell_type": "markdown",
      "source": [
        "![image.png](data:image/png;base64,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)"
      ],
      "metadata": {
        "id": "T_t3eXG5Yf4X"
      }
    },
    {
      "cell_type": "code",
      "execution_count": 124,
      "metadata": {
        "id": "WAzWmbrRqmAR",
        "colab": {
          "base_uri": "https://localhost:8080/",
          "height": 148
        },
        "outputId": "e880d423-a700-400c-9fc2-91a9fa31b156"
      },
      "outputs": [
        {
          "output_type": "display_data",
          "data": {
            "text/plain": [
              "Eq(Integral(9*atan(x)**8/(x**2 + 1), (x, 0, sqrt(3))), Integral(9*atan(tan(y))**8, (y, 0, pi/3)))"
            ],
            "text/latex": "$\\displaystyle \\int\\limits_{0}^{\\sqrt{3}} \\frac{9 \\operatorname{atan}^{8}{\\left(x \\right)}}{x^{2} + 1}\\, dx = \\int\\limits_{0}^{\\frac{\\pi}{3}} 9 \\operatorname{atan}^{8}{\\left(\\tan{\\left(y \\right)} \\right)}\\, dy$"
          },
          "metadata": {}
        },
        {
          "output_type": "display_data",
          "data": {
            "text/plain": [
              "Eq(Integral(9*atan(tan(y))**8, (y, 0, pi/3)), pi**9/19683)"
            ],
            "text/latex": "$\\displaystyle \\int\\limits_{0}^{\\frac{\\pi}{3}} 9 \\operatorname{atan}^{8}{\\left(\\tan{\\left(y \\right)} \\right)}\\, dy = \\frac{\\pi^{9}}{19683}$"
          },
          "metadata": {}
        }
      ],
      "source": [
        "x, y = sympy.symbols('x y', positive=True)\n",
        "\n",
        "iw = 9 * sympy.atan(x) ** 8 / (x**2 + 1)\n",
        "\n",
        "integral = Integral(iw, (x, 0, 3**S.Half))\n",
        "integral_y = integral.transform(sympy.atan(x), y)\n",
        "\n",
        "display(sympy.Eq(integral, integral_y))\n",
        "display(sympy.Eq(integral_y, integrate(iw, (x, 0, sympy.sqrt(3)))))"
      ]
    }
  ],
  "metadata": {
    "kernelspec": {
      "display_name": "Python 3",
      "language": "python",
      "name": "python3"
    },
    "language_info": {
      "codemirror_mode": {
        "name": "ipython",
        "version": 3
      },
      "file_extension": ".py",
      "mimetype": "text/x-python",
      "name": "python",
      "nbconvert_exporter": "python",
      "pygments_lexer": "ipython3",
      "version": "3.7.3"
    },
    "colab": {
      "provenance": []
    }
  },
  "nbformat": 4,
  "nbformat_minor": 0
}